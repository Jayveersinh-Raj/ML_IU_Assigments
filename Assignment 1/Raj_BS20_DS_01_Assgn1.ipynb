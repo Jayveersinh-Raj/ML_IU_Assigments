{
  "nbformat": 4,
  "nbformat_minor": 0,
  "metadata": {
    "colab": {
      "provenance": []
    },
    "kernelspec": {
      "name": "python3",
      "display_name": "Python 3"
    },
    "language_info": {
      "name": "python"
    }
  },
  "cells": [
    {
      "cell_type": "markdown",
      "source": [
        "# Name: `Jayveersinh Raj`\n",
        "# Email: j.raj@innopolis.university\n",
        "# Group: BS20-DataScience-01"
      ],
      "metadata": {
        "id": "j7UDBs1Nnz9I"
      }
    },
    {
      "cell_type": "markdown",
      "source": [
        "# 1.1 Preprocessing\n",
        "## Encoding categorical values"
      ],
      "metadata": {
        "id": "TYfrqRFRokBm"
      }
    },
    {
      "cell_type": "code",
      "source": [
        "# Loading data from csv file\n",
        "import pandas as pd\n",
        "df = pd.read_csv(\"a1_dataset.csv\")\n",
        "df.head()"
      ],
      "metadata": {
        "colab": {
          "base_uri": "https://localhost:8080/",
          "height": 206
        },
        "id": "YzuitHATsCnY",
        "outputId": "852b10e1-f716-4dfe-beaf-eda2ec2f05ac"
      },
      "execution_count": 255,
      "outputs": [
        {
          "output_type": "execute_result",
          "data": {
            "text/plain": [
              "   target    var1     var2          var3   var4    var5 var6  \\\n",
              "0       0  509.18  417.681    Micronesia  138.0  393.00   no   \n",
              "1       0  446.06  666.182      Dominica   81.0  352.05  yes   \n",
              "2       1  235.50  398.097   Isle of Man   90.0  339.00   no   \n",
              "3       0  306.02  518.163  Turkmenistan  102.0  439.25  yes   \n",
              "4       0  453.08  600.156      Cameroon  105.0  422.95   no   \n",
              "\n",
              "                  var7  \n",
              "0  2019-07-20 13:21:37  \n",
              "1  2019-04-04 21:30:46  \n",
              "2  2019-03-03 02:59:37  \n",
              "3  2019-03-19 08:00:58  \n",
              "4  2019-03-18 13:22:35  "
            ],
            "text/html": [
              "\n",
              "  <div id=\"df-e3fb97db-921d-41b9-9f09-fbeb179a2b1a\">\n",
              "    <div class=\"colab-df-container\">\n",
              "      <div>\n",
              "<style scoped>\n",
              "    .dataframe tbody tr th:only-of-type {\n",
              "        vertical-align: middle;\n",
              "    }\n",
              "\n",
              "    .dataframe tbody tr th {\n",
              "        vertical-align: top;\n",
              "    }\n",
              "\n",
              "    .dataframe thead th {\n",
              "        text-align: right;\n",
              "    }\n",
              "</style>\n",
              "<table border=\"1\" class=\"dataframe\">\n",
              "  <thead>\n",
              "    <tr style=\"text-align: right;\">\n",
              "      <th></th>\n",
              "      <th>target</th>\n",
              "      <th>var1</th>\n",
              "      <th>var2</th>\n",
              "      <th>var3</th>\n",
              "      <th>var4</th>\n",
              "      <th>var5</th>\n",
              "      <th>var6</th>\n",
              "      <th>var7</th>\n",
              "    </tr>\n",
              "  </thead>\n",
              "  <tbody>\n",
              "    <tr>\n",
              "      <th>0</th>\n",
              "      <td>0</td>\n",
              "      <td>509.18</td>\n",
              "      <td>417.681</td>\n",
              "      <td>Micronesia</td>\n",
              "      <td>138.0</td>\n",
              "      <td>393.00</td>\n",
              "      <td>no</td>\n",
              "      <td>2019-07-20 13:21:37</td>\n",
              "    </tr>\n",
              "    <tr>\n",
              "      <th>1</th>\n",
              "      <td>0</td>\n",
              "      <td>446.06</td>\n",
              "      <td>666.182</td>\n",
              "      <td>Dominica</td>\n",
              "      <td>81.0</td>\n",
              "      <td>352.05</td>\n",
              "      <td>yes</td>\n",
              "      <td>2019-04-04 21:30:46</td>\n",
              "    </tr>\n",
              "    <tr>\n",
              "      <th>2</th>\n",
              "      <td>1</td>\n",
              "      <td>235.50</td>\n",
              "      <td>398.097</td>\n",
              "      <td>Isle of Man</td>\n",
              "      <td>90.0</td>\n",
              "      <td>339.00</td>\n",
              "      <td>no</td>\n",
              "      <td>2019-03-03 02:59:37</td>\n",
              "    </tr>\n",
              "    <tr>\n",
              "      <th>3</th>\n",
              "      <td>0</td>\n",
              "      <td>306.02</td>\n",
              "      <td>518.163</td>\n",
              "      <td>Turkmenistan</td>\n",
              "      <td>102.0</td>\n",
              "      <td>439.25</td>\n",
              "      <td>yes</td>\n",
              "      <td>2019-03-19 08:00:58</td>\n",
              "    </tr>\n",
              "    <tr>\n",
              "      <th>4</th>\n",
              "      <td>0</td>\n",
              "      <td>453.08</td>\n",
              "      <td>600.156</td>\n",
              "      <td>Cameroon</td>\n",
              "      <td>105.0</td>\n",
              "      <td>422.95</td>\n",
              "      <td>no</td>\n",
              "      <td>2019-03-18 13:22:35</td>\n",
              "    </tr>\n",
              "  </tbody>\n",
              "</table>\n",
              "</div>\n",
              "      <button class=\"colab-df-convert\" onclick=\"convertToInteractive('df-e3fb97db-921d-41b9-9f09-fbeb179a2b1a')\"\n",
              "              title=\"Convert this dataframe to an interactive table.\"\n",
              "              style=\"display:none;\">\n",
              "        \n",
              "  <svg xmlns=\"http://www.w3.org/2000/svg\" height=\"24px\"viewBox=\"0 0 24 24\"\n",
              "       width=\"24px\">\n",
              "    <path d=\"M0 0h24v24H0V0z\" fill=\"none\"/>\n",
              "    <path d=\"M18.56 5.44l.94 2.06.94-2.06 2.06-.94-2.06-.94-.94-2.06-.94 2.06-2.06.94zm-11 1L8.5 8.5l.94-2.06 2.06-.94-2.06-.94L8.5 2.5l-.94 2.06-2.06.94zm10 10l.94 2.06.94-2.06 2.06-.94-2.06-.94-.94-2.06-.94 2.06-2.06.94z\"/><path d=\"M17.41 7.96l-1.37-1.37c-.4-.4-.92-.59-1.43-.59-.52 0-1.04.2-1.43.59L10.3 9.45l-7.72 7.72c-.78.78-.78 2.05 0 2.83L4 21.41c.39.39.9.59 1.41.59.51 0 1.02-.2 1.41-.59l7.78-7.78 2.81-2.81c.8-.78.8-2.07 0-2.86zM5.41 20L4 18.59l7.72-7.72 1.47 1.35L5.41 20z\"/>\n",
              "  </svg>\n",
              "      </button>\n",
              "      \n",
              "  <style>\n",
              "    .colab-df-container {\n",
              "      display:flex;\n",
              "      flex-wrap:wrap;\n",
              "      gap: 12px;\n",
              "    }\n",
              "\n",
              "    .colab-df-convert {\n",
              "      background-color: #E8F0FE;\n",
              "      border: none;\n",
              "      border-radius: 50%;\n",
              "      cursor: pointer;\n",
              "      display: none;\n",
              "      fill: #1967D2;\n",
              "      height: 32px;\n",
              "      padding: 0 0 0 0;\n",
              "      width: 32px;\n",
              "    }\n",
              "\n",
              "    .colab-df-convert:hover {\n",
              "      background-color: #E2EBFA;\n",
              "      box-shadow: 0px 1px 2px rgba(60, 64, 67, 0.3), 0px 1px 3px 1px rgba(60, 64, 67, 0.15);\n",
              "      fill: #174EA6;\n",
              "    }\n",
              "\n",
              "    [theme=dark] .colab-df-convert {\n",
              "      background-color: #3B4455;\n",
              "      fill: #D2E3FC;\n",
              "    }\n",
              "\n",
              "    [theme=dark] .colab-df-convert:hover {\n",
              "      background-color: #434B5C;\n",
              "      box-shadow: 0px 1px 3px 1px rgba(0, 0, 0, 0.15);\n",
              "      filter: drop-shadow(0px 1px 2px rgba(0, 0, 0, 0.3));\n",
              "      fill: #FFFFFF;\n",
              "    }\n",
              "  </style>\n",
              "\n",
              "      <script>\n",
              "        const buttonEl =\n",
              "          document.querySelector('#df-e3fb97db-921d-41b9-9f09-fbeb179a2b1a button.colab-df-convert');\n",
              "        buttonEl.style.display =\n",
              "          google.colab.kernel.accessAllowed ? 'block' : 'none';\n",
              "\n",
              "        async function convertToInteractive(key) {\n",
              "          const element = document.querySelector('#df-e3fb97db-921d-41b9-9f09-fbeb179a2b1a');\n",
              "          const dataTable =\n",
              "            await google.colab.kernel.invokeFunction('convertToInteractive',\n",
              "                                                     [key], {});\n",
              "          if (!dataTable) return;\n",
              "\n",
              "          const docLinkHtml = 'Like what you see? Visit the ' +\n",
              "            '<a target=\"_blank\" href=https://colab.research.google.com/notebooks/data_table.ipynb>data table notebook</a>'\n",
              "            + ' to learn more about interactive tables.';\n",
              "          element.innerHTML = '';\n",
              "          dataTable['output_type'] = 'display_data';\n",
              "          await google.colab.output.renderOutput(dataTable, element);\n",
              "          const docLink = document.createElement('div');\n",
              "          docLink.innerHTML = docLinkHtml;\n",
              "          element.appendChild(docLink);\n",
              "        }\n",
              "      </script>\n",
              "    </div>\n",
              "  </div>\n",
              "  "
            ]
          },
          "metadata": {},
          "execution_count": 255
        }
      ]
    },
    {
      "cell_type": "markdown",
      "source": [
        "### Getting some information on `var3` to decide which encoding might be better"
      ],
      "metadata": {
        "id": "KX5MVBpEIZln"
      }
    },
    {
      "cell_type": "code",
      "source": [
        "df[\"var3\"].value_counts()"
      ],
      "metadata": {
        "colab": {
          "base_uri": "https://localhost:8080/"
        },
        "id": "yL92VV7vyu6L",
        "outputId": "f556ddfa-3316-47b3-ce31-2bb0914e23f3"
      },
      "execution_count": 256,
      "outputs": [
        {
          "output_type": "execute_result",
          "data": {
            "text/plain": [
              "Czech Republic           9\n",
              "Greece                   8\n",
              "Senegal                  8\n",
              "Australia                8\n",
              "South Africa             8\n",
              "                        ..\n",
              "Jordan                   1\n",
              "Guadeloupe               1\n",
              "Lesotho                  1\n",
              "Bermuda                  1\n",
              "Saint Kitts and Nevis    1\n",
              "Name: var3, Length: 236, dtype: int64"
            ]
          },
          "metadata": {},
          "execution_count": 256
        }
      ]
    },
    {
      "cell_type": "markdown",
      "source": [
        "#1. Ordinal Encoding\n",
        "## var3 and var6 columns"
      ],
      "metadata": {
        "id": "QGw_D7vFXU8v"
      }
    },
    {
      "cell_type": "markdown",
      "source": [
        "## For var3"
      ],
      "metadata": {
        "id": "i0mbRlQZcEnD"
      }
    },
    {
      "cell_type": "code",
      "source": [
        "from sklearn.preprocessing import OrdinalEncoder\n",
        "\n",
        "# Categorical encoding for var3\n",
        "df['var3'] = OrdinalEncoder().fit_transform(df[['var3']])\n",
        "print(f\"Some of the encoded categorical values: {df['var3']}\")\n",
        "print(df.head())"
      ],
      "metadata": {
        "colab": {
          "base_uri": "https://localhost:8080/"
        },
        "id": "S7JRemO3Xfkd",
        "outputId": "68c27b51-9e36-440f-95f1-d483ed5406bb"
      },
      "execution_count": 257,
      "outputs": [
        {
          "output_type": "stream",
          "name": "stdout",
          "text": [
            "Some of the encoded categorical values: 0      137.0\n",
            "1       57.0\n",
            "2      101.0\n",
            "3      216.0\n",
            "4       36.0\n",
            "       ...  \n",
            "920     19.0\n",
            "921    105.0\n",
            "922    179.0\n",
            "923     41.0\n",
            "924      1.0\n",
            "Name: var3, Length: 925, dtype: float64\n",
            "   target    var1     var2   var3   var4    var5 var6                 var7\n",
            "0       0  509.18  417.681  137.0  138.0  393.00   no  2019-07-20 13:21:37\n",
            "1       0  446.06  666.182   57.0   81.0  352.05  yes  2019-04-04 21:30:46\n",
            "2       1  235.50  398.097  101.0   90.0  339.00   no  2019-03-03 02:59:37\n",
            "3       0  306.02  518.163  216.0  102.0  439.25  yes  2019-03-19 08:00:58\n",
            "4       0  453.08  600.156   36.0  105.0  422.95   no  2019-03-18 13:22:35\n"
          ]
        }
      ]
    },
    {
      "cell_type": "markdown",
      "source": [
        "## For var6, Remember this are our target"
      ],
      "metadata": {
        "id": "2W--erJdcHl1"
      }
    },
    {
      "cell_type": "code",
      "source": [
        "from sklearn.preprocessing import OrdinalEncoder\n",
        "\n",
        "# Categorical encoding for var3\n",
        "df['var6']= OrdinalEncoder().fit_transform(df[['var6']])\n",
        "print(f\"Some of the encoded categorical values: {df['var6']}\")\n",
        "print(df.head())"
      ],
      "metadata": {
        "colab": {
          "base_uri": "https://localhost:8080/"
        },
        "id": "08-ck9eEcNdx",
        "outputId": "9c47958c-e212-47c2-cf4a-98f93fede87c"
      },
      "execution_count": 258,
      "outputs": [
        {
          "output_type": "stream",
          "name": "stdout",
          "text": [
            "Some of the encoded categorical values: 0      0.0\n",
            "1      1.0\n",
            "2      0.0\n",
            "3      1.0\n",
            "4      0.0\n",
            "      ... \n",
            "920    1.0\n",
            "921    0.0\n",
            "922    1.0\n",
            "923    1.0\n",
            "924    1.0\n",
            "Name: var6, Length: 925, dtype: float64\n",
            "   target    var1     var2   var3   var4    var5  var6                 var7\n",
            "0       0  509.18  417.681  137.0  138.0  393.00   0.0  2019-07-20 13:21:37\n",
            "1       0  446.06  666.182   57.0   81.0  352.05   1.0  2019-04-04 21:30:46\n",
            "2       1  235.50  398.097  101.0   90.0  339.00   0.0  2019-03-03 02:59:37\n",
            "3       0  306.02  518.163  216.0  102.0  439.25   1.0  2019-03-19 08:00:58\n",
            "4       0  453.08  600.156   36.0  105.0  422.95   0.0  2019-03-18 13:22:35\n"
          ]
        }
      ]
    },
    {
      "cell_type": "markdown",
      "source": [
        "## Handling date time. (Extra task)"
      ],
      "metadata": {
        "id": "GvFEugjneMtG"
      }
    },
    {
      "cell_type": "markdown",
      "source": [
        "### Checking the dtype of `var7`"
      ],
      "metadata": {
        "id": "R0AhlHsHInjF"
      }
    },
    {
      "cell_type": "code",
      "source": [
        "df.info()"
      ],
      "metadata": {
        "colab": {
          "base_uri": "https://localhost:8080/"
        },
        "id": "iZFgsJYAeMNb",
        "outputId": "9c5c9fe4-f1bc-4e20-cba7-2a9fdbfca984"
      },
      "execution_count": 259,
      "outputs": [
        {
          "output_type": "stream",
          "name": "stdout",
          "text": [
            "<class 'pandas.core.frame.DataFrame'>\n",
            "RangeIndex: 925 entries, 0 to 924\n",
            "Data columns (total 8 columns):\n",
            " #   Column  Non-Null Count  Dtype  \n",
            "---  ------  --------------  -----  \n",
            " 0   target  925 non-null    int64  \n",
            " 1   var1    925 non-null    float64\n",
            " 2   var2    925 non-null    float64\n",
            " 3   var3    925 non-null    float64\n",
            " 4   var4    325 non-null    float64\n",
            " 5   var5    925 non-null    float64\n",
            " 6   var6    925 non-null    float64\n",
            " 7   var7    925 non-null    object \n",
            "dtypes: float64(6), int64(1), object(1)\n",
            "memory usage: 57.9+ KB\n"
          ]
        }
      ]
    },
    {
      "cell_type": "markdown",
      "source": [
        "### Converting `var7` from `object` dtype to `string` dtype"
      ],
      "metadata": {
        "id": "kd2V04x-GQ_X"
      }
    },
    {
      "cell_type": "code",
      "source": [
        "# var7 is object, we convert it to string datatype\n",
        "import pandas as pd\n",
        "df['var7'] = df['var7'].astype(\"string\")\n",
        "df.info()"
      ],
      "metadata": {
        "colab": {
          "base_uri": "https://localhost:8080/"
        },
        "id": "6cU8iB22eWDG",
        "outputId": "4956e68a-e6fa-4dda-e14c-66f80e799729"
      },
      "execution_count": 260,
      "outputs": [
        {
          "output_type": "stream",
          "name": "stdout",
          "text": [
            "<class 'pandas.core.frame.DataFrame'>\n",
            "RangeIndex: 925 entries, 0 to 924\n",
            "Data columns (total 8 columns):\n",
            " #   Column  Non-Null Count  Dtype  \n",
            "---  ------  --------------  -----  \n",
            " 0   target  925 non-null    int64  \n",
            " 1   var1    925 non-null    float64\n",
            " 2   var2    925 non-null    float64\n",
            " 3   var3    925 non-null    float64\n",
            " 4   var4    325 non-null    float64\n",
            " 5   var5    925 non-null    float64\n",
            " 6   var6    925 non-null    float64\n",
            " 7   var7    925 non-null    string \n",
            "dtypes: float64(6), int64(1), string(1)\n",
            "memory usage: 57.9 KB\n"
          ]
        }
      ]
    },
    {
      "cell_type": "markdown",
      "source": [
        "### Spliting on `whitespace` to separate `Date-Time`, then we convert the Date and Time to `datetime` dtype.\n",
        "\n",
        "### Then we create 6 features from it, namely `year`, `month`, `day`, `hour`, `minute`, `seconds`"
      ],
      "metadata": {
        "id": "zqKnE5LKGZ9b"
      }
    },
    {
      "cell_type": "code",
      "source": [
        "# Lets split date from time to encode them \n",
        "for i,j in df['var7'].items():\n",
        "    date = j.split()\n",
        "\n",
        "# Lets append the date, month and day to the data frame by splitting it\n",
        "df['date'] = date[0]\n",
        "\n",
        "# Convert it to date time\n",
        "df['date'] = pd.to_datetime(df['date'])\n",
        "\n",
        "# Split year , month , and date\n",
        "df['year'] = df['date'].dt.year\n",
        "df['month'] = df['date'].dt.month\n",
        "df['day'] = df['date'].dt.day\n",
        "\n",
        "# Now lets remove the date series because we do not need it anymore\n",
        "df = df.drop(['date'], axis = 1)\n",
        "\n",
        "\n",
        "# Now lets extract information from time in the same way\n",
        "df['time'] = date[1]\n",
        "\n",
        "# Convert it to date time\n",
        "df['time'] = pd.to_datetime(df['time'])\n",
        "\n",
        "# Split hour , minutes , and seconds\n",
        "df['hour'] = df['time'].dt.hour\n",
        "df['minute'] = df['time'].dt.minute\n",
        "df['seconds'] = df['time'].dt.second\n",
        "\n",
        "# Now lets remove the date series because we do not need it anymore\n",
        "df = df.drop(['time'], axis = 1)\n",
        "\n",
        "# Lets now also drop 'var7' it is unecessary now\n",
        "df = df.drop(['var7'], axis = 1)\n",
        "df.head()\n"
      ],
      "metadata": {
        "colab": {
          "base_uri": "https://localhost:8080/",
          "height": 206
        },
        "id": "qClVyhdexLUM",
        "outputId": "1f64b94f-180f-4c50-ad9c-769d5072f997"
      },
      "execution_count": 261,
      "outputs": [
        {
          "output_type": "execute_result",
          "data": {
            "text/plain": [
              "   target    var1     var2   var3   var4    var5  var6  year  month  day  \\\n",
              "0       0  509.18  417.681  137.0  138.0  393.00   0.0  2019      6   18   \n",
              "1       0  446.06  666.182   57.0   81.0  352.05   1.0  2019      6   18   \n",
              "2       1  235.50  398.097  101.0   90.0  339.00   0.0  2019      6   18   \n",
              "3       0  306.02  518.163  216.0  102.0  439.25   1.0  2019      6   18   \n",
              "4       0  453.08  600.156   36.0  105.0  422.95   0.0  2019      6   18   \n",
              "\n",
              "   hour  minute  seconds  \n",
              "0    17      23       26  \n",
              "1    17      23       26  \n",
              "2    17      23       26  \n",
              "3    17      23       26  \n",
              "4    17      23       26  "
            ],
            "text/html": [
              "\n",
              "  <div id=\"df-1cf1991d-1636-4aeb-84f2-24732ad94ed5\">\n",
              "    <div class=\"colab-df-container\">\n",
              "      <div>\n",
              "<style scoped>\n",
              "    .dataframe tbody tr th:only-of-type {\n",
              "        vertical-align: middle;\n",
              "    }\n",
              "\n",
              "    .dataframe tbody tr th {\n",
              "        vertical-align: top;\n",
              "    }\n",
              "\n",
              "    .dataframe thead th {\n",
              "        text-align: right;\n",
              "    }\n",
              "</style>\n",
              "<table border=\"1\" class=\"dataframe\">\n",
              "  <thead>\n",
              "    <tr style=\"text-align: right;\">\n",
              "      <th></th>\n",
              "      <th>target</th>\n",
              "      <th>var1</th>\n",
              "      <th>var2</th>\n",
              "      <th>var3</th>\n",
              "      <th>var4</th>\n",
              "      <th>var5</th>\n",
              "      <th>var6</th>\n",
              "      <th>year</th>\n",
              "      <th>month</th>\n",
              "      <th>day</th>\n",
              "      <th>hour</th>\n",
              "      <th>minute</th>\n",
              "      <th>seconds</th>\n",
              "    </tr>\n",
              "  </thead>\n",
              "  <tbody>\n",
              "    <tr>\n",
              "      <th>0</th>\n",
              "      <td>0</td>\n",
              "      <td>509.18</td>\n",
              "      <td>417.681</td>\n",
              "      <td>137.0</td>\n",
              "      <td>138.0</td>\n",
              "      <td>393.00</td>\n",
              "      <td>0.0</td>\n",
              "      <td>2019</td>\n",
              "      <td>6</td>\n",
              "      <td>18</td>\n",
              "      <td>17</td>\n",
              "      <td>23</td>\n",
              "      <td>26</td>\n",
              "    </tr>\n",
              "    <tr>\n",
              "      <th>1</th>\n",
              "      <td>0</td>\n",
              "      <td>446.06</td>\n",
              "      <td>666.182</td>\n",
              "      <td>57.0</td>\n",
              "      <td>81.0</td>\n",
              "      <td>352.05</td>\n",
              "      <td>1.0</td>\n",
              "      <td>2019</td>\n",
              "      <td>6</td>\n",
              "      <td>18</td>\n",
              "      <td>17</td>\n",
              "      <td>23</td>\n",
              "      <td>26</td>\n",
              "    </tr>\n",
              "    <tr>\n",
              "      <th>2</th>\n",
              "      <td>1</td>\n",
              "      <td>235.50</td>\n",
              "      <td>398.097</td>\n",
              "      <td>101.0</td>\n",
              "      <td>90.0</td>\n",
              "      <td>339.00</td>\n",
              "      <td>0.0</td>\n",
              "      <td>2019</td>\n",
              "      <td>6</td>\n",
              "      <td>18</td>\n",
              "      <td>17</td>\n",
              "      <td>23</td>\n",
              "      <td>26</td>\n",
              "    </tr>\n",
              "    <tr>\n",
              "      <th>3</th>\n",
              "      <td>0</td>\n",
              "      <td>306.02</td>\n",
              "      <td>518.163</td>\n",
              "      <td>216.0</td>\n",
              "      <td>102.0</td>\n",
              "      <td>439.25</td>\n",
              "      <td>1.0</td>\n",
              "      <td>2019</td>\n",
              "      <td>6</td>\n",
              "      <td>18</td>\n",
              "      <td>17</td>\n",
              "      <td>23</td>\n",
              "      <td>26</td>\n",
              "    </tr>\n",
              "    <tr>\n",
              "      <th>4</th>\n",
              "      <td>0</td>\n",
              "      <td>453.08</td>\n",
              "      <td>600.156</td>\n",
              "      <td>36.0</td>\n",
              "      <td>105.0</td>\n",
              "      <td>422.95</td>\n",
              "      <td>0.0</td>\n",
              "      <td>2019</td>\n",
              "      <td>6</td>\n",
              "      <td>18</td>\n",
              "      <td>17</td>\n",
              "      <td>23</td>\n",
              "      <td>26</td>\n",
              "    </tr>\n",
              "  </tbody>\n",
              "</table>\n",
              "</div>\n",
              "      <button class=\"colab-df-convert\" onclick=\"convertToInteractive('df-1cf1991d-1636-4aeb-84f2-24732ad94ed5')\"\n",
              "              title=\"Convert this dataframe to an interactive table.\"\n",
              "              style=\"display:none;\">\n",
              "        \n",
              "  <svg xmlns=\"http://www.w3.org/2000/svg\" height=\"24px\"viewBox=\"0 0 24 24\"\n",
              "       width=\"24px\">\n",
              "    <path d=\"M0 0h24v24H0V0z\" fill=\"none\"/>\n",
              "    <path d=\"M18.56 5.44l.94 2.06.94-2.06 2.06-.94-2.06-.94-.94-2.06-.94 2.06-2.06.94zm-11 1L8.5 8.5l.94-2.06 2.06-.94-2.06-.94L8.5 2.5l-.94 2.06-2.06.94zm10 10l.94 2.06.94-2.06 2.06-.94-2.06-.94-.94-2.06-.94 2.06-2.06.94z\"/><path d=\"M17.41 7.96l-1.37-1.37c-.4-.4-.92-.59-1.43-.59-.52 0-1.04.2-1.43.59L10.3 9.45l-7.72 7.72c-.78.78-.78 2.05 0 2.83L4 21.41c.39.39.9.59 1.41.59.51 0 1.02-.2 1.41-.59l7.78-7.78 2.81-2.81c.8-.78.8-2.07 0-2.86zM5.41 20L4 18.59l7.72-7.72 1.47 1.35L5.41 20z\"/>\n",
              "  </svg>\n",
              "      </button>\n",
              "      \n",
              "  <style>\n",
              "    .colab-df-container {\n",
              "      display:flex;\n",
              "      flex-wrap:wrap;\n",
              "      gap: 12px;\n",
              "    }\n",
              "\n",
              "    .colab-df-convert {\n",
              "      background-color: #E8F0FE;\n",
              "      border: none;\n",
              "      border-radius: 50%;\n",
              "      cursor: pointer;\n",
              "      display: none;\n",
              "      fill: #1967D2;\n",
              "      height: 32px;\n",
              "      padding: 0 0 0 0;\n",
              "      width: 32px;\n",
              "    }\n",
              "\n",
              "    .colab-df-convert:hover {\n",
              "      background-color: #E2EBFA;\n",
              "      box-shadow: 0px 1px 2px rgba(60, 64, 67, 0.3), 0px 1px 3px 1px rgba(60, 64, 67, 0.15);\n",
              "      fill: #174EA6;\n",
              "    }\n",
              "\n",
              "    [theme=dark] .colab-df-convert {\n",
              "      background-color: #3B4455;\n",
              "      fill: #D2E3FC;\n",
              "    }\n",
              "\n",
              "    [theme=dark] .colab-df-convert:hover {\n",
              "      background-color: #434B5C;\n",
              "      box-shadow: 0px 1px 3px 1px rgba(0, 0, 0, 0.15);\n",
              "      filter: drop-shadow(0px 1px 2px rgba(0, 0, 0, 0.3));\n",
              "      fill: #FFFFFF;\n",
              "    }\n",
              "  </style>\n",
              "\n",
              "      <script>\n",
              "        const buttonEl =\n",
              "          document.querySelector('#df-1cf1991d-1636-4aeb-84f2-24732ad94ed5 button.colab-df-convert');\n",
              "        buttonEl.style.display =\n",
              "          google.colab.kernel.accessAllowed ? 'block' : 'none';\n",
              "\n",
              "        async function convertToInteractive(key) {\n",
              "          const element = document.querySelector('#df-1cf1991d-1636-4aeb-84f2-24732ad94ed5');\n",
              "          const dataTable =\n",
              "            await google.colab.kernel.invokeFunction('convertToInteractive',\n",
              "                                                     [key], {});\n",
              "          if (!dataTable) return;\n",
              "\n",
              "          const docLinkHtml = 'Like what you see? Visit the ' +\n",
              "            '<a target=\"_blank\" href=https://colab.research.google.com/notebooks/data_table.ipynb>data table notebook</a>'\n",
              "            + ' to learn more about interactive tables.';\n",
              "          element.innerHTML = '';\n",
              "          dataTable['output_type'] = 'display_data';\n",
              "          await google.colab.output.renderOutput(dataTable, element);\n",
              "          const docLink = document.createElement('div');\n",
              "          docLink.innerHTML = docLinkHtml;\n",
              "          element.appendChild(docLink);\n",
              "        }\n",
              "      </script>\n",
              "    </div>\n",
              "  </div>\n",
              "  "
            ]
          },
          "metadata": {},
          "execution_count": 261
        }
      ]
    },
    {
      "cell_type": "markdown",
      "source": [
        "#2. Data imputation"
      ],
      "metadata": {
        "id": "pnPRKuTuAt3S"
      }
    },
    {
      "cell_type": "markdown",
      "source": [
        "## Linear Regression\n",
        "Target var4, 600 are empty, so let's make those 600 as prediction set, and use others to predict var4"
      ],
      "metadata": {
        "id": "2ER5b2LYA22z"
      }
    },
    {
      "cell_type": "code",
      "source": [
        "# Lets first get the NULL valued data and store it in X_pred variable\n",
        "import numpy as np\n",
        "X_index = np.where(df['var4'].isna())[0] # Will return inedex of all the columns with Null values\n",
        "\n",
        "# Now lets save them for Predictions\n",
        "X_pred = df.iloc[X_index, :]\n",
        "\n",
        "\n",
        "# Drop them from our DataFrame\n",
        "df.drop(df[df.var4.isna()].index, inplace = True)\n",
        "\n",
        "# Lets check the shapes to see if it works\n",
        "df.shape, X_pred.shape"
      ],
      "metadata": {
        "colab": {
          "base_uri": "https://localhost:8080/"
        },
        "id": "TrB-rKdo8cWP",
        "outputId": "ad7b7599-ec4f-4132-eee9-e33fb0155c93"
      },
      "execution_count": 262,
      "outputs": [
        {
          "output_type": "execute_result",
          "data": {
            "text/plain": [
              "((325, 13), (600, 13))"
            ]
          },
          "metadata": {},
          "execution_count": 262
        }
      ]
    },
    {
      "cell_type": "markdown",
      "source": [
        "### Splitting and preparing targets and predictors. \n",
        "### **Note:** `X_pred` is the set with `NaN values of var4`"
      ],
      "metadata": {
        "id": "gU4IQFDmcjVN"
      }
    },
    {
      "cell_type": "code",
      "source": [
        "# Now lets split the target from it\n",
        "# Our target y\n",
        "y = df.var4\n",
        "\n",
        "# Our independent variables X\n",
        "X = df.drop(['var4'], axis = 1)\n",
        "\n",
        "# We only have 325 data left, so lets use 25 to evaluate/test, and rest 300 to train\n",
        "X_train = X[:300][:]\n",
        "X_test = X[300:][:]\n",
        "\n",
        "y_train = y[:300]\n",
        "y_test = y[300:]\n",
        "\n",
        "# Our prediction data\n",
        "X_pred = X_pred.drop(['var4'], axis = 1)\n",
        "X_train.shape, X_test.shape, y_train.shape, y_test.shape, X_pred.shape"
      ],
      "metadata": {
        "colab": {
          "base_uri": "https://localhost:8080/"
        },
        "id": "elICLra6E_VK",
        "outputId": "ce2b454f-e09c-4ae3-c093-b25b2b141cd5"
      },
      "execution_count": 263,
      "outputs": [
        {
          "output_type": "execute_result",
          "data": {
            "text/plain": [
              "((300, 12), (25, 12), (300,), (25,), (600, 12))"
            ]
          },
          "metadata": {},
          "execution_count": 263
        }
      ]
    },
    {
      "cell_type": "markdown",
      "source": [
        "## Linear Regression model"
      ],
      "metadata": {
        "id": "vAtFEl0fHTtc"
      }
    },
    {
      "cell_type": "code",
      "source": [
        "from sklearn.linear_model import LinearRegression\n",
        "# function to perform linear regression\n",
        "# Linear regression model\n",
        "linear_model = LinearRegression()\n",
        "\n",
        "# Fitting it to the traing set\n",
        "linear_model.fit(X_train, y_train)"
      ],
      "metadata": {
        "colab": {
          "base_uri": "https://localhost:8080/"
        },
        "id": "p73wlYK2HZHb",
        "outputId": "28ee01b9-1df0-415f-ac71-5c787242f992"
      },
      "execution_count": 264,
      "outputs": [
        {
          "output_type": "execute_result",
          "data": {
            "text/plain": [
              "LinearRegression()"
            ]
          },
          "metadata": {},
          "execution_count": 264
        }
      ]
    },
    {
      "cell_type": "markdown",
      "source": [
        "### Predictions on the above `Linear Regression model`"
      ],
      "metadata": {
        "id": "tn_EE-7fJDhc"
      }
    },
    {
      "cell_type": "code",
      "source": [
        "# Lets check the prediction\n",
        "y_pred_linear = linear_model.predict(X_test)\n",
        "y_pred_linear.shape"
      ],
      "metadata": {
        "colab": {
          "base_uri": "https://localhost:8080/"
        },
        "id": "P0XjZVbWIMnt",
        "outputId": "5bf1755b-cfbd-4c72-f159-070677cfbbca"
      },
      "execution_count": 265,
      "outputs": [
        {
          "output_type": "execute_result",
          "data": {
            "text/plain": [
              "(25,)"
            ]
          },
          "metadata": {},
          "execution_count": 265
        }
      ]
    },
    {
      "cell_type": "markdown",
      "source": [
        "### Function that give `MAE`, `MSE`, and `RMSE`, provided `y test` and `y predicted`"
      ],
      "metadata": {
        "id": "YfHqflZGI0ll"
      }
    },
    {
      "cell_type": "code",
      "source": [
        "# Now lets create a function that can give us the MAE, MSE, and RMSE\n",
        "from sklearn import metrics\n",
        "def loss(y_test, y_pred):\n",
        "  return metrics.mean_absolute_error(y_test, y_pred), \\\n",
        "         metrics.mean_squared_error(y_test, y_pred),  \\\n",
        "         np.sqrt(metrics.mean_squared_error(y_test, y_pred))\n"
      ],
      "metadata": {
        "id": "kdFkgnrwJC8j"
      },
      "execution_count": 266,
      "outputs": []
    },
    {
      "cell_type": "markdown",
      "source": [
        "### A `DataFrame` that give `visualisation` of the `losses` on `Linear regression model`"
      ],
      "metadata": {
        "id": "iN_XL3IfJO-8"
      }
    },
    {
      "cell_type": "code",
      "source": [
        "# Lets check the loss now\n",
        "mae, mse, rmse = loss(y_test, y_pred_linear)\n",
        "loss_array = np.array([[mae, mse, rmse]])\n",
        "\n",
        "loss_linear = pd.DataFrame(loss_array, columns = [\"MAE\", \"MSE\", \"RMSE\"])\n",
        "loss_linear"
      ],
      "metadata": {
        "colab": {
          "base_uri": "https://localhost:8080/",
          "height": 81
        },
        "id": "NZO44EZtKLpu",
        "outputId": "8e175000-1bf2-42cd-a1ee-99e139a47afe"
      },
      "execution_count": 267,
      "outputs": [
        {
          "output_type": "execute_result",
          "data": {
            "text/plain": [
              "         MAE         MSE      RMSE\n",
              "0  12.612435  252.106115  15.87785"
            ],
            "text/html": [
              "\n",
              "  <div id=\"df-0a4814f3-0756-43b6-8fbf-bc18d4d896e3\">\n",
              "    <div class=\"colab-df-container\">\n",
              "      <div>\n",
              "<style scoped>\n",
              "    .dataframe tbody tr th:only-of-type {\n",
              "        vertical-align: middle;\n",
              "    }\n",
              "\n",
              "    .dataframe tbody tr th {\n",
              "        vertical-align: top;\n",
              "    }\n",
              "\n",
              "    .dataframe thead th {\n",
              "        text-align: right;\n",
              "    }\n",
              "</style>\n",
              "<table border=\"1\" class=\"dataframe\">\n",
              "  <thead>\n",
              "    <tr style=\"text-align: right;\">\n",
              "      <th></th>\n",
              "      <th>MAE</th>\n",
              "      <th>MSE</th>\n",
              "      <th>RMSE</th>\n",
              "    </tr>\n",
              "  </thead>\n",
              "  <tbody>\n",
              "    <tr>\n",
              "      <th>0</th>\n",
              "      <td>12.612435</td>\n",
              "      <td>252.106115</td>\n",
              "      <td>15.87785</td>\n",
              "    </tr>\n",
              "  </tbody>\n",
              "</table>\n",
              "</div>\n",
              "      <button class=\"colab-df-convert\" onclick=\"convertToInteractive('df-0a4814f3-0756-43b6-8fbf-bc18d4d896e3')\"\n",
              "              title=\"Convert this dataframe to an interactive table.\"\n",
              "              style=\"display:none;\">\n",
              "        \n",
              "  <svg xmlns=\"http://www.w3.org/2000/svg\" height=\"24px\"viewBox=\"0 0 24 24\"\n",
              "       width=\"24px\">\n",
              "    <path d=\"M0 0h24v24H0V0z\" fill=\"none\"/>\n",
              "    <path d=\"M18.56 5.44l.94 2.06.94-2.06 2.06-.94-2.06-.94-.94-2.06-.94 2.06-2.06.94zm-11 1L8.5 8.5l.94-2.06 2.06-.94-2.06-.94L8.5 2.5l-.94 2.06-2.06.94zm10 10l.94 2.06.94-2.06 2.06-.94-2.06-.94-.94-2.06-.94 2.06-2.06.94z\"/><path d=\"M17.41 7.96l-1.37-1.37c-.4-.4-.92-.59-1.43-.59-.52 0-1.04.2-1.43.59L10.3 9.45l-7.72 7.72c-.78.78-.78 2.05 0 2.83L4 21.41c.39.39.9.59 1.41.59.51 0 1.02-.2 1.41-.59l7.78-7.78 2.81-2.81c.8-.78.8-2.07 0-2.86zM5.41 20L4 18.59l7.72-7.72 1.47 1.35L5.41 20z\"/>\n",
              "  </svg>\n",
              "      </button>\n",
              "      \n",
              "  <style>\n",
              "    .colab-df-container {\n",
              "      display:flex;\n",
              "      flex-wrap:wrap;\n",
              "      gap: 12px;\n",
              "    }\n",
              "\n",
              "    .colab-df-convert {\n",
              "      background-color: #E8F0FE;\n",
              "      border: none;\n",
              "      border-radius: 50%;\n",
              "      cursor: pointer;\n",
              "      display: none;\n",
              "      fill: #1967D2;\n",
              "      height: 32px;\n",
              "      padding: 0 0 0 0;\n",
              "      width: 32px;\n",
              "    }\n",
              "\n",
              "    .colab-df-convert:hover {\n",
              "      background-color: #E2EBFA;\n",
              "      box-shadow: 0px 1px 2px rgba(60, 64, 67, 0.3), 0px 1px 3px 1px rgba(60, 64, 67, 0.15);\n",
              "      fill: #174EA6;\n",
              "    }\n",
              "\n",
              "    [theme=dark] .colab-df-convert {\n",
              "      background-color: #3B4455;\n",
              "      fill: #D2E3FC;\n",
              "    }\n",
              "\n",
              "    [theme=dark] .colab-df-convert:hover {\n",
              "      background-color: #434B5C;\n",
              "      box-shadow: 0px 1px 3px 1px rgba(0, 0, 0, 0.15);\n",
              "      filter: drop-shadow(0px 1px 2px rgba(0, 0, 0, 0.3));\n",
              "      fill: #FFFFFF;\n",
              "    }\n",
              "  </style>\n",
              "\n",
              "      <script>\n",
              "        const buttonEl =\n",
              "          document.querySelector('#df-0a4814f3-0756-43b6-8fbf-bc18d4d896e3 button.colab-df-convert');\n",
              "        buttonEl.style.display =\n",
              "          google.colab.kernel.accessAllowed ? 'block' : 'none';\n",
              "\n",
              "        async function convertToInteractive(key) {\n",
              "          const element = document.querySelector('#df-0a4814f3-0756-43b6-8fbf-bc18d4d896e3');\n",
              "          const dataTable =\n",
              "            await google.colab.kernel.invokeFunction('convertToInteractive',\n",
              "                                                     [key], {});\n",
              "          if (!dataTable) return;\n",
              "\n",
              "          const docLinkHtml = 'Like what you see? Visit the ' +\n",
              "            '<a target=\"_blank\" href=https://colab.research.google.com/notebooks/data_table.ipynb>data table notebook</a>'\n",
              "            + ' to learn more about interactive tables.';\n",
              "          element.innerHTML = '';\n",
              "          dataTable['output_type'] = 'display_data';\n",
              "          await google.colab.output.renderOutput(dataTable, element);\n",
              "          const docLink = document.createElement('div');\n",
              "          docLink.innerHTML = docLinkHtml;\n",
              "          element.appendChild(docLink);\n",
              "        }\n",
              "      </script>\n",
              "    </div>\n",
              "  </div>\n",
              "  "
            ]
          },
          "metadata": {},
          "execution_count": 267
        }
      ]
    },
    {
      "cell_type": "markdown",
      "source": [
        "##Polynomial Regression\n",
        "### This is for all the `degrees from 2 to 4`, and gives a `DataFrame visualisation of their losses`"
      ],
      "metadata": {
        "id": "hyxa9pOgLKN6"
      }
    },
    {
      "cell_type": "code",
      "source": [
        "# Lets try polynomial regression now\n",
        "from sklearn.preprocessing import PolynomialFeatures\n",
        "from sklearn.linear_model import LinearRegression\n",
        "import numpy as np\n",
        "degree = []\n",
        "mae_list = []\n",
        "mse_list = []\n",
        "rmse_list = []\n",
        "# Lets try 3 of the polynomial degrees as in condition\n",
        "for i in range(2, 5):\n",
        "  poly = PolynomialFeatures(i)\n",
        "  X_train_poly = poly.fit_transform(X_train)\n",
        " \n",
        "  # function to perform linear regression\n",
        "  # Linear regression model\n",
        "  poly_model = LinearRegression()\n",
        "\n",
        "  # Fitting it to the traing set\n",
        "  poly_model.fit(X_train_poly, y_train)\n",
        "\n",
        "  y_pred_poly = poly_model.predict(poly.fit_transform(X_test))\n",
        "\n",
        "  # Lets check the loss now\n",
        "  mae, mse, rmse = loss(y_test, y_pred_poly)\n",
        "\n",
        "  # Store them in a list\n",
        "  degree.append(i)\n",
        "  mae_list.append(mae)\n",
        "  mse_list.append(mse)\n",
        "  rmse_list.append(rmse)\n",
        "\n",
        "# Create a numpy array from it\n",
        "degree = np.array(degree)\n",
        "mae_list = np.array(mae_list)\n",
        "mse_list = np.array(mse_list)\n",
        "rmse_list = np.array(rmse_list)\n",
        "\n",
        "# Create a dataframe to visualise\n",
        "losses = np.array([degree, mae_list, mse_list, rmse_list]).T\n",
        "loss_comp_poly = pd.DataFrame(losses, columns = [\"Degree\", \"MAE\", \"MSE\", \"RMSE\"])\n",
        "loss_comp_poly"
      ],
      "metadata": {
        "colab": {
          "base_uri": "https://localhost:8080/",
          "height": 143
        },
        "id": "ZeGmREMZLNa9",
        "outputId": "4814eccb-e955-4257-aa35-82ec737fa582"
      },
      "execution_count": 268,
      "outputs": [
        {
          "output_type": "execute_result",
          "data": {
            "text/plain": [
              "   Degree        MAE         MSE       RMSE\n",
              "0     2.0  10.912970  194.959007  13.962772\n",
              "1     3.0   8.550560  192.182485  13.862990\n",
              "2     4.0  13.135752  401.399746  20.034963"
            ],
            "text/html": [
              "\n",
              "  <div id=\"df-65c7486c-d8a6-4c1a-9805-911d6c8c693d\">\n",
              "    <div class=\"colab-df-container\">\n",
              "      <div>\n",
              "<style scoped>\n",
              "    .dataframe tbody tr th:only-of-type {\n",
              "        vertical-align: middle;\n",
              "    }\n",
              "\n",
              "    .dataframe tbody tr th {\n",
              "        vertical-align: top;\n",
              "    }\n",
              "\n",
              "    .dataframe thead th {\n",
              "        text-align: right;\n",
              "    }\n",
              "</style>\n",
              "<table border=\"1\" class=\"dataframe\">\n",
              "  <thead>\n",
              "    <tr style=\"text-align: right;\">\n",
              "      <th></th>\n",
              "      <th>Degree</th>\n",
              "      <th>MAE</th>\n",
              "      <th>MSE</th>\n",
              "      <th>RMSE</th>\n",
              "    </tr>\n",
              "  </thead>\n",
              "  <tbody>\n",
              "    <tr>\n",
              "      <th>0</th>\n",
              "      <td>2.0</td>\n",
              "      <td>10.912970</td>\n",
              "      <td>194.959007</td>\n",
              "      <td>13.962772</td>\n",
              "    </tr>\n",
              "    <tr>\n",
              "      <th>1</th>\n",
              "      <td>3.0</td>\n",
              "      <td>8.550560</td>\n",
              "      <td>192.182485</td>\n",
              "      <td>13.862990</td>\n",
              "    </tr>\n",
              "    <tr>\n",
              "      <th>2</th>\n",
              "      <td>4.0</td>\n",
              "      <td>13.135752</td>\n",
              "      <td>401.399746</td>\n",
              "      <td>20.034963</td>\n",
              "    </tr>\n",
              "  </tbody>\n",
              "</table>\n",
              "</div>\n",
              "      <button class=\"colab-df-convert\" onclick=\"convertToInteractive('df-65c7486c-d8a6-4c1a-9805-911d6c8c693d')\"\n",
              "              title=\"Convert this dataframe to an interactive table.\"\n",
              "              style=\"display:none;\">\n",
              "        \n",
              "  <svg xmlns=\"http://www.w3.org/2000/svg\" height=\"24px\"viewBox=\"0 0 24 24\"\n",
              "       width=\"24px\">\n",
              "    <path d=\"M0 0h24v24H0V0z\" fill=\"none\"/>\n",
              "    <path d=\"M18.56 5.44l.94 2.06.94-2.06 2.06-.94-2.06-.94-.94-2.06-.94 2.06-2.06.94zm-11 1L8.5 8.5l.94-2.06 2.06-.94-2.06-.94L8.5 2.5l-.94 2.06-2.06.94zm10 10l.94 2.06.94-2.06 2.06-.94-2.06-.94-.94-2.06-.94 2.06-2.06.94z\"/><path d=\"M17.41 7.96l-1.37-1.37c-.4-.4-.92-.59-1.43-.59-.52 0-1.04.2-1.43.59L10.3 9.45l-7.72 7.72c-.78.78-.78 2.05 0 2.83L4 21.41c.39.39.9.59 1.41.59.51 0 1.02-.2 1.41-.59l7.78-7.78 2.81-2.81c.8-.78.8-2.07 0-2.86zM5.41 20L4 18.59l7.72-7.72 1.47 1.35L5.41 20z\"/>\n",
              "  </svg>\n",
              "      </button>\n",
              "      \n",
              "  <style>\n",
              "    .colab-df-container {\n",
              "      display:flex;\n",
              "      flex-wrap:wrap;\n",
              "      gap: 12px;\n",
              "    }\n",
              "\n",
              "    .colab-df-convert {\n",
              "      background-color: #E8F0FE;\n",
              "      border: none;\n",
              "      border-radius: 50%;\n",
              "      cursor: pointer;\n",
              "      display: none;\n",
              "      fill: #1967D2;\n",
              "      height: 32px;\n",
              "      padding: 0 0 0 0;\n",
              "      width: 32px;\n",
              "    }\n",
              "\n",
              "    .colab-df-convert:hover {\n",
              "      background-color: #E2EBFA;\n",
              "      box-shadow: 0px 1px 2px rgba(60, 64, 67, 0.3), 0px 1px 3px 1px rgba(60, 64, 67, 0.15);\n",
              "      fill: #174EA6;\n",
              "    }\n",
              "\n",
              "    [theme=dark] .colab-df-convert {\n",
              "      background-color: #3B4455;\n",
              "      fill: #D2E3FC;\n",
              "    }\n",
              "\n",
              "    [theme=dark] .colab-df-convert:hover {\n",
              "      background-color: #434B5C;\n",
              "      box-shadow: 0px 1px 3px 1px rgba(0, 0, 0, 0.15);\n",
              "      filter: drop-shadow(0px 1px 2px rgba(0, 0, 0, 0.3));\n",
              "      fill: #FFFFFF;\n",
              "    }\n",
              "  </style>\n",
              "\n",
              "      <script>\n",
              "        const buttonEl =\n",
              "          document.querySelector('#df-65c7486c-d8a6-4c1a-9805-911d6c8c693d button.colab-df-convert');\n",
              "        buttonEl.style.display =\n",
              "          google.colab.kernel.accessAllowed ? 'block' : 'none';\n",
              "\n",
              "        async function convertToInteractive(key) {\n",
              "          const element = document.querySelector('#df-65c7486c-d8a6-4c1a-9805-911d6c8c693d');\n",
              "          const dataTable =\n",
              "            await google.colab.kernel.invokeFunction('convertToInteractive',\n",
              "                                                     [key], {});\n",
              "          if (!dataTable) return;\n",
              "\n",
              "          const docLinkHtml = 'Like what you see? Visit the ' +\n",
              "            '<a target=\"_blank\" href=https://colab.research.google.com/notebooks/data_table.ipynb>data table notebook</a>'\n",
              "            + ' to learn more about interactive tables.';\n",
              "          element.innerHTML = '';\n",
              "          dataTable['output_type'] = 'display_data';\n",
              "          await google.colab.output.renderOutput(dataTable, element);\n",
              "          const docLink = document.createElement('div');\n",
              "          docLink.innerHTML = docLinkHtml;\n",
              "          element.appendChild(docLink);\n",
              "        }\n",
              "      </script>\n",
              "    </div>\n",
              "  </div>\n",
              "  "
            ]
          },
          "metadata": {},
          "execution_count": 268
        }
      ]
    },
    {
      "cell_type": "markdown",
      "source": [
        "## Finding optimal from these degrees"
      ],
      "metadata": {
        "id": "xs8leoblZoR_"
      }
    },
    {
      "cell_type": "markdown",
      "source": [
        "### Lowest `MAE` producing degree"
      ],
      "metadata": {
        "id": "QS4NIvS-KDaF"
      }
    },
    {
      "cell_type": "code",
      "source": [
        "print(\"Lowest MAE producing degree: \\n\")\n",
        "lowest_mae = (loss_comp_poly.MAE.min())\n",
        "loss_comp_poly[(loss_comp_poly.MAE == lowest_mae)]"
      ],
      "metadata": {
        "colab": {
          "base_uri": "https://localhost:8080/",
          "height": 115
        },
        "id": "WHz5k2poVT_y",
        "outputId": "fdc9cf5f-bef1-4e0e-dfb2-be471f8c2870"
      },
      "execution_count": 269,
      "outputs": [
        {
          "output_type": "stream",
          "name": "stdout",
          "text": [
            "Lowest MAE producing degree: \n",
            "\n"
          ]
        },
        {
          "output_type": "execute_result",
          "data": {
            "text/plain": [
              "   Degree      MAE         MSE      RMSE\n",
              "1     3.0  8.55056  192.182485  13.86299"
            ],
            "text/html": [
              "\n",
              "  <div id=\"df-2a674e4c-1e7e-4577-aa16-88bda6f16fa5\">\n",
              "    <div class=\"colab-df-container\">\n",
              "      <div>\n",
              "<style scoped>\n",
              "    .dataframe tbody tr th:only-of-type {\n",
              "        vertical-align: middle;\n",
              "    }\n",
              "\n",
              "    .dataframe tbody tr th {\n",
              "        vertical-align: top;\n",
              "    }\n",
              "\n",
              "    .dataframe thead th {\n",
              "        text-align: right;\n",
              "    }\n",
              "</style>\n",
              "<table border=\"1\" class=\"dataframe\">\n",
              "  <thead>\n",
              "    <tr style=\"text-align: right;\">\n",
              "      <th></th>\n",
              "      <th>Degree</th>\n",
              "      <th>MAE</th>\n",
              "      <th>MSE</th>\n",
              "      <th>RMSE</th>\n",
              "    </tr>\n",
              "  </thead>\n",
              "  <tbody>\n",
              "    <tr>\n",
              "      <th>1</th>\n",
              "      <td>3.0</td>\n",
              "      <td>8.55056</td>\n",
              "      <td>192.182485</td>\n",
              "      <td>13.86299</td>\n",
              "    </tr>\n",
              "  </tbody>\n",
              "</table>\n",
              "</div>\n",
              "      <button class=\"colab-df-convert\" onclick=\"convertToInteractive('df-2a674e4c-1e7e-4577-aa16-88bda6f16fa5')\"\n",
              "              title=\"Convert this dataframe to an interactive table.\"\n",
              "              style=\"display:none;\">\n",
              "        \n",
              "  <svg xmlns=\"http://www.w3.org/2000/svg\" height=\"24px\"viewBox=\"0 0 24 24\"\n",
              "       width=\"24px\">\n",
              "    <path d=\"M0 0h24v24H0V0z\" fill=\"none\"/>\n",
              "    <path d=\"M18.56 5.44l.94 2.06.94-2.06 2.06-.94-2.06-.94-.94-2.06-.94 2.06-2.06.94zm-11 1L8.5 8.5l.94-2.06 2.06-.94-2.06-.94L8.5 2.5l-.94 2.06-2.06.94zm10 10l.94 2.06.94-2.06 2.06-.94-2.06-.94-.94-2.06-.94 2.06-2.06.94z\"/><path d=\"M17.41 7.96l-1.37-1.37c-.4-.4-.92-.59-1.43-.59-.52 0-1.04.2-1.43.59L10.3 9.45l-7.72 7.72c-.78.78-.78 2.05 0 2.83L4 21.41c.39.39.9.59 1.41.59.51 0 1.02-.2 1.41-.59l7.78-7.78 2.81-2.81c.8-.78.8-2.07 0-2.86zM5.41 20L4 18.59l7.72-7.72 1.47 1.35L5.41 20z\"/>\n",
              "  </svg>\n",
              "      </button>\n",
              "      \n",
              "  <style>\n",
              "    .colab-df-container {\n",
              "      display:flex;\n",
              "      flex-wrap:wrap;\n",
              "      gap: 12px;\n",
              "    }\n",
              "\n",
              "    .colab-df-convert {\n",
              "      background-color: #E8F0FE;\n",
              "      border: none;\n",
              "      border-radius: 50%;\n",
              "      cursor: pointer;\n",
              "      display: none;\n",
              "      fill: #1967D2;\n",
              "      height: 32px;\n",
              "      padding: 0 0 0 0;\n",
              "      width: 32px;\n",
              "    }\n",
              "\n",
              "    .colab-df-convert:hover {\n",
              "      background-color: #E2EBFA;\n",
              "      box-shadow: 0px 1px 2px rgba(60, 64, 67, 0.3), 0px 1px 3px 1px rgba(60, 64, 67, 0.15);\n",
              "      fill: #174EA6;\n",
              "    }\n",
              "\n",
              "    [theme=dark] .colab-df-convert {\n",
              "      background-color: #3B4455;\n",
              "      fill: #D2E3FC;\n",
              "    }\n",
              "\n",
              "    [theme=dark] .colab-df-convert:hover {\n",
              "      background-color: #434B5C;\n",
              "      box-shadow: 0px 1px 3px 1px rgba(0, 0, 0, 0.15);\n",
              "      filter: drop-shadow(0px 1px 2px rgba(0, 0, 0, 0.3));\n",
              "      fill: #FFFFFF;\n",
              "    }\n",
              "  </style>\n",
              "\n",
              "      <script>\n",
              "        const buttonEl =\n",
              "          document.querySelector('#df-2a674e4c-1e7e-4577-aa16-88bda6f16fa5 button.colab-df-convert');\n",
              "        buttonEl.style.display =\n",
              "          google.colab.kernel.accessAllowed ? 'block' : 'none';\n",
              "\n",
              "        async function convertToInteractive(key) {\n",
              "          const element = document.querySelector('#df-2a674e4c-1e7e-4577-aa16-88bda6f16fa5');\n",
              "          const dataTable =\n",
              "            await google.colab.kernel.invokeFunction('convertToInteractive',\n",
              "                                                     [key], {});\n",
              "          if (!dataTable) return;\n",
              "\n",
              "          const docLinkHtml = 'Like what you see? Visit the ' +\n",
              "            '<a target=\"_blank\" href=https://colab.research.google.com/notebooks/data_table.ipynb>data table notebook</a>'\n",
              "            + ' to learn more about interactive tables.';\n",
              "          element.innerHTML = '';\n",
              "          dataTable['output_type'] = 'display_data';\n",
              "          await google.colab.output.renderOutput(dataTable, element);\n",
              "          const docLink = document.createElement('div');\n",
              "          docLink.innerHTML = docLinkHtml;\n",
              "          element.appendChild(docLink);\n",
              "        }\n",
              "      </script>\n",
              "    </div>\n",
              "  </div>\n",
              "  "
            ]
          },
          "metadata": {},
          "execution_count": 269
        }
      ]
    },
    {
      "cell_type": "markdown",
      "source": [
        "### Lowest `MSE` producing degree"
      ],
      "metadata": {
        "id": "YdSNW6lhKIQZ"
      }
    },
    {
      "cell_type": "code",
      "source": [
        "print(\"Lowest MSE producing degree: \\n\")\n",
        "lowest_mse = (loss_comp_poly.MSE.min())\n",
        "loss_comp_poly[(loss_comp_poly.MSE == lowest_mse)]"
      ],
      "metadata": {
        "colab": {
          "base_uri": "https://localhost:8080/",
          "height": 115
        },
        "id": "Se1ZYapkZfgV",
        "outputId": "fb9de92c-3e5d-4a7a-bfe9-5af179cf5a55"
      },
      "execution_count": 270,
      "outputs": [
        {
          "output_type": "stream",
          "name": "stdout",
          "text": [
            "Lowest MSE producing degree: \n",
            "\n"
          ]
        },
        {
          "output_type": "execute_result",
          "data": {
            "text/plain": [
              "   Degree      MAE         MSE      RMSE\n",
              "1     3.0  8.55056  192.182485  13.86299"
            ],
            "text/html": [
              "\n",
              "  <div id=\"df-99775fb0-bfd9-4f03-9ca6-6d5b0da0025c\">\n",
              "    <div class=\"colab-df-container\">\n",
              "      <div>\n",
              "<style scoped>\n",
              "    .dataframe tbody tr th:only-of-type {\n",
              "        vertical-align: middle;\n",
              "    }\n",
              "\n",
              "    .dataframe tbody tr th {\n",
              "        vertical-align: top;\n",
              "    }\n",
              "\n",
              "    .dataframe thead th {\n",
              "        text-align: right;\n",
              "    }\n",
              "</style>\n",
              "<table border=\"1\" class=\"dataframe\">\n",
              "  <thead>\n",
              "    <tr style=\"text-align: right;\">\n",
              "      <th></th>\n",
              "      <th>Degree</th>\n",
              "      <th>MAE</th>\n",
              "      <th>MSE</th>\n",
              "      <th>RMSE</th>\n",
              "    </tr>\n",
              "  </thead>\n",
              "  <tbody>\n",
              "    <tr>\n",
              "      <th>1</th>\n",
              "      <td>3.0</td>\n",
              "      <td>8.55056</td>\n",
              "      <td>192.182485</td>\n",
              "      <td>13.86299</td>\n",
              "    </tr>\n",
              "  </tbody>\n",
              "</table>\n",
              "</div>\n",
              "      <button class=\"colab-df-convert\" onclick=\"convertToInteractive('df-99775fb0-bfd9-4f03-9ca6-6d5b0da0025c')\"\n",
              "              title=\"Convert this dataframe to an interactive table.\"\n",
              "              style=\"display:none;\">\n",
              "        \n",
              "  <svg xmlns=\"http://www.w3.org/2000/svg\" height=\"24px\"viewBox=\"0 0 24 24\"\n",
              "       width=\"24px\">\n",
              "    <path d=\"M0 0h24v24H0V0z\" fill=\"none\"/>\n",
              "    <path d=\"M18.56 5.44l.94 2.06.94-2.06 2.06-.94-2.06-.94-.94-2.06-.94 2.06-2.06.94zm-11 1L8.5 8.5l.94-2.06 2.06-.94-2.06-.94L8.5 2.5l-.94 2.06-2.06.94zm10 10l.94 2.06.94-2.06 2.06-.94-2.06-.94-.94-2.06-.94 2.06-2.06.94z\"/><path d=\"M17.41 7.96l-1.37-1.37c-.4-.4-.92-.59-1.43-.59-.52 0-1.04.2-1.43.59L10.3 9.45l-7.72 7.72c-.78.78-.78 2.05 0 2.83L4 21.41c.39.39.9.59 1.41.59.51 0 1.02-.2 1.41-.59l7.78-7.78 2.81-2.81c.8-.78.8-2.07 0-2.86zM5.41 20L4 18.59l7.72-7.72 1.47 1.35L5.41 20z\"/>\n",
              "  </svg>\n",
              "      </button>\n",
              "      \n",
              "  <style>\n",
              "    .colab-df-container {\n",
              "      display:flex;\n",
              "      flex-wrap:wrap;\n",
              "      gap: 12px;\n",
              "    }\n",
              "\n",
              "    .colab-df-convert {\n",
              "      background-color: #E8F0FE;\n",
              "      border: none;\n",
              "      border-radius: 50%;\n",
              "      cursor: pointer;\n",
              "      display: none;\n",
              "      fill: #1967D2;\n",
              "      height: 32px;\n",
              "      padding: 0 0 0 0;\n",
              "      width: 32px;\n",
              "    }\n",
              "\n",
              "    .colab-df-convert:hover {\n",
              "      background-color: #E2EBFA;\n",
              "      box-shadow: 0px 1px 2px rgba(60, 64, 67, 0.3), 0px 1px 3px 1px rgba(60, 64, 67, 0.15);\n",
              "      fill: #174EA6;\n",
              "    }\n",
              "\n",
              "    [theme=dark] .colab-df-convert {\n",
              "      background-color: #3B4455;\n",
              "      fill: #D2E3FC;\n",
              "    }\n",
              "\n",
              "    [theme=dark] .colab-df-convert:hover {\n",
              "      background-color: #434B5C;\n",
              "      box-shadow: 0px 1px 3px 1px rgba(0, 0, 0, 0.15);\n",
              "      filter: drop-shadow(0px 1px 2px rgba(0, 0, 0, 0.3));\n",
              "      fill: #FFFFFF;\n",
              "    }\n",
              "  </style>\n",
              "\n",
              "      <script>\n",
              "        const buttonEl =\n",
              "          document.querySelector('#df-99775fb0-bfd9-4f03-9ca6-6d5b0da0025c button.colab-df-convert');\n",
              "        buttonEl.style.display =\n",
              "          google.colab.kernel.accessAllowed ? 'block' : 'none';\n",
              "\n",
              "        async function convertToInteractive(key) {\n",
              "          const element = document.querySelector('#df-99775fb0-bfd9-4f03-9ca6-6d5b0da0025c');\n",
              "          const dataTable =\n",
              "            await google.colab.kernel.invokeFunction('convertToInteractive',\n",
              "                                                     [key], {});\n",
              "          if (!dataTable) return;\n",
              "\n",
              "          const docLinkHtml = 'Like what you see? Visit the ' +\n",
              "            '<a target=\"_blank\" href=https://colab.research.google.com/notebooks/data_table.ipynb>data table notebook</a>'\n",
              "            + ' to learn more about interactive tables.';\n",
              "          element.innerHTML = '';\n",
              "          dataTable['output_type'] = 'display_data';\n",
              "          await google.colab.output.renderOutput(dataTable, element);\n",
              "          const docLink = document.createElement('div');\n",
              "          docLink.innerHTML = docLinkHtml;\n",
              "          element.appendChild(docLink);\n",
              "        }\n",
              "      </script>\n",
              "    </div>\n",
              "  </div>\n",
              "  "
            ]
          },
          "metadata": {},
          "execution_count": 270
        }
      ]
    },
    {
      "cell_type": "markdown",
      "source": [
        "### Lowest `RMSE` producing degree"
      ],
      "metadata": {
        "id": "oNM59t5NKMgc"
      }
    },
    {
      "cell_type": "code",
      "source": [
        "print(\"Lowest RMSE producing degree: \\n\")\n",
        "lowest_rmse = (loss_comp_poly.RMSE.min())\n",
        "loss_comp_poly[(loss_comp_poly.RMSE == lowest_rmse)]"
      ],
      "metadata": {
        "colab": {
          "base_uri": "https://localhost:8080/",
          "height": 115
        },
        "id": "dZuLlvFpZj11",
        "outputId": "54a33fe9-2297-46b3-bdd2-62daca076e04"
      },
      "execution_count": 271,
      "outputs": [
        {
          "output_type": "stream",
          "name": "stdout",
          "text": [
            "Lowest RMSE producing degree: \n",
            "\n"
          ]
        },
        {
          "output_type": "execute_result",
          "data": {
            "text/plain": [
              "   Degree      MAE         MSE      RMSE\n",
              "1     3.0  8.55056  192.182485  13.86299"
            ],
            "text/html": [
              "\n",
              "  <div id=\"df-599885b9-6005-41c7-a7be-34a379bcd36f\">\n",
              "    <div class=\"colab-df-container\">\n",
              "      <div>\n",
              "<style scoped>\n",
              "    .dataframe tbody tr th:only-of-type {\n",
              "        vertical-align: middle;\n",
              "    }\n",
              "\n",
              "    .dataframe tbody tr th {\n",
              "        vertical-align: top;\n",
              "    }\n",
              "\n",
              "    .dataframe thead th {\n",
              "        text-align: right;\n",
              "    }\n",
              "</style>\n",
              "<table border=\"1\" class=\"dataframe\">\n",
              "  <thead>\n",
              "    <tr style=\"text-align: right;\">\n",
              "      <th></th>\n",
              "      <th>Degree</th>\n",
              "      <th>MAE</th>\n",
              "      <th>MSE</th>\n",
              "      <th>RMSE</th>\n",
              "    </tr>\n",
              "  </thead>\n",
              "  <tbody>\n",
              "    <tr>\n",
              "      <th>1</th>\n",
              "      <td>3.0</td>\n",
              "      <td>8.55056</td>\n",
              "      <td>192.182485</td>\n",
              "      <td>13.86299</td>\n",
              "    </tr>\n",
              "  </tbody>\n",
              "</table>\n",
              "</div>\n",
              "      <button class=\"colab-df-convert\" onclick=\"convertToInteractive('df-599885b9-6005-41c7-a7be-34a379bcd36f')\"\n",
              "              title=\"Convert this dataframe to an interactive table.\"\n",
              "              style=\"display:none;\">\n",
              "        \n",
              "  <svg xmlns=\"http://www.w3.org/2000/svg\" height=\"24px\"viewBox=\"0 0 24 24\"\n",
              "       width=\"24px\">\n",
              "    <path d=\"M0 0h24v24H0V0z\" fill=\"none\"/>\n",
              "    <path d=\"M18.56 5.44l.94 2.06.94-2.06 2.06-.94-2.06-.94-.94-2.06-.94 2.06-2.06.94zm-11 1L8.5 8.5l.94-2.06 2.06-.94-2.06-.94L8.5 2.5l-.94 2.06-2.06.94zm10 10l.94 2.06.94-2.06 2.06-.94-2.06-.94-.94-2.06-.94 2.06-2.06.94z\"/><path d=\"M17.41 7.96l-1.37-1.37c-.4-.4-.92-.59-1.43-.59-.52 0-1.04.2-1.43.59L10.3 9.45l-7.72 7.72c-.78.78-.78 2.05 0 2.83L4 21.41c.39.39.9.59 1.41.59.51 0 1.02-.2 1.41-.59l7.78-7.78 2.81-2.81c.8-.78.8-2.07 0-2.86zM5.41 20L4 18.59l7.72-7.72 1.47 1.35L5.41 20z\"/>\n",
              "  </svg>\n",
              "      </button>\n",
              "      \n",
              "  <style>\n",
              "    .colab-df-container {\n",
              "      display:flex;\n",
              "      flex-wrap:wrap;\n",
              "      gap: 12px;\n",
              "    }\n",
              "\n",
              "    .colab-df-convert {\n",
              "      background-color: #E8F0FE;\n",
              "      border: none;\n",
              "      border-radius: 50%;\n",
              "      cursor: pointer;\n",
              "      display: none;\n",
              "      fill: #1967D2;\n",
              "      height: 32px;\n",
              "      padding: 0 0 0 0;\n",
              "      width: 32px;\n",
              "    }\n",
              "\n",
              "    .colab-df-convert:hover {\n",
              "      background-color: #E2EBFA;\n",
              "      box-shadow: 0px 1px 2px rgba(60, 64, 67, 0.3), 0px 1px 3px 1px rgba(60, 64, 67, 0.15);\n",
              "      fill: #174EA6;\n",
              "    }\n",
              "\n",
              "    [theme=dark] .colab-df-convert {\n",
              "      background-color: #3B4455;\n",
              "      fill: #D2E3FC;\n",
              "    }\n",
              "\n",
              "    [theme=dark] .colab-df-convert:hover {\n",
              "      background-color: #434B5C;\n",
              "      box-shadow: 0px 1px 3px 1px rgba(0, 0, 0, 0.15);\n",
              "      filter: drop-shadow(0px 1px 2px rgba(0, 0, 0, 0.3));\n",
              "      fill: #FFFFFF;\n",
              "    }\n",
              "  </style>\n",
              "\n",
              "      <script>\n",
              "        const buttonEl =\n",
              "          document.querySelector('#df-599885b9-6005-41c7-a7be-34a379bcd36f button.colab-df-convert');\n",
              "        buttonEl.style.display =\n",
              "          google.colab.kernel.accessAllowed ? 'block' : 'none';\n",
              "\n",
              "        async function convertToInteractive(key) {\n",
              "          const element = document.querySelector('#df-599885b9-6005-41c7-a7be-34a379bcd36f');\n",
              "          const dataTable =\n",
              "            await google.colab.kernel.invokeFunction('convertToInteractive',\n",
              "                                                     [key], {});\n",
              "          if (!dataTable) return;\n",
              "\n",
              "          const docLinkHtml = 'Like what you see? Visit the ' +\n",
              "            '<a target=\"_blank\" href=https://colab.research.google.com/notebooks/data_table.ipynb>data table notebook</a>'\n",
              "            + ' to learn more about interactive tables.';\n",
              "          element.innerHTML = '';\n",
              "          dataTable['output_type'] = 'display_data';\n",
              "          await google.colab.output.renderOutput(dataTable, element);\n",
              "          const docLink = document.createElement('div');\n",
              "          docLink.innerHTML = docLinkHtml;\n",
              "          element.appendChild(docLink);\n",
              "        }\n",
              "      </script>\n",
              "    </div>\n",
              "  </div>\n",
              "  "
            ]
          },
          "metadata": {},
          "execution_count": 271
        }
      ]
    },
    {
      "cell_type": "markdown",
      "source": [
        "### We can see that `degree 3` slightly is better for in all `MAE`, `MSE`, and `RMSE`\n"
      ],
      "metadata": {
        "id": "wArYfQvEZxuf"
      }
    },
    {
      "cell_type": "code",
      "source": [
        "# Lets save the best loss and save it in this below DataFrame\n",
        "\n",
        "#Lets drop the degree column and compare it with the linear loss DataFrrame that we had\n",
        "loss_comp_poly = loss_comp_poly[(loss_comp_poly.Degree) == 3].drop('Degree', axis = 1)\n",
        "\n",
        "# Dropping the index to make comparisons\n",
        "loss_comp_poly = loss_comp_poly.reset_index(drop = True)\n",
        "\n",
        "# Comparing best polynomial degree with linear\n",
        "loss_comp_poly < loss_linear"
      ],
      "metadata": {
        "colab": {
          "base_uri": "https://localhost:8080/",
          "height": 81
        },
        "id": "jBJd7GFxZuh7",
        "outputId": "bae07c0c-8a3b-4f64-a801-f9ad6c9ad365"
      },
      "execution_count": 272,
      "outputs": [
        {
          "output_type": "execute_result",
          "data": {
            "text/plain": [
              "    MAE   MSE  RMSE\n",
              "0  True  True  True"
            ],
            "text/html": [
              "\n",
              "  <div id=\"df-cbbb3591-61e9-42fa-b9cf-74242aebb480\">\n",
              "    <div class=\"colab-df-container\">\n",
              "      <div>\n",
              "<style scoped>\n",
              "    .dataframe tbody tr th:only-of-type {\n",
              "        vertical-align: middle;\n",
              "    }\n",
              "\n",
              "    .dataframe tbody tr th {\n",
              "        vertical-align: top;\n",
              "    }\n",
              "\n",
              "    .dataframe thead th {\n",
              "        text-align: right;\n",
              "    }\n",
              "</style>\n",
              "<table border=\"1\" class=\"dataframe\">\n",
              "  <thead>\n",
              "    <tr style=\"text-align: right;\">\n",
              "      <th></th>\n",
              "      <th>MAE</th>\n",
              "      <th>MSE</th>\n",
              "      <th>RMSE</th>\n",
              "    </tr>\n",
              "  </thead>\n",
              "  <tbody>\n",
              "    <tr>\n",
              "      <th>0</th>\n",
              "      <td>True</td>\n",
              "      <td>True</td>\n",
              "      <td>True</td>\n",
              "    </tr>\n",
              "  </tbody>\n",
              "</table>\n",
              "</div>\n",
              "      <button class=\"colab-df-convert\" onclick=\"convertToInteractive('df-cbbb3591-61e9-42fa-b9cf-74242aebb480')\"\n",
              "              title=\"Convert this dataframe to an interactive table.\"\n",
              "              style=\"display:none;\">\n",
              "        \n",
              "  <svg xmlns=\"http://www.w3.org/2000/svg\" height=\"24px\"viewBox=\"0 0 24 24\"\n",
              "       width=\"24px\">\n",
              "    <path d=\"M0 0h24v24H0V0z\" fill=\"none\"/>\n",
              "    <path d=\"M18.56 5.44l.94 2.06.94-2.06 2.06-.94-2.06-.94-.94-2.06-.94 2.06-2.06.94zm-11 1L8.5 8.5l.94-2.06 2.06-.94-2.06-.94L8.5 2.5l-.94 2.06-2.06.94zm10 10l.94 2.06.94-2.06 2.06-.94-2.06-.94-.94-2.06-.94 2.06-2.06.94z\"/><path d=\"M17.41 7.96l-1.37-1.37c-.4-.4-.92-.59-1.43-.59-.52 0-1.04.2-1.43.59L10.3 9.45l-7.72 7.72c-.78.78-.78 2.05 0 2.83L4 21.41c.39.39.9.59 1.41.59.51 0 1.02-.2 1.41-.59l7.78-7.78 2.81-2.81c.8-.78.8-2.07 0-2.86zM5.41 20L4 18.59l7.72-7.72 1.47 1.35L5.41 20z\"/>\n",
              "  </svg>\n",
              "      </button>\n",
              "      \n",
              "  <style>\n",
              "    .colab-df-container {\n",
              "      display:flex;\n",
              "      flex-wrap:wrap;\n",
              "      gap: 12px;\n",
              "    }\n",
              "\n",
              "    .colab-df-convert {\n",
              "      background-color: #E8F0FE;\n",
              "      border: none;\n",
              "      border-radius: 50%;\n",
              "      cursor: pointer;\n",
              "      display: none;\n",
              "      fill: #1967D2;\n",
              "      height: 32px;\n",
              "      padding: 0 0 0 0;\n",
              "      width: 32px;\n",
              "    }\n",
              "\n",
              "    .colab-df-convert:hover {\n",
              "      background-color: #E2EBFA;\n",
              "      box-shadow: 0px 1px 2px rgba(60, 64, 67, 0.3), 0px 1px 3px 1px rgba(60, 64, 67, 0.15);\n",
              "      fill: #174EA6;\n",
              "    }\n",
              "\n",
              "    [theme=dark] .colab-df-convert {\n",
              "      background-color: #3B4455;\n",
              "      fill: #D2E3FC;\n",
              "    }\n",
              "\n",
              "    [theme=dark] .colab-df-convert:hover {\n",
              "      background-color: #434B5C;\n",
              "      box-shadow: 0px 1px 3px 1px rgba(0, 0, 0, 0.15);\n",
              "      filter: drop-shadow(0px 1px 2px rgba(0, 0, 0, 0.3));\n",
              "      fill: #FFFFFF;\n",
              "    }\n",
              "  </style>\n",
              "\n",
              "      <script>\n",
              "        const buttonEl =\n",
              "          document.querySelector('#df-cbbb3591-61e9-42fa-b9cf-74242aebb480 button.colab-df-convert');\n",
              "        buttonEl.style.display =\n",
              "          google.colab.kernel.accessAllowed ? 'block' : 'none';\n",
              "\n",
              "        async function convertToInteractive(key) {\n",
              "          const element = document.querySelector('#df-cbbb3591-61e9-42fa-b9cf-74242aebb480');\n",
              "          const dataTable =\n",
              "            await google.colab.kernel.invokeFunction('convertToInteractive',\n",
              "                                                     [key], {});\n",
              "          if (!dataTable) return;\n",
              "\n",
              "          const docLinkHtml = 'Like what you see? Visit the ' +\n",
              "            '<a target=\"_blank\" href=https://colab.research.google.com/notebooks/data_table.ipynb>data table notebook</a>'\n",
              "            + ' to learn more about interactive tables.';\n",
              "          element.innerHTML = '';\n",
              "          dataTable['output_type'] = 'display_data';\n",
              "          await google.colab.output.renderOutput(dataTable, element);\n",
              "          const docLink = document.createElement('div');\n",
              "          docLink.innerHTML = docLinkHtml;\n",
              "          element.appendChild(docLink);\n",
              "        }\n",
              "      </script>\n",
              "    </div>\n",
              "  </div>\n",
              "  "
            ]
          },
          "metadata": {},
          "execution_count": 272
        }
      ]
    },
    {
      "cell_type": "markdown",
      "source": [
        "## It can be seen that degree 3 polynomial is the best result yielding model in terms of loss, so lets choose it"
      ],
      "metadata": {
        "id": "-7IZFtubbf39"
      }
    },
    {
      "cell_type": "code",
      "source": [
        "# Polynomial regression with degree 3\n",
        "poly = PolynomialFeatures(3)\n",
        "X_train_poly = poly.fit_transform(X_train)\n",
        " \n",
        "# function to perform linear regression\n",
        "# Linear regression model\n",
        "poly_model = LinearRegression()# Fitting it to the traing set\n",
        "poly_model.fit(X_train_poly, y_train)"
      ],
      "metadata": {
        "colab": {
          "base_uri": "https://localhost:8080/"
        },
        "id": "kmwm2NUbbybh",
        "outputId": "71d15af5-a1e3-45c9-8ae1-507bba29a5d8"
      },
      "execution_count": 273,
      "outputs": [
        {
          "output_type": "execute_result",
          "data": {
            "text/plain": [
              "LinearRegression()"
            ]
          },
          "metadata": {},
          "execution_count": 273
        }
      ]
    },
    {
      "cell_type": "markdown",
      "source": [
        "## Finding the missing values using `Polynomial Regression with degree 3`"
      ],
      "metadata": {
        "id": "0dyuZk6nKapI"
      }
    },
    {
      "cell_type": "code",
      "source": [
        "# Now lets predict our missing values\n",
        "y_pred = poly_model.predict(poly.fit_transform(X_pred))\n"
      ],
      "metadata": {
        "id": "-nLVFSQAcEzx"
      },
      "execution_count": 274,
      "outputs": []
    },
    {
      "cell_type": "markdown",
      "source": [
        "### Adding the `predicted values` with `Prediction set` of independant variables"
      ],
      "metadata": {
        "id": "FcaxVQpGKksh"
      }
    },
    {
      "cell_type": "code",
      "source": [
        "# Adding the predicted var4 with X_pred\n",
        "X_pred['var4'] = y_pred\n",
        "X_pred.head()"
      ],
      "metadata": {
        "colab": {
          "base_uri": "https://localhost:8080/",
          "height": 206
        },
        "id": "LVCYkIEYe1o2",
        "outputId": "e293b348-3446-45a2-f5bc-67b8f3c32473"
      },
      "execution_count": 275,
      "outputs": [
        {
          "output_type": "execute_result",
          "data": {
            "text/plain": [
              "     target    var1     var2   var3    var5  var6  year  month  day  hour  \\\n",
              "325       1  304.98  492.700   24.0  444.85   1.0  2019      6   18    17   \n",
              "326       1  302.36  515.935  137.0  177.75   1.0  2019      6   18    17   \n",
              "327       1  261.68  386.454   58.0  412.45   1.0  2019      6   18    17   \n",
              "328       1  317.60  155.983   14.0  323.15   0.0  2019      6   18    17   \n",
              "329       0  465.08  606.384  155.0  421.45   1.0  2019      6   18    17   \n",
              "\n",
              "     minute  seconds        var4  \n",
              "325      23       26  346.089834  \n",
              "326      23       26  118.735342  \n",
              "327      23       26  193.964102  \n",
              "328      23       26   98.651357  \n",
              "329      23       26  115.415518  "
            ],
            "text/html": [
              "\n",
              "  <div id=\"df-bcb21a29-4e92-4dc2-a479-7de49259e4bc\">\n",
              "    <div class=\"colab-df-container\">\n",
              "      <div>\n",
              "<style scoped>\n",
              "    .dataframe tbody tr th:only-of-type {\n",
              "        vertical-align: middle;\n",
              "    }\n",
              "\n",
              "    .dataframe tbody tr th {\n",
              "        vertical-align: top;\n",
              "    }\n",
              "\n",
              "    .dataframe thead th {\n",
              "        text-align: right;\n",
              "    }\n",
              "</style>\n",
              "<table border=\"1\" class=\"dataframe\">\n",
              "  <thead>\n",
              "    <tr style=\"text-align: right;\">\n",
              "      <th></th>\n",
              "      <th>target</th>\n",
              "      <th>var1</th>\n",
              "      <th>var2</th>\n",
              "      <th>var3</th>\n",
              "      <th>var5</th>\n",
              "      <th>var6</th>\n",
              "      <th>year</th>\n",
              "      <th>month</th>\n",
              "      <th>day</th>\n",
              "      <th>hour</th>\n",
              "      <th>minute</th>\n",
              "      <th>seconds</th>\n",
              "      <th>var4</th>\n",
              "    </tr>\n",
              "  </thead>\n",
              "  <tbody>\n",
              "    <tr>\n",
              "      <th>325</th>\n",
              "      <td>1</td>\n",
              "      <td>304.98</td>\n",
              "      <td>492.700</td>\n",
              "      <td>24.0</td>\n",
              "      <td>444.85</td>\n",
              "      <td>1.0</td>\n",
              "      <td>2019</td>\n",
              "      <td>6</td>\n",
              "      <td>18</td>\n",
              "      <td>17</td>\n",
              "      <td>23</td>\n",
              "      <td>26</td>\n",
              "      <td>346.089834</td>\n",
              "    </tr>\n",
              "    <tr>\n",
              "      <th>326</th>\n",
              "      <td>1</td>\n",
              "      <td>302.36</td>\n",
              "      <td>515.935</td>\n",
              "      <td>137.0</td>\n",
              "      <td>177.75</td>\n",
              "      <td>1.0</td>\n",
              "      <td>2019</td>\n",
              "      <td>6</td>\n",
              "      <td>18</td>\n",
              "      <td>17</td>\n",
              "      <td>23</td>\n",
              "      <td>26</td>\n",
              "      <td>118.735342</td>\n",
              "    </tr>\n",
              "    <tr>\n",
              "      <th>327</th>\n",
              "      <td>1</td>\n",
              "      <td>261.68</td>\n",
              "      <td>386.454</td>\n",
              "      <td>58.0</td>\n",
              "      <td>412.45</td>\n",
              "      <td>1.0</td>\n",
              "      <td>2019</td>\n",
              "      <td>6</td>\n",
              "      <td>18</td>\n",
              "      <td>17</td>\n",
              "      <td>23</td>\n",
              "      <td>26</td>\n",
              "      <td>193.964102</td>\n",
              "    </tr>\n",
              "    <tr>\n",
              "      <th>328</th>\n",
              "      <td>1</td>\n",
              "      <td>317.60</td>\n",
              "      <td>155.983</td>\n",
              "      <td>14.0</td>\n",
              "      <td>323.15</td>\n",
              "      <td>0.0</td>\n",
              "      <td>2019</td>\n",
              "      <td>6</td>\n",
              "      <td>18</td>\n",
              "      <td>17</td>\n",
              "      <td>23</td>\n",
              "      <td>26</td>\n",
              "      <td>98.651357</td>\n",
              "    </tr>\n",
              "    <tr>\n",
              "      <th>329</th>\n",
              "      <td>0</td>\n",
              "      <td>465.08</td>\n",
              "      <td>606.384</td>\n",
              "      <td>155.0</td>\n",
              "      <td>421.45</td>\n",
              "      <td>1.0</td>\n",
              "      <td>2019</td>\n",
              "      <td>6</td>\n",
              "      <td>18</td>\n",
              "      <td>17</td>\n",
              "      <td>23</td>\n",
              "      <td>26</td>\n",
              "      <td>115.415518</td>\n",
              "    </tr>\n",
              "  </tbody>\n",
              "</table>\n",
              "</div>\n",
              "      <button class=\"colab-df-convert\" onclick=\"convertToInteractive('df-bcb21a29-4e92-4dc2-a479-7de49259e4bc')\"\n",
              "              title=\"Convert this dataframe to an interactive table.\"\n",
              "              style=\"display:none;\">\n",
              "        \n",
              "  <svg xmlns=\"http://www.w3.org/2000/svg\" height=\"24px\"viewBox=\"0 0 24 24\"\n",
              "       width=\"24px\">\n",
              "    <path d=\"M0 0h24v24H0V0z\" fill=\"none\"/>\n",
              "    <path d=\"M18.56 5.44l.94 2.06.94-2.06 2.06-.94-2.06-.94-.94-2.06-.94 2.06-2.06.94zm-11 1L8.5 8.5l.94-2.06 2.06-.94-2.06-.94L8.5 2.5l-.94 2.06-2.06.94zm10 10l.94 2.06.94-2.06 2.06-.94-2.06-.94-.94-2.06-.94 2.06-2.06.94z\"/><path d=\"M17.41 7.96l-1.37-1.37c-.4-.4-.92-.59-1.43-.59-.52 0-1.04.2-1.43.59L10.3 9.45l-7.72 7.72c-.78.78-.78 2.05 0 2.83L4 21.41c.39.39.9.59 1.41.59.51 0 1.02-.2 1.41-.59l7.78-7.78 2.81-2.81c.8-.78.8-2.07 0-2.86zM5.41 20L4 18.59l7.72-7.72 1.47 1.35L5.41 20z\"/>\n",
              "  </svg>\n",
              "      </button>\n",
              "      \n",
              "  <style>\n",
              "    .colab-df-container {\n",
              "      display:flex;\n",
              "      flex-wrap:wrap;\n",
              "      gap: 12px;\n",
              "    }\n",
              "\n",
              "    .colab-df-convert {\n",
              "      background-color: #E8F0FE;\n",
              "      border: none;\n",
              "      border-radius: 50%;\n",
              "      cursor: pointer;\n",
              "      display: none;\n",
              "      fill: #1967D2;\n",
              "      height: 32px;\n",
              "      padding: 0 0 0 0;\n",
              "      width: 32px;\n",
              "    }\n",
              "\n",
              "    .colab-df-convert:hover {\n",
              "      background-color: #E2EBFA;\n",
              "      box-shadow: 0px 1px 2px rgba(60, 64, 67, 0.3), 0px 1px 3px 1px rgba(60, 64, 67, 0.15);\n",
              "      fill: #174EA6;\n",
              "    }\n",
              "\n",
              "    [theme=dark] .colab-df-convert {\n",
              "      background-color: #3B4455;\n",
              "      fill: #D2E3FC;\n",
              "    }\n",
              "\n",
              "    [theme=dark] .colab-df-convert:hover {\n",
              "      background-color: #434B5C;\n",
              "      box-shadow: 0px 1px 3px 1px rgba(0, 0, 0, 0.15);\n",
              "      filter: drop-shadow(0px 1px 2px rgba(0, 0, 0, 0.3));\n",
              "      fill: #FFFFFF;\n",
              "    }\n",
              "  </style>\n",
              "\n",
              "      <script>\n",
              "        const buttonEl =\n",
              "          document.querySelector('#df-bcb21a29-4e92-4dc2-a479-7de49259e4bc button.colab-df-convert');\n",
              "        buttonEl.style.display =\n",
              "          google.colab.kernel.accessAllowed ? 'block' : 'none';\n",
              "\n",
              "        async function convertToInteractive(key) {\n",
              "          const element = document.querySelector('#df-bcb21a29-4e92-4dc2-a479-7de49259e4bc');\n",
              "          const dataTable =\n",
              "            await google.colab.kernel.invokeFunction('convertToInteractive',\n",
              "                                                     [key], {});\n",
              "          if (!dataTable) return;\n",
              "\n",
              "          const docLinkHtml = 'Like what you see? Visit the ' +\n",
              "            '<a target=\"_blank\" href=https://colab.research.google.com/notebooks/data_table.ipynb>data table notebook</a>'\n",
              "            + ' to learn more about interactive tables.';\n",
              "          element.innerHTML = '';\n",
              "          dataTable['output_type'] = 'display_data';\n",
              "          await google.colab.output.renderOutput(dataTable, element);\n",
              "          const docLink = document.createElement('div');\n",
              "          docLink.innerHTML = docLinkHtml;\n",
              "          element.appendChild(docLink);\n",
              "        }\n",
              "      </script>\n",
              "    </div>\n",
              "  </div>\n",
              "  "
            ]
          },
          "metadata": {},
          "execution_count": 275
        }
      ]
    },
    {
      "cell_type": "markdown",
      "source": [
        "### `Rearranging` the `column names` so that we can `append` the `prediction set` with `original set` since by adding `y_pred` `var4` is added at the `end of the DataFrame`"
      ],
      "metadata": {
        "id": "y2cXpOkELCtX"
      }
    },
    {
      "cell_type": "code",
      "source": [
        "# Lets rearrange the columns so that we could append it later to our original df\n",
        "xlist = list(X_pred.columns)\n",
        "xlist.insert(4, xlist[-1])\n",
        "xlist.pop(-1)\n",
        "\n",
        "# Checking the list of columns\n",
        "xlist"
      ],
      "metadata": {
        "colab": {
          "base_uri": "https://localhost:8080/"
        },
        "id": "LmqbfmuMjLcv",
        "outputId": "18431c34-3f72-4145-d58e-213a30f983c1"
      },
      "execution_count": 276,
      "outputs": [
        {
          "output_type": "execute_result",
          "data": {
            "text/plain": [
              "['target',\n",
              " 'var1',\n",
              " 'var2',\n",
              " 'var3',\n",
              " 'var4',\n",
              " 'var5',\n",
              " 'var6',\n",
              " 'year',\n",
              " 'month',\n",
              " 'day',\n",
              " 'hour',\n",
              " 'minute',\n",
              " 'seconds']"
            ]
          },
          "metadata": {},
          "execution_count": 276
        }
      ]
    },
    {
      "cell_type": "markdown",
      "source": [
        "### Checking `Rearranged` column, that is `ready` for `appending`. \n",
        "### **Note:** It is important that the column names are in same arrangement as the original, that's we could not leave `var4` at the `end`. Else, appending would be difficult"
      ],
      "metadata": {
        "id": "SZjENGCzL2oC"
      }
    },
    {
      "cell_type": "code",
      "source": [
        "# Lets add our arranged rows to X_pred\n",
        "X_pred = X_pred[xlist]\n",
        "X_pred.head()"
      ],
      "metadata": {
        "colab": {
          "base_uri": "https://localhost:8080/",
          "height": 206
        },
        "id": "pPo5QSu7lwbG",
        "outputId": "f79a0aa0-4f19-48fd-a8fb-f1b129fe5fd5"
      },
      "execution_count": 277,
      "outputs": [
        {
          "output_type": "execute_result",
          "data": {
            "text/plain": [
              "     target    var1     var2   var3        var4    var5  var6  year  month  \\\n",
              "325       1  304.98  492.700   24.0  346.089834  444.85   1.0  2019      6   \n",
              "326       1  302.36  515.935  137.0  118.735342  177.75   1.0  2019      6   \n",
              "327       1  261.68  386.454   58.0  193.964102  412.45   1.0  2019      6   \n",
              "328       1  317.60  155.983   14.0   98.651357  323.15   0.0  2019      6   \n",
              "329       0  465.08  606.384  155.0  115.415518  421.45   1.0  2019      6   \n",
              "\n",
              "     day  hour  minute  seconds  \n",
              "325   18    17      23       26  \n",
              "326   18    17      23       26  \n",
              "327   18    17      23       26  \n",
              "328   18    17      23       26  \n",
              "329   18    17      23       26  "
            ],
            "text/html": [
              "\n",
              "  <div id=\"df-0f33be80-eec0-4394-bd7e-e3857991475f\">\n",
              "    <div class=\"colab-df-container\">\n",
              "      <div>\n",
              "<style scoped>\n",
              "    .dataframe tbody tr th:only-of-type {\n",
              "        vertical-align: middle;\n",
              "    }\n",
              "\n",
              "    .dataframe tbody tr th {\n",
              "        vertical-align: top;\n",
              "    }\n",
              "\n",
              "    .dataframe thead th {\n",
              "        text-align: right;\n",
              "    }\n",
              "</style>\n",
              "<table border=\"1\" class=\"dataframe\">\n",
              "  <thead>\n",
              "    <tr style=\"text-align: right;\">\n",
              "      <th></th>\n",
              "      <th>target</th>\n",
              "      <th>var1</th>\n",
              "      <th>var2</th>\n",
              "      <th>var3</th>\n",
              "      <th>var4</th>\n",
              "      <th>var5</th>\n",
              "      <th>var6</th>\n",
              "      <th>year</th>\n",
              "      <th>month</th>\n",
              "      <th>day</th>\n",
              "      <th>hour</th>\n",
              "      <th>minute</th>\n",
              "      <th>seconds</th>\n",
              "    </tr>\n",
              "  </thead>\n",
              "  <tbody>\n",
              "    <tr>\n",
              "      <th>325</th>\n",
              "      <td>1</td>\n",
              "      <td>304.98</td>\n",
              "      <td>492.700</td>\n",
              "      <td>24.0</td>\n",
              "      <td>346.089834</td>\n",
              "      <td>444.85</td>\n",
              "      <td>1.0</td>\n",
              "      <td>2019</td>\n",
              "      <td>6</td>\n",
              "      <td>18</td>\n",
              "      <td>17</td>\n",
              "      <td>23</td>\n",
              "      <td>26</td>\n",
              "    </tr>\n",
              "    <tr>\n",
              "      <th>326</th>\n",
              "      <td>1</td>\n",
              "      <td>302.36</td>\n",
              "      <td>515.935</td>\n",
              "      <td>137.0</td>\n",
              "      <td>118.735342</td>\n",
              "      <td>177.75</td>\n",
              "      <td>1.0</td>\n",
              "      <td>2019</td>\n",
              "      <td>6</td>\n",
              "      <td>18</td>\n",
              "      <td>17</td>\n",
              "      <td>23</td>\n",
              "      <td>26</td>\n",
              "    </tr>\n",
              "    <tr>\n",
              "      <th>327</th>\n",
              "      <td>1</td>\n",
              "      <td>261.68</td>\n",
              "      <td>386.454</td>\n",
              "      <td>58.0</td>\n",
              "      <td>193.964102</td>\n",
              "      <td>412.45</td>\n",
              "      <td>1.0</td>\n",
              "      <td>2019</td>\n",
              "      <td>6</td>\n",
              "      <td>18</td>\n",
              "      <td>17</td>\n",
              "      <td>23</td>\n",
              "      <td>26</td>\n",
              "    </tr>\n",
              "    <tr>\n",
              "      <th>328</th>\n",
              "      <td>1</td>\n",
              "      <td>317.60</td>\n",
              "      <td>155.983</td>\n",
              "      <td>14.0</td>\n",
              "      <td>98.651357</td>\n",
              "      <td>323.15</td>\n",
              "      <td>0.0</td>\n",
              "      <td>2019</td>\n",
              "      <td>6</td>\n",
              "      <td>18</td>\n",
              "      <td>17</td>\n",
              "      <td>23</td>\n",
              "      <td>26</td>\n",
              "    </tr>\n",
              "    <tr>\n",
              "      <th>329</th>\n",
              "      <td>0</td>\n",
              "      <td>465.08</td>\n",
              "      <td>606.384</td>\n",
              "      <td>155.0</td>\n",
              "      <td>115.415518</td>\n",
              "      <td>421.45</td>\n",
              "      <td>1.0</td>\n",
              "      <td>2019</td>\n",
              "      <td>6</td>\n",
              "      <td>18</td>\n",
              "      <td>17</td>\n",
              "      <td>23</td>\n",
              "      <td>26</td>\n",
              "    </tr>\n",
              "  </tbody>\n",
              "</table>\n",
              "</div>\n",
              "      <button class=\"colab-df-convert\" onclick=\"convertToInteractive('df-0f33be80-eec0-4394-bd7e-e3857991475f')\"\n",
              "              title=\"Convert this dataframe to an interactive table.\"\n",
              "              style=\"display:none;\">\n",
              "        \n",
              "  <svg xmlns=\"http://www.w3.org/2000/svg\" height=\"24px\"viewBox=\"0 0 24 24\"\n",
              "       width=\"24px\">\n",
              "    <path d=\"M0 0h24v24H0V0z\" fill=\"none\"/>\n",
              "    <path d=\"M18.56 5.44l.94 2.06.94-2.06 2.06-.94-2.06-.94-.94-2.06-.94 2.06-2.06.94zm-11 1L8.5 8.5l.94-2.06 2.06-.94-2.06-.94L8.5 2.5l-.94 2.06-2.06.94zm10 10l.94 2.06.94-2.06 2.06-.94-2.06-.94-.94-2.06-.94 2.06-2.06.94z\"/><path d=\"M17.41 7.96l-1.37-1.37c-.4-.4-.92-.59-1.43-.59-.52 0-1.04.2-1.43.59L10.3 9.45l-7.72 7.72c-.78.78-.78 2.05 0 2.83L4 21.41c.39.39.9.59 1.41.59.51 0 1.02-.2 1.41-.59l7.78-7.78 2.81-2.81c.8-.78.8-2.07 0-2.86zM5.41 20L4 18.59l7.72-7.72 1.47 1.35L5.41 20z\"/>\n",
              "  </svg>\n",
              "      </button>\n",
              "      \n",
              "  <style>\n",
              "    .colab-df-container {\n",
              "      display:flex;\n",
              "      flex-wrap:wrap;\n",
              "      gap: 12px;\n",
              "    }\n",
              "\n",
              "    .colab-df-convert {\n",
              "      background-color: #E8F0FE;\n",
              "      border: none;\n",
              "      border-radius: 50%;\n",
              "      cursor: pointer;\n",
              "      display: none;\n",
              "      fill: #1967D2;\n",
              "      height: 32px;\n",
              "      padding: 0 0 0 0;\n",
              "      width: 32px;\n",
              "    }\n",
              "\n",
              "    .colab-df-convert:hover {\n",
              "      background-color: #E2EBFA;\n",
              "      box-shadow: 0px 1px 2px rgba(60, 64, 67, 0.3), 0px 1px 3px 1px rgba(60, 64, 67, 0.15);\n",
              "      fill: #174EA6;\n",
              "    }\n",
              "\n",
              "    [theme=dark] .colab-df-convert {\n",
              "      background-color: #3B4455;\n",
              "      fill: #D2E3FC;\n",
              "    }\n",
              "\n",
              "    [theme=dark] .colab-df-convert:hover {\n",
              "      background-color: #434B5C;\n",
              "      box-shadow: 0px 1px 3px 1px rgba(0, 0, 0, 0.15);\n",
              "      filter: drop-shadow(0px 1px 2px rgba(0, 0, 0, 0.3));\n",
              "      fill: #FFFFFF;\n",
              "    }\n",
              "  </style>\n",
              "\n",
              "      <script>\n",
              "        const buttonEl =\n",
              "          document.querySelector('#df-0f33be80-eec0-4394-bd7e-e3857991475f button.colab-df-convert');\n",
              "        buttonEl.style.display =\n",
              "          google.colab.kernel.accessAllowed ? 'block' : 'none';\n",
              "\n",
              "        async function convertToInteractive(key) {\n",
              "          const element = document.querySelector('#df-0f33be80-eec0-4394-bd7e-e3857991475f');\n",
              "          const dataTable =\n",
              "            await google.colab.kernel.invokeFunction('convertToInteractive',\n",
              "                                                     [key], {});\n",
              "          if (!dataTable) return;\n",
              "\n",
              "          const docLinkHtml = 'Like what you see? Visit the ' +\n",
              "            '<a target=\"_blank\" href=https://colab.research.google.com/notebooks/data_table.ipynb>data table notebook</a>'\n",
              "            + ' to learn more about interactive tables.';\n",
              "          element.innerHTML = '';\n",
              "          dataTable['output_type'] = 'display_data';\n",
              "          await google.colab.output.renderOutput(dataTable, element);\n",
              "          const docLink = document.createElement('div');\n",
              "          docLink.innerHTML = docLinkHtml;\n",
              "          element.appendChild(docLink);\n",
              "        }\n",
              "      </script>\n",
              "    </div>\n",
              "  </div>\n",
              "  "
            ]
          },
          "metadata": {},
          "execution_count": 277
        }
      ]
    },
    {
      "cell_type": "markdown",
      "source": [
        "### Appending the `Predicted set` with `Original set`"
      ],
      "metadata": {
        "id": "6Av3EM6MMe13"
      }
    },
    {
      "cell_type": "code",
      "source": [
        "# Now we will append it to our original df, and check it's shape\n",
        "df = df.append(X_pred)\n",
        "df.shape"
      ],
      "metadata": {
        "colab": {
          "base_uri": "https://localhost:8080/"
        },
        "id": "T4KXn1URmPOC",
        "outputId": "6426a542-3b5a-43b5-fbaa-65ad5aae4d13"
      },
      "execution_count": 278,
      "outputs": [
        {
          "output_type": "execute_result",
          "data": {
            "text/plain": [
              "(925, 13)"
            ]
          },
          "metadata": {},
          "execution_count": 278
        }
      ]
    },
    {
      "cell_type": "markdown",
      "source": [
        "### `Confirming` that there exists `No more NaN values`"
      ],
      "metadata": {
        "id": "GtSlwagjMgxv"
      }
    },
    {
      "cell_type": "code",
      "source": [
        "# Lets check and see if null values are still there\n",
        "df['var4'].isna()"
      ],
      "metadata": {
        "colab": {
          "base_uri": "https://localhost:8080/"
        },
        "id": "lwNi2n6km0BM",
        "outputId": "149a4fd9-53d6-418d-fbe8-82751de6726f"
      },
      "execution_count": 279,
      "outputs": [
        {
          "output_type": "execute_result",
          "data": {
            "text/plain": [
              "0      False\n",
              "1      False\n",
              "2      False\n",
              "3      False\n",
              "4      False\n",
              "       ...  \n",
              "920    False\n",
              "921    False\n",
              "922    False\n",
              "923    False\n",
              "924    False\n",
              "Name: var4, Length: 925, dtype: bool"
            ]
          },
          "metadata": {},
          "execution_count": 279
        }
      ]
    },
    {
      "cell_type": "markdown",
      "source": [
        "##PCA \n",
        "###using the steps provided in the lecture slides\n",
        "\n",
        "![image.png](data:image/png;base64,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)"
      ],
      "metadata": {
        "id": "XddxcnwShZhV"
      }
    },
    {
      "cell_type": "markdown",
      "source": [
        "### There are `2 functions below`\n",
        "### 1. `sort_desc_eigens (e_values, e_vectors, n_components):` A function that takes `eigen values`, `eigen vectors`, and `number of components` to satisfy `4th statement \"Eigen vectors corresponding to d highest Eigen values\"`\n",
        "\n",
        "### 2. `PCA(X, n_components):` Accepts a `DataFrame` or `Array like`, and a number i.e. `Number of components` to which one wants to reduce. It is the complete `functional implementation`, and returns the reduced X, that is the reduced `DataFrame` or `Array like` that is being passed to it."
      ],
      "metadata": {
        "id": "FN8125EeMqJI"
      }
    },
    {
      "cell_type": "code",
      "source": [
        "# Lets create a PCA function following the steps above\n",
        "from numpy.linalg import eig as eig\n",
        "\n",
        "def sort_desc_eigens(e_values, e_vectors, n_components):\n",
        "  # Sorted indexes for eigen values\n",
        "   indexes = np.argsort(e_values)[::-1]\n",
        "\n",
        "  # Sorted eigen values\n",
        "   e_values_sorted = e_values[indexes]\n",
        "\n",
        "  # Sorted eigen vectors\n",
        "   e_vectors_sorted = e_vectors[:,indexes]\n",
        "  \n",
        "  # Subset based on number of components\n",
        "   e_vectors_sorted_subst = e_vectors_sorted[:,0:n_components]\n",
        "  \n",
        " \n",
        "   return e_values_sorted, e_vectors_sorted_subst\n",
        "\n",
        "\n",
        "def pca(X, n_components):\n",
        "  # 1. Transforming the data by subtracting the mean\n",
        "  X_mean = X - np.mean(X, axis = 0)\n",
        "\n",
        "  # 2. Calculating the covariance matrix\n",
        "  covariance = np.cov(X.T) # False is positional to show that columns are our features\n",
        "\n",
        "  # 3. Eigen values and eigen vectors \n",
        "  e_values , e_vectors = eig(covariance)\n",
        "\n",
        "\n",
        "  # 4. Sorting corresponding descending eigen values and vectors\n",
        "  e_values_sorted , e_vectors_sorted_subst = sort_desc_eigens(e_values, \n",
        "                                                              e_vectors,\n",
        "                                                              n_components)\n",
        "  \n",
        "  # 5. Reduced (New X) according to the forumla\n",
        "  X_reduced = np.dot(e_vectors_sorted_subst.transpose() , X_mean.transpose() ).transpose()\n",
        "\n",
        "  return X_reduced\n"
      ],
      "metadata": {
        "id": "VwLzfD_Xh9gT"
      },
      "execution_count": 280,
      "outputs": []
    },
    {
      "cell_type": "markdown",
      "source": [
        "### `Spliting` the `target` variable from the `DataFrame` to prepare it for `PCA`"
      ],
      "metadata": {
        "id": "ByOIMjYON7SU"
      }
    },
    {
      "cell_type": "code",
      "source": [
        "# Lets save the target variable seprately\n",
        "target = df['target']\n",
        "df = df.drop(['target'], axis = 1)\n",
        "df.head()"
      ],
      "metadata": {
        "colab": {
          "base_uri": "https://localhost:8080/",
          "height": 206
        },
        "id": "C6hHuNCra7vL",
        "outputId": "838038bb-5486-4cb5-a63d-2dfa10dd2ea3"
      },
      "execution_count": 281,
      "outputs": [
        {
          "output_type": "execute_result",
          "data": {
            "text/plain": [
              "     var1     var2   var3   var4    var5  var6  year  month  day  hour  \\\n",
              "0  509.18  417.681  137.0  138.0  393.00   0.0  2019      6   18    17   \n",
              "1  446.06  666.182   57.0   81.0  352.05   1.0  2019      6   18    17   \n",
              "2  235.50  398.097  101.0   90.0  339.00   0.0  2019      6   18    17   \n",
              "3  306.02  518.163  216.0  102.0  439.25   1.0  2019      6   18    17   \n",
              "4  453.08  600.156   36.0  105.0  422.95   0.0  2019      6   18    17   \n",
              "\n",
              "   minute  seconds  \n",
              "0      23       26  \n",
              "1      23       26  \n",
              "2      23       26  \n",
              "3      23       26  \n",
              "4      23       26  "
            ],
            "text/html": [
              "\n",
              "  <div id=\"df-0c130b55-2411-4866-8507-56f15fd549dc\">\n",
              "    <div class=\"colab-df-container\">\n",
              "      <div>\n",
              "<style scoped>\n",
              "    .dataframe tbody tr th:only-of-type {\n",
              "        vertical-align: middle;\n",
              "    }\n",
              "\n",
              "    .dataframe tbody tr th {\n",
              "        vertical-align: top;\n",
              "    }\n",
              "\n",
              "    .dataframe thead th {\n",
              "        text-align: right;\n",
              "    }\n",
              "</style>\n",
              "<table border=\"1\" class=\"dataframe\">\n",
              "  <thead>\n",
              "    <tr style=\"text-align: right;\">\n",
              "      <th></th>\n",
              "      <th>var1</th>\n",
              "      <th>var2</th>\n",
              "      <th>var3</th>\n",
              "      <th>var4</th>\n",
              "      <th>var5</th>\n",
              "      <th>var6</th>\n",
              "      <th>year</th>\n",
              "      <th>month</th>\n",
              "      <th>day</th>\n",
              "      <th>hour</th>\n",
              "      <th>minute</th>\n",
              "      <th>seconds</th>\n",
              "    </tr>\n",
              "  </thead>\n",
              "  <tbody>\n",
              "    <tr>\n",
              "      <th>0</th>\n",
              "      <td>509.18</td>\n",
              "      <td>417.681</td>\n",
              "      <td>137.0</td>\n",
              "      <td>138.0</td>\n",
              "      <td>393.00</td>\n",
              "      <td>0.0</td>\n",
              "      <td>2019</td>\n",
              "      <td>6</td>\n",
              "      <td>18</td>\n",
              "      <td>17</td>\n",
              "      <td>23</td>\n",
              "      <td>26</td>\n",
              "    </tr>\n",
              "    <tr>\n",
              "      <th>1</th>\n",
              "      <td>446.06</td>\n",
              "      <td>666.182</td>\n",
              "      <td>57.0</td>\n",
              "      <td>81.0</td>\n",
              "      <td>352.05</td>\n",
              "      <td>1.0</td>\n",
              "      <td>2019</td>\n",
              "      <td>6</td>\n",
              "      <td>18</td>\n",
              "      <td>17</td>\n",
              "      <td>23</td>\n",
              "      <td>26</td>\n",
              "    </tr>\n",
              "    <tr>\n",
              "      <th>2</th>\n",
              "      <td>235.50</td>\n",
              "      <td>398.097</td>\n",
              "      <td>101.0</td>\n",
              "      <td>90.0</td>\n",
              "      <td>339.00</td>\n",
              "      <td>0.0</td>\n",
              "      <td>2019</td>\n",
              "      <td>6</td>\n",
              "      <td>18</td>\n",
              "      <td>17</td>\n",
              "      <td>23</td>\n",
              "      <td>26</td>\n",
              "    </tr>\n",
              "    <tr>\n",
              "      <th>3</th>\n",
              "      <td>306.02</td>\n",
              "      <td>518.163</td>\n",
              "      <td>216.0</td>\n",
              "      <td>102.0</td>\n",
              "      <td>439.25</td>\n",
              "      <td>1.0</td>\n",
              "      <td>2019</td>\n",
              "      <td>6</td>\n",
              "      <td>18</td>\n",
              "      <td>17</td>\n",
              "      <td>23</td>\n",
              "      <td>26</td>\n",
              "    </tr>\n",
              "    <tr>\n",
              "      <th>4</th>\n",
              "      <td>453.08</td>\n",
              "      <td>600.156</td>\n",
              "      <td>36.0</td>\n",
              "      <td>105.0</td>\n",
              "      <td>422.95</td>\n",
              "      <td>0.0</td>\n",
              "      <td>2019</td>\n",
              "      <td>6</td>\n",
              "      <td>18</td>\n",
              "      <td>17</td>\n",
              "      <td>23</td>\n",
              "      <td>26</td>\n",
              "    </tr>\n",
              "  </tbody>\n",
              "</table>\n",
              "</div>\n",
              "      <button class=\"colab-df-convert\" onclick=\"convertToInteractive('df-0c130b55-2411-4866-8507-56f15fd549dc')\"\n",
              "              title=\"Convert this dataframe to an interactive table.\"\n",
              "              style=\"display:none;\">\n",
              "        \n",
              "  <svg xmlns=\"http://www.w3.org/2000/svg\" height=\"24px\"viewBox=\"0 0 24 24\"\n",
              "       width=\"24px\">\n",
              "    <path d=\"M0 0h24v24H0V0z\" fill=\"none\"/>\n",
              "    <path d=\"M18.56 5.44l.94 2.06.94-2.06 2.06-.94-2.06-.94-.94-2.06-.94 2.06-2.06.94zm-11 1L8.5 8.5l.94-2.06 2.06-.94-2.06-.94L8.5 2.5l-.94 2.06-2.06.94zm10 10l.94 2.06.94-2.06 2.06-.94-2.06-.94-.94-2.06-.94 2.06-2.06.94z\"/><path d=\"M17.41 7.96l-1.37-1.37c-.4-.4-.92-.59-1.43-.59-.52 0-1.04.2-1.43.59L10.3 9.45l-7.72 7.72c-.78.78-.78 2.05 0 2.83L4 21.41c.39.39.9.59 1.41.59.51 0 1.02-.2 1.41-.59l7.78-7.78 2.81-2.81c.8-.78.8-2.07 0-2.86zM5.41 20L4 18.59l7.72-7.72 1.47 1.35L5.41 20z\"/>\n",
              "  </svg>\n",
              "      </button>\n",
              "      \n",
              "  <style>\n",
              "    .colab-df-container {\n",
              "      display:flex;\n",
              "      flex-wrap:wrap;\n",
              "      gap: 12px;\n",
              "    }\n",
              "\n",
              "    .colab-df-convert {\n",
              "      background-color: #E8F0FE;\n",
              "      border: none;\n",
              "      border-radius: 50%;\n",
              "      cursor: pointer;\n",
              "      display: none;\n",
              "      fill: #1967D2;\n",
              "      height: 32px;\n",
              "      padding: 0 0 0 0;\n",
              "      width: 32px;\n",
              "    }\n",
              "\n",
              "    .colab-df-convert:hover {\n",
              "      background-color: #E2EBFA;\n",
              "      box-shadow: 0px 1px 2px rgba(60, 64, 67, 0.3), 0px 1px 3px 1px rgba(60, 64, 67, 0.15);\n",
              "      fill: #174EA6;\n",
              "    }\n",
              "\n",
              "    [theme=dark] .colab-df-convert {\n",
              "      background-color: #3B4455;\n",
              "      fill: #D2E3FC;\n",
              "    }\n",
              "\n",
              "    [theme=dark] .colab-df-convert:hover {\n",
              "      background-color: #434B5C;\n",
              "      box-shadow: 0px 1px 3px 1px rgba(0, 0, 0, 0.15);\n",
              "      filter: drop-shadow(0px 1px 2px rgba(0, 0, 0, 0.3));\n",
              "      fill: #FFFFFF;\n",
              "    }\n",
              "  </style>\n",
              "\n",
              "      <script>\n",
              "        const buttonEl =\n",
              "          document.querySelector('#df-0c130b55-2411-4866-8507-56f15fd549dc button.colab-df-convert');\n",
              "        buttonEl.style.display =\n",
              "          google.colab.kernel.accessAllowed ? 'block' : 'none';\n",
              "\n",
              "        async function convertToInteractive(key) {\n",
              "          const element = document.querySelector('#df-0c130b55-2411-4866-8507-56f15fd549dc');\n",
              "          const dataTable =\n",
              "            await google.colab.kernel.invokeFunction('convertToInteractive',\n",
              "                                                     [key], {});\n",
              "          if (!dataTable) return;\n",
              "\n",
              "          const docLinkHtml = 'Like what you see? Visit the ' +\n",
              "            '<a target=\"_blank\" href=https://colab.research.google.com/notebooks/data_table.ipynb>data table notebook</a>'\n",
              "            + ' to learn more about interactive tables.';\n",
              "          element.innerHTML = '';\n",
              "          dataTable['output_type'] = 'display_data';\n",
              "          await google.colab.output.renderOutput(dataTable, element);\n",
              "          const docLink = document.createElement('div');\n",
              "          docLink.innerHTML = docLinkHtml;\n",
              "          element.appendChild(docLink);\n",
              "        }\n",
              "      </script>\n",
              "    </div>\n",
              "  </div>\n",
              "  "
            ]
          },
          "metadata": {},
          "execution_count": 281
        }
      ]
    },
    {
      "cell_type": "markdown",
      "source": [
        "## Plotting using PCA"
      ],
      "metadata": {
        "id": "zau2ANXIgiC0"
      }
    },
    {
      "cell_type": "markdown",
      "source": [
        "### A function to `call PCA` and return a `DataFrame` to be visualised in `Tabular DataFrame of Pandas`.\n",
        "### **For 2 or 3 reduced dimensions, as more than that are hard to visualise as plots**"
      ],
      "metadata": {
        "id": "bKtsjNCyOGwe"
      }
    },
    {
      "cell_type": "code",
      "source": [
        "# A function that applies PCA and returns a reduced dataframe to be plot directly\n",
        "def reduced_df(df, n_components):\n",
        "   X_reduced = pca(df, n_components)\n",
        "   \n",
        "   # Create DataFrame with reduced values, with 3 components\n",
        "   if(n_components == 3):\n",
        "      X_reduced_df = pd.DataFrame(X_reduced , columns = ['PC1','PC2', 'PC3'])\n",
        "\n",
        "   if(n_components == 2):\n",
        "     X_reduced_df = pd.DataFrame(X_reduced , columns = ['PC1','PC2'])\n",
        "\n",
        "   # Lets concatenate it with target to complete the dataset\n",
        "   p_df = pd.concat([X_reduced_df , pd.DataFrame(target)] , axis = 1)\n",
        "\n",
        "   return p_df"
      ],
      "metadata": {
        "id": "bobln9indI9w"
      },
      "execution_count": 282,
      "outputs": []
    },
    {
      "cell_type": "markdown",
      "source": [
        "## 3D plot with 3 components for PCA"
      ],
      "metadata": {
        "id": "FfKGRRP4i6ge"
      }
    },
    {
      "cell_type": "markdown",
      "source": [
        "### The above function `reduced_df` is called to call `PCA` and `reduce it to 3 dimensions` and return a DataFrame for `3D scatter plot`"
      ],
      "metadata": {
        "id": "2oRFAspkOe5o"
      }
    },
    {
      "cell_type": "code",
      "source": [
        "# A call to get a dataframe after PCA reduced\n",
        "p_reduced_3d = reduced_df(df, 3)\n",
        "y = p_reduced_3d.target\n",
        "\n",
        "# Imports to plot\n",
        "from mpl_toolkits import mplot3d\n",
        "import matplotlib.pyplot as plt\n",
        "\n",
        "# Plotting the three features and their classification\n",
        "\n",
        "fig = plt.figure(1, figsize=(8, 6))\n",
        "ax = fig.add_subplot(111, projection=\"3d\", elev=-150, azim=110)\n",
        "\n",
        "scatter = ax.scatter(\n",
        "    p_reduced_3d.PC1,\n",
        "    p_reduced_3d.PC2,\n",
        "    p_reduced_3d.PC3,\n",
        "    c=y,\n",
        "    cmap=plt.cm.Set1,\n",
        "    edgecolor=\"k\",\n",
        "    s=40,\n",
        ")\n",
        "\n",
        "\n",
        "# produce a legend of classes with the unique colors from the scatter plot\n",
        "legend1 = ax.legend(*scatter.legend_elements(),\n",
        "                    title=\"Classes\")\n",
        "\n",
        "ax.set_title(\"The 3D Scatter plot of reduced features\")\n",
        "ax.set_xlabel(\"PC1\")\n",
        "ax.w_xaxis.set_ticklabels([])\n",
        "ax.set_ylabel(\"PC2\")\n",
        "ax.w_yaxis.set_ticklabels([])\n",
        "ax.set_zlabel(\"PC3\")\n",
        "ax.w_zaxis.set_ticklabels([])\n",
        "\n",
        "plt.show()"
      ],
      "metadata": {
        "colab": {
          "base_uri": "https://localhost:8080/",
          "height": 357
        },
        "id": "pN_vKHrmhOW9",
        "outputId": "bcdb7ac8-6d61-41ea-aecd-5d2988d3394a"
      },
      "execution_count": 283,
      "outputs": [
        {
          "output_type": "display_data",
          "data": {
            "text/plain": [
              "<Figure size 576x432 with 1 Axes>"
            ],
            "image/png": "[encoded data removed]"
          },
          "metadata": {
            "needs_background": "light"
          }
        }
      ]
    },
    {
      "cell_type": "markdown",
      "source": [
        "## 2D scatter plot with 2 components"
      ],
      "metadata": {
        "id": "nxGOjH63lonL"
      }
    },
    {
      "cell_type": "markdown",
      "source": [
        "### The function `reduced_df` is called to call `PCA` and `reduce it to 2 dimensions` and return a DataFrame for `2D scatter plot`"
      ],
      "metadata": {
        "id": "Ws319AIMPKNh"
      }
    },
    {
      "cell_type": "code",
      "source": [
        "p_df = reduced_df(df, 2)\n",
        "\n",
        "fig, ax = plt.subplots()\n",
        "scatter = ax.scatter(p_df.PC1, p_df.PC2,\n",
        "            c=p_df['target'], cmap = 'cividis')\n",
        "\n",
        "# Create a legend of classes with the unique colors from the scatter plot\n",
        "legend1 = ax.legend(*scatter.legend_elements(),\n",
        "                    title=\"Classes\")\n",
        "ax.set_title(\"The 2D Scatter plot of reduced features\")\n",
        "ax.add_artist(legend1)\n",
        "\n",
        "plt.xlabel('PC1')\n",
        "plt.ylabel('PC2')\n",
        "\n",
        "plt.show()"
      ],
      "metadata": {
        "colab": {
          "base_uri": "https://localhost:8080/",
          "height": 295
        },
        "id": "VjaKdLBQmSNs",
        "outputId": "e3766ee9-1bd6-4612-aa59-d72361319aee"
      },
      "execution_count": 284,
      "outputs": [
        {
          "output_type": "display_data",
          "data": {
            "text/plain": [
              "<Figure size 432x288 with 1 Axes>"
            ],
            "image/png": "[encoded data removed]"
          },
          "metadata": {
            "needs_background": "light"
          }
        }
      ]
    },
    {
      "cell_type": "markdown",
      "source": [
        "#1.2 Training\n",
        "### All of the classifier are designed in a `robust` way with `KFold = 3`, to make code easy to `reuse`"
      ],
      "metadata": {
        "id": "XDrrodfCtwM5"
      }
    },
    {
      "cell_type": "markdown",
      "source": [
        "## 1. Logistic Regression with KFolds Cross Validation with `k = 3`"
      ],
      "metadata": {
        "id": "dbiBa-C5xyhj"
      }
    },
    {
      "cell_type": "markdown",
      "source": [
        "### Below is `logistic_regression(X, y)` \n",
        "### function that is a `robust` implementation with `KFold k = 3` so that one can call if for `either reduced` or `non reduced` dimensions. Taking the `Independant variables X` and the `Target variable y`. And returns the `average score (accuracy) in this case` and `standard deviation between them`."
      ],
      "metadata": {
        "id": "BT2Au3oSPTHw"
      }
    },
    {
      "cell_type": "code",
      "source": [
        "from sklearn.model_selection import KFold\n",
        "from sklearn.model_selection import cross_val_score\n",
        "from sklearn.linear_model import LogisticRegression\n",
        "\n",
        "def logsitic_regression(X, y):\n",
        "   \n",
        "   # k = 3 i.e. n_splits = 3\n",
        "   kf = KFold(n_splits = 3)\n",
        "   \n",
        "   # Create the logistic regression model\n",
        "   model = LogisticRegression()\n",
        "   \n",
        "   # Evaluation of the model\n",
        "   scores = cross_val_score(model, X, y, scoring='accuracy', cv = kf, n_jobs=-1)\n",
        "\n",
        "   mean_score = np.mean(scores)\n",
        "   \n",
        "   # The performance i.e. Mean Classification acccuracy\n",
        "   print(f\"Mean Accuracy: {mean_score:.3f}%\")\n",
        "   print(f\"\\nStd. Deviation of Scores : {np.std(scores):.3f}\")\n",
        "\n",
        "   return mean_score"
      ],
      "metadata": {
        "id": "v3-2C7ruxxGX"
      },
      "execution_count": 285,
      "outputs": []
    },
    {
      "cell_type": "markdown",
      "source": [
        "##2.  KNN (try the n neighbors hyperparameters between [1, 10] range)\n",
        "## KFold Cross Validation with `k = 3`\n",
        "\n",
        "## NOTE: Without scaling, all the nearest neighbors are aligned in the direction of the axis with the smaller range, i.e. x1 leading to incorrect classification."
      ],
      "metadata": {
        "id": "wxzPXfN27jBI"
      }
    },
    {
      "cell_type": "code",
      "source": [
        "from sklearn.model_selection import KFold\n",
        "from sklearn.model_selection import cross_val_score\n",
        "from sklearn.neighbors import KNeighborsClassifier\n",
        "from sklearn.preprocessing import StandardScaler\n",
        "\n",
        "import matplotlib.pylab as plt\n",
        "from matplotlib.ticker import MaxNLocator\n",
        "\n",
        "def knn_classifier(X, y):\n",
        "\n",
        "   # Scaling to get all the data in same range\n",
        "   scaler = StandardScaler()\n",
        "   x_train = scaler.fit_transform(X)\n",
        "   \n",
        "   # k = 3 i.e. n_splits = 3\n",
        "   kf = KFold(n_splits = 3)\n",
        "   \n",
        "   # List of the k that we will try\n",
        "   Ks = list(range(1, 10))\n",
        "   \n",
        "   # Empty list to store the scores of individual Ks\n",
        "   k_scores = []\n",
        "   \n",
        "   for K in Ks:\n",
        "       \n",
        "       # Choosing the Knn model\n",
        "       knn = KNeighborsClassifier(n_neighbors = K)\n",
        "   \n",
        "       # Evaluation of the model\n",
        "       scores = cross_val_score(knn, X, y, scoring='accuracy', \n",
        "                                cv = kf, n_jobs=-1)\n",
        "   \n",
        "       \n",
        "       avg_score = np.mean(scores)\n",
        "       k_scores.append(avg_score)\n",
        "   \n",
        "   plt.title('Varying accuracy on different K values')\n",
        "   plt.plot(Ks, k_scores)\n",
        "   plt.xlabel('K')\n",
        "   plt.xticks(Ks)\n",
        "   plt.ylabel('KFold CV Average accuracy')\n",
        "   plt.show()\n",
        "   \n",
        "   mean_score = np.mean(k_scores)\n",
        "\n",
        "   print()\n",
        "   print('Best K:', Ks[np.argmax(k_scores)])\n",
        "   # The performance i.e. Mean Classification acccuracy\n",
        "   print(f\"\\nMean Accuracy: {mean_score:.3f}%\")\n",
        "   print(f\"\\nStd. Deviation of Scores : {np.std(k_scores):.3f}\")\n",
        "\n",
        "  \n",
        "\n",
        "   return mean_score"
      ],
      "metadata": {
        "id": "PJz--sYH7ptZ"
      },
      "execution_count": 286,
      "outputs": []
    },
    {
      "cell_type": "markdown",
      "source": [
        "## Naive Bayes classifier \n",
        "## KFold Cross Validation with `k = 3`\n"
      ],
      "metadata": {
        "id": "rcFjmcEG-y_a"
      }
    },
    {
      "cell_type": "code",
      "source": [
        "from sklearn.model_selection import KFold\n",
        "from sklearn.model_selection import cross_val_score\n",
        "from sklearn.naive_bayes import GaussianNB\n",
        "\n",
        "def naive_bayes_classifier(X, y):\n",
        "  \n",
        "   # k = 3, i.e. n_splits = 3\n",
        "   kf = KFold(n_splits = 3)\n",
        "   \n",
        "   # Create the logistic regression model\n",
        "   model = GaussianNB()\n",
        "   \n",
        "   # Evaluation of the model\n",
        "   scores = cross_val_score(model, X, y, scoring='accuracy', cv = kf, n_jobs=-1)\n",
        "   \n",
        "   # Mean Score\n",
        "   mean_score = np.mean(scores)\n",
        "   \n",
        "   # The performance i.e. Mean Classification acccuracy\n",
        "   print(f\"Mean Accuracy: {mean_score:.3f}%\")\n",
        "   print(f\"\\nStd. Deviation of Scores : {np.std(scores):.3f}\")\n",
        "\n",
        "  \n",
        "   return mean_score"
      ],
      "metadata": {
        "id": "CTBats6WAPlN"
      },
      "execution_count": 287,
      "outputs": []
    },
    {
      "cell_type": "markdown",
      "source": [
        "## 1. Using Preprocessed data"
      ],
      "metadata": {
        "id": "y9Ac6pVwC9fL"
      }
    },
    {
      "cell_type": "code",
      "source": [
        "# Lets check our data first\n",
        "df.head()"
      ],
      "metadata": {
        "colab": {
          "base_uri": "https://localhost:8080/",
          "height": 206
        },
        "id": "oFpOF-BwDBti",
        "outputId": "a3c2bbc4-b36a-443c-e2c7-e2813ebbd78a"
      },
      "execution_count": 288,
      "outputs": [
        {
          "output_type": "execute_result",
          "data": {
            "text/plain": [
              "     var1     var2   var3   var4    var5  var6  year  month  day  hour  \\\n",
              "0  509.18  417.681  137.0  138.0  393.00   0.0  2019      6   18    17   \n",
              "1  446.06  666.182   57.0   81.0  352.05   1.0  2019      6   18    17   \n",
              "2  235.50  398.097  101.0   90.0  339.00   0.0  2019      6   18    17   \n",
              "3  306.02  518.163  216.0  102.0  439.25   1.0  2019      6   18    17   \n",
              "4  453.08  600.156   36.0  105.0  422.95   0.0  2019      6   18    17   \n",
              "\n",
              "   minute  seconds  \n",
              "0      23       26  \n",
              "1      23       26  \n",
              "2      23       26  \n",
              "3      23       26  \n",
              "4      23       26  "
            ],
            "text/html": [
              "\n",
              "  <div id=\"df-7924e932-7a97-4dda-a1d1-2a9e012fb5f8\">\n",
              "    <div class=\"colab-df-container\">\n",
              "      <div>\n",
              "<style scoped>\n",
              "    .dataframe tbody tr th:only-of-type {\n",
              "        vertical-align: middle;\n",
              "    }\n",
              "\n",
              "    .dataframe tbody tr th {\n",
              "        vertical-align: top;\n",
              "    }\n",
              "\n",
              "    .dataframe thead th {\n",
              "        text-align: right;\n",
              "    }\n",
              "</style>\n",
              "<table border=\"1\" class=\"dataframe\">\n",
              "  <thead>\n",
              "    <tr style=\"text-align: right;\">\n",
              "      <th></th>\n",
              "      <th>var1</th>\n",
              "      <th>var2</th>\n",
              "      <th>var3</th>\n",
              "      <th>var4</th>\n",
              "      <th>var5</th>\n",
              "      <th>var6</th>\n",
              "      <th>year</th>\n",
              "      <th>month</th>\n",
              "      <th>day</th>\n",
              "      <th>hour</th>\n",
              "      <th>minute</th>\n",
              "      <th>seconds</th>\n",
              "    </tr>\n",
              "  </thead>\n",
              "  <tbody>\n",
              "    <tr>\n",
              "      <th>0</th>\n",
              "      <td>509.18</td>\n",
              "      <td>417.681</td>\n",
              "      <td>137.0</td>\n",
              "      <td>138.0</td>\n",
              "      <td>393.00</td>\n",
              "      <td>0.0</td>\n",
              "      <td>2019</td>\n",
              "      <td>6</td>\n",
              "      <td>18</td>\n",
              "      <td>17</td>\n",
              "      <td>23</td>\n",
              "      <td>26</td>\n",
              "    </tr>\n",
              "    <tr>\n",
              "      <th>1</th>\n",
              "      <td>446.06</td>\n",
              "      <td>666.182</td>\n",
              "      <td>57.0</td>\n",
              "      <td>81.0</td>\n",
              "      <td>352.05</td>\n",
              "      <td>1.0</td>\n",
              "      <td>2019</td>\n",
              "      <td>6</td>\n",
              "      <td>18</td>\n",
              "      <td>17</td>\n",
              "      <td>23</td>\n",
              "      <td>26</td>\n",
              "    </tr>\n",
              "    <tr>\n",
              "      <th>2</th>\n",
              "      <td>235.50</td>\n",
              "      <td>398.097</td>\n",
              "      <td>101.0</td>\n",
              "      <td>90.0</td>\n",
              "      <td>339.00</td>\n",
              "      <td>0.0</td>\n",
              "      <td>2019</td>\n",
              "      <td>6</td>\n",
              "      <td>18</td>\n",
              "      <td>17</td>\n",
              "      <td>23</td>\n",
              "      <td>26</td>\n",
              "    </tr>\n",
              "    <tr>\n",
              "      <th>3</th>\n",
              "      <td>306.02</td>\n",
              "      <td>518.163</td>\n",
              "      <td>216.0</td>\n",
              "      <td>102.0</td>\n",
              "      <td>439.25</td>\n",
              "      <td>1.0</td>\n",
              "      <td>2019</td>\n",
              "      <td>6</td>\n",
              "      <td>18</td>\n",
              "      <td>17</td>\n",
              "      <td>23</td>\n",
              "      <td>26</td>\n",
              "    </tr>\n",
              "    <tr>\n",
              "      <th>4</th>\n",
              "      <td>453.08</td>\n",
              "      <td>600.156</td>\n",
              "      <td>36.0</td>\n",
              "      <td>105.0</td>\n",
              "      <td>422.95</td>\n",
              "      <td>0.0</td>\n",
              "      <td>2019</td>\n",
              "      <td>6</td>\n",
              "      <td>18</td>\n",
              "      <td>17</td>\n",
              "      <td>23</td>\n",
              "      <td>26</td>\n",
              "    </tr>\n",
              "  </tbody>\n",
              "</table>\n",
              "</div>\n",
              "      <button class=\"colab-df-convert\" onclick=\"convertToInteractive('df-7924e932-7a97-4dda-a1d1-2a9e012fb5f8')\"\n",
              "              title=\"Convert this dataframe to an interactive table.\"\n",
              "              style=\"display:none;\">\n",
              "        \n",
              "  <svg xmlns=\"http://www.w3.org/2000/svg\" height=\"24px\"viewBox=\"0 0 24 24\"\n",
              "       width=\"24px\">\n",
              "    <path d=\"M0 0h24v24H0V0z\" fill=\"none\"/>\n",
              "    <path d=\"M18.56 5.44l.94 2.06.94-2.06 2.06-.94-2.06-.94-.94-2.06-.94 2.06-2.06.94zm-11 1L8.5 8.5l.94-2.06 2.06-.94-2.06-.94L8.5 2.5l-.94 2.06-2.06.94zm10 10l.94 2.06.94-2.06 2.06-.94-2.06-.94-.94-2.06-.94 2.06-2.06.94z\"/><path d=\"M17.41 7.96l-1.37-1.37c-.4-.4-.92-.59-1.43-.59-.52 0-1.04.2-1.43.59L10.3 9.45l-7.72 7.72c-.78.78-.78 2.05 0 2.83L4 21.41c.39.39.9.59 1.41.59.51 0 1.02-.2 1.41-.59l7.78-7.78 2.81-2.81c.8-.78.8-2.07 0-2.86zM5.41 20L4 18.59l7.72-7.72 1.47 1.35L5.41 20z\"/>\n",
              "  </svg>\n",
              "      </button>\n",
              "      \n",
              "  <style>\n",
              "    .colab-df-container {\n",
              "      display:flex;\n",
              "      flex-wrap:wrap;\n",
              "      gap: 12px;\n",
              "    }\n",
              "\n",
              "    .colab-df-convert {\n",
              "      background-color: #E8F0FE;\n",
              "      border: none;\n",
              "      border-radius: 50%;\n",
              "      cursor: pointer;\n",
              "      display: none;\n",
              "      fill: #1967D2;\n",
              "      height: 32px;\n",
              "      padding: 0 0 0 0;\n",
              "      width: 32px;\n",
              "    }\n",
              "\n",
              "    .colab-df-convert:hover {\n",
              "      background-color: #E2EBFA;\n",
              "      box-shadow: 0px 1px 2px rgba(60, 64, 67, 0.3), 0px 1px 3px 1px rgba(60, 64, 67, 0.15);\n",
              "      fill: #174EA6;\n",
              "    }\n",
              "\n",
              "    [theme=dark] .colab-df-convert {\n",
              "      background-color: #3B4455;\n",
              "      fill: #D2E3FC;\n",
              "    }\n",
              "\n",
              "    [theme=dark] .colab-df-convert:hover {\n",
              "      background-color: #434B5C;\n",
              "      box-shadow: 0px 1px 3px 1px rgba(0, 0, 0, 0.15);\n",
              "      filter: drop-shadow(0px 1px 2px rgba(0, 0, 0, 0.3));\n",
              "      fill: #FFFFFF;\n",
              "    }\n",
              "  </style>\n",
              "\n",
              "      <script>\n",
              "        const buttonEl =\n",
              "          document.querySelector('#df-7924e932-7a97-4dda-a1d1-2a9e012fb5f8 button.colab-df-convert');\n",
              "        buttonEl.style.display =\n",
              "          google.colab.kernel.accessAllowed ? 'block' : 'none';\n",
              "\n",
              "        async function convertToInteractive(key) {\n",
              "          const element = document.querySelector('#df-7924e932-7a97-4dda-a1d1-2a9e012fb5f8');\n",
              "          const dataTable =\n",
              "            await google.colab.kernel.invokeFunction('convertToInteractive',\n",
              "                                                     [key], {});\n",
              "          if (!dataTable) return;\n",
              "\n",
              "          const docLinkHtml = 'Like what you see? Visit the ' +\n",
              "            '<a target=\"_blank\" href=https://colab.research.google.com/notebooks/data_table.ipynb>data table notebook</a>'\n",
              "            + ' to learn more about interactive tables.';\n",
              "          element.innerHTML = '';\n",
              "          dataTable['output_type'] = 'display_data';\n",
              "          await google.colab.output.renderOutput(dataTable, element);\n",
              "          const docLink = document.createElement('div');\n",
              "          docLink.innerHTML = docLinkHtml;\n",
              "          element.appendChild(docLink);\n",
              "        }\n",
              "      </script>\n",
              "    </div>\n",
              "  </div>\n",
              "  "
            ]
          },
          "metadata": {},
          "execution_count": 288
        }
      ]
    },
    {
      "cell_type": "code",
      "source": [
        "# Lets check the target\n",
        "target.shape"
      ],
      "metadata": {
        "colab": {
          "base_uri": "https://localhost:8080/"
        },
        "id": "onnW5O-hDzGh",
        "outputId": "a609b63b-f87e-4013-be7a-2f6ea0f75971"
      },
      "execution_count": 289,
      "outputs": [
        {
          "output_type": "execute_result",
          "data": {
            "text/plain": [
              "(925,)"
            ]
          },
          "metadata": {},
          "execution_count": 289
        }
      ]
    },
    {
      "cell_type": "markdown",
      "source": [
        "###1. Logistic Regression"
      ],
      "metadata": {
        "id": "NdNqlikpD3tW"
      }
    },
    {
      "cell_type": "code",
      "source": [
        "log_result = logsitic_regression(df, target)"
      ],
      "metadata": {
        "colab": {
          "base_uri": "https://localhost:8080/"
        },
        "id": "VNliOpIND5gW",
        "outputId": "082b7b8b-cb79-4913-8b2d-51adc80faa7e"
      },
      "execution_count": 290,
      "outputs": [
        {
          "output_type": "stream",
          "name": "stdout",
          "text": [
            "Mean Accuracy: 0.974%\n",
            "\n",
            "Std. Deviation of Scores : 0.010\n"
          ]
        }
      ]
    },
    {
      "cell_type": "markdown",
      "source": [
        "### 2. KNN"
      ],
      "metadata": {
        "id": "mSZ_pcxAEBFc"
      }
    },
    {
      "cell_type": "code",
      "source": [
        "knn_result = knn_classifier(df, target)"
      ],
      "metadata": {
        "colab": {
          "base_uri": "https://localhost:8080/",
          "height": 399
        },
        "id": "L4S7kWmpEEmL",
        "outputId": "3e0b8e29-bda2-459f-f19f-6e1f6af476c7"
      },
      "execution_count": 291,
      "outputs": [
        {
          "output_type": "display_data",
          "data": {
            "text/plain": [
              "<Figure size 432x288 with 1 Axes>"
            ],
            "image/png": "[encoded data removed]"
          },
          "metadata": {
            "needs_background": "light"
          }
        },
        {
          "output_type": "stream",
          "name": "stdout",
          "text": [
            "\n",
            "Best K: 7\n",
            "\n",
            "Mean Accuracy: 0.971%\n",
            "\n",
            "Std. Deviation of Scores : 0.003\n"
          ]
        }
      ]
    },
    {
      "cell_type": "markdown",
      "source": [
        "### 3. Naive Bayes"
      ],
      "metadata": {
        "id": "XN3QOoDaEaSF"
      }
    },
    {
      "cell_type": "code",
      "source": [
        "nb_result = naive_bayes_classifier(df, target)"
      ],
      "metadata": {
        "colab": {
          "base_uri": "https://localhost:8080/"
        },
        "id": "EaNP3_lKEcyV",
        "outputId": "5fb88a76-ed1e-43bb-e029-0a37dd84904a"
      },
      "execution_count": 292,
      "outputs": [
        {
          "output_type": "stream",
          "name": "stdout",
          "text": [
            "Mean Accuracy: 0.973%\n",
            "\n",
            "Std. Deviation of Scores : 0.002\n"
          ]
        }
      ]
    },
    {
      "cell_type": "markdown",
      "source": [
        "### Their comparisons"
      ],
      "metadata": {
        "id": "2_WIEasuEybe"
      }
    },
    {
      "cell_type": "code",
      "source": [
        "# Lets save them in an array\n",
        "scores_classifiers = np.array([[log_result, knn_result, nb_result]])"
      ],
      "metadata": {
        "id": "FAFDfPu6E-bt"
      },
      "execution_count": 293,
      "outputs": []
    },
    {
      "cell_type": "code",
      "source": [
        "# Lets compare them making a DataFrame\n",
        "mean_scores_classifiers = pd.DataFrame(scores_classifiers, \n",
        "                                       columns = [\"Logistic Regression (%)\", \n",
        "                                                  \"KNN (%)\", \n",
        "                                                  \"Naive Bayes (%)\"])\n",
        "mean_scores_classifiers"
      ],
      "metadata": {
        "colab": {
          "base_uri": "https://localhost:8080/",
          "height": 81
        },
        "id": "8hG_SQm6EwKA",
        "outputId": "9510240f-ac9d-4426-d65f-a0ffc64fbe3c"
      },
      "execution_count": 294,
      "outputs": [
        {
          "output_type": "execute_result",
          "data": {
            "text/plain": [
              "   Logistic Regression (%)   KNN (%)  Naive Bayes (%)\n",
              "0                 0.974043  0.971287         0.972972"
            ],
            "text/html": [
              "\n",
              "  <div id=\"df-9e3c98dd-71dd-4a3a-813c-00de98a6db98\">\n",
              "    <div class=\"colab-df-container\">\n",
              "      <div>\n",
              "<style scoped>\n",
              "    .dataframe tbody tr th:only-of-type {\n",
              "        vertical-align: middle;\n",
              "    }\n",
              "\n",
              "    .dataframe tbody tr th {\n",
              "        vertical-align: top;\n",
              "    }\n",
              "\n",
              "    .dataframe thead th {\n",
              "        text-align: right;\n",
              "    }\n",
              "</style>\n",
              "<table border=\"1\" class=\"dataframe\">\n",
              "  <thead>\n",
              "    <tr style=\"text-align: right;\">\n",
              "      <th></th>\n",
              "      <th>Logistic Regression (%)</th>\n",
              "      <th>KNN (%)</th>\n",
              "      <th>Naive Bayes (%)</th>\n",
              "    </tr>\n",
              "  </thead>\n",
              "  <tbody>\n",
              "    <tr>\n",
              "      <th>0</th>\n",
              "      <td>0.974043</td>\n",
              "      <td>0.971287</td>\n",
              "      <td>0.972972</td>\n",
              "    </tr>\n",
              "  </tbody>\n",
              "</table>\n",
              "</div>\n",
              "      <button class=\"colab-df-convert\" onclick=\"convertToInteractive('df-9e3c98dd-71dd-4a3a-813c-00de98a6db98')\"\n",
              "              title=\"Convert this dataframe to an interactive table.\"\n",
              "              style=\"display:none;\">\n",
              "        \n",
              "  <svg xmlns=\"http://www.w3.org/2000/svg\" height=\"24px\"viewBox=\"0 0 24 24\"\n",
              "       width=\"24px\">\n",
              "    <path d=\"M0 0h24v24H0V0z\" fill=\"none\"/>\n",
              "    <path d=\"M18.56 5.44l.94 2.06.94-2.06 2.06-.94-2.06-.94-.94-2.06-.94 2.06-2.06.94zm-11 1L8.5 8.5l.94-2.06 2.06-.94-2.06-.94L8.5 2.5l-.94 2.06-2.06.94zm10 10l.94 2.06.94-2.06 2.06-.94-2.06-.94-.94-2.06-.94 2.06-2.06.94z\"/><path d=\"M17.41 7.96l-1.37-1.37c-.4-.4-.92-.59-1.43-.59-.52 0-1.04.2-1.43.59L10.3 9.45l-7.72 7.72c-.78.78-.78 2.05 0 2.83L4 21.41c.39.39.9.59 1.41.59.51 0 1.02-.2 1.41-.59l7.78-7.78 2.81-2.81c.8-.78.8-2.07 0-2.86zM5.41 20L4 18.59l7.72-7.72 1.47 1.35L5.41 20z\"/>\n",
              "  </svg>\n",
              "      </button>\n",
              "      \n",
              "  <style>\n",
              "    .colab-df-container {\n",
              "      display:flex;\n",
              "      flex-wrap:wrap;\n",
              "      gap: 12px;\n",
              "    }\n",
              "\n",
              "    .colab-df-convert {\n",
              "      background-color: #E8F0FE;\n",
              "      border: none;\n",
              "      border-radius: 50%;\n",
              "      cursor: pointer;\n",
              "      display: none;\n",
              "      fill: #1967D2;\n",
              "      height: 32px;\n",
              "      padding: 0 0 0 0;\n",
              "      width: 32px;\n",
              "    }\n",
              "\n",
              "    .colab-df-convert:hover {\n",
              "      background-color: #E2EBFA;\n",
              "      box-shadow: 0px 1px 2px rgba(60, 64, 67, 0.3), 0px 1px 3px 1px rgba(60, 64, 67, 0.15);\n",
              "      fill: #174EA6;\n",
              "    }\n",
              "\n",
              "    [theme=dark] .colab-df-convert {\n",
              "      background-color: #3B4455;\n",
              "      fill: #D2E3FC;\n",
              "    }\n",
              "\n",
              "    [theme=dark] .colab-df-convert:hover {\n",
              "      background-color: #434B5C;\n",
              "      box-shadow: 0px 1px 3px 1px rgba(0, 0, 0, 0.15);\n",
              "      filter: drop-shadow(0px 1px 2px rgba(0, 0, 0, 0.3));\n",
              "      fill: #FFFFFF;\n",
              "    }\n",
              "  </style>\n",
              "\n",
              "      <script>\n",
              "        const buttonEl =\n",
              "          document.querySelector('#df-9e3c98dd-71dd-4a3a-813c-00de98a6db98 button.colab-df-convert');\n",
              "        buttonEl.style.display =\n",
              "          google.colab.kernel.accessAllowed ? 'block' : 'none';\n",
              "\n",
              "        async function convertToInteractive(key) {\n",
              "          const element = document.querySelector('#df-9e3c98dd-71dd-4a3a-813c-00de98a6db98');\n",
              "          const dataTable =\n",
              "            await google.colab.kernel.invokeFunction('convertToInteractive',\n",
              "                                                     [key], {});\n",
              "          if (!dataTable) return;\n",
              "\n",
              "          const docLinkHtml = 'Like what you see? Visit the ' +\n",
              "            '<a target=\"_blank\" href=https://colab.research.google.com/notebooks/data_table.ipynb>data table notebook</a>'\n",
              "            + ' to learn more about interactive tables.';\n",
              "          element.innerHTML = '';\n",
              "          dataTable['output_type'] = 'display_data';\n",
              "          await google.colab.output.renderOutput(dataTable, element);\n",
              "          const docLink = document.createElement('div');\n",
              "          docLink.innerHTML = docLinkHtml;\n",
              "          element.appendChild(docLink);\n",
              "        }\n",
              "      </script>\n",
              "    </div>\n",
              "  </div>\n",
              "  "
            ]
          },
          "metadata": {},
          "execution_count": 294
        }
      ]
    },
    {
      "cell_type": "code",
      "source": [
        "# Lets get the best of them\n",
        "max_value = mean_scores_classifiers.max(axis = 1)\n",
        "for col in mean_scores_classifiers:\n",
        "        if (mean_scores_classifiers[col] == max_value).any():\n",
        "             print(f\"The maximum accuracy : {max_value.iloc[0]:.3f}%\")\n",
        "             print(f\"Give by : {col.split('(')[0]}\")"
      ],
      "metadata": {
        "colab": {
          "base_uri": "https://localhost:8080/"
        },
        "id": "NjD0hwfUF9aN",
        "outputId": "819d04ef-d1aa-4568-a142-a6a1077b599e"
      },
      "execution_count": 295,
      "outputs": [
        {
          "output_type": "stream",
          "name": "stdout",
          "text": [
            "The maximum accuracy : 0.974%\n",
            "Give by : Logistic Regression \n"
          ]
        }
      ]
    },
    {
      "cell_type": "markdown",
      "source": [
        "### `Logistic Regression` gives the best performance on `Non reduced dataset`"
      ],
      "metadata": {
        "id": "K3IHnO4cRii4"
      }
    },
    {
      "cell_type": "markdown",
      "source": [
        "## 2. With PCA"
      ],
      "metadata": {
        "id": "gICCRiiZMMc0"
      }
    },
    {
      "cell_type": "markdown",
      "source": [
        "### 1. Lets try from 1 to 11 components i.e. from 1 to column - 1 dimensional reductions"
      ],
      "metadata": {
        "id": "tfnAxateMR-s"
      }
    },
    {
      "cell_type": "code",
      "source": [
        "# An empty DataFrame with the intention to be appended with score of each reduction\n",
        "pca_df = pd.DataFrame()\n",
        "\n",
        "# To try from 1 to 11 reduced dimensions\n",
        "for i in range(1, len(df.columns)):\n",
        "   X_reduced = pca(df, i)\n",
        "\n",
        "   scores_classifiers_pca = np.array([[i, \n",
        "                                       logsitic_regression(X_reduced, target),\n",
        "                                       knn_classifier(X_reduced, target), \n",
        "                                       naive_bayes_classifier(X_reduced, target)]])\n",
        "   \n",
        "   scores_classifiers_df = pd.DataFrame(scores_classifiers_pca, \n",
        "                                       columns = [\"n_comp PCA\",\n",
        "                                                  \"Logistic Regression (%)\", \n",
        "                                                  \"KNN (%)\", \n",
        "                                                  \"Naive Bayes (%)\"])\n",
        "   pca_df = pca_df.append(scores_classifiers_df)"
      ],
      "metadata": {
        "colab": {
          "base_uri": "https://localhost:8080/",
          "height": 1000
        },
        "id": "DpcX9sWJMJkV",
        "outputId": "3164c02c-d8d8-4d56-8399-ff6ef7d40504"
      },
      "execution_count": 296,
      "outputs": [
        {
          "output_type": "stream",
          "name": "stdout",
          "text": [
            "Mean Accuracy: 0.832%\n",
            "\n",
            "Std. Deviation of Scores : 0.023\n"
          ]
        },
        {
          "output_type": "display_data",
          "data": {
            "text/plain": [
              "<Figure size 432x288 with 1 Axes>"
            ],
            "image/png": "[encoded data removed]"
          },
          "metadata": {
            "needs_background": "light"
          }
        },
        {
          "output_type": "stream",
          "name": "stdout",
          "text": [
            "\n",
            "Best K: 5\n",
            "\n",
            "Mean Accuracy: 0.804%\n",
            "\n",
            "Std. Deviation of Scores : 0.011\n",
            "Mean Accuracy: 0.826%\n",
            "\n",
            "Std. Deviation of Scores : 0.024\n",
            "Mean Accuracy: 0.959%\n",
            "\n",
            "Std. Deviation of Scores : 0.019\n"
          ]
        },
        {
          "output_type": "display_data",
          "data": {
            "text/plain": [
              "<Figure size 432x288 with 1 Axes>"
            ],
            "image/png": "[encoded data removed]"
          },
          "metadata": {
            "needs_background": "light"
          }
        },
        {
          "output_type": "stream",
          "name": "stdout",
          "text": [
            "\n",
            "Best K: 7\n",
            "\n",
            "Mean Accuracy: 0.960%\n",
            "\n",
            "Std. Deviation of Scores : 0.004\n",
            "Mean Accuracy: 0.949%\n",
            "\n",
            "Std. Deviation of Scores : 0.007\n",
            "Mean Accuracy: 0.956%\n",
            "\n",
            "Std. Deviation of Scores : 0.018\n"
          ]
        },
        {
          "output_type": "display_data",
          "data": {
            "text/plain": [
              "<Figure size 432x288 with 1 Axes>"
            ],
            "image/png": "[encoded data removed]"
          },
          "metadata": {
            "needs_background": "light"
          }
        },
        {
          "output_type": "stream",
          "name": "stdout",
          "text": [
            "\n",
            "Best K: 8\n",
            "\n",
            "Mean Accuracy: 0.955%\n",
            "\n",
            "Std. Deviation of Scores : 0.005\n",
            "Mean Accuracy: 0.948%\n",
            "\n",
            "Std. Deviation of Scores : 0.010\n",
            "Mean Accuracy: 0.955%\n",
            "\n",
            "Std. Deviation of Scores : 0.021\n"
          ]
        },
        {
          "output_type": "display_data",
          "data": {
            "text/plain": [
              "<Figure size 432x288 with 1 Axes>"
            ],
            "image/png": "[encoded data removed]"
          },
          "metadata": {
            "needs_background": "light"
          }
        },
        {
          "output_type": "stream",
          "name": "stdout",
          "text": [
            "\n",
            "Best K: 9\n",
            "\n",
            "Mean Accuracy: 0.955%\n",
            "\n",
            "Std. Deviation of Scores : 0.006\n",
            "Mean Accuracy: 0.947%\n",
            "\n",
            "Std. Deviation of Scores : 0.006\n",
            "Mean Accuracy: 0.974%\n",
            "\n",
            "Std. Deviation of Scores : 0.007\n"
          ]
        },
        {
          "output_type": "display_data",
          "data": {
            "text/plain": [
              "<Figure size 432x288 with 1 Axes>"
            ],
            "image/png": "[encoded data removed]"
          },
          "metadata": {
            "needs_background": "light"
          }
        },
        {
          "output_type": "stream",
          "name": "stdout",
          "text": [
            "\n",
            "Best K: 7\n",
            "\n",
            "Mean Accuracy: 0.971%\n",
            "\n",
            "Std. Deviation of Scores : 0.003\n",
            "Mean Accuracy: 0.956%\n",
            "\n",
            "Std. Deviation of Scores : 0.004\n",
            "Mean Accuracy: 0.974%\n",
            "\n",
            "Std. Deviation of Scores : 0.010\n"
          ]
        },
        {
          "output_type": "display_data",
          "data": {
            "text/plain": [
              "<Figure size 432x288 with 1 Axes>"
            ],
            "image/png": "[encoded data removed]"
          },
          "metadata": {
            "needs_background": "light"
          }
        },
        {
          "output_type": "stream",
          "name": "stdout",
          "text": [
            "\n",
            "Best K: 7\n",
            "\n",
            "Mean Accuracy: 0.971%\n",
            "\n",
            "Std. Deviation of Scores : 0.003\n",
            "Mean Accuracy: 0.955%\n",
            "\n",
            "Std. Deviation of Scores : 0.003\n",
            "Mean Accuracy: 0.974%\n",
            "\n",
            "Std. Deviation of Scores : 0.010\n"
          ]
        },
        {
          "output_type": "display_data",
          "data": {
            "text/plain": [
              "<Figure size 432x288 with 1 Axes>"
            ],
            "image/png": "[encoded data removed]"
          },
          "metadata": {
            "needs_background": "light"
          }
        },
        {
          "output_type": "stream",
          "name": "stdout",
          "text": [
            "\n",
            "Best K: 7\n",
            "\n",
            "Mean Accuracy: 0.971%\n",
            "\n",
            "Std. Deviation of Scores : 0.003\n",
            "Mean Accuracy: 0.955%\n",
            "\n",
            "Std. Deviation of Scores : 0.003\n",
            "Mean Accuracy: 0.974%\n",
            "\n",
            "Std. Deviation of Scores : 0.010\n"
          ]
        },
        {
          "output_type": "display_data",
          "data": {
            "text/plain": [
              "<Figure size 432x288 with 1 Axes>"
            ],
            "image/png": "[encoded data removed]"
          },
          "metadata": {
            "needs_background": "light"
          }
        },
        {
          "output_type": "stream",
          "name": "stdout",
          "text": [
            "\n",
            "Best K: 7\n",
            "\n",
            "Mean Accuracy: 0.971%\n",
            "\n",
            "Std. Deviation of Scores : 0.003\n",
            "Mean Accuracy: 0.955%\n",
            "\n",
            "Std. Deviation of Scores : 0.003\n",
            "Mean Accuracy: 0.974%\n",
            "\n",
            "Std. Deviation of Scores : 0.010\n"
          ]
        },
        {
          "output_type": "display_data",
          "data": {
            "text/plain": [
              "<Figure size 432x288 with 1 Axes>"
            ],
            "image/png": "[encoded data removed]"
          },
          "metadata": {
            "needs_background": "light"
          }
        },
        {
          "output_type": "stream",
          "name": "stdout",
          "text": [
            "\n",
            "Best K: 7\n",
            "\n",
            "Mean Accuracy: 0.971%\n",
            "\n",
            "Std. Deviation of Scores : 0.003\n",
            "Mean Accuracy: 0.955%\n",
            "\n",
            "Std. Deviation of Scores : 0.003\n",
            "Mean Accuracy: 0.974%\n",
            "\n",
            "Std. Deviation of Scores : 0.010\n"
          ]
        },
        {
          "output_type": "display_data",
          "data": {
            "text/plain": [
              "<Figure size 432x288 with 1 Axes>"
            ],
            "image/png": "[encoded data removed]"
          },
          "metadata": {
            "needs_background": "light"
          }
        },
        {
          "output_type": "stream",
          "name": "stdout",
          "text": [
            "\n",
            "Best K: 7\n",
            "\n",
            "Mean Accuracy: 0.971%\n",
            "\n",
            "Std. Deviation of Scores : 0.003\n",
            "Mean Accuracy: 0.955%\n",
            "\n",
            "Std. Deviation of Scores : 0.003\n",
            "Mean Accuracy: 0.974%\n",
            "\n",
            "Std. Deviation of Scores : 0.010\n"
          ]
        },
        {
          "output_type": "display_data",
          "data": {
            "text/plain": [
              "<Figure size 432x288 with 1 Axes>"
            ],
            "image/png": "[encoded data removed]"
          },
          "metadata": {
            "needs_background": "light"
          }
        },
        {
          "output_type": "stream",
          "name": "stdout",
          "text": [
            "\n",
            "Best K: 7\n",
            "\n",
            "Mean Accuracy: 0.971%\n",
            "\n",
            "Std. Deviation of Scores : 0.003\n",
            "Mean Accuracy: 0.955%\n",
            "\n",
            "Std. Deviation of Scores : 0.003\n"
          ]
        }
      ]
    },
    {
      "cell_type": "markdown",
      "source": [
        "### Lets see the dataframe collection of those PCA and their results that we get from classifiers"
      ],
      "metadata": {
        "id": "aZ4cNPhMSGa_"
      }
    },
    {
      "cell_type": "code",
      "source": [
        "pca_df"
      ],
      "metadata": {
        "colab": {
          "base_uri": "https://localhost:8080/",
          "height": 394
        },
        "id": "IDoW3XtaSOa1",
        "outputId": "38d0ad6a-65bf-4c36-db35-9736f4629605"
      },
      "execution_count": 297,
      "outputs": [
        {
          "output_type": "execute_result",
          "data": {
            "text/plain": [
              "   n_comp PCA  Logistic Regression (%)   KNN (%)  Naive Bayes (%)\n",
              "0         1.0                 0.832433  0.804100         0.825950\n",
              "0         2.0                 0.958895  0.959622         0.949180\n",
              "0         3.0                 0.955656  0.954942         0.948097\n",
              "0         4.0                 0.954563  0.955423         0.947019\n",
              "0         5.0                 0.974047  0.971287         0.955677\n",
              "0         6.0                 0.974043  0.971287         0.954594\n",
              "0         7.0                 0.974043  0.971287         0.954594\n",
              "0         8.0                 0.974043  0.971287         0.954594\n",
              "0         9.0                 0.974043  0.971287         0.954594\n",
              "0        10.0                 0.974043  0.971287         0.954594\n",
              "0        11.0                 0.974043  0.971287         0.954594"
            ],
            "text/html": [
              "\n",
              "  <div id=\"df-3b9d5834-0314-421d-a125-b5d2a19f68be\">\n",
              "    <div class=\"colab-df-container\">\n",
              "      <div>\n",
              "<style scoped>\n",
              "    .dataframe tbody tr th:only-of-type {\n",
              "        vertical-align: middle;\n",
              "    }\n",
              "\n",
              "    .dataframe tbody tr th {\n",
              "        vertical-align: top;\n",
              "    }\n",
              "\n",
              "    .dataframe thead th {\n",
              "        text-align: right;\n",
              "    }\n",
              "</style>\n",
              "<table border=\"1\" class=\"dataframe\">\n",
              "  <thead>\n",
              "    <tr style=\"text-align: right;\">\n",
              "      <th></th>\n",
              "      <th>n_comp PCA</th>\n",
              "      <th>Logistic Regression (%)</th>\n",
              "      <th>KNN (%)</th>\n",
              "      <th>Naive Bayes (%)</th>\n",
              "    </tr>\n",
              "  </thead>\n",
              "  <tbody>\n",
              "    <tr>\n",
              "      <th>0</th>\n",
              "      <td>1.0</td>\n",
              "      <td>0.832433</td>\n",
              "      <td>0.804100</td>\n",
              "      <td>0.825950</td>\n",
              "    </tr>\n",
              "    <tr>\n",
              "      <th>0</th>\n",
              "      <td>2.0</td>\n",
              "      <td>0.958895</td>\n",
              "      <td>0.959622</td>\n",
              "      <td>0.949180</td>\n",
              "    </tr>\n",
              "    <tr>\n",
              "      <th>0</th>\n",
              "      <td>3.0</td>\n",
              "      <td>0.955656</td>\n",
              "      <td>0.954942</td>\n",
              "      <td>0.948097</td>\n",
              "    </tr>\n",
              "    <tr>\n",
              "      <th>0</th>\n",
              "      <td>4.0</td>\n",
              "      <td>0.954563</td>\n",
              "      <td>0.955423</td>\n",
              "      <td>0.947019</td>\n",
              "    </tr>\n",
              "    <tr>\n",
              "      <th>0</th>\n",
              "      <td>5.0</td>\n",
              "      <td>0.974047</td>\n",
              "      <td>0.971287</td>\n",
              "      <td>0.955677</td>\n",
              "    </tr>\n",
              "    <tr>\n",
              "      <th>0</th>\n",
              "      <td>6.0</td>\n",
              "      <td>0.974043</td>\n",
              "      <td>0.971287</td>\n",
              "      <td>0.954594</td>\n",
              "    </tr>\n",
              "    <tr>\n",
              "      <th>0</th>\n",
              "      <td>7.0</td>\n",
              "      <td>0.974043</td>\n",
              "      <td>0.971287</td>\n",
              "      <td>0.954594</td>\n",
              "    </tr>\n",
              "    <tr>\n",
              "      <th>0</th>\n",
              "      <td>8.0</td>\n",
              "      <td>0.974043</td>\n",
              "      <td>0.971287</td>\n",
              "      <td>0.954594</td>\n",
              "    </tr>\n",
              "    <tr>\n",
              "      <th>0</th>\n",
              "      <td>9.0</td>\n",
              "      <td>0.974043</td>\n",
              "      <td>0.971287</td>\n",
              "      <td>0.954594</td>\n",
              "    </tr>\n",
              "    <tr>\n",
              "      <th>0</th>\n",
              "      <td>10.0</td>\n",
              "      <td>0.974043</td>\n",
              "      <td>0.971287</td>\n",
              "      <td>0.954594</td>\n",
              "    </tr>\n",
              "    <tr>\n",
              "      <th>0</th>\n",
              "      <td>11.0</td>\n",
              "      <td>0.974043</td>\n",
              "      <td>0.971287</td>\n",
              "      <td>0.954594</td>\n",
              "    </tr>\n",
              "  </tbody>\n",
              "</table>\n",
              "</div>\n",
              "      <button class=\"colab-df-convert\" onclick=\"convertToInteractive('df-3b9d5834-0314-421d-a125-b5d2a19f68be')\"\n",
              "              title=\"Convert this dataframe to an interactive table.\"\n",
              "              style=\"display:none;\">\n",
              "        \n",
              "  <svg xmlns=\"http://www.w3.org/2000/svg\" height=\"24px\"viewBox=\"0 0 24 24\"\n",
              "       width=\"24px\">\n",
              "    <path d=\"M0 0h24v24H0V0z\" fill=\"none\"/>\n",
              "    <path d=\"M18.56 5.44l.94 2.06.94-2.06 2.06-.94-2.06-.94-.94-2.06-.94 2.06-2.06.94zm-11 1L8.5 8.5l.94-2.06 2.06-.94-2.06-.94L8.5 2.5l-.94 2.06-2.06.94zm10 10l.94 2.06.94-2.06 2.06-.94-2.06-.94-.94-2.06-.94 2.06-2.06.94z\"/><path d=\"M17.41 7.96l-1.37-1.37c-.4-.4-.92-.59-1.43-.59-.52 0-1.04.2-1.43.59L10.3 9.45l-7.72 7.72c-.78.78-.78 2.05 0 2.83L4 21.41c.39.39.9.59 1.41.59.51 0 1.02-.2 1.41-.59l7.78-7.78 2.81-2.81c.8-.78.8-2.07 0-2.86zM5.41 20L4 18.59l7.72-7.72 1.47 1.35L5.41 20z\"/>\n",
              "  </svg>\n",
              "      </button>\n",
              "      \n",
              "  <style>\n",
              "    .colab-df-container {\n",
              "      display:flex;\n",
              "      flex-wrap:wrap;\n",
              "      gap: 12px;\n",
              "    }\n",
              "\n",
              "    .colab-df-convert {\n",
              "      background-color: #E8F0FE;\n",
              "      border: none;\n",
              "      border-radius: 50%;\n",
              "      cursor: pointer;\n",
              "      display: none;\n",
              "      fill: #1967D2;\n",
              "      height: 32px;\n",
              "      padding: 0 0 0 0;\n",
              "      width: 32px;\n",
              "    }\n",
              "\n",
              "    .colab-df-convert:hover {\n",
              "      background-color: #E2EBFA;\n",
              "      box-shadow: 0px 1px 2px rgba(60, 64, 67, 0.3), 0px 1px 3px 1px rgba(60, 64, 67, 0.15);\n",
              "      fill: #174EA6;\n",
              "    }\n",
              "\n",
              "    [theme=dark] .colab-df-convert {\n",
              "      background-color: #3B4455;\n",
              "      fill: #D2E3FC;\n",
              "    }\n",
              "\n",
              "    [theme=dark] .colab-df-convert:hover {\n",
              "      background-color: #434B5C;\n",
              "      box-shadow: 0px 1px 3px 1px rgba(0, 0, 0, 0.15);\n",
              "      filter: drop-shadow(0px 1px 2px rgba(0, 0, 0, 0.3));\n",
              "      fill: #FFFFFF;\n",
              "    }\n",
              "  </style>\n",
              "\n",
              "      <script>\n",
              "        const buttonEl =\n",
              "          document.querySelector('#df-3b9d5834-0314-421d-a125-b5d2a19f68be button.colab-df-convert');\n",
              "        buttonEl.style.display =\n",
              "          google.colab.kernel.accessAllowed ? 'block' : 'none';\n",
              "\n",
              "        async function convertToInteractive(key) {\n",
              "          const element = document.querySelector('#df-3b9d5834-0314-421d-a125-b5d2a19f68be');\n",
              "          const dataTable =\n",
              "            await google.colab.kernel.invokeFunction('convertToInteractive',\n",
              "                                                     [key], {});\n",
              "          if (!dataTable) return;\n",
              "\n",
              "          const docLinkHtml = 'Like what you see? Visit the ' +\n",
              "            '<a target=\"_blank\" href=https://colab.research.google.com/notebooks/data_table.ipynb>data table notebook</a>'\n",
              "            + ' to learn more about interactive tables.';\n",
              "          element.innerHTML = '';\n",
              "          dataTable['output_type'] = 'display_data';\n",
              "          await google.colab.output.renderOutput(dataTable, element);\n",
              "          const docLink = document.createElement('div');\n",
              "          docLink.innerHTML = docLinkHtml;\n",
              "          element.appendChild(docLink);\n",
              "        }\n",
              "      </script>\n",
              "    </div>\n",
              "  </div>\n",
              "  "
            ]
          },
          "metadata": {},
          "execution_count": 297
        }
      ]
    },
    {
      "cell_type": "code",
      "source": [
        "# Lets get the best of them\n",
        "pca_df['Logistic Regression (%)'].max(), pca_df['KNN (%)'].max(), pca_df['Naive Bayes (%)'].max()"
      ],
      "metadata": {
        "colab": {
          "base_uri": "https://localhost:8080/"
        },
        "id": "5XQcRLJRTHVI",
        "outputId": "7f34faf8-0610-425d-bce3-530d7c28bd88"
      },
      "execution_count": 298,
      "outputs": [
        {
          "output_type": "execute_result",
          "data": {
            "text/plain": [
              "(0.9740469886100955, 0.9712870732288208, 0.9556767396573221)"
            ]
          },
          "metadata": {},
          "execution_count": 298
        }
      ]
    },
    {
      "cell_type": "markdown",
      "source": [
        "## Logistic Regression gives the Max of them all, as it can be seen easily. Lets find out for `what number of component`"
      ],
      "metadata": {
        "id": "HgkSUXBaT6LZ"
      }
    },
    {
      "cell_type": "code",
      "source": [
        "max_value_pca = pca_df['Logistic Regression (%)'].max()\n",
        "\n",
        "# Lets get the best of them\n",
        "pca_df[(pca_df['Logistic Regression (%)'] == max_value_pca)]"
      ],
      "metadata": {
        "colab": {
          "base_uri": "https://localhost:8080/",
          "height": 81
        },
        "id": "nOnSkgOQUN55",
        "outputId": "d4a034d9-972a-419b-cb37-659b73e53677"
      },
      "execution_count": 299,
      "outputs": [
        {
          "output_type": "execute_result",
          "data": {
            "text/plain": [
              "   n_comp PCA  Logistic Regression (%)   KNN (%)  Naive Bayes (%)\n",
              "0         5.0                 0.974047  0.971287         0.955677"
            ],
            "text/html": [
              "\n",
              "  <div id=\"df-fce4c148-fc0f-41db-8cd8-73daee1e2850\">\n",
              "    <div class=\"colab-df-container\">\n",
              "      <div>\n",
              "<style scoped>\n",
              "    .dataframe tbody tr th:only-of-type {\n",
              "        vertical-align: middle;\n",
              "    }\n",
              "\n",
              "    .dataframe tbody tr th {\n",
              "        vertical-align: top;\n",
              "    }\n",
              "\n",
              "    .dataframe thead th {\n",
              "        text-align: right;\n",
              "    }\n",
              "</style>\n",
              "<table border=\"1\" class=\"dataframe\">\n",
              "  <thead>\n",
              "    <tr style=\"text-align: right;\">\n",
              "      <th></th>\n",
              "      <th>n_comp PCA</th>\n",
              "      <th>Logistic Regression (%)</th>\n",
              "      <th>KNN (%)</th>\n",
              "      <th>Naive Bayes (%)</th>\n",
              "    </tr>\n",
              "  </thead>\n",
              "  <tbody>\n",
              "    <tr>\n",
              "      <th>0</th>\n",
              "      <td>5.0</td>\n",
              "      <td>0.974047</td>\n",
              "      <td>0.971287</td>\n",
              "      <td>0.955677</td>\n",
              "    </tr>\n",
              "  </tbody>\n",
              "</table>\n",
              "</div>\n",
              "      <button class=\"colab-df-convert\" onclick=\"convertToInteractive('df-fce4c148-fc0f-41db-8cd8-73daee1e2850')\"\n",
              "              title=\"Convert this dataframe to an interactive table.\"\n",
              "              style=\"display:none;\">\n",
              "        \n",
              "  <svg xmlns=\"http://www.w3.org/2000/svg\" height=\"24px\"viewBox=\"0 0 24 24\"\n",
              "       width=\"24px\">\n",
              "    <path d=\"M0 0h24v24H0V0z\" fill=\"none\"/>\n",
              "    <path d=\"M18.56 5.44l.94 2.06.94-2.06 2.06-.94-2.06-.94-.94-2.06-.94 2.06-2.06.94zm-11 1L8.5 8.5l.94-2.06 2.06-.94-2.06-.94L8.5 2.5l-.94 2.06-2.06.94zm10 10l.94 2.06.94-2.06 2.06-.94-2.06-.94-.94-2.06-.94 2.06-2.06.94z\"/><path d=\"M17.41 7.96l-1.37-1.37c-.4-.4-.92-.59-1.43-.59-.52 0-1.04.2-1.43.59L10.3 9.45l-7.72 7.72c-.78.78-.78 2.05 0 2.83L4 21.41c.39.39.9.59 1.41.59.51 0 1.02-.2 1.41-.59l7.78-7.78 2.81-2.81c.8-.78.8-2.07 0-2.86zM5.41 20L4 18.59l7.72-7.72 1.47 1.35L5.41 20z\"/>\n",
              "  </svg>\n",
              "      </button>\n",
              "      \n",
              "  <style>\n",
              "    .colab-df-container {\n",
              "      display:flex;\n",
              "      flex-wrap:wrap;\n",
              "      gap: 12px;\n",
              "    }\n",
              "\n",
              "    .colab-df-convert {\n",
              "      background-color: #E8F0FE;\n",
              "      border: none;\n",
              "      border-radius: 50%;\n",
              "      cursor: pointer;\n",
              "      display: none;\n",
              "      fill: #1967D2;\n",
              "      height: 32px;\n",
              "      padding: 0 0 0 0;\n",
              "      width: 32px;\n",
              "    }\n",
              "\n",
              "    .colab-df-convert:hover {\n",
              "      background-color: #E2EBFA;\n",
              "      box-shadow: 0px 1px 2px rgba(60, 64, 67, 0.3), 0px 1px 3px 1px rgba(60, 64, 67, 0.15);\n",
              "      fill: #174EA6;\n",
              "    }\n",
              "\n",
              "    [theme=dark] .colab-df-convert {\n",
              "      background-color: #3B4455;\n",
              "      fill: #D2E3FC;\n",
              "    }\n",
              "\n",
              "    [theme=dark] .colab-df-convert:hover {\n",
              "      background-color: #434B5C;\n",
              "      box-shadow: 0px 1px 3px 1px rgba(0, 0, 0, 0.15);\n",
              "      filter: drop-shadow(0px 1px 2px rgba(0, 0, 0, 0.3));\n",
              "      fill: #FFFFFF;\n",
              "    }\n",
              "  </style>\n",
              "\n",
              "      <script>\n",
              "        const buttonEl =\n",
              "          document.querySelector('#df-fce4c148-fc0f-41db-8cd8-73daee1e2850 button.colab-df-convert');\n",
              "        buttonEl.style.display =\n",
              "          google.colab.kernel.accessAllowed ? 'block' : 'none';\n",
              "\n",
              "        async function convertToInteractive(key) {\n",
              "          const element = document.querySelector('#df-fce4c148-fc0f-41db-8cd8-73daee1e2850');\n",
              "          const dataTable =\n",
              "            await google.colab.kernel.invokeFunction('convertToInteractive',\n",
              "                                                     [key], {});\n",
              "          if (!dataTable) return;\n",
              "\n",
              "          const docLinkHtml = 'Like what you see? Visit the ' +\n",
              "            '<a target=\"_blank\" href=https://colab.research.google.com/notebooks/data_table.ipynb>data table notebook</a>'\n",
              "            + ' to learn more about interactive tables.';\n",
              "          element.innerHTML = '';\n",
              "          dataTable['output_type'] = 'display_data';\n",
              "          await google.colab.output.renderOutput(dataTable, element);\n",
              "          const docLink = document.createElement('div');\n",
              "          docLink.innerHTML = docLinkHtml;\n",
              "          element.appendChild(docLink);\n",
              "        }\n",
              "      </script>\n",
              "    </div>\n",
              "  </div>\n",
              "  "
            ]
          },
          "metadata": {},
          "execution_count": 299
        }
      ]
    },
    {
      "cell_type": "markdown",
      "source": [
        "## Lets compare and see if PCA improved the performance"
      ],
      "metadata": {
        "id": "PF_cFbZxv0Mp"
      }
    },
    {
      "cell_type": "code",
      "source": [
        "pca_df[(pca_df['Logistic Regression (%)'] == max_value_pca)] > mean_scores_classifiers['Logistic Regression (%)'].iloc[0]"
      ],
      "metadata": {
        "colab": {
          "base_uri": "https://localhost:8080/",
          "height": 81
        },
        "id": "UrUmrg0NlIW4",
        "outputId": "20e29417-2735-41c9-d1ff-38fc8691664a"
      },
      "execution_count": 300,
      "outputs": [
        {
          "output_type": "execute_result",
          "data": {
            "text/plain": [
              "   n_comp PCA  Logistic Regression (%)  KNN (%)  Naive Bayes (%)\n",
              "0        True                     True    False            False"
            ],
            "text/html": [
              "\n",
              "  <div id=\"df-ca981886-53c5-481e-9972-7be70d885e98\">\n",
              "    <div class=\"colab-df-container\">\n",
              "      <div>\n",
              "<style scoped>\n",
              "    .dataframe tbody tr th:only-of-type {\n",
              "        vertical-align: middle;\n",
              "    }\n",
              "\n",
              "    .dataframe tbody tr th {\n",
              "        vertical-align: top;\n",
              "    }\n",
              "\n",
              "    .dataframe thead th {\n",
              "        text-align: right;\n",
              "    }\n",
              "</style>\n",
              "<table border=\"1\" class=\"dataframe\">\n",
              "  <thead>\n",
              "    <tr style=\"text-align: right;\">\n",
              "      <th></th>\n",
              "      <th>n_comp PCA</th>\n",
              "      <th>Logistic Regression (%)</th>\n",
              "      <th>KNN (%)</th>\n",
              "      <th>Naive Bayes (%)</th>\n",
              "    </tr>\n",
              "  </thead>\n",
              "  <tbody>\n",
              "    <tr>\n",
              "      <th>0</th>\n",
              "      <td>True</td>\n",
              "      <td>True</td>\n",
              "      <td>False</td>\n",
              "      <td>False</td>\n",
              "    </tr>\n",
              "  </tbody>\n",
              "</table>\n",
              "</div>\n",
              "      <button class=\"colab-df-convert\" onclick=\"convertToInteractive('df-ca981886-53c5-481e-9972-7be70d885e98')\"\n",
              "              title=\"Convert this dataframe to an interactive table.\"\n",
              "              style=\"display:none;\">\n",
              "        \n",
              "  <svg xmlns=\"http://www.w3.org/2000/svg\" height=\"24px\"viewBox=\"0 0 24 24\"\n",
              "       width=\"24px\">\n",
              "    <path d=\"M0 0h24v24H0V0z\" fill=\"none\"/>\n",
              "    <path d=\"M18.56 5.44l.94 2.06.94-2.06 2.06-.94-2.06-.94-.94-2.06-.94 2.06-2.06.94zm-11 1L8.5 8.5l.94-2.06 2.06-.94-2.06-.94L8.5 2.5l-.94 2.06-2.06.94zm10 10l.94 2.06.94-2.06 2.06-.94-2.06-.94-.94-2.06-.94 2.06-2.06.94z\"/><path d=\"M17.41 7.96l-1.37-1.37c-.4-.4-.92-.59-1.43-.59-.52 0-1.04.2-1.43.59L10.3 9.45l-7.72 7.72c-.78.78-.78 2.05 0 2.83L4 21.41c.39.39.9.59 1.41.59.51 0 1.02-.2 1.41-.59l7.78-7.78 2.81-2.81c.8-.78.8-2.07 0-2.86zM5.41 20L4 18.59l7.72-7.72 1.47 1.35L5.41 20z\"/>\n",
              "  </svg>\n",
              "      </button>\n",
              "      \n",
              "  <style>\n",
              "    .colab-df-container {\n",
              "      display:flex;\n",
              "      flex-wrap:wrap;\n",
              "      gap: 12px;\n",
              "    }\n",
              "\n",
              "    .colab-df-convert {\n",
              "      background-color: #E8F0FE;\n",
              "      border: none;\n",
              "      border-radius: 50%;\n",
              "      cursor: pointer;\n",
              "      display: none;\n",
              "      fill: #1967D2;\n",
              "      height: 32px;\n",
              "      padding: 0 0 0 0;\n",
              "      width: 32px;\n",
              "    }\n",
              "\n",
              "    .colab-df-convert:hover {\n",
              "      background-color: #E2EBFA;\n",
              "      box-shadow: 0px 1px 2px rgba(60, 64, 67, 0.3), 0px 1px 3px 1px rgba(60, 64, 67, 0.15);\n",
              "      fill: #174EA6;\n",
              "    }\n",
              "\n",
              "    [theme=dark] .colab-df-convert {\n",
              "      background-color: #3B4455;\n",
              "      fill: #D2E3FC;\n",
              "    }\n",
              "\n",
              "    [theme=dark] .colab-df-convert:hover {\n",
              "      background-color: #434B5C;\n",
              "      box-shadow: 0px 1px 3px 1px rgba(0, 0, 0, 0.15);\n",
              "      filter: drop-shadow(0px 1px 2px rgba(0, 0, 0, 0.3));\n",
              "      fill: #FFFFFF;\n",
              "    }\n",
              "  </style>\n",
              "\n",
              "      <script>\n",
              "        const buttonEl =\n",
              "          document.querySelector('#df-ca981886-53c5-481e-9972-7be70d885e98 button.colab-df-convert');\n",
              "        buttonEl.style.display =\n",
              "          google.colab.kernel.accessAllowed ? 'block' : 'none';\n",
              "\n",
              "        async function convertToInteractive(key) {\n",
              "          const element = document.querySelector('#df-ca981886-53c5-481e-9972-7be70d885e98');\n",
              "          const dataTable =\n",
              "            await google.colab.kernel.invokeFunction('convertToInteractive',\n",
              "                                                     [key], {});\n",
              "          if (!dataTable) return;\n",
              "\n",
              "          const docLinkHtml = 'Like what you see? Visit the ' +\n",
              "            '<a target=\"_blank\" href=https://colab.research.google.com/notebooks/data_table.ipynb>data table notebook</a>'\n",
              "            + ' to learn more about interactive tables.';\n",
              "          element.innerHTML = '';\n",
              "          dataTable['output_type'] = 'display_data';\n",
              "          await google.colab.output.renderOutput(dataTable, element);\n",
              "          const docLink = document.createElement('div');\n",
              "          docLink.innerHTML = docLinkHtml;\n",
              "          element.appendChild(docLink);\n",
              "        }\n",
              "      </script>\n",
              "    </div>\n",
              "  </div>\n",
              "  "
            ]
          },
          "metadata": {},
          "execution_count": 300
        }
      ]
    },
    {
      "cell_type": "markdown",
      "source": [
        "## `Conclusion`:  For `PCA` with `5 components` we get the max value of using `Logistic Regression`"
      ],
      "metadata": {
        "id": "o0skR7C0UwdH"
      }
    },
    {
      "cell_type": "markdown",
      "source": [
        "# Lasso Regression : To find useful and redundant features"
      ],
      "metadata": {
        "id": "fcgX2qZ13HyJ"
      }
    },
    {
      "cell_type": "code",
      "source": [
        "import numpy as np\n",
        "from sklearn.preprocessing import StandardScaler\n",
        "from sklearn.pipeline import Pipeline\n",
        "from sklearn.model_selection import train_test_split, GridSearchCV\n",
        "from sklearn.linear_model import Lasso\n",
        "\n",
        "# Train test split\n",
        "X_train, X_test, y_train, y_test = train_test_split(df, target,\n",
        "                                                    test_size=0.33, \n",
        "                                                    random_state=42)\n",
        "\n",
        "# Pipeline\n",
        "pipeline = Pipeline([\n",
        "                     ('scaler',StandardScaler()),\n",
        "                     ('model',Lasso())\n",
        "])\n",
        "\n",
        "\n",
        "# Grid search\n",
        "search_cv = GridSearchCV(pipeline,\n",
        "                      {'model__alpha':np.arange(0.1,10,0.1)},\n",
        "                      cv = 5, \n",
        "                      scoring=\"neg_mean_squared_error\",\n",
        "                      verbose=3\n",
        "                      )\n",
        "\n",
        "# Fitting on it\n",
        "search_cv.fit(X_train,y_train)\n",
        "\n",
        "# Searching th best\n",
        "search_cv.best_params_\n",
        "\n",
        "# Seacthing best estimators\n",
        "coefficients = search_cv.best_estimator_.named_steps['model'].coef_\n",
        "\n",
        "# Storing their importance by coefficent values\n",
        "importance = np.abs(coefficients)"
      ],
      "metadata": {
        "colab": {
          "base_uri": "https://localhost:8080/"
        },
        "id": "4OrZPYd8pHC9",
        "outputId": "41a52ffa-0320-42ed-c928-f0ba7e140613"
      },
      "execution_count": 301,
      "outputs": [
        {
          "output_type": "stream",
          "name": "stdout",
          "text": [
            "Fitting 5 folds for each of 99 candidates, totalling 495 fits\n",
            "[CV 1/5] END .................model__alpha=0.1;, score=-0.063 total time=   0.0s\n",
            "[CV 2/5] END .................model__alpha=0.1;, score=-0.056 total time=   0.0s\n",
            "[CV 3/5] END .................model__alpha=0.1;, score=-0.043 total time=   0.0s\n",
            "[CV 4/5] END .................model__alpha=0.1;, score=-0.081 total time=   0.0s\n",
            "[CV 5/5] END .................model__alpha=0.1;, score=-0.054 total time=   0.0s\n",
            "[CV 1/5] END .................model__alpha=0.2;, score=-0.114 total time=   0.0s\n",
            "[CV 2/5] END .................model__alpha=0.2;, score=-0.107 total time=   0.0s\n",
            "[CV 3/5] END .................model__alpha=0.2;, score=-0.097 total time=   0.0s\n",
            "[CV 4/5] END .................model__alpha=0.2;, score=-0.125 total time=   0.0s\n",
            "[CV 5/5] END .................model__alpha=0.2;, score=-0.105 total time=   0.0s\n",
            "[CV 1/5] END .model__alpha=0.30000000000000004;, score=-0.178 total time=   0.0s\n",
            "[CV 2/5] END .model__alpha=0.30000000000000004;, score=-0.174 total time=   0.0s\n",
            "[CV 3/5] END .model__alpha=0.30000000000000004;, score=-0.172 total time=   0.0s\n",
            "[CV 4/5] END .model__alpha=0.30000000000000004;, score=-0.181 total time=   0.0s\n",
            "[CV 5/5] END .model__alpha=0.30000000000000004;, score=-0.174 total time=   0.0s\n",
            "[CV 1/5] END .................model__alpha=0.4;, score=-0.251 total time=   0.0s\n",
            "[CV 2/5] END .................model__alpha=0.4;, score=-0.250 total time=   0.0s\n",
            "[CV 3/5] END .................model__alpha=0.4;, score=-0.254 total time=   0.0s\n",
            "[CV 4/5] END .................model__alpha=0.4;, score=-0.246 total time=   0.0s\n",
            "[CV 5/5] END .................model__alpha=0.4;, score=-0.250 total time=   0.0s\n",
            "[CV 1/5] END .................model__alpha=0.5;, score=-0.251 total time=   0.0s\n",
            "[CV 2/5] END .................model__alpha=0.5;, score=-0.250 total time=   0.0s\n",
            "[CV 3/5] END .................model__alpha=0.5;, score=-0.254 total time=   0.0s\n",
            "[CV 4/5] END .................model__alpha=0.5;, score=-0.250 total time=   0.0s\n",
            "[CV 5/5] END .................model__alpha=0.5;, score=-0.250 total time=   0.0s\n",
            "[CV 1/5] END .................model__alpha=0.6;, score=-0.251 total time=   0.0s\n",
            "[CV 2/5] END .................model__alpha=0.6;, score=-0.250 total time=   0.0s\n",
            "[CV 3/5] END .................model__alpha=0.6;, score=-0.254 total time=   0.0s\n",
            "[CV 4/5] END .................model__alpha=0.6;, score=-0.250 total time=   0.0s\n",
            "[CV 5/5] END .................model__alpha=0.6;, score=-0.250 total time=   0.0s\n",
            "[CV 1/5] END ..model__alpha=0.7000000000000001;, score=-0.251 total time=   0.0s\n",
            "[CV 2/5] END ..model__alpha=0.7000000000000001;, score=-0.250 total time=   0.0s\n",
            "[CV 3/5] END ..model__alpha=0.7000000000000001;, score=-0.254 total time=   0.0s\n",
            "[CV 4/5] END ..model__alpha=0.7000000000000001;, score=-0.250 total time=   0.0s\n",
            "[CV 5/5] END ..model__alpha=0.7000000000000001;, score=-0.250 total time=   0.0s\n",
            "[CV 1/5] END .................model__alpha=0.8;, score=-0.251 total time=   0.0s\n",
            "[CV 2/5] END .................model__alpha=0.8;, score=-0.250 total time=   0.0s\n",
            "[CV 3/5] END .................model__alpha=0.8;, score=-0.254 total time=   0.0s\n",
            "[CV 4/5] END .................model__alpha=0.8;, score=-0.250 total time=   0.0s\n",
            "[CV 5/5] END .................model__alpha=0.8;, score=-0.250 total time=   0.0s\n",
            "[CV 1/5] END .................model__alpha=0.9;, score=-0.251 total time=   0.0s\n",
            "[CV 2/5] END .................model__alpha=0.9;, score=-0.250 total time=   0.0s\n",
            "[CV 3/5] END .................model__alpha=0.9;, score=-0.254 total time=   0.0s\n",
            "[CV 4/5] END .................model__alpha=0.9;, score=-0.250 total time=   0.0s\n",
            "[CV 5/5] END .................model__alpha=0.9;, score=-0.250 total time=   0.0s\n",
            "[CV 1/5] END .................model__alpha=1.0;, score=-0.251 total time=   0.0s\n",
            "[CV 2/5] END .................model__alpha=1.0;, score=-0.250 total time=   0.0s\n",
            "[CV 3/5] END .................model__alpha=1.0;, score=-0.254 total time=   0.0s\n",
            "[CV 4/5] END .................model__alpha=1.0;, score=-0.250 total time=   0.0s\n",
            "[CV 5/5] END .................model__alpha=1.0;, score=-0.250 total time=   0.0s\n",
            "[CV 1/5] END .................model__alpha=1.1;, score=-0.251 total time=   0.0s\n",
            "[CV 2/5] END .................model__alpha=1.1;, score=-0.250 total time=   0.0s\n",
            "[CV 3/5] END .................model__alpha=1.1;, score=-0.254 total time=   0.0s\n",
            "[CV 4/5] END .................model__alpha=1.1;, score=-0.250 total time=   0.0s\n",
            "[CV 5/5] END .................model__alpha=1.1;, score=-0.250 total time=   0.0s\n",
            "[CV 1/5] END ..model__alpha=1.2000000000000002;, score=-0.251 total time=   0.0s\n",
            "[CV 2/5] END ..model__alpha=1.2000000000000002;, score=-0.250 total time=   0.0s\n",
            "[CV 3/5] END ..model__alpha=1.2000000000000002;, score=-0.254 total time=   0.0s\n",
            "[CV 4/5] END ..model__alpha=1.2000000000000002;, score=-0.250 total time=   0.0s\n",
            "[CV 5/5] END ..model__alpha=1.2000000000000002;, score=-0.250 total time=   0.0s\n",
            "[CV 1/5] END ..model__alpha=1.3000000000000003;, score=-0.251 total time=   0.0s\n",
            "[CV 2/5] END ..model__alpha=1.3000000000000003;, score=-0.250 total time=   0.0s\n",
            "[CV 3/5] END ..model__alpha=1.3000000000000003;, score=-0.254 total time=   0.0s\n",
            "[CV 4/5] END ..model__alpha=1.3000000000000003;, score=-0.250 total time=   0.0s\n",
            "[CV 5/5] END ..model__alpha=1.3000000000000003;, score=-0.250 total time=   0.0s\n",
            "[CV 1/5] END ..model__alpha=1.4000000000000001;, score=-0.251 total time=   0.0s\n",
            "[CV 2/5] END ..model__alpha=1.4000000000000001;, score=-0.250 total time=   0.0s\n",
            "[CV 3/5] END ..model__alpha=1.4000000000000001;, score=-0.254 total time=   0.0s\n",
            "[CV 4/5] END ..model__alpha=1.4000000000000001;, score=-0.250 total time=   0.0s\n",
            "[CV 5/5] END ..model__alpha=1.4000000000000001;, score=-0.250 total time=   0.0s\n",
            "[CV 1/5] END ..model__alpha=1.5000000000000002;, score=-0.251 total time=   0.0s\n",
            "[CV 2/5] END ..model__alpha=1.5000000000000002;, score=-0.250 total time=   0.0s\n",
            "[CV 3/5] END ..model__alpha=1.5000000000000002;, score=-0.254 total time=   0.0s\n",
            "[CV 4/5] END ..model__alpha=1.5000000000000002;, score=-0.250 total time=   0.0s\n",
            "[CV 5/5] END ..model__alpha=1.5000000000000002;, score=-0.250 total time=   0.0s\n",
            "[CV 1/5] END .................model__alpha=1.6;, score=-0.251 total time=   0.0s\n",
            "[CV 2/5] END .................model__alpha=1.6;, score=-0.250 total time=   0.0s\n",
            "[CV 3/5] END .................model__alpha=1.6;, score=-0.254 total time=   0.0s\n",
            "[CV 4/5] END .................model__alpha=1.6;, score=-0.250 total time=   0.0s\n",
            "[CV 5/5] END .................model__alpha=1.6;, score=-0.250 total time=   0.0s\n",
            "[CV 1/5] END ..model__alpha=1.7000000000000002;, score=-0.251 total time=   0.0s\n",
            "[CV 2/5] END ..model__alpha=1.7000000000000002;, score=-0.250 total time=   0.0s\n",
            "[CV 3/5] END ..model__alpha=1.7000000000000002;, score=-0.254 total time=   0.0s\n",
            "[CV 4/5] END ..model__alpha=1.7000000000000002;, score=-0.250 total time=   0.0s\n",
            "[CV 5/5] END ..model__alpha=1.7000000000000002;, score=-0.250 total time=   0.0s\n",
            "[CV 1/5] END ..model__alpha=1.8000000000000003;, score=-0.251 total time=   0.0s\n",
            "[CV 2/5] END ..model__alpha=1.8000000000000003;, score=-0.250 total time=   0.0s\n",
            "[CV 3/5] END ..model__alpha=1.8000000000000003;, score=-0.254 total time=   0.0s\n",
            "[CV 4/5] END ..model__alpha=1.8000000000000003;, score=-0.250 total time=   0.0s\n",
            "[CV 5/5] END ..model__alpha=1.8000000000000003;, score=-0.250 total time=   0.0s\n",
            "[CV 1/5] END ..model__alpha=1.9000000000000001;, score=-0.251 total time=   0.0s\n",
            "[CV 2/5] END ..model__alpha=1.9000000000000001;, score=-0.250 total time=   0.0s\n",
            "[CV 3/5] END ..model__alpha=1.9000000000000001;, score=-0.254 total time=   0.0s\n",
            "[CV 4/5] END ..model__alpha=1.9000000000000001;, score=-0.250 total time=   0.0s\n",
            "[CV 5/5] END ..model__alpha=1.9000000000000001;, score=-0.250 total time=   0.0s\n",
            "[CV 1/5] END .................model__alpha=2.0;, score=-0.251 total time=   0.0s\n",
            "[CV 2/5] END .................model__alpha=2.0;, score=-0.250 total time=   0.0s\n",
            "[CV 3/5] END .................model__alpha=2.0;, score=-0.254 total time=   0.0s\n",
            "[CV 4/5] END .................model__alpha=2.0;, score=-0.250 total time=   0.0s\n",
            "[CV 5/5] END .................model__alpha=2.0;, score=-0.250 total time=   0.0s\n",
            "[CV 1/5] END .................model__alpha=2.1;, score=-0.251 total time=   0.0s\n",
            "[CV 2/5] END .................model__alpha=2.1;, score=-0.250 total time=   0.0s\n",
            "[CV 3/5] END .................model__alpha=2.1;, score=-0.254 total time=   0.0s\n",
            "[CV 4/5] END .................model__alpha=2.1;, score=-0.250 total time=   0.0s\n",
            "[CV 5/5] END .................model__alpha=2.1;, score=-0.250 total time=   0.0s\n",
            "[CV 1/5] END .................model__alpha=2.2;, score=-0.251 total time=   0.0s\n",
            "[CV 2/5] END .................model__alpha=2.2;, score=-0.250 total time=   0.0s\n",
            "[CV 3/5] END .................model__alpha=2.2;, score=-0.254 total time=   0.0s\n",
            "[CV 4/5] END .................model__alpha=2.2;, score=-0.250 total time=   0.0s\n",
            "[CV 5/5] END .................model__alpha=2.2;, score=-0.250 total time=   0.0s\n",
            "[CV 1/5] END ..model__alpha=2.3000000000000003;, score=-0.251 total time=   0.0s\n",
            "[CV 2/5] END ..model__alpha=2.3000000000000003;, score=-0.250 total time=   0.0s\n",
            "[CV 3/5] END ..model__alpha=2.3000000000000003;, score=-0.254 total time=   0.0s\n",
            "[CV 4/5] END ..model__alpha=2.3000000000000003;, score=-0.250 total time=   0.0s\n",
            "[CV 5/5] END ..model__alpha=2.3000000000000003;, score=-0.250 total time=   0.0s\n",
            "[CV 1/5] END ..model__alpha=2.4000000000000004;, score=-0.251 total time=   0.0s\n",
            "[CV 2/5] END ..model__alpha=2.4000000000000004;, score=-0.250 total time=   0.0s\n",
            "[CV 3/5] END ..model__alpha=2.4000000000000004;, score=-0.254 total time=   0.0s\n",
            "[CV 4/5] END ..model__alpha=2.4000000000000004;, score=-0.250 total time=   0.0s\n",
            "[CV 5/5] END ..model__alpha=2.4000000000000004;, score=-0.250 total time=   0.0s\n",
            "[CV 1/5] END ..model__alpha=2.5000000000000004;, score=-0.251 total time=   0.0s\n",
            "[CV 2/5] END ..model__alpha=2.5000000000000004;, score=-0.250 total time=   0.0s\n",
            "[CV 3/5] END ..model__alpha=2.5000000000000004;, score=-0.254 total time=   0.0s\n",
            "[CV 4/5] END ..model__alpha=2.5000000000000004;, score=-0.250 total time=   0.0s\n",
            "[CV 5/5] END ..model__alpha=2.5000000000000004;, score=-0.250 total time=   0.0s\n",
            "[CV 1/5] END .................model__alpha=2.6;, score=-0.251 total time=   0.0s\n",
            "[CV 2/5] END .................model__alpha=2.6;, score=-0.250 total time=   0.0s\n",
            "[CV 3/5] END .................model__alpha=2.6;, score=-0.254 total time=   0.0s\n",
            "[CV 4/5] END .................model__alpha=2.6;, score=-0.250 total time=   0.0s\n",
            "[CV 5/5] END .................model__alpha=2.6;, score=-0.250 total time=   0.0s\n",
            "[CV 1/5] END .................model__alpha=2.7;, score=-0.251 total time=   0.0s\n",
            "[CV 2/5] END .................model__alpha=2.7;, score=-0.250 total time=   0.0s\n",
            "[CV 3/5] END .................model__alpha=2.7;, score=-0.254 total time=   0.0s\n",
            "[CV 4/5] END .................model__alpha=2.7;, score=-0.250 total time=   0.0s\n",
            "[CV 5/5] END .................model__alpha=2.7;, score=-0.250 total time=   0.0s\n",
            "[CV 1/5] END ..model__alpha=2.8000000000000003;, score=-0.251 total time=   0.0s\n",
            "[CV 2/5] END ..model__alpha=2.8000000000000003;, score=-0.250 total time=   0.0s\n",
            "[CV 3/5] END ..model__alpha=2.8000000000000003;, score=-0.254 total time=   0.0s\n",
            "[CV 4/5] END ..model__alpha=2.8000000000000003;, score=-0.250 total time=   0.0s\n",
            "[CV 5/5] END ..model__alpha=2.8000000000000003;, score=-0.250 total time=   0.0s\n",
            "[CV 1/5] END ..model__alpha=2.9000000000000004;, score=-0.251 total time=   0.0s\n",
            "[CV 2/5] END ..model__alpha=2.9000000000000004;, score=-0.250 total time=   0.0s\n",
            "[CV 3/5] END ..model__alpha=2.9000000000000004;, score=-0.254 total time=   0.0s\n",
            "[CV 4/5] END ..model__alpha=2.9000000000000004;, score=-0.250 total time=   0.0s\n",
            "[CV 5/5] END ..model__alpha=2.9000000000000004;, score=-0.250 total time=   0.0s\n",
            "[CV 1/5] END ..model__alpha=3.0000000000000004;, score=-0.251 total time=   0.0s\n",
            "[CV 2/5] END ..model__alpha=3.0000000000000004;, score=-0.250 total time=   0.0s\n",
            "[CV 3/5] END ..model__alpha=3.0000000000000004;, score=-0.254 total time=   0.0s\n",
            "[CV 4/5] END ..model__alpha=3.0000000000000004;, score=-0.250 total time=   0.0s\n",
            "[CV 5/5] END ..model__alpha=3.0000000000000004;, score=-0.250 total time=   0.0s\n",
            "[CV 1/5] END .................model__alpha=3.1;, score=-0.251 total time=   0.0s\n",
            "[CV 2/5] END .................model__alpha=3.1;, score=-0.250 total time=   0.0s\n",
            "[CV 3/5] END .................model__alpha=3.1;, score=-0.254 total time=   0.0s\n",
            "[CV 4/5] END .................model__alpha=3.1;, score=-0.250 total time=   0.0s\n",
            "[CV 5/5] END .................model__alpha=3.1;, score=-0.250 total time=   0.0s\n",
            "[CV 1/5] END .................model__alpha=3.2;, score=-0.251 total time=   0.0s\n",
            "[CV 2/5] END .................model__alpha=3.2;, score=-0.250 total time=   0.0s\n",
            "[CV 3/5] END .................model__alpha=3.2;, score=-0.254 total time=   0.0s\n",
            "[CV 4/5] END .................model__alpha=3.2;, score=-0.250 total time=   0.0s\n",
            "[CV 5/5] END .................model__alpha=3.2;, score=-0.250 total time=   0.0s\n",
            "[CV 1/5] END ..model__alpha=3.3000000000000003;, score=-0.251 total time=   0.0s\n",
            "[CV 2/5] END ..model__alpha=3.3000000000000003;, score=-0.250 total time=   0.0s\n",
            "[CV 3/5] END ..model__alpha=3.3000000000000003;, score=-0.254 total time=   0.0s\n",
            "[CV 4/5] END ..model__alpha=3.3000000000000003;, score=-0.250 total time=   0.0s\n",
            "[CV 5/5] END ..model__alpha=3.3000000000000003;, score=-0.250 total time=   0.0s\n",
            "[CV 1/5] END ..model__alpha=3.4000000000000004;, score=-0.251 total time=   0.0s\n",
            "[CV 2/5] END ..model__alpha=3.4000000000000004;, score=-0.250 total time=   0.0s\n",
            "[CV 3/5] END ..model__alpha=3.4000000000000004;, score=-0.254 total time=   0.0s\n",
            "[CV 4/5] END ..model__alpha=3.4000000000000004;, score=-0.250 total time=   0.0s\n",
            "[CV 5/5] END ..model__alpha=3.4000000000000004;, score=-0.250 total time=   0.0s\n",
            "[CV 1/5] END ..model__alpha=3.5000000000000004;, score=-0.251 total time=   0.0s\n",
            "[CV 2/5] END ..model__alpha=3.5000000000000004;, score=-0.250 total time=   0.0s\n",
            "[CV 3/5] END ..model__alpha=3.5000000000000004;, score=-0.254 total time=   0.0s\n",
            "[CV 4/5] END ..model__alpha=3.5000000000000004;, score=-0.250 total time=   0.0s\n",
            "[CV 5/5] END ..model__alpha=3.5000000000000004;, score=-0.250 total time=   0.0s\n",
            "[CV 1/5] END .................model__alpha=3.6;, score=-0.251 total time=   0.0s\n",
            "[CV 2/5] END .................model__alpha=3.6;, score=-0.250 total time=   0.0s\n",
            "[CV 3/5] END .................model__alpha=3.6;, score=-0.254 total time=   0.0s\n",
            "[CV 4/5] END .................model__alpha=3.6;, score=-0.250 total time=   0.0s\n",
            "[CV 5/5] END .................model__alpha=3.6;, score=-0.250 total time=   0.0s\n",
            "[CV 1/5] END .................model__alpha=3.7;, score=-0.251 total time=   0.0s\n",
            "[CV 2/5] END .................model__alpha=3.7;, score=-0.250 total time=   0.0s\n",
            "[CV 3/5] END .................model__alpha=3.7;, score=-0.254 total time=   0.0s\n",
            "[CV 4/5] END .................model__alpha=3.7;, score=-0.250 total time=   0.0s\n",
            "[CV 5/5] END .................model__alpha=3.7;, score=-0.250 total time=   0.0s\n",
            "[CV 1/5] END ..model__alpha=3.8000000000000003;, score=-0.251 total time=   0.0s\n",
            "[CV 2/5] END ..model__alpha=3.8000000000000003;, score=-0.250 total time=   0.0s\n",
            "[CV 3/5] END ..model__alpha=3.8000000000000003;, score=-0.254 total time=   0.0s\n",
            "[CV 4/5] END ..model__alpha=3.8000000000000003;, score=-0.250 total time=   0.0s\n",
            "[CV 5/5] END ..model__alpha=3.8000000000000003;, score=-0.250 total time=   0.0s\n",
            "[CV 1/5] END ..model__alpha=3.9000000000000004;, score=-0.251 total time=   0.0s\n",
            "[CV 2/5] END ..model__alpha=3.9000000000000004;, score=-0.250 total time=   0.0s\n",
            "[CV 3/5] END ..model__alpha=3.9000000000000004;, score=-0.254 total time=   0.0s\n",
            "[CV 4/5] END ..model__alpha=3.9000000000000004;, score=-0.250 total time=   0.0s\n",
            "[CV 5/5] END ..model__alpha=3.9000000000000004;, score=-0.250 total time=   0.0s\n",
            "[CV 1/5] END .................model__alpha=4.0;, score=-0.251 total time=   0.0s\n",
            "[CV 2/5] END .................model__alpha=4.0;, score=-0.250 total time=   0.0s\n",
            "[CV 3/5] END .................model__alpha=4.0;, score=-0.254 total time=   0.0s\n",
            "[CV 4/5] END .................model__alpha=4.0;, score=-0.250 total time=   0.0s\n",
            "[CV 5/5] END .................model__alpha=4.0;, score=-0.250 total time=   0.0s\n",
            "[CV 1/5] END .................model__alpha=4.1;, score=-0.251 total time=   0.0s\n",
            "[CV 2/5] END .................model__alpha=4.1;, score=-0.250 total time=   0.0s\n",
            "[CV 3/5] END .................model__alpha=4.1;, score=-0.254 total time=   0.0s\n",
            "[CV 4/5] END .................model__alpha=4.1;, score=-0.250 total time=   0.0s\n",
            "[CV 5/5] END .................model__alpha=4.1;, score=-0.250 total time=   0.0s\n",
            "[CV 1/5] END .................model__alpha=4.2;, score=-0.251 total time=   0.0s\n",
            "[CV 2/5] END .................model__alpha=4.2;, score=-0.250 total time=   0.0s\n",
            "[CV 3/5] END .................model__alpha=4.2;, score=-0.254 total time=   0.0s\n",
            "[CV 4/5] END .................model__alpha=4.2;, score=-0.250 total time=   0.0s\n",
            "[CV 5/5] END .................model__alpha=4.2;, score=-0.250 total time=   0.0s\n",
            "[CV 1/5] END .................model__alpha=4.3;, score=-0.251 total time=   0.0s\n",
            "[CV 2/5] END .................model__alpha=4.3;, score=-0.250 total time=   0.0s\n",
            "[CV 3/5] END .................model__alpha=4.3;, score=-0.254 total time=   0.0s\n",
            "[CV 4/5] END .................model__alpha=4.3;, score=-0.250 total time=   0.0s\n",
            "[CV 5/5] END .................model__alpha=4.3;, score=-0.250 total time=   0.0s\n",
            "[CV 1/5] END ..model__alpha=4.3999999999999995;, score=-0.251 total time=   0.0s\n",
            "[CV 2/5] END ..model__alpha=4.3999999999999995;, score=-0.250 total time=   0.0s\n",
            "[CV 3/5] END ..model__alpha=4.3999999999999995;, score=-0.254 total time=   0.0s\n",
            "[CV 4/5] END ..model__alpha=4.3999999999999995;, score=-0.250 total time=   0.0s\n",
            "[CV 5/5] END ..model__alpha=4.3999999999999995;, score=-0.250 total time=   0.0s\n",
            "[CV 1/5] END .................model__alpha=4.5;, score=-0.251 total time=   0.0s\n",
            "[CV 2/5] END .................model__alpha=4.5;, score=-0.250 total time=   0.0s\n",
            "[CV 3/5] END .................model__alpha=4.5;, score=-0.254 total time=   0.0s\n",
            "[CV 4/5] END .................model__alpha=4.5;, score=-0.250 total time=   0.0s\n",
            "[CV 5/5] END .................model__alpha=4.5;, score=-0.250 total time=   0.0s\n",
            "[CV 1/5] END .................model__alpha=4.6;, score=-0.251 total time=   0.0s\n",
            "[CV 2/5] END .................model__alpha=4.6;, score=-0.250 total time=   0.0s\n",
            "[CV 3/5] END .................model__alpha=4.6;, score=-0.254 total time=   0.0s\n",
            "[CV 4/5] END .................model__alpha=4.6;, score=-0.250 total time=   0.0s\n",
            "[CV 5/5] END .................model__alpha=4.6;, score=-0.250 total time=   0.0s\n",
            "[CV 1/5] END .................model__alpha=4.7;, score=-0.251 total time=   0.0s\n",
            "[CV 2/5] END .................model__alpha=4.7;, score=-0.250 total time=   0.0s\n",
            "[CV 3/5] END .................model__alpha=4.7;, score=-0.254 total time=   0.0s\n",
            "[CV 4/5] END .................model__alpha=4.7;, score=-0.250 total time=   0.0s\n",
            "[CV 5/5] END .................model__alpha=4.7;, score=-0.250 total time=   0.0s\n",
            "[CV 1/5] END .................model__alpha=4.8;, score=-0.251 total time=   0.0s\n",
            "[CV 2/5] END .................model__alpha=4.8;, score=-0.250 total time=   0.0s\n",
            "[CV 3/5] END .................model__alpha=4.8;, score=-0.254 total time=   0.0s\n",
            "[CV 4/5] END .................model__alpha=4.8;, score=-0.250 total time=   0.0s\n",
            "[CV 5/5] END .................model__alpha=4.8;, score=-0.250 total time=   0.0s\n",
            "[CV 1/5] END .................model__alpha=4.9;, score=-0.251 total time=   0.0s\n",
            "[CV 2/5] END .................model__alpha=4.9;, score=-0.250 total time=   0.0s\n",
            "[CV 3/5] END .................model__alpha=4.9;, score=-0.254 total time=   0.0s\n",
            "[CV 4/5] END .................model__alpha=4.9;, score=-0.250 total time=   0.0s\n",
            "[CV 5/5] END .................model__alpha=4.9;, score=-0.250 total time=   0.0s\n",
            "[CV 1/5] END .................model__alpha=5.0;, score=-0.251 total time=   0.0s\n",
            "[CV 2/5] END .................model__alpha=5.0;, score=-0.250 total time=   0.0s\n",
            "[CV 3/5] END .................model__alpha=5.0;, score=-0.254 total time=   0.0s\n",
            "[CV 4/5] END .................model__alpha=5.0;, score=-0.250 total time=   0.0s\n",
            "[CV 5/5] END .................model__alpha=5.0;, score=-0.250 total time=   0.0s\n",
            "[CV 1/5] END .................model__alpha=5.1;, score=-0.251 total time=   0.0s\n",
            "[CV 2/5] END .................model__alpha=5.1;, score=-0.250 total time=   0.0s\n",
            "[CV 3/5] END .................model__alpha=5.1;, score=-0.254 total time=   0.0s\n",
            "[CV 4/5] END .................model__alpha=5.1;, score=-0.250 total time=   0.0s\n",
            "[CV 5/5] END .................model__alpha=5.1;, score=-0.250 total time=   0.0s\n",
            "[CV 1/5] END .................model__alpha=5.2;, score=-0.251 total time=   0.0s\n",
            "[CV 2/5] END .................model__alpha=5.2;, score=-0.250 total time=   0.0s\n",
            "[CV 3/5] END .................model__alpha=5.2;, score=-0.254 total time=   0.0s\n",
            "[CV 4/5] END .................model__alpha=5.2;, score=-0.250 total time=   0.0s\n",
            "[CV 5/5] END .................model__alpha=5.2;, score=-0.250 total time=   0.0s\n",
            "[CV 1/5] END .................model__alpha=5.3;, score=-0.251 total time=   0.0s\n",
            "[CV 2/5] END .................model__alpha=5.3;, score=-0.250 total time=   0.0s\n",
            "[CV 3/5] END .................model__alpha=5.3;, score=-0.254 total time=   0.0s\n",
            "[CV 4/5] END .................model__alpha=5.3;, score=-0.250 total time=   0.0s\n",
            "[CV 5/5] END .................model__alpha=5.3;, score=-0.250 total time=   0.0s\n",
            "[CV 1/5] END .................model__alpha=5.4;, score=-0.251 total time=   0.0s\n",
            "[CV 2/5] END .................model__alpha=5.4;, score=-0.250 total time=   0.0s\n",
            "[CV 3/5] END .................model__alpha=5.4;, score=-0.254 total time=   0.0s\n",
            "[CV 4/5] END .................model__alpha=5.4;, score=-0.250 total time=   0.0s\n",
            "[CV 5/5] END .................model__alpha=5.4;, score=-0.250 total time=   0.0s\n",
            "[CV 1/5] END .................model__alpha=5.5;, score=-0.251 total time=   0.0s\n",
            "[CV 2/5] END .................model__alpha=5.5;, score=-0.250 total time=   0.0s\n",
            "[CV 3/5] END .................model__alpha=5.5;, score=-0.254 total time=   0.0s\n",
            "[CV 4/5] END .................model__alpha=5.5;, score=-0.250 total time=   0.0s\n",
            "[CV 5/5] END .................model__alpha=5.5;, score=-0.250 total time=   0.0s\n",
            "[CV 1/5] END .................model__alpha=5.6;, score=-0.251 total time=   0.0s\n",
            "[CV 2/5] END .................model__alpha=5.6;, score=-0.250 total time=   0.0s\n",
            "[CV 3/5] END .................model__alpha=5.6;, score=-0.254 total time=   0.0s\n",
            "[CV 4/5] END .................model__alpha=5.6;, score=-0.250 total time=   0.0s\n",
            "[CV 5/5] END .................model__alpha=5.6;, score=-0.250 total time=   0.0s\n",
            "[CV 1/5] END .................model__alpha=5.7;, score=-0.251 total time=   0.0s\n",
            "[CV 2/5] END .................model__alpha=5.7;, score=-0.250 total time=   0.0s\n",
            "[CV 3/5] END .................model__alpha=5.7;, score=-0.254 total time=   0.0s\n",
            "[CV 4/5] END .................model__alpha=5.7;, score=-0.250 total time=   0.0s\n",
            "[CV 5/5] END .................model__alpha=5.7;, score=-0.250 total time=   0.0s\n",
            "[CV 1/5] END .................model__alpha=5.8;, score=-0.251 total time=   0.0s\n",
            "[CV 2/5] END .................model__alpha=5.8;, score=-0.250 total time=   0.0s\n",
            "[CV 3/5] END .................model__alpha=5.8;, score=-0.254 total time=   0.0s\n",
            "[CV 4/5] END .................model__alpha=5.8;, score=-0.250 total time=   0.0s\n",
            "[CV 5/5] END .................model__alpha=5.8;, score=-0.250 total time=   0.0s\n",
            "[CV 1/5] END .................model__alpha=5.9;, score=-0.251 total time=   0.0s\n",
            "[CV 2/5] END .................model__alpha=5.9;, score=-0.250 total time=   0.0s\n",
            "[CV 3/5] END .................model__alpha=5.9;, score=-0.254 total time=   0.0s\n",
            "[CV 4/5] END .................model__alpha=5.9;, score=-0.250 total time=   0.0s\n",
            "[CV 5/5] END .................model__alpha=5.9;, score=-0.250 total time=   0.0s\n",
            "[CV 1/5] END .................model__alpha=6.0;, score=-0.251 total time=   0.0s\n",
            "[CV 2/5] END .................model__alpha=6.0;, score=-0.250 total time=   0.0s\n",
            "[CV 3/5] END .................model__alpha=6.0;, score=-0.254 total time=   0.0s\n",
            "[CV 4/5] END .................model__alpha=6.0;, score=-0.250 total time=   0.0s\n",
            "[CV 5/5] END .................model__alpha=6.0;, score=-0.250 total time=   0.0s\n",
            "[CV 1/5] END .................model__alpha=6.1;, score=-0.251 total time=   0.0s\n",
            "[CV 2/5] END .................model__alpha=6.1;, score=-0.250 total time=   0.0s\n",
            "[CV 3/5] END .................model__alpha=6.1;, score=-0.254 total time=   0.0s\n",
            "[CV 4/5] END .................model__alpha=6.1;, score=-0.250 total time=   0.0s\n",
            "[CV 5/5] END .................model__alpha=6.1;, score=-0.250 total time=   0.0s\n",
            "[CV 1/5] END .................model__alpha=6.2;, score=-0.251 total time=   0.0s\n",
            "[CV 2/5] END .................model__alpha=6.2;, score=-0.250 total time=   0.0s\n",
            "[CV 3/5] END .................model__alpha=6.2;, score=-0.254 total time=   0.0s\n",
            "[CV 4/5] END .................model__alpha=6.2;, score=-0.250 total time=   0.0s\n",
            "[CV 5/5] END .................model__alpha=6.2;, score=-0.250 total time=   0.0s\n",
            "[CV 1/5] END .................model__alpha=6.3;, score=-0.251 total time=   0.0s\n",
            "[CV 2/5] END .................model__alpha=6.3;, score=-0.250 total time=   0.0s\n",
            "[CV 3/5] END .................model__alpha=6.3;, score=-0.254 total time=   0.0s\n",
            "[CV 4/5] END .................model__alpha=6.3;, score=-0.250 total time=   0.0s\n",
            "[CV 5/5] END .................model__alpha=6.3;, score=-0.250 total time=   0.0s\n",
            "[CV 1/5] END .................model__alpha=6.4;, score=-0.251 total time=   0.0s\n",
            "[CV 2/5] END .................model__alpha=6.4;, score=-0.250 total time=   0.0s\n",
            "[CV 3/5] END .................model__alpha=6.4;, score=-0.254 total time=   0.0s\n",
            "[CV 4/5] END .................model__alpha=6.4;, score=-0.250 total time=   0.0s\n",
            "[CV 5/5] END .................model__alpha=6.4;, score=-0.250 total time=   0.0s\n",
            "[CV 1/5] END .................model__alpha=6.5;, score=-0.251 total time=   0.0s\n",
            "[CV 2/5] END .................model__alpha=6.5;, score=-0.250 total time=   0.0s\n",
            "[CV 3/5] END .................model__alpha=6.5;, score=-0.254 total time=   0.0s\n",
            "[CV 4/5] END .................model__alpha=6.5;, score=-0.250 total time=   0.0s\n",
            "[CV 5/5] END .................model__alpha=6.5;, score=-0.250 total time=   0.0s\n",
            "[CV 1/5] END .................model__alpha=6.6;, score=-0.251 total time=   0.0s\n",
            "[CV 2/5] END .................model__alpha=6.6;, score=-0.250 total time=   0.0s\n",
            "[CV 3/5] END .................model__alpha=6.6;, score=-0.254 total time=   0.0s\n",
            "[CV 4/5] END .................model__alpha=6.6;, score=-0.250 total time=   0.0s\n",
            "[CV 5/5] END .................model__alpha=6.6;, score=-0.250 total time=   0.0s\n",
            "[CV 1/5] END .................model__alpha=6.7;, score=-0.251 total time=   0.0s\n",
            "[CV 2/5] END .................model__alpha=6.7;, score=-0.250 total time=   0.0s\n",
            "[CV 3/5] END .................model__alpha=6.7;, score=-0.254 total time=   0.0s\n",
            "[CV 4/5] END .................model__alpha=6.7;, score=-0.250 total time=   0.0s\n",
            "[CV 5/5] END .................model__alpha=6.7;, score=-0.250 total time=   0.0s\n",
            "[CV 1/5] END .................model__alpha=6.8;, score=-0.251 total time=   0.0s\n",
            "[CV 2/5] END .................model__alpha=6.8;, score=-0.250 total time=   0.0s\n",
            "[CV 3/5] END .................model__alpha=6.8;, score=-0.254 total time=   0.0s\n",
            "[CV 4/5] END .................model__alpha=6.8;, score=-0.250 total time=   0.0s\n",
            "[CV 5/5] END .................model__alpha=6.8;, score=-0.250 total time=   0.0s\n",
            "[CV 1/5] END .................model__alpha=6.9;, score=-0.251 total time=   0.0s\n",
            "[CV 2/5] END .................model__alpha=6.9;, score=-0.250 total time=   0.0s\n",
            "[CV 3/5] END .................model__alpha=6.9;, score=-0.254 total time=   0.0s\n",
            "[CV 4/5] END .................model__alpha=6.9;, score=-0.250 total time=   0.0s\n",
            "[CV 5/5] END .................model__alpha=6.9;, score=-0.250 total time=   0.0s\n",
            "[CV 1/5] END .................model__alpha=7.0;, score=-0.251 total time=   0.0s\n",
            "[CV 2/5] END .................model__alpha=7.0;, score=-0.250 total time=   0.0s\n",
            "[CV 3/5] END .................model__alpha=7.0;, score=-0.254 total time=   0.0s\n",
            "[CV 4/5] END .................model__alpha=7.0;, score=-0.250 total time=   0.0s\n",
            "[CV 5/5] END .................model__alpha=7.0;, score=-0.250 total time=   0.0s\n",
            "[CV 1/5] END .................model__alpha=7.1;, score=-0.251 total time=   0.0s\n",
            "[CV 2/5] END .................model__alpha=7.1;, score=-0.250 total time=   0.0s\n",
            "[CV 3/5] END .................model__alpha=7.1;, score=-0.254 total time=   0.0s\n",
            "[CV 4/5] END .................model__alpha=7.1;, score=-0.250 total time=   0.0s\n",
            "[CV 5/5] END .................model__alpha=7.1;, score=-0.250 total time=   0.0s\n",
            "[CV 1/5] END .................model__alpha=7.2;, score=-0.251 total time=   0.0s\n",
            "[CV 2/5] END .................model__alpha=7.2;, score=-0.250 total time=   0.0s\n",
            "[CV 3/5] END .................model__alpha=7.2;, score=-0.254 total time=   0.0s\n",
            "[CV 4/5] END .................model__alpha=7.2;, score=-0.250 total time=   0.0s\n",
            "[CV 5/5] END .................model__alpha=7.2;, score=-0.250 total time=   0.0s\n",
            "[CV 1/5] END .................model__alpha=7.3;, score=-0.251 total time=   0.0s\n",
            "[CV 2/5] END .................model__alpha=7.3;, score=-0.250 total time=   0.0s\n",
            "[CV 3/5] END .................model__alpha=7.3;, score=-0.254 total time=   0.0s\n",
            "[CV 4/5] END .................model__alpha=7.3;, score=-0.250 total time=   0.0s\n",
            "[CV 5/5] END .................model__alpha=7.3;, score=-0.250 total time=   0.0s\n",
            "[CV 1/5] END .................model__alpha=7.4;, score=-0.251 total time=   0.0s\n",
            "[CV 2/5] END .................model__alpha=7.4;, score=-0.250 total time=   0.0s\n",
            "[CV 3/5] END .................model__alpha=7.4;, score=-0.254 total time=   0.0s\n",
            "[CV 4/5] END .................model__alpha=7.4;, score=-0.250 total time=   0.0s\n",
            "[CV 5/5] END .................model__alpha=7.4;, score=-0.250 total time=   0.0s\n",
            "[CV 1/5] END .................model__alpha=7.5;, score=-0.251 total time=   0.0s\n",
            "[CV 2/5] END .................model__alpha=7.5;, score=-0.250 total time=   0.0s\n",
            "[CV 3/5] END .................model__alpha=7.5;, score=-0.254 total time=   0.0s\n",
            "[CV 4/5] END .................model__alpha=7.5;, score=-0.250 total time=   0.0s\n",
            "[CV 5/5] END .................model__alpha=7.5;, score=-0.250 total time=   0.0s\n",
            "[CV 1/5] END .................model__alpha=7.6;, score=-0.251 total time=   0.0s\n",
            "[CV 2/5] END .................model__alpha=7.6;, score=-0.250 total time=   0.0s\n",
            "[CV 3/5] END .................model__alpha=7.6;, score=-0.254 total time=   0.0s\n",
            "[CV 4/5] END .................model__alpha=7.6;, score=-0.250 total time=   0.0s\n",
            "[CV 5/5] END .................model__alpha=7.6;, score=-0.250 total time=   0.0s\n",
            "[CV 1/5] END .................model__alpha=7.7;, score=-0.251 total time=   0.0s\n",
            "[CV 2/5] END .................model__alpha=7.7;, score=-0.250 total time=   0.0s\n",
            "[CV 3/5] END .................model__alpha=7.7;, score=-0.254 total time=   0.0s\n",
            "[CV 4/5] END .................model__alpha=7.7;, score=-0.250 total time=   0.0s\n",
            "[CV 5/5] END .................model__alpha=7.7;, score=-0.250 total time=   0.0s\n",
            "[CV 1/5] END .................model__alpha=7.8;, score=-0.251 total time=   0.0s\n",
            "[CV 2/5] END .................model__alpha=7.8;, score=-0.250 total time=   0.0s\n",
            "[CV 3/5] END .................model__alpha=7.8;, score=-0.254 total time=   0.0s\n",
            "[CV 4/5] END .................model__alpha=7.8;, score=-0.250 total time=   0.0s\n",
            "[CV 5/5] END .................model__alpha=7.8;, score=-0.250 total time=   0.0s\n",
            "[CV 1/5] END .................model__alpha=7.9;, score=-0.251 total time=   0.0s\n",
            "[CV 2/5] END .................model__alpha=7.9;, score=-0.250 total time=   0.0s\n",
            "[CV 3/5] END .................model__alpha=7.9;, score=-0.254 total time=   0.0s\n",
            "[CV 4/5] END .................model__alpha=7.9;, score=-0.250 total time=   0.0s\n",
            "[CV 5/5] END .................model__alpha=7.9;, score=-0.250 total time=   0.0s\n",
            "[CV 1/5] END .................model__alpha=8.0;, score=-0.251 total time=   0.0s\n",
            "[CV 2/5] END .................model__alpha=8.0;, score=-0.250 total time=   0.0s\n",
            "[CV 3/5] END .................model__alpha=8.0;, score=-0.254 total time=   0.0s\n",
            "[CV 4/5] END .................model__alpha=8.0;, score=-0.250 total time=   0.0s\n",
            "[CV 5/5] END .................model__alpha=8.0;, score=-0.250 total time=   0.0s\n",
            "[CV 1/5] END .................model__alpha=8.1;, score=-0.251 total time=   0.0s\n",
            "[CV 2/5] END .................model__alpha=8.1;, score=-0.250 total time=   0.0s\n",
            "[CV 3/5] END .................model__alpha=8.1;, score=-0.254 total time=   0.0s\n",
            "[CV 4/5] END .................model__alpha=8.1;, score=-0.250 total time=   0.0s\n",
            "[CV 5/5] END .................model__alpha=8.1;, score=-0.250 total time=   0.0s\n",
            "[CV 1/5] END .................model__alpha=8.2;, score=-0.251 total time=   0.0s\n",
            "[CV 2/5] END .................model__alpha=8.2;, score=-0.250 total time=   0.0s\n",
            "[CV 3/5] END .................model__alpha=8.2;, score=-0.254 total time=   0.0s\n",
            "[CV 4/5] END .................model__alpha=8.2;, score=-0.250 total time=   0.0s\n",
            "[CV 5/5] END .................model__alpha=8.2;, score=-0.250 total time=   0.0s\n",
            "[CV 1/5] END .................model__alpha=8.3;, score=-0.251 total time=   0.0s\n",
            "[CV 2/5] END .................model__alpha=8.3;, score=-0.250 total time=   0.0s\n",
            "[CV 3/5] END .................model__alpha=8.3;, score=-0.254 total time=   0.0s\n",
            "[CV 4/5] END .................model__alpha=8.3;, score=-0.250 total time=   0.0s\n",
            "[CV 5/5] END .................model__alpha=8.3;, score=-0.250 total time=   0.0s\n",
            "[CV 1/5] END .................model__alpha=8.4;, score=-0.251 total time=   0.0s\n",
            "[CV 2/5] END .................model__alpha=8.4;, score=-0.250 total time=   0.0s\n",
            "[CV 3/5] END .................model__alpha=8.4;, score=-0.254 total time=   0.0s\n",
            "[CV 4/5] END .................model__alpha=8.4;, score=-0.250 total time=   0.0s\n",
            "[CV 5/5] END .................model__alpha=8.4;, score=-0.250 total time=   0.0s\n",
            "[CV 1/5] END .................model__alpha=8.5;, score=-0.251 total time=   0.0s\n",
            "[CV 2/5] END .................model__alpha=8.5;, score=-0.250 total time=   0.0s\n",
            "[CV 3/5] END .................model__alpha=8.5;, score=-0.254 total time=   0.0s\n",
            "[CV 4/5] END .................model__alpha=8.5;, score=-0.250 total time=   0.0s\n",
            "[CV 5/5] END .................model__alpha=8.5;, score=-0.250 total time=   0.0s\n",
            "[CV 1/5] END .................model__alpha=8.6;, score=-0.251 total time=   0.0s\n",
            "[CV 2/5] END .................model__alpha=8.6;, score=-0.250 total time=   0.0s\n",
            "[CV 3/5] END .................model__alpha=8.6;, score=-0.254 total time=   0.0s\n",
            "[CV 4/5] END .................model__alpha=8.6;, score=-0.250 total time=   0.0s\n",
            "[CV 5/5] END .................model__alpha=8.6;, score=-0.250 total time=   0.0s\n",
            "[CV 1/5] END .................model__alpha=8.7;, score=-0.251 total time=   0.0s\n",
            "[CV 2/5] END .................model__alpha=8.7;, score=-0.250 total time=   0.0s\n",
            "[CV 3/5] END .................model__alpha=8.7;, score=-0.254 total time=   0.0s\n",
            "[CV 4/5] END .................model__alpha=8.7;, score=-0.250 total time=   0.0s\n",
            "[CV 5/5] END .................model__alpha=8.7;, score=-0.250 total time=   0.0s\n",
            "[CV 1/5] END .................model__alpha=8.8;, score=-0.251 total time=   0.0s\n",
            "[CV 2/5] END .................model__alpha=8.8;, score=-0.250 total time=   0.0s\n",
            "[CV 3/5] END .................model__alpha=8.8;, score=-0.254 total time=   0.0s\n",
            "[CV 4/5] END .................model__alpha=8.8;, score=-0.250 total time=   0.0s\n",
            "[CV 5/5] END .................model__alpha=8.8;, score=-0.250 total time=   0.0s\n",
            "[CV 1/5] END .................model__alpha=8.9;, score=-0.251 total time=   0.0s\n",
            "[CV 2/5] END .................model__alpha=8.9;, score=-0.250 total time=   0.0s\n",
            "[CV 3/5] END .................model__alpha=8.9;, score=-0.254 total time=   0.0s\n",
            "[CV 4/5] END .................model__alpha=8.9;, score=-0.250 total time=   0.0s\n",
            "[CV 5/5] END .................model__alpha=8.9;, score=-0.250 total time=   0.0s\n",
            "[CV 1/5] END .................model__alpha=9.0;, score=-0.251 total time=   0.0s\n",
            "[CV 2/5] END .................model__alpha=9.0;, score=-0.250 total time=   0.0s\n",
            "[CV 3/5] END .................model__alpha=9.0;, score=-0.254 total time=   0.0s\n",
            "[CV 4/5] END .................model__alpha=9.0;, score=-0.250 total time=   0.0s\n",
            "[CV 5/5] END .................model__alpha=9.0;, score=-0.250 total time=   0.0s\n",
            "[CV 1/5] END .................model__alpha=9.1;, score=-0.251 total time=   0.0s\n",
            "[CV 2/5] END .................model__alpha=9.1;, score=-0.250 total time=   0.0s\n",
            "[CV 3/5] END .................model__alpha=9.1;, score=-0.254 total time=   0.0s\n",
            "[CV 4/5] END .................model__alpha=9.1;, score=-0.250 total time=   0.0s\n",
            "[CV 5/5] END .................model__alpha=9.1;, score=-0.250 total time=   0.0s\n",
            "[CV 1/5] END .................model__alpha=9.2;, score=-0.251 total time=   0.0s\n",
            "[CV 2/5] END .................model__alpha=9.2;, score=-0.250 total time=   0.0s\n",
            "[CV 3/5] END .................model__alpha=9.2;, score=-0.254 total time=   0.0s\n",
            "[CV 4/5] END .................model__alpha=9.2;, score=-0.250 total time=   0.0s\n",
            "[CV 5/5] END .................model__alpha=9.2;, score=-0.250 total time=   0.0s\n",
            "[CV 1/5] END .................model__alpha=9.3;, score=-0.251 total time=   0.0s\n",
            "[CV 2/5] END .................model__alpha=9.3;, score=-0.250 total time=   0.0s\n",
            "[CV 3/5] END .................model__alpha=9.3;, score=-0.254 total time=   0.0s\n",
            "[CV 4/5] END .................model__alpha=9.3;, score=-0.250 total time=   0.0s\n",
            "[CV 5/5] END .................model__alpha=9.3;, score=-0.250 total time=   0.0s\n",
            "[CV 1/5] END .................model__alpha=9.4;, score=-0.251 total time=   0.0s\n",
            "[CV 2/5] END .................model__alpha=9.4;, score=-0.250 total time=   0.0s\n",
            "[CV 3/5] END .................model__alpha=9.4;, score=-0.254 total time=   0.0s\n",
            "[CV 4/5] END .................model__alpha=9.4;, score=-0.250 total time=   0.0s\n",
            "[CV 5/5] END .................model__alpha=9.4;, score=-0.250 total time=   0.0s\n",
            "[CV 1/5] END .................model__alpha=9.5;, score=-0.251 total time=   0.0s\n",
            "[CV 2/5] END .................model__alpha=9.5;, score=-0.250 total time=   0.0s\n",
            "[CV 3/5] END .................model__alpha=9.5;, score=-0.254 total time=   0.0s\n",
            "[CV 4/5] END .................model__alpha=9.5;, score=-0.250 total time=   0.0s\n",
            "[CV 5/5] END .................model__alpha=9.5;, score=-0.250 total time=   0.0s\n",
            "[CV 1/5] END .................model__alpha=9.6;, score=-0.251 total time=   0.0s\n",
            "[CV 2/5] END .................model__alpha=9.6;, score=-0.250 total time=   0.0s\n",
            "[CV 3/5] END .................model__alpha=9.6;, score=-0.254 total time=   0.0s\n",
            "[CV 4/5] END .................model__alpha=9.6;, score=-0.250 total time=   0.0s\n",
            "[CV 5/5] END .................model__alpha=9.6;, score=-0.250 total time=   0.0s\n",
            "[CV 1/5] END ...model__alpha=9.700000000000001;, score=-0.251 total time=   0.0s\n",
            "[CV 2/5] END ...model__alpha=9.700000000000001;, score=-0.250 total time=   0.0s\n",
            "[CV 3/5] END ...model__alpha=9.700000000000001;, score=-0.254 total time=   0.0s\n",
            "[CV 4/5] END ...model__alpha=9.700000000000001;, score=-0.250 total time=   0.0s\n",
            "[CV 5/5] END ...model__alpha=9.700000000000001;, score=-0.250 total time=   0.0s\n",
            "[CV 1/5] END .................model__alpha=9.8;, score=-0.251 total time=   0.0s\n",
            "[CV 2/5] END .................model__alpha=9.8;, score=-0.250 total time=   0.0s\n",
            "[CV 3/5] END .................model__alpha=9.8;, score=-0.254 total time=   0.0s\n",
            "[CV 4/5] END .................model__alpha=9.8;, score=-0.250 total time=   0.0s\n",
            "[CV 5/5] END .................model__alpha=9.8;, score=-0.250 total time=   0.0s\n",
            "[CV 1/5] END .................model__alpha=9.9;, score=-0.251 total time=   0.0s\n",
            "[CV 2/5] END .................model__alpha=9.9;, score=-0.250 total time=   0.0s\n",
            "[CV 3/5] END .................model__alpha=9.9;, score=-0.254 total time=   0.0s\n",
            "[CV 4/5] END .................model__alpha=9.9;, score=-0.250 total time=   0.0s\n",
            "[CV 5/5] END .................model__alpha=9.9;, score=-0.250 total time=   0.0s\n"
          ]
        }
      ]
    },
    {
      "cell_type": "markdown",
      "source": [
        "### Useful features"
      ],
      "metadata": {
        "id": "d4YhdpvJ3QpP"
      }
    },
    {
      "cell_type": "code",
      "source": [
        "features = df.columns\n",
        "np.array(features)[importance > 0]"
      ],
      "metadata": {
        "colab": {
          "base_uri": "https://localhost:8080/"
        },
        "id": "eD_UQ_W8qHfM",
        "outputId": "9d8d88cd-bdab-4578-d613-56993001c16d"
      },
      "execution_count": 302,
      "outputs": [
        {
          "output_type": "execute_result",
          "data": {
            "text/plain": [
              "array(['var1', 'var2', 'var4', 'var5'], dtype=object)"
            ]
          },
          "metadata": {},
          "execution_count": 302
        }
      ]
    },
    {
      "cell_type": "markdown",
      "source": [
        "### `var1`, `var2`, `var4`, `var5` are the `important features`"
      ],
      "metadata": {
        "id": "bA65E5-pSXvQ"
      }
    },
    {
      "cell_type": "markdown",
      "source": [
        "### Redundant features"
      ],
      "metadata": {
        "id": "7DNw7cOo3T-F"
      }
    },
    {
      "cell_type": "code",
      "source": [
        "np.array(features)[importance == 0]"
      ],
      "metadata": {
        "colab": {
          "base_uri": "https://localhost:8080/"
        },
        "id": "CcAwn0-sqZAw",
        "outputId": "1c3e91ba-6dd4-422d-cda1-04b3b2879712"
      },
      "execution_count": 303,
      "outputs": [
        {
          "output_type": "execute_result",
          "data": {
            "text/plain": [
              "array(['var3', 'var6', 'year', 'month', 'day', 'hour', 'minute',\n",
              "       'seconds'], dtype=object)"
            ]
          },
          "metadata": {},
          "execution_count": 303
        }
      ]
    },
    {
      "cell_type": "markdown",
      "source": [
        "###`var3`, `var6`, `year`, `month`, `day`, `hour`, `minute`, `seconds` are the redundant or useless features"
      ],
      "metadata": {
        "id": "C6W541I2SihR"
      }
    }
  ]
}