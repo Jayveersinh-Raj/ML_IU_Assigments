{
  "cells": [
    {
      "cell_type": "markdown",
      "metadata": {
        "collapsed": true,
        "pycharm": {
          "name": "#%% md\n"
        },
        "id": "5s9fj8HaTX-S"
      },
      "source": [
        "# Assignment 2\n",
        "\n",
        "## Instructions\n",
        "- Your submission should be the `.ipynb` file with your name,\n",
        "  like `YusufMesbah.ipynb`. it should include the answers to the questions in\n",
        "  markdown cells.\n",
        "- You are expected to follow the best practices for code writing and model\n",
        "training. Poor coding style will be penalized.\n",
        "- You are allowed to discuss ideas with your peers, but no sharing of code.\n",
        "Plagiarism in the code will result in failing. If you use code from the\n",
        "internet, cite it.\n",
        "- If the instructions seem vague, use common sense."
      ]
    },
    {
      "cell_type": "markdown",
      "source": [
        "# Task 1: ANN (30%)\n",
        "For this task, you are required to build a fully connect feed-forward ANN model\n",
        "for a multi-label regression problem.\n",
        "\n",
        "For the given data, you need do proper data preprocessing, design the ANN model,\n",
        "then fine-tune your model architecture (number of layers, number of neurons,\n",
        "activation function, learning rate, momentum, regularization).\n",
        "\n",
        "For evaluating your model, do $80/20$ train test split.\n",
        "\n",
        "### Data\n",
        "You will be working with the data in `Task 1.csv` for predicting students'\n",
        "scores in 3 different exams: math, reading and writing. The columns include:\n",
        " - gender\n",
        " - race\n",
        " - parental level of education\n",
        " - lunch meal plan at school\n",
        " - whether the student undertook the test preparation course"
      ],
      "metadata": {
        "collapsed": false,
        "id": "WijK8LFCTX-Y"
      }
    },
    {
      "cell_type": "markdown",
      "source": [
        "# Task 1"
      ],
      "metadata": {
        "id": "hj82704xI_Ju"
      }
    },
    {
      "cell_type": "markdown",
      "source": [
        "## Preprocessing"
      ],
      "metadata": {
        "id": "zK4MS-GEJC9K"
      }
    },
    {
      "cell_type": "code",
      "execution_count": 1,
      "outputs": [
        {
          "output_type": "execute_result",
          "data": {
            "text/plain": [
              "   gender race/ethnicity parental level of education         lunch  \\\n",
              "0    male        group A                 high school      standard   \n",
              "1  female        group D            some high school  free/reduced   \n",
              "2    male        group E                some college  free/reduced   \n",
              "3    male        group B                 high school      standard   \n",
              "4    male        group E          associate's degree      standard   \n",
              "\n",
              "  test preparation course  math score  reading score  writing score  \n",
              "0               completed          67             67             63  \n",
              "1                    none          40             59             55  \n",
              "2                    none          59             60             50  \n",
              "3                    none          77             78             68  \n",
              "4               completed          78             73             68  "
            ],
            "text/html": [
              "\n",
              "  <div id=\"df-fac0c28c-fbac-479a-a8df-6604357c3666\">\n",
              "    <div class=\"colab-df-container\">\n",
              "      <div>\n",
              "<style scoped>\n",
              "    .dataframe tbody tr th:only-of-type {\n",
              "        vertical-align: middle;\n",
              "    }\n",
              "\n",
              "    .dataframe tbody tr th {\n",
              "        vertical-align: top;\n",
              "    }\n",
              "\n",
              "    .dataframe thead th {\n",
              "        text-align: right;\n",
              "    }\n",
              "</style>\n",
              "<table border=\"1\" class=\"dataframe\">\n",
              "  <thead>\n",
              "    <tr style=\"text-align: right;\">\n",
              "      <th></th>\n",
              "      <th>gender</th>\n",
              "      <th>race/ethnicity</th>\n",
              "      <th>parental level of education</th>\n",
              "      <th>lunch</th>\n",
              "      <th>test preparation course</th>\n",
              "      <th>math score</th>\n",
              "      <th>reading score</th>\n",
              "      <th>writing score</th>\n",
              "    </tr>\n",
              "  </thead>\n",
              "  <tbody>\n",
              "    <tr>\n",
              "      <th>0</th>\n",
              "      <td>male</td>\n",
              "      <td>group A</td>\n",
              "      <td>high school</td>\n",
              "      <td>standard</td>\n",
              "      <td>completed</td>\n",
              "      <td>67</td>\n",
              "      <td>67</td>\n",
              "      <td>63</td>\n",
              "    </tr>\n",
              "    <tr>\n",
              "      <th>1</th>\n",
              "      <td>female</td>\n",
              "      <td>group D</td>\n",
              "      <td>some high school</td>\n",
              "      <td>free/reduced</td>\n",
              "      <td>none</td>\n",
              "      <td>40</td>\n",
              "      <td>59</td>\n",
              "      <td>55</td>\n",
              "    </tr>\n",
              "    <tr>\n",
              "      <th>2</th>\n",
              "      <td>male</td>\n",
              "      <td>group E</td>\n",
              "      <td>some college</td>\n",
              "      <td>free/reduced</td>\n",
              "      <td>none</td>\n",
              "      <td>59</td>\n",
              "      <td>60</td>\n",
              "      <td>50</td>\n",
              "    </tr>\n",
              "    <tr>\n",
              "      <th>3</th>\n",
              "      <td>male</td>\n",
              "      <td>group B</td>\n",
              "      <td>high school</td>\n",
              "      <td>standard</td>\n",
              "      <td>none</td>\n",
              "      <td>77</td>\n",
              "      <td>78</td>\n",
              "      <td>68</td>\n",
              "    </tr>\n",
              "    <tr>\n",
              "      <th>4</th>\n",
              "      <td>male</td>\n",
              "      <td>group E</td>\n",
              "      <td>associate's degree</td>\n",
              "      <td>standard</td>\n",
              "      <td>completed</td>\n",
              "      <td>78</td>\n",
              "      <td>73</td>\n",
              "      <td>68</td>\n",
              "    </tr>\n",
              "  </tbody>\n",
              "</table>\n",
              "</div>\n",
              "      <button class=\"colab-df-convert\" onclick=\"convertToInteractive('df-fac0c28c-fbac-479a-a8df-6604357c3666')\"\n",
              "              title=\"Convert this dataframe to an interactive table.\"\n",
              "              style=\"display:none;\">\n",
              "        \n",
              "  <svg xmlns=\"http://www.w3.org/2000/svg\" height=\"24px\"viewBox=\"0 0 24 24\"\n",
              "       width=\"24px\">\n",
              "    <path d=\"M0 0h24v24H0V0z\" fill=\"none\"/>\n",
              "    <path d=\"M18.56 5.44l.94 2.06.94-2.06 2.06-.94-2.06-.94-.94-2.06-.94 2.06-2.06.94zm-11 1L8.5 8.5l.94-2.06 2.06-.94-2.06-.94L8.5 2.5l-.94 2.06-2.06.94zm10 10l.94 2.06.94-2.06 2.06-.94-2.06-.94-.94-2.06-.94 2.06-2.06.94z\"/><path d=\"M17.41 7.96l-1.37-1.37c-.4-.4-.92-.59-1.43-.59-.52 0-1.04.2-1.43.59L10.3 9.45l-7.72 7.72c-.78.78-.78 2.05 0 2.83L4 21.41c.39.39.9.59 1.41.59.51 0 1.02-.2 1.41-.59l7.78-7.78 2.81-2.81c.8-.78.8-2.07 0-2.86zM5.41 20L4 18.59l7.72-7.72 1.47 1.35L5.41 20z\"/>\n",
              "  </svg>\n",
              "      </button>\n",
              "      \n",
              "  <style>\n",
              "    .colab-df-container {\n",
              "      display:flex;\n",
              "      flex-wrap:wrap;\n",
              "      gap: 12px;\n",
              "    }\n",
              "\n",
              "    .colab-df-convert {\n",
              "      background-color: #E8F0FE;\n",
              "      border: none;\n",
              "      border-radius: 50%;\n",
              "      cursor: pointer;\n",
              "      display: none;\n",
              "      fill: #1967D2;\n",
              "      height: 32px;\n",
              "      padding: 0 0 0 0;\n",
              "      width: 32px;\n",
              "    }\n",
              "\n",
              "    .colab-df-convert:hover {\n",
              "      background-color: #E2EBFA;\n",
              "      box-shadow: 0px 1px 2px rgba(60, 64, 67, 0.3), 0px 1px 3px 1px rgba(60, 64, 67, 0.15);\n",
              "      fill: #174EA6;\n",
              "    }\n",
              "\n",
              "    [theme=dark] .colab-df-convert {\n",
              "      background-color: #3B4455;\n",
              "      fill: #D2E3FC;\n",
              "    }\n",
              "\n",
              "    [theme=dark] .colab-df-convert:hover {\n",
              "      background-color: #434B5C;\n",
              "      box-shadow: 0px 1px 3px 1px rgba(0, 0, 0, 0.15);\n",
              "      filter: drop-shadow(0px 1px 2px rgba(0, 0, 0, 0.3));\n",
              "      fill: #FFFFFF;\n",
              "    }\n",
              "  </style>\n",
              "\n",
              "      <script>\n",
              "        const buttonEl =\n",
              "          document.querySelector('#df-fac0c28c-fbac-479a-a8df-6604357c3666 button.colab-df-convert');\n",
              "        buttonEl.style.display =\n",
              "          google.colab.kernel.accessAllowed ? 'block' : 'none';\n",
              "\n",
              "        async function convertToInteractive(key) {\n",
              "          const element = document.querySelector('#df-fac0c28c-fbac-479a-a8df-6604357c3666');\n",
              "          const dataTable =\n",
              "            await google.colab.kernel.invokeFunction('convertToInteractive',\n",
              "                                                     [key], {});\n",
              "          if (!dataTable) return;\n",
              "\n",
              "          const docLinkHtml = 'Like what you see? Visit the ' +\n",
              "            '<a target=\"_blank\" href=https://colab.research.google.com/notebooks/data_table.ipynb>data table notebook</a>'\n",
              "            + ' to learn more about interactive tables.';\n",
              "          element.innerHTML = '';\n",
              "          dataTable['output_type'] = 'display_data';\n",
              "          await google.colab.output.renderOutput(dataTable, element);\n",
              "          const docLink = document.createElement('div');\n",
              "          docLink.innerHTML = docLinkHtml;\n",
              "          element.appendChild(docLink);\n",
              "        }\n",
              "      </script>\n",
              "    </div>\n",
              "  </div>\n",
              "  "
            ]
          },
          "metadata": {},
          "execution_count": 1
        }
      ],
      "source": [
        "# importing pandas and reading csv\n",
        "import pandas as pd\n",
        "df = pd.read_csv(\"/content/Task 1.csv\")\n",
        "df.head()"
      ],
      "metadata": {
        "pycharm": {
          "name": "#%%\n"
        },
        "id": "d6lq1ULiTX-b",
        "colab": {
          "base_uri": "https://localhost:8080/",
          "height": 206
        },
        "outputId": "c6bdab58-cfc3-423e-9538-6a3546d9b7d0"
      }
    },
    {
      "cell_type": "markdown",
      "source": [
        "### There are 5 non numerical columns, finding their unqiue counts to decide encoding"
      ],
      "metadata": {
        "id": "UOexsRMUJe5_"
      }
    },
    {
      "cell_type": "code",
      "source": [
        "print(f\"Gender: {df['gender'].value_counts()}\")\n",
        "print(f\"\\nEthnicity: {df['race/ethnicity'].value_counts()}\")\n",
        "print(f\"\\nParental education: {df['parental level of education'].value_counts()}\")\n",
        "print(f\"\\nLunch: {df['lunch'].value_counts()}\")\n",
        "print(f\"\\nTest preparation: {df['test preparation course'].value_counts()}\")"
      ],
      "metadata": {
        "colab": {
          "base_uri": "https://localhost:8080/"
        },
        "id": "reMDan6fKA21",
        "outputId": "42732627-5c54-47b1-b7cc-8d726393bc3c"
      },
      "execution_count": 2,
      "outputs": [
        {
          "output_type": "stream",
          "name": "stdout",
          "text": [
            "Gender: male      517\n",
            "female    483\n",
            "Name: gender, dtype: int64\n",
            "\n",
            "Ethnicity: group C    323\n",
            "group D    262\n",
            "group B    205\n",
            "group E    131\n",
            "group A     79\n",
            "Name: race/ethnicity, dtype: int64\n",
            "\n",
            "Parental education: some college          222\n",
            "associate's degree    203\n",
            "high school           202\n",
            "some high school      191\n",
            "bachelor's degree     112\n",
            "master's degree        70\n",
            "Name: parental level of education, dtype: int64\n",
            "\n",
            "Lunch: standard        652\n",
            "free/reduced    348\n",
            "Name: lunch, dtype: int64\n",
            "\n",
            "Test preparation: none         665\n",
            "completed    335\n",
            "Name: test preparation course, dtype: int64\n"
          ]
        }
      ]
    },
    {
      "cell_type": "markdown",
      "source": [
        "### It can be seen that these data are categorical, hence, oridnal encoding can be used to encode them"
      ],
      "metadata": {
        "id": "kPfQ69yYLIfw"
      }
    },
    {
      "cell_type": "code",
      "source": [
        "from sklearn.preprocessing import OrdinalEncoder\n",
        "to_be_encoded =  df[['gender','race/ethnicity','parental level of education',\n",
        "                     'lunch','test preparation course']]\n",
        "\n",
        "# Save the encoded data to the original\n",
        "df[['gender', 'race/ethnicity','parental level of education',\n",
        "    'lunch','test preparation course']] = OrdinalEncoder().fit_transform(to_be_encoded)                    "
      ],
      "metadata": {
        "id": "77uqSzfZLU6r"
      },
      "execution_count": 3,
      "outputs": []
    },
    {
      "cell_type": "markdown",
      "source": [
        "### Checking the encoded data"
      ],
      "metadata": {
        "id": "amf8KSjgMkvn"
      }
    },
    {
      "cell_type": "code",
      "source": [
        "df.head()"
      ],
      "metadata": {
        "colab": {
          "base_uri": "https://localhost:8080/",
          "height": 206
        },
        "id": "8oNHyjBaMncO",
        "outputId": "794df878-b67a-49e6-a116-8e7b641d1249"
      },
      "execution_count": 4,
      "outputs": [
        {
          "output_type": "execute_result",
          "data": {
            "text/plain": [
              "   gender  race/ethnicity  parental level of education  lunch  \\\n",
              "0     1.0             0.0                          2.0    1.0   \n",
              "1     0.0             3.0                          5.0    0.0   \n",
              "2     1.0             4.0                          4.0    0.0   \n",
              "3     1.0             1.0                          2.0    1.0   \n",
              "4     1.0             4.0                          0.0    1.0   \n",
              "\n",
              "   test preparation course  math score  reading score  writing score  \n",
              "0                      0.0          67             67             63  \n",
              "1                      1.0          40             59             55  \n",
              "2                      1.0          59             60             50  \n",
              "3                      1.0          77             78             68  \n",
              "4                      0.0          78             73             68  "
            ],
            "text/html": [
              "\n",
              "  <div id=\"df-d8348369-6981-41f6-aa9d-78e7bc825044\">\n",
              "    <div class=\"colab-df-container\">\n",
              "      <div>\n",
              "<style scoped>\n",
              "    .dataframe tbody tr th:only-of-type {\n",
              "        vertical-align: middle;\n",
              "    }\n",
              "\n",
              "    .dataframe tbody tr th {\n",
              "        vertical-align: top;\n",
              "    }\n",
              "\n",
              "    .dataframe thead th {\n",
              "        text-align: right;\n",
              "    }\n",
              "</style>\n",
              "<table border=\"1\" class=\"dataframe\">\n",
              "  <thead>\n",
              "    <tr style=\"text-align: right;\">\n",
              "      <th></th>\n",
              "      <th>gender</th>\n",
              "      <th>race/ethnicity</th>\n",
              "      <th>parental level of education</th>\n",
              "      <th>lunch</th>\n",
              "      <th>test preparation course</th>\n",
              "      <th>math score</th>\n",
              "      <th>reading score</th>\n",
              "      <th>writing score</th>\n",
              "    </tr>\n",
              "  </thead>\n",
              "  <tbody>\n",
              "    <tr>\n",
              "      <th>0</th>\n",
              "      <td>1.0</td>\n",
              "      <td>0.0</td>\n",
              "      <td>2.0</td>\n",
              "      <td>1.0</td>\n",
              "      <td>0.0</td>\n",
              "      <td>67</td>\n",
              "      <td>67</td>\n",
              "      <td>63</td>\n",
              "    </tr>\n",
              "    <tr>\n",
              "      <th>1</th>\n",
              "      <td>0.0</td>\n",
              "      <td>3.0</td>\n",
              "      <td>5.0</td>\n",
              "      <td>0.0</td>\n",
              "      <td>1.0</td>\n",
              "      <td>40</td>\n",
              "      <td>59</td>\n",
              "      <td>55</td>\n",
              "    </tr>\n",
              "    <tr>\n",
              "      <th>2</th>\n",
              "      <td>1.0</td>\n",
              "      <td>4.0</td>\n",
              "      <td>4.0</td>\n",
              "      <td>0.0</td>\n",
              "      <td>1.0</td>\n",
              "      <td>59</td>\n",
              "      <td>60</td>\n",
              "      <td>50</td>\n",
              "    </tr>\n",
              "    <tr>\n",
              "      <th>3</th>\n",
              "      <td>1.0</td>\n",
              "      <td>1.0</td>\n",
              "      <td>2.0</td>\n",
              "      <td>1.0</td>\n",
              "      <td>1.0</td>\n",
              "      <td>77</td>\n",
              "      <td>78</td>\n",
              "      <td>68</td>\n",
              "    </tr>\n",
              "    <tr>\n",
              "      <th>4</th>\n",
              "      <td>1.0</td>\n",
              "      <td>4.0</td>\n",
              "      <td>0.0</td>\n",
              "      <td>1.0</td>\n",
              "      <td>0.0</td>\n",
              "      <td>78</td>\n",
              "      <td>73</td>\n",
              "      <td>68</td>\n",
              "    </tr>\n",
              "  </tbody>\n",
              "</table>\n",
              "</div>\n",
              "      <button class=\"colab-df-convert\" onclick=\"convertToInteractive('df-d8348369-6981-41f6-aa9d-78e7bc825044')\"\n",
              "              title=\"Convert this dataframe to an interactive table.\"\n",
              "              style=\"display:none;\">\n",
              "        \n",
              "  <svg xmlns=\"http://www.w3.org/2000/svg\" height=\"24px\"viewBox=\"0 0 24 24\"\n",
              "       width=\"24px\">\n",
              "    <path d=\"M0 0h24v24H0V0z\" fill=\"none\"/>\n",
              "    <path d=\"M18.56 5.44l.94 2.06.94-2.06 2.06-.94-2.06-.94-.94-2.06-.94 2.06-2.06.94zm-11 1L8.5 8.5l.94-2.06 2.06-.94-2.06-.94L8.5 2.5l-.94 2.06-2.06.94zm10 10l.94 2.06.94-2.06 2.06-.94-2.06-.94-.94-2.06-.94 2.06-2.06.94z\"/><path d=\"M17.41 7.96l-1.37-1.37c-.4-.4-.92-.59-1.43-.59-.52 0-1.04.2-1.43.59L10.3 9.45l-7.72 7.72c-.78.78-.78 2.05 0 2.83L4 21.41c.39.39.9.59 1.41.59.51 0 1.02-.2 1.41-.59l7.78-7.78 2.81-2.81c.8-.78.8-2.07 0-2.86zM5.41 20L4 18.59l7.72-7.72 1.47 1.35L5.41 20z\"/>\n",
              "  </svg>\n",
              "      </button>\n",
              "      \n",
              "  <style>\n",
              "    .colab-df-container {\n",
              "      display:flex;\n",
              "      flex-wrap:wrap;\n",
              "      gap: 12px;\n",
              "    }\n",
              "\n",
              "    .colab-df-convert {\n",
              "      background-color: #E8F0FE;\n",
              "      border: none;\n",
              "      border-radius: 50%;\n",
              "      cursor: pointer;\n",
              "      display: none;\n",
              "      fill: #1967D2;\n",
              "      height: 32px;\n",
              "      padding: 0 0 0 0;\n",
              "      width: 32px;\n",
              "    }\n",
              "\n",
              "    .colab-df-convert:hover {\n",
              "      background-color: #E2EBFA;\n",
              "      box-shadow: 0px 1px 2px rgba(60, 64, 67, 0.3), 0px 1px 3px 1px rgba(60, 64, 67, 0.15);\n",
              "      fill: #174EA6;\n",
              "    }\n",
              "\n",
              "    [theme=dark] .colab-df-convert {\n",
              "      background-color: #3B4455;\n",
              "      fill: #D2E3FC;\n",
              "    }\n",
              "\n",
              "    [theme=dark] .colab-df-convert:hover {\n",
              "      background-color: #434B5C;\n",
              "      box-shadow: 0px 1px 3px 1px rgba(0, 0, 0, 0.15);\n",
              "      filter: drop-shadow(0px 1px 2px rgba(0, 0, 0, 0.3));\n",
              "      fill: #FFFFFF;\n",
              "    }\n",
              "  </style>\n",
              "\n",
              "      <script>\n",
              "        const buttonEl =\n",
              "          document.querySelector('#df-d8348369-6981-41f6-aa9d-78e7bc825044 button.colab-df-convert');\n",
              "        buttonEl.style.display =\n",
              "          google.colab.kernel.accessAllowed ? 'block' : 'none';\n",
              "\n",
              "        async function convertToInteractive(key) {\n",
              "          const element = document.querySelector('#df-d8348369-6981-41f6-aa9d-78e7bc825044');\n",
              "          const dataTable =\n",
              "            await google.colab.kernel.invokeFunction('convertToInteractive',\n",
              "                                                     [key], {});\n",
              "          if (!dataTable) return;\n",
              "\n",
              "          const docLinkHtml = 'Like what you see? Visit the ' +\n",
              "            '<a target=\"_blank\" href=https://colab.research.google.com/notebooks/data_table.ipynb>data table notebook</a>'\n",
              "            + ' to learn more about interactive tables.';\n",
              "          element.innerHTML = '';\n",
              "          dataTable['output_type'] = 'display_data';\n",
              "          await google.colab.output.renderOutput(dataTable, element);\n",
              "          const docLink = document.createElement('div');\n",
              "          docLink.innerHTML = docLinkHtml;\n",
              "          element.appendChild(docLink);\n",
              "        }\n",
              "      </script>\n",
              "    </div>\n",
              "  </div>\n",
              "  "
            ]
          },
          "metadata": {},
          "execution_count": 4
        }
      ]
    },
    {
      "cell_type": "markdown",
      "source": [
        "### Saving target columns in `y`, and droping from df"
      ],
      "metadata": {
        "id": "MMh5CU2jNYys"
      }
    },
    {
      "cell_type": "code",
      "source": [
        "y = df[['math score', 'reading score', 'writing score']]\n",
        "df = df.drop(['math score', 'reading score', 'writing score'], axis = 1)"
      ],
      "metadata": {
        "id": "_ceSfRUhNd1T"
      },
      "execution_count": 5,
      "outputs": []
    },
    {
      "cell_type": "markdown",
      "source": [
        "### Check df after target removal"
      ],
      "metadata": {
        "id": "A5-SkIuLOInE"
      }
    },
    {
      "cell_type": "code",
      "source": [
        "df.head()"
      ],
      "metadata": {
        "colab": {
          "base_uri": "https://localhost:8080/",
          "height": 206
        },
        "id": "8cCQbecaOA7a",
        "outputId": "7a8d9c00-5e37-4a7d-f81f-f6bc9c7a9375"
      },
      "execution_count": 6,
      "outputs": [
        {
          "output_type": "execute_result",
          "data": {
            "text/plain": [
              "   gender  race/ethnicity  parental level of education  lunch  \\\n",
              "0     1.0             0.0                          2.0    1.0   \n",
              "1     0.0             3.0                          5.0    0.0   \n",
              "2     1.0             4.0                          4.0    0.0   \n",
              "3     1.0             1.0                          2.0    1.0   \n",
              "4     1.0             4.0                          0.0    1.0   \n",
              "\n",
              "   test preparation course  \n",
              "0                      0.0  \n",
              "1                      1.0  \n",
              "2                      1.0  \n",
              "3                      1.0  \n",
              "4                      0.0  "
            ],
            "text/html": [
              "\n",
              "  <div id=\"df-6ffe64e8-5731-45af-9daa-7be3d12815c6\">\n",
              "    <div class=\"colab-df-container\">\n",
              "      <div>\n",
              "<style scoped>\n",
              "    .dataframe tbody tr th:only-of-type {\n",
              "        vertical-align: middle;\n",
              "    }\n",
              "\n",
              "    .dataframe tbody tr th {\n",
              "        vertical-align: top;\n",
              "    }\n",
              "\n",
              "    .dataframe thead th {\n",
              "        text-align: right;\n",
              "    }\n",
              "</style>\n",
              "<table border=\"1\" class=\"dataframe\">\n",
              "  <thead>\n",
              "    <tr style=\"text-align: right;\">\n",
              "      <th></th>\n",
              "      <th>gender</th>\n",
              "      <th>race/ethnicity</th>\n",
              "      <th>parental level of education</th>\n",
              "      <th>lunch</th>\n",
              "      <th>test preparation course</th>\n",
              "    </tr>\n",
              "  </thead>\n",
              "  <tbody>\n",
              "    <tr>\n",
              "      <th>0</th>\n",
              "      <td>1.0</td>\n",
              "      <td>0.0</td>\n",
              "      <td>2.0</td>\n",
              "      <td>1.0</td>\n",
              "      <td>0.0</td>\n",
              "    </tr>\n",
              "    <tr>\n",
              "      <th>1</th>\n",
              "      <td>0.0</td>\n",
              "      <td>3.0</td>\n",
              "      <td>5.0</td>\n",
              "      <td>0.0</td>\n",
              "      <td>1.0</td>\n",
              "    </tr>\n",
              "    <tr>\n",
              "      <th>2</th>\n",
              "      <td>1.0</td>\n",
              "      <td>4.0</td>\n",
              "      <td>4.0</td>\n",
              "      <td>0.0</td>\n",
              "      <td>1.0</td>\n",
              "    </tr>\n",
              "    <tr>\n",
              "      <th>3</th>\n",
              "      <td>1.0</td>\n",
              "      <td>1.0</td>\n",
              "      <td>2.0</td>\n",
              "      <td>1.0</td>\n",
              "      <td>1.0</td>\n",
              "    </tr>\n",
              "    <tr>\n",
              "      <th>4</th>\n",
              "      <td>1.0</td>\n",
              "      <td>4.0</td>\n",
              "      <td>0.0</td>\n",
              "      <td>1.0</td>\n",
              "      <td>0.0</td>\n",
              "    </tr>\n",
              "  </tbody>\n",
              "</table>\n",
              "</div>\n",
              "      <button class=\"colab-df-convert\" onclick=\"convertToInteractive('df-6ffe64e8-5731-45af-9daa-7be3d12815c6')\"\n",
              "              title=\"Convert this dataframe to an interactive table.\"\n",
              "              style=\"display:none;\">\n",
              "        \n",
              "  <svg xmlns=\"http://www.w3.org/2000/svg\" height=\"24px\"viewBox=\"0 0 24 24\"\n",
              "       width=\"24px\">\n",
              "    <path d=\"M0 0h24v24H0V0z\" fill=\"none\"/>\n",
              "    <path d=\"M18.56 5.44l.94 2.06.94-2.06 2.06-.94-2.06-.94-.94-2.06-.94 2.06-2.06.94zm-11 1L8.5 8.5l.94-2.06 2.06-.94-2.06-.94L8.5 2.5l-.94 2.06-2.06.94zm10 10l.94 2.06.94-2.06 2.06-.94-2.06-.94-.94-2.06-.94 2.06-2.06.94z\"/><path d=\"M17.41 7.96l-1.37-1.37c-.4-.4-.92-.59-1.43-.59-.52 0-1.04.2-1.43.59L10.3 9.45l-7.72 7.72c-.78.78-.78 2.05 0 2.83L4 21.41c.39.39.9.59 1.41.59.51 0 1.02-.2 1.41-.59l7.78-7.78 2.81-2.81c.8-.78.8-2.07 0-2.86zM5.41 20L4 18.59l7.72-7.72 1.47 1.35L5.41 20z\"/>\n",
              "  </svg>\n",
              "      </button>\n",
              "      \n",
              "  <style>\n",
              "    .colab-df-container {\n",
              "      display:flex;\n",
              "      flex-wrap:wrap;\n",
              "      gap: 12px;\n",
              "    }\n",
              "\n",
              "    .colab-df-convert {\n",
              "      background-color: #E8F0FE;\n",
              "      border: none;\n",
              "      border-radius: 50%;\n",
              "      cursor: pointer;\n",
              "      display: none;\n",
              "      fill: #1967D2;\n",
              "      height: 32px;\n",
              "      padding: 0 0 0 0;\n",
              "      width: 32px;\n",
              "    }\n",
              "\n",
              "    .colab-df-convert:hover {\n",
              "      background-color: #E2EBFA;\n",
              "      box-shadow: 0px 1px 2px rgba(60, 64, 67, 0.3), 0px 1px 3px 1px rgba(60, 64, 67, 0.15);\n",
              "      fill: #174EA6;\n",
              "    }\n",
              "\n",
              "    [theme=dark] .colab-df-convert {\n",
              "      background-color: #3B4455;\n",
              "      fill: #D2E3FC;\n",
              "    }\n",
              "\n",
              "    [theme=dark] .colab-df-convert:hover {\n",
              "      background-color: #434B5C;\n",
              "      box-shadow: 0px 1px 3px 1px rgba(0, 0, 0, 0.15);\n",
              "      filter: drop-shadow(0px 1px 2px rgba(0, 0, 0, 0.3));\n",
              "      fill: #FFFFFF;\n",
              "    }\n",
              "  </style>\n",
              "\n",
              "      <script>\n",
              "        const buttonEl =\n",
              "          document.querySelector('#df-6ffe64e8-5731-45af-9daa-7be3d12815c6 button.colab-df-convert');\n",
              "        buttonEl.style.display =\n",
              "          google.colab.kernel.accessAllowed ? 'block' : 'none';\n",
              "\n",
              "        async function convertToInteractive(key) {\n",
              "          const element = document.querySelector('#df-6ffe64e8-5731-45af-9daa-7be3d12815c6');\n",
              "          const dataTable =\n",
              "            await google.colab.kernel.invokeFunction('convertToInteractive',\n",
              "                                                     [key], {});\n",
              "          if (!dataTable) return;\n",
              "\n",
              "          const docLinkHtml = 'Like what you see? Visit the ' +\n",
              "            '<a target=\"_blank\" href=https://colab.research.google.com/notebooks/data_table.ipynb>data table notebook</a>'\n",
              "            + ' to learn more about interactive tables.';\n",
              "          element.innerHTML = '';\n",
              "          dataTable['output_type'] = 'display_data';\n",
              "          await google.colab.output.renderOutput(dataTable, element);\n",
              "          const docLink = document.createElement('div');\n",
              "          docLink.innerHTML = docLinkHtml;\n",
              "          element.appendChild(docLink);\n",
              "        }\n",
              "      </script>\n",
              "    </div>\n",
              "  </div>\n",
              "  "
            ]
          },
          "metadata": {},
          "execution_count": 6
        }
      ]
    },
    {
      "cell_type": "markdown",
      "source": [
        "### Check the y we got (target)"
      ],
      "metadata": {
        "id": "8uMdp_-LOLfL"
      }
    },
    {
      "cell_type": "code",
      "source": [
        "y.head()"
      ],
      "metadata": {
        "colab": {
          "base_uri": "https://localhost:8080/",
          "height": 206
        },
        "id": "CyyV5-2EOGcD",
        "outputId": "c70c398e-323e-4d38-e63b-9503b92e886d"
      },
      "execution_count": 7,
      "outputs": [
        {
          "output_type": "execute_result",
          "data": {
            "text/plain": [
              "   math score  reading score  writing score\n",
              "0          67             67             63\n",
              "1          40             59             55\n",
              "2          59             60             50\n",
              "3          77             78             68\n",
              "4          78             73             68"
            ],
            "text/html": [
              "\n",
              "  <div id=\"df-5124afa5-8ece-4094-86be-007547375857\">\n",
              "    <div class=\"colab-df-container\">\n",
              "      <div>\n",
              "<style scoped>\n",
              "    .dataframe tbody tr th:only-of-type {\n",
              "        vertical-align: middle;\n",
              "    }\n",
              "\n",
              "    .dataframe tbody tr th {\n",
              "        vertical-align: top;\n",
              "    }\n",
              "\n",
              "    .dataframe thead th {\n",
              "        text-align: right;\n",
              "    }\n",
              "</style>\n",
              "<table border=\"1\" class=\"dataframe\">\n",
              "  <thead>\n",
              "    <tr style=\"text-align: right;\">\n",
              "      <th></th>\n",
              "      <th>math score</th>\n",
              "      <th>reading score</th>\n",
              "      <th>writing score</th>\n",
              "    </tr>\n",
              "  </thead>\n",
              "  <tbody>\n",
              "    <tr>\n",
              "      <th>0</th>\n",
              "      <td>67</td>\n",
              "      <td>67</td>\n",
              "      <td>63</td>\n",
              "    </tr>\n",
              "    <tr>\n",
              "      <th>1</th>\n",
              "      <td>40</td>\n",
              "      <td>59</td>\n",
              "      <td>55</td>\n",
              "    </tr>\n",
              "    <tr>\n",
              "      <th>2</th>\n",
              "      <td>59</td>\n",
              "      <td>60</td>\n",
              "      <td>50</td>\n",
              "    </tr>\n",
              "    <tr>\n",
              "      <th>3</th>\n",
              "      <td>77</td>\n",
              "      <td>78</td>\n",
              "      <td>68</td>\n",
              "    </tr>\n",
              "    <tr>\n",
              "      <th>4</th>\n",
              "      <td>78</td>\n",
              "      <td>73</td>\n",
              "      <td>68</td>\n",
              "    </tr>\n",
              "  </tbody>\n",
              "</table>\n",
              "</div>\n",
              "      <button class=\"colab-df-convert\" onclick=\"convertToInteractive('df-5124afa5-8ece-4094-86be-007547375857')\"\n",
              "              title=\"Convert this dataframe to an interactive table.\"\n",
              "              style=\"display:none;\">\n",
              "        \n",
              "  <svg xmlns=\"http://www.w3.org/2000/svg\" height=\"24px\"viewBox=\"0 0 24 24\"\n",
              "       width=\"24px\">\n",
              "    <path d=\"M0 0h24v24H0V0z\" fill=\"none\"/>\n",
              "    <path d=\"M18.56 5.44l.94 2.06.94-2.06 2.06-.94-2.06-.94-.94-2.06-.94 2.06-2.06.94zm-11 1L8.5 8.5l.94-2.06 2.06-.94-2.06-.94L8.5 2.5l-.94 2.06-2.06.94zm10 10l.94 2.06.94-2.06 2.06-.94-2.06-.94-.94-2.06-.94 2.06-2.06.94z\"/><path d=\"M17.41 7.96l-1.37-1.37c-.4-.4-.92-.59-1.43-.59-.52 0-1.04.2-1.43.59L10.3 9.45l-7.72 7.72c-.78.78-.78 2.05 0 2.83L4 21.41c.39.39.9.59 1.41.59.51 0 1.02-.2 1.41-.59l7.78-7.78 2.81-2.81c.8-.78.8-2.07 0-2.86zM5.41 20L4 18.59l7.72-7.72 1.47 1.35L5.41 20z\"/>\n",
              "  </svg>\n",
              "      </button>\n",
              "      \n",
              "  <style>\n",
              "    .colab-df-container {\n",
              "      display:flex;\n",
              "      flex-wrap:wrap;\n",
              "      gap: 12px;\n",
              "    }\n",
              "\n",
              "    .colab-df-convert {\n",
              "      background-color: #E8F0FE;\n",
              "      border: none;\n",
              "      border-radius: 50%;\n",
              "      cursor: pointer;\n",
              "      display: none;\n",
              "      fill: #1967D2;\n",
              "      height: 32px;\n",
              "      padding: 0 0 0 0;\n",
              "      width: 32px;\n",
              "    }\n",
              "\n",
              "    .colab-df-convert:hover {\n",
              "      background-color: #E2EBFA;\n",
              "      box-shadow: 0px 1px 2px rgba(60, 64, 67, 0.3), 0px 1px 3px 1px rgba(60, 64, 67, 0.15);\n",
              "      fill: #174EA6;\n",
              "    }\n",
              "\n",
              "    [theme=dark] .colab-df-convert {\n",
              "      background-color: #3B4455;\n",
              "      fill: #D2E3FC;\n",
              "    }\n",
              "\n",
              "    [theme=dark] .colab-df-convert:hover {\n",
              "      background-color: #434B5C;\n",
              "      box-shadow: 0px 1px 3px 1px rgba(0, 0, 0, 0.15);\n",
              "      filter: drop-shadow(0px 1px 2px rgba(0, 0, 0, 0.3));\n",
              "      fill: #FFFFFF;\n",
              "    }\n",
              "  </style>\n",
              "\n",
              "      <script>\n",
              "        const buttonEl =\n",
              "          document.querySelector('#df-5124afa5-8ece-4094-86be-007547375857 button.colab-df-convert');\n",
              "        buttonEl.style.display =\n",
              "          google.colab.kernel.accessAllowed ? 'block' : 'none';\n",
              "\n",
              "        async function convertToInteractive(key) {\n",
              "          const element = document.querySelector('#df-5124afa5-8ece-4094-86be-007547375857');\n",
              "          const dataTable =\n",
              "            await google.colab.kernel.invokeFunction('convertToInteractive',\n",
              "                                                     [key], {});\n",
              "          if (!dataTable) return;\n",
              "\n",
              "          const docLinkHtml = 'Like what you see? Visit the ' +\n",
              "            '<a target=\"_blank\" href=https://colab.research.google.com/notebooks/data_table.ipynb>data table notebook</a>'\n",
              "            + ' to learn more about interactive tables.';\n",
              "          element.innerHTML = '';\n",
              "          dataTable['output_type'] = 'display_data';\n",
              "          await google.colab.output.renderOutput(dataTable, element);\n",
              "          const docLink = document.createElement('div');\n",
              "          docLink.innerHTML = docLinkHtml;\n",
              "          element.appendChild(docLink);\n",
              "        }\n",
              "      </script>\n",
              "    </div>\n",
              "  </div>\n",
              "  "
            ]
          },
          "metadata": {},
          "execution_count": 7
        }
      ]
    },
    {
      "cell_type": "markdown",
      "source": [
        "### Checking for `Correlation`"
      ],
      "metadata": {
        "id": "2llzth_vOQqt"
      }
    },
    {
      "cell_type": "code",
      "source": [
        "df.corr()"
      ],
      "metadata": {
        "colab": {
          "base_uri": "https://localhost:8080/",
          "height": 206
        },
        "id": "0l-KfA4nOUQx",
        "outputId": "5c9d0550-c7c3-442b-daae-e4fc9bc88010"
      },
      "execution_count": 8,
      "outputs": [
        {
          "output_type": "execute_result",
          "data": {
            "text/plain": [
              "                               gender  race/ethnicity  \\\n",
              "gender                       1.000000        0.063231   \n",
              "race/ethnicity               0.063231        1.000000   \n",
              "parental level of education -0.078676       -0.011034   \n",
              "lunch                       -0.033962       -0.033335   \n",
              "test preparation course     -0.007653        0.029828   \n",
              "\n",
              "                             parental level of education     lunch  \\\n",
              "gender                                         -0.078676 -0.033962   \n",
              "race/ethnicity                                 -0.011034 -0.033335   \n",
              "parental level of education                     1.000000 -0.033616   \n",
              "lunch                                          -0.033616  1.000000   \n",
              "test preparation course                         0.008912 -0.029267   \n",
              "\n",
              "                             test preparation course  \n",
              "gender                                     -0.007653  \n",
              "race/ethnicity                              0.029828  \n",
              "parental level of education                 0.008912  \n",
              "lunch                                      -0.029267  \n",
              "test preparation course                     1.000000  "
            ],
            "text/html": [
              "\n",
              "  <div id=\"df-90b8147c-b293-480d-9821-56ef1d943a78\">\n",
              "    <div class=\"colab-df-container\">\n",
              "      <div>\n",
              "<style scoped>\n",
              "    .dataframe tbody tr th:only-of-type {\n",
              "        vertical-align: middle;\n",
              "    }\n",
              "\n",
              "    .dataframe tbody tr th {\n",
              "        vertical-align: top;\n",
              "    }\n",
              "\n",
              "    .dataframe thead th {\n",
              "        text-align: right;\n",
              "    }\n",
              "</style>\n",
              "<table border=\"1\" class=\"dataframe\">\n",
              "  <thead>\n",
              "    <tr style=\"text-align: right;\">\n",
              "      <th></th>\n",
              "      <th>gender</th>\n",
              "      <th>race/ethnicity</th>\n",
              "      <th>parental level of education</th>\n",
              "      <th>lunch</th>\n",
              "      <th>test preparation course</th>\n",
              "    </tr>\n",
              "  </thead>\n",
              "  <tbody>\n",
              "    <tr>\n",
              "      <th>gender</th>\n",
              "      <td>1.000000</td>\n",
              "      <td>0.063231</td>\n",
              "      <td>-0.078676</td>\n",
              "      <td>-0.033962</td>\n",
              "      <td>-0.007653</td>\n",
              "    </tr>\n",
              "    <tr>\n",
              "      <th>race/ethnicity</th>\n",
              "      <td>0.063231</td>\n",
              "      <td>1.000000</td>\n",
              "      <td>-0.011034</td>\n",
              "      <td>-0.033335</td>\n",
              "      <td>0.029828</td>\n",
              "    </tr>\n",
              "    <tr>\n",
              "      <th>parental level of education</th>\n",
              "      <td>-0.078676</td>\n",
              "      <td>-0.011034</td>\n",
              "      <td>1.000000</td>\n",
              "      <td>-0.033616</td>\n",
              "      <td>0.008912</td>\n",
              "    </tr>\n",
              "    <tr>\n",
              "      <th>lunch</th>\n",
              "      <td>-0.033962</td>\n",
              "      <td>-0.033335</td>\n",
              "      <td>-0.033616</td>\n",
              "      <td>1.000000</td>\n",
              "      <td>-0.029267</td>\n",
              "    </tr>\n",
              "    <tr>\n",
              "      <th>test preparation course</th>\n",
              "      <td>-0.007653</td>\n",
              "      <td>0.029828</td>\n",
              "      <td>0.008912</td>\n",
              "      <td>-0.029267</td>\n",
              "      <td>1.000000</td>\n",
              "    </tr>\n",
              "  </tbody>\n",
              "</table>\n",
              "</div>\n",
              "      <button class=\"colab-df-convert\" onclick=\"convertToInteractive('df-90b8147c-b293-480d-9821-56ef1d943a78')\"\n",
              "              title=\"Convert this dataframe to an interactive table.\"\n",
              "              style=\"display:none;\">\n",
              "        \n",
              "  <svg xmlns=\"http://www.w3.org/2000/svg\" height=\"24px\"viewBox=\"0 0 24 24\"\n",
              "       width=\"24px\">\n",
              "    <path d=\"M0 0h24v24H0V0z\" fill=\"none\"/>\n",
              "    <path d=\"M18.56 5.44l.94 2.06.94-2.06 2.06-.94-2.06-.94-.94-2.06-.94 2.06-2.06.94zm-11 1L8.5 8.5l.94-2.06 2.06-.94-2.06-.94L8.5 2.5l-.94 2.06-2.06.94zm10 10l.94 2.06.94-2.06 2.06-.94-2.06-.94-.94-2.06-.94 2.06-2.06.94z\"/><path d=\"M17.41 7.96l-1.37-1.37c-.4-.4-.92-.59-1.43-.59-.52 0-1.04.2-1.43.59L10.3 9.45l-7.72 7.72c-.78.78-.78 2.05 0 2.83L4 21.41c.39.39.9.59 1.41.59.51 0 1.02-.2 1.41-.59l7.78-7.78 2.81-2.81c.8-.78.8-2.07 0-2.86zM5.41 20L4 18.59l7.72-7.72 1.47 1.35L5.41 20z\"/>\n",
              "  </svg>\n",
              "      </button>\n",
              "      \n",
              "  <style>\n",
              "    .colab-df-container {\n",
              "      display:flex;\n",
              "      flex-wrap:wrap;\n",
              "      gap: 12px;\n",
              "    }\n",
              "\n",
              "    .colab-df-convert {\n",
              "      background-color: #E8F0FE;\n",
              "      border: none;\n",
              "      border-radius: 50%;\n",
              "      cursor: pointer;\n",
              "      display: none;\n",
              "      fill: #1967D2;\n",
              "      height: 32px;\n",
              "      padding: 0 0 0 0;\n",
              "      width: 32px;\n",
              "    }\n",
              "\n",
              "    .colab-df-convert:hover {\n",
              "      background-color: #E2EBFA;\n",
              "      box-shadow: 0px 1px 2px rgba(60, 64, 67, 0.3), 0px 1px 3px 1px rgba(60, 64, 67, 0.15);\n",
              "      fill: #174EA6;\n",
              "    }\n",
              "\n",
              "    [theme=dark] .colab-df-convert {\n",
              "      background-color: #3B4455;\n",
              "      fill: #D2E3FC;\n",
              "    }\n",
              "\n",
              "    [theme=dark] .colab-df-convert:hover {\n",
              "      background-color: #434B5C;\n",
              "      box-shadow: 0px 1px 3px 1px rgba(0, 0, 0, 0.15);\n",
              "      filter: drop-shadow(0px 1px 2px rgba(0, 0, 0, 0.3));\n",
              "      fill: #FFFFFF;\n",
              "    }\n",
              "  </style>\n",
              "\n",
              "      <script>\n",
              "        const buttonEl =\n",
              "          document.querySelector('#df-90b8147c-b293-480d-9821-56ef1d943a78 button.colab-df-convert');\n",
              "        buttonEl.style.display =\n",
              "          google.colab.kernel.accessAllowed ? 'block' : 'none';\n",
              "\n",
              "        async function convertToInteractive(key) {\n",
              "          const element = document.querySelector('#df-90b8147c-b293-480d-9821-56ef1d943a78');\n",
              "          const dataTable =\n",
              "            await google.colab.kernel.invokeFunction('convertToInteractive',\n",
              "                                                     [key], {});\n",
              "          if (!dataTable) return;\n",
              "\n",
              "          const docLinkHtml = 'Like what you see? Visit the ' +\n",
              "            '<a target=\"_blank\" href=https://colab.research.google.com/notebooks/data_table.ipynb>data table notebook</a>'\n",
              "            + ' to learn more about interactive tables.';\n",
              "          element.innerHTML = '';\n",
              "          dataTable['output_type'] = 'display_data';\n",
              "          await google.colab.output.renderOutput(dataTable, element);\n",
              "          const docLink = document.createElement('div');\n",
              "          docLink.innerHTML = docLinkHtml;\n",
              "          element.appendChild(docLink);\n",
              "        }\n",
              "      </script>\n",
              "    </div>\n",
              "  </div>\n",
              "  "
            ]
          },
          "metadata": {},
          "execution_count": 8
        }
      ]
    },
    {
      "cell_type": "markdown",
      "source": [
        "### There aren't any highly correlated columns, so lets as it is"
      ],
      "metadata": {
        "id": "5nBVjw7VObAI"
      }
    },
    {
      "cell_type": "code",
      "source": [
        "from sklearn.preprocessing import StandardScaler\n",
        "df = StandardScaler().fit_transform(df)"
      ],
      "metadata": {
        "id": "L1XtZPFDmJs0"
      },
      "execution_count": 9,
      "outputs": []
    },
    {
      "cell_type": "markdown",
      "source": [
        "### Train test split\n",
        "80/20 Train-Test split"
      ],
      "metadata": {
        "id": "pv2yEf8qUsM5"
      }
    },
    {
      "cell_type": "code",
      "source": [
        "from sklearn.model_selection import train_test_split\n",
        "X_train, X_test, y_train, y_test = train_test_split(df, y, test_size=0.2, random_state=42)"
      ],
      "metadata": {
        "id": "TtbQU-yjUxhY"
      },
      "execution_count": 10,
      "outputs": []
    },
    {
      "cell_type": "markdown",
      "source": [
        "### Checking train test shape"
      ],
      "metadata": {
        "id": "pqwJmp8NVOWo"
      }
    },
    {
      "cell_type": "code",
      "source": [
        "X_train.shape, X_test.shape, y_train.shape, y_test.shape"
      ],
      "metadata": {
        "colab": {
          "base_uri": "https://localhost:8080/"
        },
        "id": "C1nG7rlLVIV0",
        "outputId": "a377dd54-c29a-4bed-bcc2-ceec225861b3"
      },
      "execution_count": 11,
      "outputs": [
        {
          "output_type": "execute_result",
          "data": {
            "text/plain": [
              "((800, 5), (200, 5), (800, 3), (200, 3))"
            ]
          },
          "metadata": {},
          "execution_count": 11
        }
      ]
    },
    {
      "cell_type": "markdown",
      "source": [
        "# Training (ANN)\n",
        "## TensorFlow Keras (Functional API)"
      ],
      "metadata": {
        "id": "sngImHm9VTVC"
      }
    },
    {
      "cell_type": "code",
      "source": [
        "from tensorflow.python.ops.logging_ops import random\n",
        "import tensorflow as tf\n",
        "\n",
        "def build_model():# random seed to reproduce results\n",
        "  tf.random.set_seed(42)\n",
        "  \n",
        "  # Functional API\n",
        "  \n",
        "  # Input layer\n",
        "  input = tf.keras.Input(shape=(5,))\n",
        "  \n",
        "  flatten = tf.keras.layers.Flatten()\n",
        "  dense1 = tf.keras.layers.Dense(64)\n",
        "  dense2 = tf.keras.layers.Dense(64)\n",
        "  \n",
        "  output = tf.keras.layers.Dense(3)\n",
        "  \n",
        "  x = flatten(input)\n",
        "  x = dense1(x)\n",
        "  x = dense2(x)\n",
        "  outputs = output(x)\n",
        "  \n",
        "  # model\n",
        "  model = tf.keras.Model(inputs = input, outputs = outputs, name = \"Task1\")\n",
        "  return model"
      ],
      "metadata": {
        "id": "wW7brkw4VWxj"
      },
      "execution_count": 12,
      "outputs": []
    },
    {
      "cell_type": "markdown",
      "source": [
        "### Compiling, fitting, and predicting "
      ],
      "metadata": {
        "id": "s4YvI3uzYc8t"
      }
    },
    {
      "cell_type": "code",
      "source": [
        "# Compiling\n",
        "model = build_model()\n",
        "model.compile(loss=tf.keras.losses.MAE,\n",
        "              optimizer = tf.keras.optimizers.SGD(momentum=0.01),\n",
        "              metrics = [\"MAE\"])\n",
        "\n",
        "# Learning rate scheduler\n",
        "lr_scheduler = tf.keras.callbacks.LearningRateScheduler(lambda epoch: 1e-4 * 10**(epoch/20))\n",
        "\n",
        "# Fitting\n",
        "history = model.fit(X_train, y_train, callbacks = [lr_scheduler], epochs = 100)\n",
        "\n",
        "# Predicting\n",
        "y_pred = model.predict(X_test)"
      ],
      "metadata": {
        "colab": {
          "base_uri": "https://localhost:8080/"
        },
        "id": "FGm3_CroYh6H",
        "outputId": "680cf45a-e08d-4267-abc2-8cbc6d0e34a6"
      },
      "execution_count": 13,
      "outputs": [
        {
          "output_type": "stream",
          "name": "stdout",
          "text": [
            "Epoch 1/100\n",
            "25/25 [==============================] - 2s 2ms/step - loss: 67.6358 - MAE: 67.6358 - lr: 1.0000e-04\n",
            "Epoch 2/100\n",
            "25/25 [==============================] - 0s 2ms/step - loss: 67.6304 - MAE: 67.6304 - lr: 1.1220e-04\n",
            "Epoch 3/100\n",
            "25/25 [==============================] - 0s 2ms/step - loss: 67.6244 - MAE: 67.6244 - lr: 1.2589e-04\n",
            "Epoch 4/100\n",
            "25/25 [==============================] - 0s 2ms/step - loss: 67.6175 - MAE: 67.6175 - lr: 1.4125e-04\n",
            "Epoch 5/100\n",
            "25/25 [==============================] - 0s 2ms/step - loss: 67.6099 - MAE: 67.6099 - lr: 1.5849e-04\n",
            "Epoch 6/100\n",
            "25/25 [==============================] - 0s 2ms/step - loss: 67.6013 - MAE: 67.6013 - lr: 1.7783e-04\n",
            "Epoch 7/100\n",
            "25/25 [==============================] - 0s 2ms/step - loss: 67.5917 - MAE: 67.5917 - lr: 1.9953e-04\n",
            "Epoch 8/100\n",
            "25/25 [==============================] - 0s 2ms/step - loss: 67.5809 - MAE: 67.5809 - lr: 2.2387e-04\n",
            "Epoch 9/100\n",
            "25/25 [==============================] - 0s 2ms/step - loss: 67.5687 - MAE: 67.5687 - lr: 2.5119e-04\n",
            "Epoch 10/100\n",
            "25/25 [==============================] - 0s 2ms/step - loss: 67.5551 - MAE: 67.5551 - lr: 2.8184e-04\n",
            "Epoch 11/100\n",
            "25/25 [==============================] - 0s 2ms/step - loss: 67.5398 - MAE: 67.5398 - lr: 3.1623e-04\n",
            "Epoch 12/100\n",
            "25/25 [==============================] - 0s 2ms/step - loss: 67.5226 - MAE: 67.5226 - lr: 3.5481e-04\n",
            "Epoch 13/100\n",
            "25/25 [==============================] - 0s 2ms/step - loss: 67.5032 - MAE: 67.5032 - lr: 3.9811e-04\n",
            "Epoch 14/100\n",
            "25/25 [==============================] - 0s 2ms/step - loss: 67.4814 - MAE: 67.4814 - lr: 4.4668e-04\n",
            "Epoch 15/100\n",
            "25/25 [==============================] - 0s 2ms/step - loss: 67.4569 - MAE: 67.4569 - lr: 5.0119e-04\n",
            "Epoch 16/100\n",
            "25/25 [==============================] - 0s 2ms/step - loss: 67.4293 - MAE: 67.4293 - lr: 5.6234e-04\n",
            "Epoch 17/100\n",
            "25/25 [==============================] - 0s 3ms/step - loss: 67.3981 - MAE: 67.3981 - lr: 6.3096e-04\n",
            "Epoch 18/100\n",
            "25/25 [==============================] - 0s 2ms/step - loss: 67.3628 - MAE: 67.3628 - lr: 7.0795e-04\n",
            "Epoch 19/100\n",
            "25/25 [==============================] - 0s 2ms/step - loss: 67.3229 - MAE: 67.3229 - lr: 7.9433e-04\n",
            "Epoch 20/100\n",
            "25/25 [==============================] - 0s 2ms/step - loss: 67.2775 - MAE: 67.2775 - lr: 8.9125e-04\n",
            "Epoch 21/100\n",
            "25/25 [==============================] - 0s 2ms/step - loss: 67.2257 - MAE: 67.2257 - lr: 0.0010\n",
            "Epoch 22/100\n",
            "25/25 [==============================] - 0s 2ms/step - loss: 67.1663 - MAE: 67.1663 - lr: 0.0011\n",
            "Epoch 23/100\n",
            "25/25 [==============================] - 0s 2ms/step - loss: 67.0980 - MAE: 67.0980 - lr: 0.0013\n",
            "Epoch 24/100\n",
            "25/25 [==============================] - 0s 2ms/step - loss: 67.0187 - MAE: 67.0187 - lr: 0.0014\n",
            "Epoch 25/100\n",
            "25/25 [==============================] - 0s 2ms/step - loss: 66.9258 - MAE: 66.9258 - lr: 0.0016\n",
            "Epoch 26/100\n",
            "25/25 [==============================] - 0s 2ms/step - loss: 66.8158 - MAE: 66.8158 - lr: 0.0018\n",
            "Epoch 27/100\n",
            "25/25 [==============================] - 0s 2ms/step - loss: 66.6839 - MAE: 66.6839 - lr: 0.0020\n",
            "Epoch 28/100\n",
            "25/25 [==============================] - 0s 2ms/step - loss: 66.5228 - MAE: 66.5228 - lr: 0.0022\n",
            "Epoch 29/100\n",
            "25/25 [==============================] - 0s 2ms/step - loss: 66.3216 - MAE: 66.3216 - lr: 0.0025\n",
            "Epoch 30/100\n",
            "25/25 [==============================] - 0s 2ms/step - loss: 66.0637 - MAE: 66.0637 - lr: 0.0028\n",
            "Epoch 31/100\n",
            "25/25 [==============================] - 0s 3ms/step - loss: 65.7215 - MAE: 65.7215 - lr: 0.0032\n",
            "Epoch 32/100\n",
            "25/25 [==============================] - 0s 2ms/step - loss: 65.2480 - MAE: 65.2480 - lr: 0.0035\n",
            "Epoch 33/100\n",
            "25/25 [==============================] - 0s 2ms/step - loss: 64.5553 - MAE: 64.5553 - lr: 0.0040\n",
            "Epoch 34/100\n",
            "25/25 [==============================] - 0s 2ms/step - loss: 63.4640 - MAE: 63.4640 - lr: 0.0045\n",
            "Epoch 35/100\n",
            "25/25 [==============================] - 0s 2ms/step - loss: 61.5686 - MAE: 61.5686 - lr: 0.0050\n",
            "Epoch 36/100\n",
            "25/25 [==============================] - 0s 2ms/step - loss: 57.7704 - MAE: 57.7704 - lr: 0.0056\n",
            "Epoch 37/100\n",
            "25/25 [==============================] - 0s 2ms/step - loss: 48.2514 - MAE: 48.2514 - lr: 0.0063\n",
            "Epoch 38/100\n",
            "25/25 [==============================] - 0s 2ms/step - loss: 22.6127 - MAE: 22.6127 - lr: 0.0071\n",
            "Epoch 39/100\n",
            "25/25 [==============================] - 0s 2ms/step - loss: 11.1067 - MAE: 11.1067 - lr: 0.0079\n",
            "Epoch 40/100\n",
            "25/25 [==============================] - 0s 2ms/step - loss: 10.9546 - MAE: 10.9546 - lr: 0.0089\n",
            "Epoch 41/100\n",
            "25/25 [==============================] - 0s 2ms/step - loss: 10.9427 - MAE: 10.9427 - lr: 0.0100\n",
            "Epoch 42/100\n",
            "25/25 [==============================] - 0s 2ms/step - loss: 10.9986 - MAE: 10.9986 - lr: 0.0112\n",
            "Epoch 43/100\n",
            "25/25 [==============================] - 0s 2ms/step - loss: 10.9137 - MAE: 10.9137 - lr: 0.0126\n",
            "Epoch 44/100\n",
            "25/25 [==============================] - 0s 2ms/step - loss: 10.9412 - MAE: 10.9412 - lr: 0.0141\n",
            "Epoch 45/100\n",
            "25/25 [==============================] - 0s 2ms/step - loss: 11.0076 - MAE: 11.0076 - lr: 0.0158\n",
            "Epoch 46/100\n",
            "25/25 [==============================] - 0s 2ms/step - loss: 10.9261 - MAE: 10.9261 - lr: 0.0178\n",
            "Epoch 47/100\n",
            "25/25 [==============================] - 0s 2ms/step - loss: 10.9194 - MAE: 10.9194 - lr: 0.0200\n",
            "Epoch 48/100\n",
            "25/25 [==============================] - 0s 2ms/step - loss: 10.8973 - MAE: 10.8973 - lr: 0.0224\n",
            "Epoch 49/100\n",
            "25/25 [==============================] - 0s 2ms/step - loss: 10.9859 - MAE: 10.9859 - lr: 0.0251\n",
            "Epoch 50/100\n",
            "25/25 [==============================] - 0s 2ms/step - loss: 10.8809 - MAE: 10.8809 - lr: 0.0282\n",
            "Epoch 51/100\n",
            "25/25 [==============================] - 0s 3ms/step - loss: 11.0456 - MAE: 11.0456 - lr: 0.0316\n",
            "Epoch 52/100\n",
            "25/25 [==============================] - 0s 2ms/step - loss: 10.9930 - MAE: 10.9930 - lr: 0.0355\n",
            "Epoch 53/100\n",
            "25/25 [==============================] - 0s 2ms/step - loss: 11.0530 - MAE: 11.0530 - lr: 0.0398\n",
            "Epoch 54/100\n",
            "25/25 [==============================] - 0s 2ms/step - loss: 11.5969 - MAE: 11.5969 - lr: 0.0447\n",
            "Epoch 55/100\n",
            "25/25 [==============================] - 0s 2ms/step - loss: 11.1716 - MAE: 11.1716 - lr: 0.0501\n",
            "Epoch 56/100\n",
            "25/25 [==============================] - 0s 2ms/step - loss: 12.3673 - MAE: 12.3673 - lr: 0.0562\n",
            "Epoch 57/100\n",
            "25/25 [==============================] - 0s 2ms/step - loss: 11.9812 - MAE: 11.9812 - lr: 0.0631\n",
            "Epoch 58/100\n",
            "25/25 [==============================] - 0s 2ms/step - loss: 13.6851 - MAE: 13.6851 - lr: 0.0708\n",
            "Epoch 59/100\n",
            "25/25 [==============================] - 0s 2ms/step - loss: 15.0347 - MAE: 15.0347 - lr: 0.0794\n",
            "Epoch 60/100\n",
            "25/25 [==============================] - 0s 2ms/step - loss: 14.3679 - MAE: 14.3679 - lr: 0.0891\n",
            "Epoch 61/100\n",
            "25/25 [==============================] - 0s 2ms/step - loss: 18.3105 - MAE: 18.3105 - lr: 0.1000\n",
            "Epoch 62/100\n",
            "25/25 [==============================] - 0s 2ms/step - loss: 17.0620 - MAE: 17.0620 - lr: 0.1122\n",
            "Epoch 63/100\n",
            "25/25 [==============================] - 0s 2ms/step - loss: 22.0917 - MAE: 22.0917 - lr: 0.1259\n",
            "Epoch 64/100\n",
            "25/25 [==============================] - 0s 2ms/step - loss: 25.1078 - MAE: 25.1078 - lr: 0.1413\n",
            "Epoch 65/100\n",
            "25/25 [==============================] - 0s 2ms/step - loss: 24.0806 - MAE: 24.0806 - lr: 0.1585\n",
            "Epoch 66/100\n",
            "25/25 [==============================] - 0s 2ms/step - loss: 16.7700 - MAE: 16.7700 - lr: 0.1778\n",
            "Epoch 67/100\n",
            "25/25 [==============================] - 0s 2ms/step - loss: 12.8953 - MAE: 12.8953 - lr: 0.1995\n",
            "Epoch 68/100\n",
            "25/25 [==============================] - 0s 2ms/step - loss: 11.2050 - MAE: 11.2050 - lr: 0.2239\n",
            "Epoch 69/100\n",
            "25/25 [==============================] - 0s 2ms/step - loss: 11.9422 - MAE: 11.9422 - lr: 0.2512\n",
            "Epoch 70/100\n",
            "25/25 [==============================] - 0s 2ms/step - loss: 12.3693 - MAE: 12.3693 - lr: 0.2818\n",
            "Epoch 71/100\n",
            "25/25 [==============================] - 0s 3ms/step - loss: 12.1816 - MAE: 12.1816 - lr: 0.3162\n",
            "Epoch 72/100\n",
            "25/25 [==============================] - 0s 2ms/step - loss: 13.6503 - MAE: 13.6503 - lr: 0.3548\n",
            "Epoch 73/100\n",
            "25/25 [==============================] - 0s 2ms/step - loss: 16.1050 - MAE: 16.1050 - lr: 0.3981\n",
            "Epoch 74/100\n",
            "25/25 [==============================] - 0s 2ms/step - loss: 53.0223 - MAE: 53.0223 - lr: 0.4467\n",
            "Epoch 75/100\n",
            "25/25 [==============================] - 0s 2ms/step - loss: nan - MAE: nan - lr: 0.5012\n",
            "Epoch 76/100\n",
            "25/25 [==============================] - 0s 2ms/step - loss: nan - MAE: nan - lr: 0.5623\n",
            "Epoch 77/100\n",
            "25/25 [==============================] - 0s 2ms/step - loss: nan - MAE: nan - lr: 0.6310\n",
            "Epoch 78/100\n",
            "25/25 [==============================] - 0s 3ms/step - loss: nan - MAE: nan - lr: 0.7079\n",
            "Epoch 79/100\n",
            "25/25 [==============================] - 0s 2ms/step - loss: nan - MAE: nan - lr: 0.7943\n",
            "Epoch 80/100\n",
            "25/25 [==============================] - 0s 2ms/step - loss: nan - MAE: nan - lr: 0.8913\n",
            "Epoch 81/100\n",
            "25/25 [==============================] - 0s 2ms/step - loss: nan - MAE: nan - lr: 1.0000\n",
            "Epoch 82/100\n",
            "25/25 [==============================] - 0s 2ms/step - loss: nan - MAE: nan - lr: 1.1220\n",
            "Epoch 83/100\n",
            "25/25 [==============================] - 0s 2ms/step - loss: nan - MAE: nan - lr: 1.2589\n",
            "Epoch 84/100\n",
            "25/25 [==============================] - 0s 2ms/step - loss: nan - MAE: nan - lr: 1.4125\n",
            "Epoch 85/100\n",
            "25/25 [==============================] - 0s 2ms/step - loss: nan - MAE: nan - lr: 1.5849\n",
            "Epoch 86/100\n",
            "25/25 [==============================] - 0s 2ms/step - loss: nan - MAE: nan - lr: 1.7783\n",
            "Epoch 87/100\n",
            "25/25 [==============================] - 0s 2ms/step - loss: nan - MAE: nan - lr: 1.9953\n",
            "Epoch 88/100\n",
            "25/25 [==============================] - 0s 2ms/step - loss: nan - MAE: nan - lr: 2.2387\n",
            "Epoch 89/100\n",
            "25/25 [==============================] - 0s 2ms/step - loss: nan - MAE: nan - lr: 2.5119\n",
            "Epoch 90/100\n",
            "25/25 [==============================] - 0s 2ms/step - loss: nan - MAE: nan - lr: 2.8184\n",
            "Epoch 91/100\n",
            "25/25 [==============================] - 0s 2ms/step - loss: nan - MAE: nan - lr: 3.1623\n",
            "Epoch 92/100\n",
            "25/25 [==============================] - 0s 2ms/step - loss: nan - MAE: nan - lr: 3.5481\n",
            "Epoch 93/100\n",
            "25/25 [==============================] - 0s 2ms/step - loss: nan - MAE: nan - lr: 3.9811\n",
            "Epoch 94/100\n",
            "25/25 [==============================] - 0s 2ms/step - loss: nan - MAE: nan - lr: 4.4668\n",
            "Epoch 95/100\n",
            "25/25 [==============================] - 0s 2ms/step - loss: nan - MAE: nan - lr: 5.0119\n",
            "Epoch 96/100\n",
            "25/25 [==============================] - 0s 2ms/step - loss: nan - MAE: nan - lr: 5.6234\n",
            "Epoch 97/100\n",
            "25/25 [==============================] - 0s 2ms/step - loss: nan - MAE: nan - lr: 6.3096\n",
            "Epoch 98/100\n",
            "25/25 [==============================] - 0s 2ms/step - loss: nan - MAE: nan - lr: 7.0795\n",
            "Epoch 99/100\n",
            "25/25 [==============================] - 0s 2ms/step - loss: nan - MAE: nan - lr: 7.9433\n",
            "Epoch 100/100\n",
            "25/25 [==============================] - 0s 2ms/step - loss: nan - MAE: nan - lr: 8.9125\n",
            "7/7 [==============================] - 0s 2ms/step\n"
          ]
        }
      ]
    },
    {
      "cell_type": "markdown",
      "source": [
        "### Evaluating the model"
      ],
      "metadata": {
        "id": "IwBWmxUterdS"
      }
    },
    {
      "cell_type": "code",
      "source": [
        "model.evaluate(X_test, y_test)"
      ],
      "metadata": {
        "colab": {
          "base_uri": "https://localhost:8080/"
        },
        "id": "SJsbdVZwcUAs",
        "outputId": "70ee60ca-910f-4af6-a71c-f2808916fe25"
      },
      "execution_count": 14,
      "outputs": [
        {
          "output_type": "stream",
          "name": "stdout",
          "text": [
            "7/7 [==============================] - 0s 2ms/step - loss: nan - MAE: nan\n"
          ]
        },
        {
          "output_type": "execute_result",
          "data": {
            "text/plain": [
              "[nan, nan]"
            ]
          },
          "metadata": {},
          "execution_count": 14
        }
      ]
    },
    {
      "cell_type": "code",
      "source": [
        "import matplotlib.pyplot as plt\n",
        "\n",
        "pd.DataFrame(history.history).plot()\n",
        "plt.xlabel(\"epochs\")"
      ],
      "metadata": {
        "colab": {
          "base_uri": "https://localhost:8080/",
          "height": 298
        },
        "id": "sH8U7lwtnDe3",
        "outputId": "56922986-81d6-4e0f-e56d-43c35b7088ef"
      },
      "execution_count": 15,
      "outputs": [
        {
          "output_type": "execute_result",
          "data": {
            "text/plain": [
              "Text(0.5, 0, 'epochs')"
            ]
          },
          "metadata": {},
          "execution_count": 15
        },
        {
          "output_type": "display_data",
          "data": {
            "text/plain": [
              "<Figure size 432x288 with 1 Axes>"
            ],
            "image/png": "[encoded data removed]"
          },
          "metadata": {
            "needs_background": "light"
          }
        }
      ]
    },
    {
      "cell_type": "code",
      "source": [
        "# lets only plot between learning rate vs loss\n",
        "lr = 1e-4 * (10 ** (tf.range(100)/20)) # these would be our range of lrs in callbacks\n",
        "lr\n",
        "# Now lets plot\n",
        "plt.figure(figsize = (10,10))\n",
        "plt.semilogx(lr, history.history[\"loss\"]) # Semilogx will put log scaling on x axis\n",
        "# history[\"loss\"] will give us only loss from history\n",
        "plt.title(\"Learning rate vs Loss\")\n",
        "plt.xlabel(\"Learning rate\")\n",
        "plt.ylabel(\"loss\")"
      ],
      "metadata": {
        "colab": {
          "base_uri": "https://localhost:8080/",
          "height": 643
        },
        "id": "XgaRR7QdoNsA",
        "outputId": "44909e0f-4617-41dc-999b-8fa52d6124ae"
      },
      "execution_count": 16,
      "outputs": [
        {
          "output_type": "execute_result",
          "data": {
            "text/plain": [
              "Text(0, 0.5, 'loss')"
            ]
          },
          "metadata": {},
          "execution_count": 16
        },
        {
          "output_type": "display_data",
          "data": {
            "text/plain": [
              "<Figure size 720x720 with 1 Axes>"
            ],
            "image/png": "[encoded data removed]"
          },
          "metadata": {
            "needs_background": "light"
          }
        }
      ]
    },
    {
      "cell_type": "code",
      "source": [
        "# Compiling\n",
        "model = build_model()\n",
        "model.compile(loss=tf.keras.losses.MAE,\n",
        "              optimizer = tf.keras.optimizers.SGD(momentum=0.01, learning_rate = 0.01),\n",
        "              metrics = [\"MAE\"])\n",
        "\n",
        "# Fitting\n",
        "history = model.fit(X_train, y_train, epochs = 100)\n",
        "\n",
        "# Predicting\n",
        "y_pred = model.predict(X_test)"
      ],
      "metadata": {
        "colab": {
          "base_uri": "https://localhost:8080/"
        },
        "id": "TjTQ0Nnq32Y-",
        "outputId": "16639d2a-e9c6-4b34-b41c-fe35d8eff040"
      },
      "execution_count": 17,
      "outputs": [
        {
          "output_type": "stream",
          "name": "stdout",
          "text": [
            "Epoch 1/100\n",
            "25/25 [==============================] - 0s 2ms/step - loss: 67.3903 - MAE: 67.3903\n",
            "Epoch 2/100\n",
            "25/25 [==============================] - 0s 2ms/step - loss: 66.7992 - MAE: 66.7992\n",
            "Epoch 3/100\n",
            "25/25 [==============================] - 0s 2ms/step - loss: 65.9306 - MAE: 65.9306\n",
            "Epoch 4/100\n",
            "25/25 [==============================] - 0s 2ms/step - loss: 64.3015 - MAE: 64.3015\n",
            "Epoch 5/100\n",
            "25/25 [==============================] - 0s 2ms/step - loss: 60.3079 - MAE: 60.3079\n",
            "Epoch 6/100\n",
            "25/25 [==============================] - 0s 2ms/step - loss: 45.7938 - MAE: 45.7938\n",
            "Epoch 7/100\n",
            "25/25 [==============================] - 0s 2ms/step - loss: 14.1352 - MAE: 14.1352\n",
            "Epoch 8/100\n",
            "25/25 [==============================] - 0s 3ms/step - loss: 11.0138 - MAE: 11.0138\n",
            "Epoch 9/100\n",
            "25/25 [==============================] - 0s 2ms/step - loss: 10.9251 - MAE: 10.9251\n",
            "Epoch 10/100\n",
            "25/25 [==============================] - 0s 2ms/step - loss: 10.9525 - MAE: 10.9525\n",
            "Epoch 11/100\n",
            "25/25 [==============================] - 0s 2ms/step - loss: 10.9139 - MAE: 10.9139\n",
            "Epoch 12/100\n",
            "25/25 [==============================] - 0s 2ms/step - loss: 10.9333 - MAE: 10.9333\n",
            "Epoch 13/100\n",
            "25/25 [==============================] - 0s 2ms/step - loss: 10.8802 - MAE: 10.8802\n",
            "Epoch 14/100\n",
            "25/25 [==============================] - 0s 2ms/step - loss: 10.8484 - MAE: 10.8484\n",
            "Epoch 15/100\n",
            "25/25 [==============================] - 0s 2ms/step - loss: 10.8176 - MAE: 10.8176\n",
            "Epoch 16/100\n",
            "25/25 [==============================] - 0s 3ms/step - loss: 10.8772 - MAE: 10.8772\n",
            "Epoch 17/100\n",
            "25/25 [==============================] - 0s 2ms/step - loss: 10.7980 - MAE: 10.7980\n",
            "Epoch 18/100\n",
            "25/25 [==============================] - 0s 2ms/step - loss: 10.7876 - MAE: 10.7876\n",
            "Epoch 19/100\n",
            "25/25 [==============================] - 0s 3ms/step - loss: 10.7555 - MAE: 10.7555\n",
            "Epoch 20/100\n",
            "25/25 [==============================] - 0s 2ms/step - loss: 10.7320 - MAE: 10.7320\n",
            "Epoch 21/100\n",
            "25/25 [==============================] - 0s 2ms/step - loss: 10.7202 - MAE: 10.7202\n",
            "Epoch 22/100\n",
            "25/25 [==============================] - 0s 2ms/step - loss: 10.7183 - MAE: 10.7183\n",
            "Epoch 23/100\n",
            "25/25 [==============================] - 0s 3ms/step - loss: 10.7338 - MAE: 10.7338\n",
            "Epoch 24/100\n",
            "25/25 [==============================] - 0s 2ms/step - loss: 10.6102 - MAE: 10.6102\n",
            "Epoch 25/100\n",
            "25/25 [==============================] - 0s 2ms/step - loss: 10.6525 - MAE: 10.6525\n",
            "Epoch 26/100\n",
            "25/25 [==============================] - 0s 2ms/step - loss: 10.6191 - MAE: 10.6191\n",
            "Epoch 27/100\n",
            "25/25 [==============================] - 0s 3ms/step - loss: 10.6480 - MAE: 10.6480\n",
            "Epoch 28/100\n",
            "25/25 [==============================] - 0s 2ms/step - loss: 10.6541 - MAE: 10.6541\n",
            "Epoch 29/100\n",
            "25/25 [==============================] - 0s 2ms/step - loss: 10.6202 - MAE: 10.6202\n",
            "Epoch 30/100\n",
            "25/25 [==============================] - 0s 2ms/step - loss: 10.5963 - MAE: 10.5963\n",
            "Epoch 31/100\n",
            "25/25 [==============================] - 0s 2ms/step - loss: 10.6276 - MAE: 10.6276\n",
            "Epoch 32/100\n",
            "25/25 [==============================] - 0s 2ms/step - loss: 10.5267 - MAE: 10.5267\n",
            "Epoch 33/100\n",
            "25/25 [==============================] - 0s 2ms/step - loss: 10.6057 - MAE: 10.6057\n",
            "Epoch 34/100\n",
            "25/25 [==============================] - 0s 2ms/step - loss: 10.5992 - MAE: 10.5992\n",
            "Epoch 35/100\n",
            "25/25 [==============================] - 0s 3ms/step - loss: 10.6297 - MAE: 10.6297\n",
            "Epoch 36/100\n",
            "25/25 [==============================] - 0s 2ms/step - loss: 10.6146 - MAE: 10.6146\n",
            "Epoch 37/100\n",
            "25/25 [==============================] - 0s 2ms/step - loss: 10.6285 - MAE: 10.6285\n",
            "Epoch 38/100\n",
            "25/25 [==============================] - 0s 2ms/step - loss: 10.6760 - MAE: 10.6760\n",
            "Epoch 39/100\n",
            "25/25 [==============================] - 0s 2ms/step - loss: 10.5552 - MAE: 10.5552\n",
            "Epoch 40/100\n",
            "25/25 [==============================] - 0s 2ms/step - loss: 10.5892 - MAE: 10.5892\n",
            "Epoch 41/100\n",
            "25/25 [==============================] - 0s 2ms/step - loss: 10.5967 - MAE: 10.5967\n",
            "Epoch 42/100\n",
            "25/25 [==============================] - 0s 2ms/step - loss: 10.6254 - MAE: 10.6254\n",
            "Epoch 43/100\n",
            "25/25 [==============================] - 0s 2ms/step - loss: 10.5718 - MAE: 10.5718\n",
            "Epoch 44/100\n",
            "25/25 [==============================] - 0s 2ms/step - loss: 10.5929 - MAE: 10.5929\n",
            "Epoch 45/100\n",
            "25/25 [==============================] - 0s 2ms/step - loss: 10.6545 - MAE: 10.6545\n",
            "Epoch 46/100\n",
            "25/25 [==============================] - 0s 2ms/step - loss: 10.6045 - MAE: 10.6045\n",
            "Epoch 47/100\n",
            "25/25 [==============================] - 0s 2ms/step - loss: 10.6110 - MAE: 10.6110\n",
            "Epoch 48/100\n",
            "25/25 [==============================] - 0s 2ms/step - loss: 10.5604 - MAE: 10.5604\n",
            "Epoch 49/100\n",
            "25/25 [==============================] - 0s 2ms/step - loss: 10.6138 - MAE: 10.6138\n",
            "Epoch 50/100\n",
            "25/25 [==============================] - 0s 2ms/step - loss: 10.5720 - MAE: 10.5720\n",
            "Epoch 51/100\n",
            "25/25 [==============================] - 0s 2ms/step - loss: 10.5749 - MAE: 10.5749\n",
            "Epoch 52/100\n",
            "25/25 [==============================] - 0s 3ms/step - loss: 10.5970 - MAE: 10.5970\n",
            "Epoch 53/100\n",
            "25/25 [==============================] - 0s 2ms/step - loss: 10.5824 - MAE: 10.5824\n",
            "Epoch 54/100\n",
            "25/25 [==============================] - 0s 2ms/step - loss: 10.6478 - MAE: 10.6478\n",
            "Epoch 55/100\n",
            "25/25 [==============================] - 0s 2ms/step - loss: 10.5181 - MAE: 10.5181\n",
            "Epoch 56/100\n",
            "25/25 [==============================] - 0s 2ms/step - loss: 10.6043 - MAE: 10.6043\n",
            "Epoch 57/100\n",
            "25/25 [==============================] - 0s 2ms/step - loss: 10.6255 - MAE: 10.6255\n",
            "Epoch 58/100\n",
            "25/25 [==============================] - 0s 2ms/step - loss: 10.6203 - MAE: 10.6203\n",
            "Epoch 59/100\n",
            "25/25 [==============================] - 0s 2ms/step - loss: 10.5917 - MAE: 10.5917\n",
            "Epoch 60/100\n",
            "25/25 [==============================] - 0s 2ms/step - loss: 10.5822 - MAE: 10.5822\n",
            "Epoch 61/100\n",
            "25/25 [==============================] - 0s 2ms/step - loss: 10.5864 - MAE: 10.5864\n",
            "Epoch 62/100\n",
            "25/25 [==============================] - 0s 2ms/step - loss: 10.5971 - MAE: 10.5971\n",
            "Epoch 63/100\n",
            "25/25 [==============================] - 0s 2ms/step - loss: 10.5497 - MAE: 10.5497\n",
            "Epoch 64/100\n",
            "25/25 [==============================] - 0s 2ms/step - loss: 10.6305 - MAE: 10.6305\n",
            "Epoch 65/100\n",
            "25/25 [==============================] - 0s 2ms/step - loss: 10.5797 - MAE: 10.5797\n",
            "Epoch 66/100\n",
            "25/25 [==============================] - 0s 2ms/step - loss: 10.6076 - MAE: 10.6076\n",
            "Epoch 67/100\n",
            "25/25 [==============================] - 0s 3ms/step - loss: 10.6545 - MAE: 10.6545\n",
            "Epoch 68/100\n",
            "25/25 [==============================] - 0s 2ms/step - loss: 10.5335 - MAE: 10.5335\n",
            "Epoch 69/100\n",
            "25/25 [==============================] - 0s 2ms/step - loss: 10.6128 - MAE: 10.6128\n",
            "Epoch 70/100\n",
            "25/25 [==============================] - 0s 2ms/step - loss: 10.5706 - MAE: 10.5706\n",
            "Epoch 71/100\n",
            "25/25 [==============================] - 0s 2ms/step - loss: 10.6032 - MAE: 10.6032\n",
            "Epoch 72/100\n",
            "25/25 [==============================] - 0s 2ms/step - loss: 10.5782 - MAE: 10.5782\n",
            "Epoch 73/100\n",
            "25/25 [==============================] - 0s 2ms/step - loss: 10.5953 - MAE: 10.5953\n",
            "Epoch 74/100\n",
            "25/25 [==============================] - 0s 2ms/step - loss: 10.5589 - MAE: 10.5589\n",
            "Epoch 75/100\n",
            "25/25 [==============================] - 0s 2ms/step - loss: 10.6487 - MAE: 10.6487\n",
            "Epoch 76/100\n",
            "25/25 [==============================] - 0s 2ms/step - loss: 10.6170 - MAE: 10.6170\n",
            "Epoch 77/100\n",
            "25/25 [==============================] - 0s 2ms/step - loss: 10.6074 - MAE: 10.6074\n",
            "Epoch 78/100\n",
            "25/25 [==============================] - 0s 2ms/step - loss: 10.6070 - MAE: 10.6070\n",
            "Epoch 79/100\n",
            "25/25 [==============================] - 0s 2ms/step - loss: 10.5703 - MAE: 10.5703\n",
            "Epoch 80/100\n",
            "25/25 [==============================] - 0s 2ms/step - loss: 10.5957 - MAE: 10.5957\n",
            "Epoch 81/100\n",
            "25/25 [==============================] - 0s 2ms/step - loss: 10.5914 - MAE: 10.5914\n",
            "Epoch 82/100\n",
            "25/25 [==============================] - 0s 2ms/step - loss: 10.5380 - MAE: 10.5380\n",
            "Epoch 83/100\n",
            "25/25 [==============================] - 0s 2ms/step - loss: 10.5857 - MAE: 10.5857\n",
            "Epoch 84/100\n",
            "25/25 [==============================] - 0s 3ms/step - loss: 10.5845 - MAE: 10.5845\n",
            "Epoch 85/100\n",
            "25/25 [==============================] - 0s 2ms/step - loss: 10.6146 - MAE: 10.6146\n",
            "Epoch 86/100\n",
            "25/25 [==============================] - 0s 2ms/step - loss: 10.6447 - MAE: 10.6447\n",
            "Epoch 87/100\n",
            "25/25 [==============================] - 0s 2ms/step - loss: 10.5853 - MAE: 10.5853\n",
            "Epoch 88/100\n",
            "25/25 [==============================] - 0s 2ms/step - loss: 10.6060 - MAE: 10.6060\n",
            "Epoch 89/100\n",
            "25/25 [==============================] - 0s 2ms/step - loss: 10.5405 - MAE: 10.5405\n",
            "Epoch 90/100\n",
            "25/25 [==============================] - 0s 2ms/step - loss: 10.5704 - MAE: 10.5704\n",
            "Epoch 91/100\n",
            "25/25 [==============================] - 0s 2ms/step - loss: 10.6183 - MAE: 10.6183\n",
            "Epoch 92/100\n",
            "25/25 [==============================] - 0s 2ms/step - loss: 10.6293 - MAE: 10.6293\n",
            "Epoch 93/100\n",
            "25/25 [==============================] - 0s 3ms/step - loss: 10.6142 - MAE: 10.6142\n",
            "Epoch 94/100\n",
            "25/25 [==============================] - 0s 2ms/step - loss: 10.6563 - MAE: 10.6563\n",
            "Epoch 95/100\n",
            "25/25 [==============================] - 0s 2ms/step - loss: 10.6093 - MAE: 10.6093\n",
            "Epoch 96/100\n",
            "25/25 [==============================] - 0s 2ms/step - loss: 10.5992 - MAE: 10.5992\n",
            "Epoch 97/100\n",
            "25/25 [==============================] - 0s 2ms/step - loss: 10.5565 - MAE: 10.5565\n",
            "Epoch 98/100\n",
            "25/25 [==============================] - 0s 2ms/step - loss: 10.5861 - MAE: 10.5861\n",
            "Epoch 99/100\n",
            "25/25 [==============================] - 0s 2ms/step - loss: 10.5821 - MAE: 10.5821\n",
            "Epoch 100/100\n",
            "25/25 [==============================] - 0s 3ms/step - loss: 10.5829 - MAE: 10.5829\n",
            "7/7 [==============================] - 0s 2ms/step\n"
          ]
        }
      ]
    },
    {
      "cell_type": "code",
      "source": [
        "model.evaluate(X_test, y_test)"
      ],
      "metadata": {
        "colab": {
          "base_uri": "https://localhost:8080/"
        },
        "id": "Qgv9vzJJ4c6G",
        "outputId": "0f995ea4-059d-4d9d-fb18-bae415b3101e"
      },
      "execution_count": 18,
      "outputs": [
        {
          "output_type": "stream",
          "name": "stdout",
          "text": [
            "7/7 [==============================] - 0s 3ms/step - loss: 10.8886 - MAE: 10.8886\n"
          ]
        },
        {
          "output_type": "execute_result",
          "data": {
            "text/plain": [
              "[10.888611793518066, 10.888611793518066]"
            ]
          },
          "metadata": {},
          "execution_count": 18
        }
      ]
    },
    {
      "cell_type": "code",
      "source": [
        "from tensorflow.python.ops.logging_ops import random\n",
        "import tensorflow as tf\n",
        "\n",
        "model2 = build_model()\n",
        "\n",
        "# Compiling\n",
        "model2.compile(loss=tf.keras.losses.MAE,\n",
        "              optimizer = \"Adam\",\n",
        "              metrics = [\"MAE\"])\n",
        "\n",
        "# Learning rate scheduler\n",
        "lr_scheduler = tf.keras.callbacks.LearningRateScheduler(lambda epoch: 1e-4 * 10**(epoch/20))\n",
        "\n",
        "# Fitting\n",
        "history = model2.fit(X_train, y_train, callbacks = [lr_scheduler], epochs = 100)\n",
        "\n",
        "# Predicting\n",
        "y_pred = model2.predict(X_test)"
      ],
      "metadata": {
        "colab": {
          "base_uri": "https://localhost:8080/"
        },
        "id": "tB6U8SezsAg_",
        "outputId": "583cae7d-1982-45cc-9d18-9f083eca366a"
      },
      "execution_count": 19,
      "outputs": [
        {
          "output_type": "stream",
          "name": "stdout",
          "text": [
            "Epoch 1/100\n",
            "25/25 [==============================] - 0s 2ms/step - loss: 67.6237 - MAE: 67.6237 - lr: 1.0000e-04\n",
            "Epoch 2/100\n",
            "25/25 [==============================] - 0s 2ms/step - loss: 67.5887 - MAE: 67.5887 - lr: 1.1220e-04\n",
            "Epoch 3/100\n",
            "25/25 [==============================] - 0s 2ms/step - loss: 67.5486 - MAE: 67.5486 - lr: 1.2589e-04\n",
            "Epoch 4/100\n",
            "25/25 [==============================] - 0s 2ms/step - loss: 67.5025 - MAE: 67.5025 - lr: 1.4125e-04\n",
            "Epoch 5/100\n",
            "25/25 [==============================] - 0s 2ms/step - loss: 67.4450 - MAE: 67.4450 - lr: 1.5849e-04\n",
            "Epoch 6/100\n",
            "25/25 [==============================] - 0s 2ms/step - loss: 67.3703 - MAE: 67.3703 - lr: 1.7783e-04\n",
            "Epoch 7/100\n",
            "25/25 [==============================] - 0s 3ms/step - loss: 67.2707 - MAE: 67.2707 - lr: 1.9953e-04\n",
            "Epoch 8/100\n",
            "25/25 [==============================] - 0s 2ms/step - loss: 67.1236 - MAE: 67.1236 - lr: 2.2387e-04\n",
            "Epoch 9/100\n",
            "25/25 [==============================] - 0s 2ms/step - loss: 66.8984 - MAE: 66.8984 - lr: 2.5119e-04\n",
            "Epoch 10/100\n",
            "25/25 [==============================] - 0s 2ms/step - loss: 66.5318 - MAE: 66.5318 - lr: 2.8184e-04\n",
            "Epoch 11/100\n",
            "25/25 [==============================] - 0s 2ms/step - loss: 65.8997 - MAE: 65.8997 - lr: 3.1623e-04\n",
            "Epoch 12/100\n",
            "25/25 [==============================] - 0s 2ms/step - loss: 64.7564 - MAE: 64.7564 - lr: 3.5481e-04\n",
            "Epoch 13/100\n",
            "25/25 [==============================] - 0s 2ms/step - loss: 62.6213 - MAE: 62.6213 - lr: 3.9811e-04\n",
            "Epoch 14/100\n",
            "25/25 [==============================] - 0s 2ms/step - loss: 58.5760 - MAE: 58.5760 - lr: 4.4668e-04\n",
            "Epoch 15/100\n",
            "25/25 [==============================] - 0s 2ms/step - loss: 51.0074 - MAE: 51.0074 - lr: 5.0119e-04\n",
            "Epoch 16/100\n",
            "25/25 [==============================] - 0s 2ms/step - loss: 37.7622 - MAE: 37.7622 - lr: 5.6234e-04\n",
            "Epoch 17/100\n",
            "25/25 [==============================] - 0s 2ms/step - loss: 19.9042 - MAE: 19.9042 - lr: 6.3096e-04\n",
            "Epoch 18/100\n",
            "25/25 [==============================] - 0s 2ms/step - loss: 11.3886 - MAE: 11.3886 - lr: 7.0795e-04\n",
            "Epoch 19/100\n",
            "25/25 [==============================] - 0s 2ms/step - loss: 10.9372 - MAE: 10.9372 - lr: 7.9433e-04\n",
            "Epoch 20/100\n",
            "25/25 [==============================] - 0s 2ms/step - loss: 10.8407 - MAE: 10.8407 - lr: 8.9125e-04\n",
            "Epoch 21/100\n",
            "25/25 [==============================] - 0s 2ms/step - loss: 10.8083 - MAE: 10.8083 - lr: 0.0010\n",
            "Epoch 22/100\n",
            "25/25 [==============================] - 0s 2ms/step - loss: 10.8022 - MAE: 10.8022 - lr: 0.0011\n",
            "Epoch 23/100\n",
            "25/25 [==============================] - 0s 3ms/step - loss: 10.7423 - MAE: 10.7423 - lr: 0.0013\n",
            "Epoch 24/100\n",
            "25/25 [==============================] - 0s 2ms/step - loss: 10.7954 - MAE: 10.7954 - lr: 0.0014\n",
            "Epoch 25/100\n",
            "25/25 [==============================] - 0s 2ms/step - loss: 10.8018 - MAE: 10.8018 - lr: 0.0016\n",
            "Epoch 26/100\n",
            "25/25 [==============================] - 0s 2ms/step - loss: 10.6936 - MAE: 10.6936 - lr: 0.0018\n",
            "Epoch 27/100\n",
            "25/25 [==============================] - 0s 2ms/step - loss: 10.7649 - MAE: 10.7649 - lr: 0.0020\n",
            "Epoch 28/100\n",
            "25/25 [==============================] - 0s 2ms/step - loss: 10.7112 - MAE: 10.7112 - lr: 0.0022\n",
            "Epoch 29/100\n",
            "25/25 [==============================] - 0s 2ms/step - loss: 10.6833 - MAE: 10.6833 - lr: 0.0025\n",
            "Epoch 30/100\n",
            "25/25 [==============================] - 0s 2ms/step - loss: 10.8813 - MAE: 10.8813 - lr: 0.0028\n",
            "Epoch 31/100\n",
            "25/25 [==============================] - 0s 2ms/step - loss: 10.8342 - MAE: 10.8342 - lr: 0.0032\n",
            "Epoch 32/100\n",
            "25/25 [==============================] - 0s 2ms/step - loss: 10.8479 - MAE: 10.8479 - lr: 0.0035\n",
            "Epoch 33/100\n",
            "25/25 [==============================] - 0s 2ms/step - loss: 11.0829 - MAE: 11.0829 - lr: 0.0040\n",
            "Epoch 34/100\n",
            "25/25 [==============================] - 0s 2ms/step - loss: 11.2208 - MAE: 11.2208 - lr: 0.0045\n",
            "Epoch 35/100\n",
            "25/25 [==============================] - 0s 3ms/step - loss: 10.9569 - MAE: 10.9569 - lr: 0.0050\n",
            "Epoch 36/100\n",
            "25/25 [==============================] - 0s 2ms/step - loss: 10.8543 - MAE: 10.8543 - lr: 0.0056\n",
            "Epoch 37/100\n",
            "25/25 [==============================] - 0s 2ms/step - loss: 11.1716 - MAE: 11.1716 - lr: 0.0063\n",
            "Epoch 38/100\n",
            "25/25 [==============================] - 0s 2ms/step - loss: 11.1555 - MAE: 11.1555 - lr: 0.0071\n",
            "Epoch 39/100\n",
            "25/25 [==============================] - 0s 3ms/step - loss: 11.1951 - MAE: 11.1951 - lr: 0.0079\n",
            "Epoch 40/100\n",
            "25/25 [==============================] - 0s 2ms/step - loss: 10.9101 - MAE: 10.9101 - lr: 0.0089\n",
            "Epoch 41/100\n",
            "25/25 [==============================] - 0s 2ms/step - loss: 10.9606 - MAE: 10.9606 - lr: 0.0100\n",
            "Epoch 42/100\n",
            "25/25 [==============================] - 0s 2ms/step - loss: 11.2677 - MAE: 11.2677 - lr: 0.0112\n",
            "Epoch 43/100\n",
            "25/25 [==============================] - 0s 2ms/step - loss: 11.5234 - MAE: 11.5234 - lr: 0.0126\n",
            "Epoch 44/100\n",
            "25/25 [==============================] - 0s 2ms/step - loss: 11.7254 - MAE: 11.7254 - lr: 0.0141\n",
            "Epoch 45/100\n",
            "25/25 [==============================] - 0s 2ms/step - loss: 11.6976 - MAE: 11.6976 - lr: 0.0158\n",
            "Epoch 46/100\n",
            "25/25 [==============================] - 0s 2ms/step - loss: 11.2718 - MAE: 11.2718 - lr: 0.0178\n",
            "Epoch 47/100\n",
            "25/25 [==============================] - 0s 2ms/step - loss: 11.6390 - MAE: 11.6390 - lr: 0.0200\n",
            "Epoch 48/100\n",
            "25/25 [==============================] - 0s 2ms/step - loss: 11.6277 - MAE: 11.6277 - lr: 0.0224\n",
            "Epoch 49/100\n",
            "25/25 [==============================] - 0s 2ms/step - loss: 12.0386 - MAE: 12.0386 - lr: 0.0251\n",
            "Epoch 50/100\n",
            "25/25 [==============================] - 0s 2ms/step - loss: 11.2776 - MAE: 11.2776 - lr: 0.0282\n",
            "Epoch 51/100\n",
            "25/25 [==============================] - 0s 2ms/step - loss: 11.5307 - MAE: 11.5307 - lr: 0.0316\n",
            "Epoch 52/100\n",
            "25/25 [==============================] - 0s 2ms/step - loss: 12.9365 - MAE: 12.9365 - lr: 0.0355\n",
            "Epoch 53/100\n",
            "25/25 [==============================] - 0s 2ms/step - loss: 12.0192 - MAE: 12.0192 - lr: 0.0398\n",
            "Epoch 54/100\n",
            "25/25 [==============================] - 0s 2ms/step - loss: 12.4921 - MAE: 12.4921 - lr: 0.0447\n",
            "Epoch 55/100\n",
            "25/25 [==============================] - 0s 3ms/step - loss: 13.7226 - MAE: 13.7226 - lr: 0.0501\n",
            "Epoch 56/100\n",
            "25/25 [==============================] - 0s 2ms/step - loss: 13.6120 - MAE: 13.6120 - lr: 0.0562\n",
            "Epoch 57/100\n",
            "25/25 [==============================] - 0s 3ms/step - loss: 13.1575 - MAE: 13.1575 - lr: 0.0631\n",
            "Epoch 58/100\n",
            "25/25 [==============================] - 0s 2ms/step - loss: 12.3725 - MAE: 12.3725 - lr: 0.0708\n",
            "Epoch 59/100\n",
            "25/25 [==============================] - 0s 2ms/step - loss: 12.8668 - MAE: 12.8668 - lr: 0.0794\n",
            "Epoch 60/100\n",
            "25/25 [==============================] - 0s 2ms/step - loss: 12.3501 - MAE: 12.3501 - lr: 0.0891\n",
            "Epoch 61/100\n",
            "25/25 [==============================] - 0s 2ms/step - loss: 12.8069 - MAE: 12.8069 - lr: 0.1000\n",
            "Epoch 62/100\n",
            "25/25 [==============================] - 0s 3ms/step - loss: 14.6889 - MAE: 14.6889 - lr: 0.1122\n",
            "Epoch 63/100\n",
            "25/25 [==============================] - 0s 2ms/step - loss: 12.6227 - MAE: 12.6227 - lr: 0.1259\n",
            "Epoch 64/100\n",
            "25/25 [==============================] - 0s 2ms/step - loss: 13.9544 - MAE: 13.9544 - lr: 0.1413\n",
            "Epoch 65/100\n",
            "25/25 [==============================] - 0s 2ms/step - loss: 13.3185 - MAE: 13.3185 - lr: 0.1585\n",
            "Epoch 66/100\n",
            "25/25 [==============================] - 0s 2ms/step - loss: 13.9165 - MAE: 13.9165 - lr: 0.1778\n",
            "Epoch 67/100\n",
            "25/25 [==============================] - 0s 2ms/step - loss: 15.0133 - MAE: 15.0133 - lr: 0.1995\n",
            "Epoch 68/100\n",
            "25/25 [==============================] - 0s 2ms/step - loss: 14.0787 - MAE: 14.0787 - lr: 0.2239\n",
            "Epoch 69/100\n",
            "25/25 [==============================] - 0s 2ms/step - loss: 12.4084 - MAE: 12.4084 - lr: 0.2512\n",
            "Epoch 70/100\n",
            "25/25 [==============================] - 0s 3ms/step - loss: 12.9824 - MAE: 12.9824 - lr: 0.2818\n",
            "Epoch 71/100\n",
            "25/25 [==============================] - 0s 2ms/step - loss: 13.8113 - MAE: 13.8113 - lr: 0.3162\n",
            "Epoch 72/100\n",
            "25/25 [==============================] - 0s 2ms/step - loss: 17.6543 - MAE: 17.6543 - lr: 0.3548\n",
            "Epoch 73/100\n",
            "25/25 [==============================] - 0s 2ms/step - loss: 27.1428 - MAE: 27.1428 - lr: 0.3981\n",
            "Epoch 74/100\n",
            "25/25 [==============================] - 0s 2ms/step - loss: 52.4457 - MAE: 52.4457 - lr: 0.4467\n",
            "Epoch 75/100\n",
            "25/25 [==============================] - 0s 2ms/step - loss: 2407.8384 - MAE: 2407.8384 - lr: 0.5012\n",
            "Epoch 76/100\n",
            "25/25 [==============================] - 0s 2ms/step - loss: 2479.5850 - MAE: 2479.5850 - lr: 0.5623\n",
            "Epoch 77/100\n",
            "25/25 [==============================] - 0s 2ms/step - loss: 1102.7274 - MAE: 1102.7274 - lr: 0.6310\n",
            "Epoch 78/100\n",
            "25/25 [==============================] - 0s 2ms/step - loss: 341.9622 - MAE: 341.9622 - lr: 0.7079\n",
            "Epoch 79/100\n",
            "25/25 [==============================] - 0s 2ms/step - loss: 71.8218 - MAE: 71.8218 - lr: 0.7943\n",
            "Epoch 80/100\n",
            "25/25 [==============================] - 0s 2ms/step - loss: 21.1749 - MAE: 21.1749 - lr: 0.8913\n",
            "Epoch 81/100\n",
            "25/25 [==============================] - 0s 2ms/step - loss: 13.7778 - MAE: 13.7778 - lr: 1.0000\n",
            "Epoch 82/100\n",
            "25/25 [==============================] - 0s 2ms/step - loss: 13.9723 - MAE: 13.9723 - lr: 1.1220\n",
            "Epoch 83/100\n",
            "25/25 [==============================] - 0s 2ms/step - loss: 14.0541 - MAE: 14.0541 - lr: 1.2589\n",
            "Epoch 84/100\n",
            "25/25 [==============================] - 0s 2ms/step - loss: 13.8568 - MAE: 13.8568 - lr: 1.4125\n",
            "Epoch 85/100\n",
            "25/25 [==============================] - 0s 3ms/step - loss: 13.4023 - MAE: 13.4023 - lr: 1.5849\n",
            "Epoch 86/100\n",
            "25/25 [==============================] - 0s 2ms/step - loss: 13.5359 - MAE: 13.5359 - lr: 1.7783\n",
            "Epoch 87/100\n",
            "25/25 [==============================] - 0s 2ms/step - loss: 15.0795 - MAE: 15.0795 - lr: 1.9953\n",
            "Epoch 88/100\n",
            "25/25 [==============================] - 0s 2ms/step - loss: 15.8526 - MAE: 15.8526 - lr: 2.2387\n",
            "Epoch 89/100\n",
            "25/25 [==============================] - 0s 2ms/step - loss: 15.1588 - MAE: 15.1588 - lr: 2.5119\n",
            "Epoch 90/100\n",
            "25/25 [==============================] - 0s 2ms/step - loss: 14.3292 - MAE: 14.3292 - lr: 2.8184\n",
            "Epoch 91/100\n",
            "25/25 [==============================] - 0s 2ms/step - loss: 13.4651 - MAE: 13.4651 - lr: 3.1623\n",
            "Epoch 92/100\n",
            "25/25 [==============================] - 0s 2ms/step - loss: 12.4278 - MAE: 12.4278 - lr: 3.5481\n",
            "Epoch 93/100\n",
            "25/25 [==============================] - 0s 2ms/step - loss: 14.8769 - MAE: 14.8769 - lr: 3.9811\n",
            "Epoch 94/100\n",
            "25/25 [==============================] - 0s 3ms/step - loss: 61.6101 - MAE: 61.6101 - lr: 4.4668\n",
            "Epoch 95/100\n",
            "25/25 [==============================] - 0s 2ms/step - loss: 9120753.0000 - MAE: 9120753.0000 - lr: 5.0119\n",
            "Epoch 96/100\n",
            "25/25 [==============================] - 0s 2ms/step - loss: 4391318.0000 - MAE: 4391318.0000 - lr: 5.6234\n",
            "Epoch 97/100\n",
            "25/25 [==============================] - 0s 2ms/step - loss: 593702.4375 - MAE: 593702.4375 - lr: 6.3096\n",
            "Epoch 98/100\n",
            "25/25 [==============================] - 0s 2ms/step - loss: 122270.8438 - MAE: 122270.8438 - lr: 7.0795\n",
            "Epoch 99/100\n",
            "25/25 [==============================] - 0s 3ms/step - loss: 28822.6270 - MAE: 28822.6270 - lr: 7.9433\n",
            "Epoch 100/100\n",
            "25/25 [==============================] - 0s 2ms/step - loss: 6600.6807 - MAE: 6600.6807 - lr: 8.9125\n",
            "7/7 [==============================] - 0s 2ms/step\n"
          ]
        }
      ]
    },
    {
      "cell_type": "code",
      "source": [
        "model2.evaluate(X_test, y_test)"
      ],
      "metadata": {
        "colab": {
          "base_uri": "https://localhost:8080/"
        },
        "id": "a44xlDpd2s2Z",
        "outputId": "23b89fb3-60fc-4993-d0ff-4993238ccfb7"
      },
      "execution_count": 20,
      "outputs": [
        {
          "output_type": "stream",
          "name": "stdout",
          "text": [
            "7/7 [==============================] - 0s 3ms/step - loss: 2720.7021 - MAE: 2720.7021\n"
          ]
        },
        {
          "output_type": "execute_result",
          "data": {
            "text/plain": [
              "[2720.7021484375, 2720.7021484375]"
            ]
          },
          "metadata": {},
          "execution_count": 20
        }
      ]
    },
    {
      "cell_type": "code",
      "source": [
        "pd.DataFrame(history.history).plot()\n",
        "plt.xlabel(\"epochs\")"
      ],
      "metadata": {
        "colab": {
          "base_uri": "https://localhost:8080/",
          "height": 308
        },
        "id": "KCfXlUG92zLQ",
        "outputId": "048714a9-2a97-4fb1-e505-fbe0b01cab72"
      },
      "execution_count": 21,
      "outputs": [
        {
          "output_type": "execute_result",
          "data": {
            "text/plain": [
              "Text(0.5, 0, 'epochs')"
            ]
          },
          "metadata": {},
          "execution_count": 21
        },
        {
          "output_type": "display_data",
          "data": {
            "text/plain": [
              "<Figure size 432x288 with 1 Axes>"
            ],
            "image/png": "[encoded data removed]"
          },
          "metadata": {
            "needs_background": "light"
          }
        }
      ]
    },
    {
      "cell_type": "code",
      "source": [
        "# lets only plot between learning rate vs loss\n",
        "lr = 1e-4 * (10 ** (tf.range(100)/20)) # these would be our range of lrs in callbacks\n",
        "lr\n",
        "# Now lets plot\n",
        "plt.figure(figsize = (10,10))\n",
        "plt.semilogx(lr, history.history[\"loss\"]) # Semilogx will put log scaling on x axis\n",
        "# history[\"loss\"] will give us only loss from history\n",
        "plt.title(\"Learning rate vs Loss\")\n",
        "plt.xlabel(\"Learning rate\")\n",
        "plt.ylabel(\"loss\")"
      ],
      "metadata": {
        "colab": {
          "base_uri": "https://localhost:8080/",
          "height": 643
        },
        "id": "XWqcOajw239a",
        "outputId": "aa16df20-2493-47e2-9fe5-f688e7c4487e"
      },
      "execution_count": 22,
      "outputs": [
        {
          "output_type": "execute_result",
          "data": {
            "text/plain": [
              "Text(0, 0.5, 'loss')"
            ]
          },
          "metadata": {},
          "execution_count": 22
        },
        {
          "output_type": "display_data",
          "data": {
            "text/plain": [
              "<Figure size 720x720 with 1 Axes>"
            ],
            "image/png": "[encoded data removed]"
          },
          "metadata": {
            "needs_background": "light"
          }
        }
      ]
    },
    {
      "cell_type": "code",
      "source": [
        "from tensorflow.python.ops.logging_ops import random\n",
        "import tensorflow as tf\n",
        "\n",
        "model3 = build_model()\n",
        "# Compiling\n",
        "model3.compile(loss=tf.keras.losses.MAE,\n",
        "              optimizer = tf.keras.optimizers.Adam(),\n",
        "              metrics = [\"MAE\"])\n",
        "\n",
        "# Fitting\n",
        "history = model3.fit(X_train, y_train, epochs = 100)\n",
        "\n",
        "# Predicting\n",
        "y_pred = model3.predict(X_test)"
      ],
      "metadata": {
        "colab": {
          "base_uri": "https://localhost:8080/"
        },
        "id": "q8M3MAqz3JSR",
        "outputId": "ccfc8d18-aa21-4d00-b394-f620cfc3240c"
      },
      "execution_count": 23,
      "outputs": [
        {
          "output_type": "stream",
          "name": "stdout",
          "text": [
            "Epoch 1/100\n",
            "25/25 [==============================] - 0s 2ms/step - loss: 67.4820 - MAE: 67.4820\n",
            "Epoch 2/100\n",
            "25/25 [==============================] - 0s 2ms/step - loss: 66.9338 - MAE: 66.9338\n",
            "Epoch 3/100\n",
            "25/25 [==============================] - 0s 3ms/step - loss: 65.4376 - MAE: 65.4376\n",
            "Epoch 4/100\n",
            "25/25 [==============================] - 0s 2ms/step - loss: 61.2285 - MAE: 61.2285\n",
            "Epoch 5/100\n",
            "25/25 [==============================] - 0s 2ms/step - loss: 51.0792 - MAE: 51.0792\n",
            "Epoch 6/100\n",
            "25/25 [==============================] - 0s 2ms/step - loss: 32.3476 - MAE: 32.3476\n",
            "Epoch 7/100\n",
            "25/25 [==============================] - 0s 2ms/step - loss: 13.8699 - MAE: 13.8699\n",
            "Epoch 8/100\n",
            "25/25 [==============================] - 0s 2ms/step - loss: 11.1266 - MAE: 11.1266\n",
            "Epoch 9/100\n",
            "25/25 [==============================] - 0s 2ms/step - loss: 10.8616 - MAE: 10.8616\n",
            "Epoch 10/100\n",
            "25/25 [==============================] - 0s 2ms/step - loss: 10.8701 - MAE: 10.8701\n",
            "Epoch 11/100\n",
            "25/25 [==============================] - 0s 2ms/step - loss: 10.8270 - MAE: 10.8270\n",
            "Epoch 12/100\n",
            "25/25 [==============================] - 0s 2ms/step - loss: 10.8005 - MAE: 10.8005\n",
            "Epoch 13/100\n",
            "25/25 [==============================] - 0s 2ms/step - loss: 10.7423 - MAE: 10.7423\n",
            "Epoch 14/100\n",
            "25/25 [==============================] - 0s 2ms/step - loss: 10.6737 - MAE: 10.6737\n",
            "Epoch 15/100\n",
            "25/25 [==============================] - 0s 2ms/step - loss: 10.6705 - MAE: 10.6705\n",
            "Epoch 16/100\n",
            "25/25 [==============================] - 0s 2ms/step - loss: 10.7037 - MAE: 10.7037\n",
            "Epoch 17/100\n",
            "25/25 [==============================] - 0s 2ms/step - loss: 10.6946 - MAE: 10.6946\n",
            "Epoch 18/100\n",
            "25/25 [==============================] - 0s 2ms/step - loss: 10.6753 - MAE: 10.6753\n",
            "Epoch 19/100\n",
            "25/25 [==============================] - 0s 2ms/step - loss: 10.6170 - MAE: 10.6170\n",
            "Epoch 20/100\n",
            "25/25 [==============================] - 0s 2ms/step - loss: 10.5905 - MAE: 10.5905\n",
            "Epoch 21/100\n",
            "25/25 [==============================] - 0s 2ms/step - loss: 10.6025 - MAE: 10.6025\n",
            "Epoch 22/100\n",
            "25/25 [==============================] - 0s 2ms/step - loss: 10.6046 - MAE: 10.6046\n",
            "Epoch 23/100\n",
            "25/25 [==============================] - 0s 2ms/step - loss: 10.5478 - MAE: 10.5478\n",
            "Epoch 24/100\n",
            "25/25 [==============================] - 0s 2ms/step - loss: 10.6083 - MAE: 10.6083\n",
            "Epoch 25/100\n",
            "25/25 [==============================] - 0s 2ms/step - loss: 10.5845 - MAE: 10.5845\n",
            "Epoch 26/100\n",
            "25/25 [==============================] - 0s 2ms/step - loss: 10.5519 - MAE: 10.5519\n",
            "Epoch 27/100\n",
            "25/25 [==============================] - 0s 2ms/step - loss: 10.5750 - MAE: 10.5750\n",
            "Epoch 28/100\n",
            "25/25 [==============================] - 0s 2ms/step - loss: 10.5237 - MAE: 10.5237\n",
            "Epoch 29/100\n",
            "25/25 [==============================] - 0s 2ms/step - loss: 10.5266 - MAE: 10.5266\n",
            "Epoch 30/100\n",
            "25/25 [==============================] - 0s 2ms/step - loss: 10.5849 - MAE: 10.5849\n",
            "Epoch 31/100\n",
            "25/25 [==============================] - 0s 3ms/step - loss: 10.5765 - MAE: 10.5765\n",
            "Epoch 32/100\n",
            "25/25 [==============================] - 0s 3ms/step - loss: 10.5802 - MAE: 10.5802\n",
            "Epoch 33/100\n",
            "25/25 [==============================] - 0s 2ms/step - loss: 10.6084 - MAE: 10.6084\n",
            "Epoch 34/100\n",
            "25/25 [==============================] - 0s 3ms/step - loss: 10.5874 - MAE: 10.5874\n",
            "Epoch 35/100\n",
            "25/25 [==============================] - 0s 2ms/step - loss: 10.5413 - MAE: 10.5413\n",
            "Epoch 36/100\n",
            "25/25 [==============================] - 0s 2ms/step - loss: 10.5158 - MAE: 10.5158\n",
            "Epoch 37/100\n",
            "25/25 [==============================] - 0s 2ms/step - loss: 10.5180 - MAE: 10.5180\n",
            "Epoch 38/100\n",
            "25/25 [==============================] - 0s 3ms/step - loss: 10.5431 - MAE: 10.5431\n",
            "Epoch 39/100\n",
            "25/25 [==============================] - 0s 2ms/step - loss: 10.5923 - MAE: 10.5923\n",
            "Epoch 40/100\n",
            "25/25 [==============================] - 0s 2ms/step - loss: 10.5723 - MAE: 10.5723\n",
            "Epoch 41/100\n",
            "25/25 [==============================] - 0s 2ms/step - loss: 10.5694 - MAE: 10.5694\n",
            "Epoch 42/100\n",
            "25/25 [==============================] - 0s 2ms/step - loss: 10.5795 - MAE: 10.5795\n",
            "Epoch 43/100\n",
            "25/25 [==============================] - 0s 2ms/step - loss: 10.5138 - MAE: 10.5138\n",
            "Epoch 44/100\n",
            "25/25 [==============================] - 0s 2ms/step - loss: 10.5184 - MAE: 10.5184\n",
            "Epoch 45/100\n",
            "25/25 [==============================] - 0s 2ms/step - loss: 10.5005 - MAE: 10.5005\n",
            "Epoch 46/100\n",
            "25/25 [==============================] - 0s 2ms/step - loss: 10.5369 - MAE: 10.5369\n",
            "Epoch 47/100\n",
            "25/25 [==============================] - 0s 2ms/step - loss: 10.5671 - MAE: 10.5671\n",
            "Epoch 48/100\n",
            "25/25 [==============================] - 0s 2ms/step - loss: 10.5615 - MAE: 10.5615\n",
            "Epoch 49/100\n",
            "25/25 [==============================] - 0s 2ms/step - loss: 10.5455 - MAE: 10.5455\n",
            "Epoch 50/100\n",
            "25/25 [==============================] - 0s 2ms/step - loss: 10.5963 - MAE: 10.5963\n",
            "Epoch 51/100\n",
            "25/25 [==============================] - 0s 2ms/step - loss: 10.5268 - MAE: 10.5268\n",
            "Epoch 52/100\n",
            "25/25 [==============================] - 0s 2ms/step - loss: 10.5332 - MAE: 10.5332\n",
            "Epoch 53/100\n",
            "25/25 [==============================] - 0s 2ms/step - loss: 10.5382 - MAE: 10.5382\n",
            "Epoch 54/100\n",
            "25/25 [==============================] - 0s 2ms/step - loss: 10.5179 - MAE: 10.5179\n",
            "Epoch 55/100\n",
            "25/25 [==============================] - 0s 2ms/step - loss: 10.6331 - MAE: 10.6331\n",
            "Epoch 56/100\n",
            "25/25 [==============================] - 0s 2ms/step - loss: 10.5435 - MAE: 10.5435\n",
            "Epoch 57/100\n",
            "25/25 [==============================] - 0s 2ms/step - loss: 10.5222 - MAE: 10.5222\n",
            "Epoch 58/100\n",
            "25/25 [==============================] - 0s 2ms/step - loss: 10.5638 - MAE: 10.5638\n",
            "Epoch 59/100\n",
            "25/25 [==============================] - 0s 2ms/step - loss: 10.5164 - MAE: 10.5164\n",
            "Epoch 60/100\n",
            "25/25 [==============================] - 0s 2ms/step - loss: 10.5305 - MAE: 10.5305\n",
            "Epoch 61/100\n",
            "25/25 [==============================] - 0s 2ms/step - loss: 10.5400 - MAE: 10.5400\n",
            "Epoch 62/100\n",
            "25/25 [==============================] - 0s 2ms/step - loss: 10.5488 - MAE: 10.5488\n",
            "Epoch 63/100\n",
            "25/25 [==============================] - 0s 2ms/step - loss: 10.5133 - MAE: 10.5133\n",
            "Epoch 64/100\n",
            "25/25 [==============================] - 0s 2ms/step - loss: 10.5152 - MAE: 10.5152\n",
            "Epoch 65/100\n",
            "25/25 [==============================] - 0s 3ms/step - loss: 10.5201 - MAE: 10.5201\n",
            "Epoch 66/100\n",
            "25/25 [==============================] - 0s 2ms/step - loss: 10.5410 - MAE: 10.5410\n",
            "Epoch 67/100\n",
            "25/25 [==============================] - 0s 2ms/step - loss: 10.5926 - MAE: 10.5926\n",
            "Epoch 68/100\n",
            "25/25 [==============================] - 0s 2ms/step - loss: 10.5561 - MAE: 10.5561\n",
            "Epoch 69/100\n",
            "25/25 [==============================] - 0s 2ms/step - loss: 10.5351 - MAE: 10.5351\n",
            "Epoch 70/100\n",
            "25/25 [==============================] - 0s 2ms/step - loss: 10.5141 - MAE: 10.5141\n",
            "Epoch 71/100\n",
            "25/25 [==============================] - 0s 2ms/step - loss: 10.5360 - MAE: 10.5360\n",
            "Epoch 72/100\n",
            "25/25 [==============================] - 0s 2ms/step - loss: 10.5528 - MAE: 10.5528\n",
            "Epoch 73/100\n",
            "25/25 [==============================] - 0s 2ms/step - loss: 10.5337 - MAE: 10.5337\n",
            "Epoch 74/100\n",
            "25/25 [==============================] - 0s 2ms/step - loss: 10.4969 - MAE: 10.4969\n",
            "Epoch 75/100\n",
            "25/25 [==============================] - 0s 2ms/step - loss: 10.5437 - MAE: 10.5437\n",
            "Epoch 76/100\n",
            "25/25 [==============================] - 0s 2ms/step - loss: 10.5476 - MAE: 10.5476\n",
            "Epoch 77/100\n",
            "25/25 [==============================] - 0s 2ms/step - loss: 10.5277 - MAE: 10.5277\n",
            "Epoch 78/100\n",
            "25/25 [==============================] - 0s 2ms/step - loss: 10.5202 - MAE: 10.5202\n",
            "Epoch 79/100\n",
            "25/25 [==============================] - 0s 2ms/step - loss: 10.5688 - MAE: 10.5688\n",
            "Epoch 80/100\n",
            "25/25 [==============================] - 0s 2ms/step - loss: 10.5380 - MAE: 10.5380\n",
            "Epoch 81/100\n",
            "25/25 [==============================] - 0s 3ms/step - loss: 10.4950 - MAE: 10.4950\n",
            "Epoch 82/100\n",
            "25/25 [==============================] - 0s 2ms/step - loss: 10.5483 - MAE: 10.5483\n",
            "Epoch 83/100\n",
            "25/25 [==============================] - 0s 2ms/step - loss: 10.5824 - MAE: 10.5824\n",
            "Epoch 84/100\n",
            "25/25 [==============================] - 0s 2ms/step - loss: 10.5372 - MAE: 10.5372\n",
            "Epoch 85/100\n",
            "25/25 [==============================] - 0s 2ms/step - loss: 10.5421 - MAE: 10.5421\n",
            "Epoch 86/100\n",
            "25/25 [==============================] - 0s 2ms/step - loss: 10.5044 - MAE: 10.5044\n",
            "Epoch 87/100\n",
            "25/25 [==============================] - 0s 2ms/step - loss: 10.5097 - MAE: 10.5097\n",
            "Epoch 88/100\n",
            "25/25 [==============================] - 0s 2ms/step - loss: 10.5157 - MAE: 10.5157\n",
            "Epoch 89/100\n",
            "25/25 [==============================] - 0s 2ms/step - loss: 10.6188 - MAE: 10.6188\n",
            "Epoch 90/100\n",
            "25/25 [==============================] - 0s 2ms/step - loss: 10.5823 - MAE: 10.5823\n",
            "Epoch 91/100\n",
            "25/25 [==============================] - 0s 2ms/step - loss: 10.5408 - MAE: 10.5408\n",
            "Epoch 92/100\n",
            "25/25 [==============================] - 0s 2ms/step - loss: 10.5258 - MAE: 10.5258\n",
            "Epoch 93/100\n",
            "25/25 [==============================] - 0s 2ms/step - loss: 10.5059 - MAE: 10.5059\n",
            "Epoch 94/100\n",
            "25/25 [==============================] - 0s 2ms/step - loss: 10.5264 - MAE: 10.5264\n",
            "Epoch 95/100\n",
            "25/25 [==============================] - 0s 2ms/step - loss: 10.5149 - MAE: 10.5149\n",
            "Epoch 96/100\n",
            "25/25 [==============================] - 0s 2ms/step - loss: 10.5180 - MAE: 10.5180\n",
            "Epoch 97/100\n",
            "25/25 [==============================] - 0s 3ms/step - loss: 10.5171 - MAE: 10.5171\n",
            "Epoch 98/100\n",
            "25/25 [==============================] - 0s 2ms/step - loss: 10.5361 - MAE: 10.5361\n",
            "Epoch 99/100\n",
            "25/25 [==============================] - 0s 2ms/step - loss: 10.5286 - MAE: 10.5286\n",
            "Epoch 100/100\n",
            "25/25 [==============================] - 0s 2ms/step - loss: 10.5570 - MAE: 10.5570\n",
            "7/7 [==============================] - 0s 2ms/step\n"
          ]
        }
      ]
    },
    {
      "cell_type": "code",
      "source": [
        "model3.evaluate(X_test, y_test), model.evaluate(X_test, y_test)"
      ],
      "metadata": {
        "colab": {
          "base_uri": "https://localhost:8080/"
        },
        "id": "RtFluObv3XeD",
        "outputId": "c39334a9-e345-44c2-ada5-2d47538e1541"
      },
      "execution_count": 24,
      "outputs": [
        {
          "output_type": "stream",
          "name": "stdout",
          "text": [
            "7/7 [==============================] - 0s 2ms/step - loss: 10.9354 - MAE: 10.9354\n",
            "7/7 [==============================] - 0s 3ms/step - loss: 10.8886 - MAE: 10.8886\n"
          ]
        },
        {
          "output_type": "execute_result",
          "data": {
            "text/plain": [
              "([10.935420036315918, 10.935420036315918],\n",
              " [10.888611793518066, 10.888611793518066])"
            ]
          },
          "metadata": {},
          "execution_count": 24
        }
      ]
    },
    {
      "cell_type": "markdown",
      "source": [
        "### Thus model with SGD() as optimizer is a little better"
      ],
      "metadata": {
        "id": "qxTNVx1b43Hq"
      }
    },
    {
      "cell_type": "code",
      "source": [
        "# Compiling\n",
        "model = build_model()\n",
        "model.compile(loss=tf.keras.losses.MAE,\n",
        "              optimizer = tf.keras.optimizers.SGD(momentum=0.01, learning_rate = 0.01),\n",
        "              metrics = [\"MAE\"])\n",
        "\n",
        "# Fitting\n",
        "history = model.fit(X_train, y_train, epochs = 100, verbose = 0)\n",
        "\n",
        "# Predicting\n",
        "y_pred = model.predict(X_test)"
      ],
      "metadata": {
        "colab": {
          "base_uri": "https://localhost:8080/"
        },
        "id": "yksOiLm95QU9",
        "outputId": "f109565e-b609-4205-e127-001eb2be6031"
      },
      "execution_count": 25,
      "outputs": [
        {
          "output_type": "stream",
          "name": "stdout",
          "text": [
            "7/7 [==============================] - 0s 2ms/step\n"
          ]
        }
      ]
    },
    {
      "cell_type": "code",
      "source": [
        "y_pred.shape"
      ],
      "metadata": {
        "colab": {
          "base_uri": "https://localhost:8080/"
        },
        "id": "rGFJGSdvfU1G",
        "outputId": "a228e925-20d7-4f31-97ce-9c3ceb2b4111"
      },
      "execution_count": 26,
      "outputs": [
        {
          "output_type": "execute_result",
          "data": {
            "text/plain": [
              "(200, 3)"
            ]
          },
          "metadata": {},
          "execution_count": 26
        }
      ]
    },
    {
      "cell_type": "markdown",
      "source": [
        "### Plotting the results"
      ],
      "metadata": {
        "id": "V-6P8SvUeujT"
      }
    },
    {
      "cell_type": "code",
      "source": [
        "# The function to (scatter) plot prediction\n",
        "def plot_pred(y_true, y_pred, title):\n",
        "  \n",
        "    plt.scatter(y_true, y_pred)\n",
        "    plt.title(title)\n",
        "\n",
        "    plt.xlabel('Ground truth')\n",
        "    plt.ylabel('Predictions')\n",
        "\n",
        "    plt.axis('equal')\n",
        "    plt.axis('square')\n",
        "\n",
        "    plt.xlim(plt.xlim())\n",
        "    plt.ylim(plt.ylim())\n",
        "\n",
        "    plt.plot([-100, 100], [-100, 100])\n",
        "    plt.show()"
      ],
      "metadata": {
        "id": "P5so1PtcgbzL"
      },
      "execution_count": 27,
      "outputs": []
    },
    {
      "cell_type": "code",
      "source": [
        "import matplotlib.pyplot as plt\n",
        "import numpy as np\n",
        "y_test = np.array(y_test)\n",
        "y_pred = np.array(y_pred)\n",
        "plot_pred(y_test[:,0], y_pred[:,0], title='Math Score')\n",
        "plot_pred(y_test[:,1], y_pred[:,1], title='Reading Score')\n",
        "plot_pred(y_test[:,2], y_pred[:,2], title ='Writing Score')"
      ],
      "metadata": {
        "colab": {
          "base_uri": "https://localhost:8080/",
          "height": 851
        },
        "id": "SNgkh977efAA",
        "outputId": "3339f488-43cb-497c-80f9-fe79db25ce0d"
      },
      "execution_count": 28,
      "outputs": [
        {
          "output_type": "display_data",
          "data": {
            "text/plain": [
              "<Figure size 432x288 with 1 Axes>"
            ],
            "image/png": "[encoded data removed]"
          },
          "metadata": {
            "needs_background": "light"
          }
        },
        {
          "output_type": "display_data",
          "data": {
            "text/plain": [
              "<Figure size 432x288 with 1 Axes>"
            ],
            "image/png": "[encoded data removed]"
          },
          "metadata": {
            "needs_background": "light"
          }
        },
        {
          "output_type": "display_data",
          "data": {
            "text/plain": [
              "<Figure size 432x288 with 1 Axes>"
            ],
            "image/png": "[encoded data removed]"
          },
          "metadata": {
            "needs_background": "light"
          }
        }
      ]
    },
    {
      "cell_type": "markdown",
      "source": [
        "### Questions\n",
        "1. What preprocessing techniques did you use? Why?\n",
        "\n",
        "**Answer** :\n",
        "****\n",
        "    - *`Ordinal Encoding` for encoding non numerical data. `Ordinal Encoding`\n",
        "        because the non numerical columns were categorical. (Although, also \n",
        "        tried one-hot encoding, but result is more or less the same)*\n",
        "2. Describe the fine-tuning process and how you reached your model architecture.\n",
        "**Answer :**\n",
        "****\n",
        "    - *`StandardScaler` was used to get all the data in the same range, but \n",
        "        even without it, the result was still the same, no better, no worse.*\n",
        "\n",
        "    - *`Learning rate scheduler` was used to find the best learning rate, also\n",
        "        tried `momentum` with `SGD()`. And `Adam()` was the other optimizer \n",
        "        tried to reach the model. Also tried:\n",
        "        1. Changing `Epochs`\n",
        "        2. Stacking layers\n",
        "        3. Changing number of neurons\n",
        "        \n",
        "      to reach the architecture."
      ],
      "metadata": {
        "collapsed": false,
        "id": "nJ_0Fp_cTX-e"
      }
    },
    {
      "cell_type": "markdown",
      "source": [
        "# Task 2: CNN (40%)\n",
        "For this task, you will be doing image classification:\n",
        "- First, adapt your best model from Task 1 to work on this task, and\n",
        "fit it on the new data. Then, evaluate its performance.\n",
        "- After that, build a CNN model for image classification.\n",
        "- Compare both models in terms of accuracy, number of parameters and speed of\n",
        "inference (the time the model takes to predict 50 samples).\n",
        "\n",
        "For the given data, you need to do proper data preprocessing and augmentation,\n",
        "data loaders.\n",
        "Then fine-tune your model architecture (number of layers, number of filters,\n",
        "activation function, learning rate, momentum, regularization).\n",
        "\n",
        "### Data\n",
        "You will be working with the data in `triple_mnist.zip` for predicting 3-digit\n",
        "numbers writen in the image. Each image contains 3 digits similar to the\n",
        "following example (whose label is `039`):\n",
        "\n",
        "![example](https://github.com/shaohua0116/MultiDigitMNIST/blob/master/asset/examples/039/0_039.png?raw=true)"
      ],
      "metadata": {
        "collapsed": false,
        "id": "IMch7A0lTX-f"
      }
    },
    {
      "cell_type": "markdown",
      "source": [
        "# Importing dependencies"
      ],
      "metadata": {
        "id": "ozI2hP1_IHhZ"
      }
    },
    {
      "cell_type": "code",
      "source": [
        "from tqdm import tqdm\n",
        "import numpy as np\n",
        "import matplotlib.pyplot as plt\n",
        "import os\n",
        "import cv2\n",
        "import re\n",
        "import tensorflow as tf\n",
        "from tensorflow import keras\n",
        "import zipfile\n",
        "import os\n",
        "import random\n",
        "import time"
      ],
      "metadata": {
        "id": "94EKq6VzIKC0"
      },
      "execution_count": 80,
      "outputs": []
    },
    {
      "cell_type": "markdown",
      "source": [
        "# Extracting files from zip"
      ],
      "metadata": {
        "id": "HCoyfOUyGdJJ"
      }
    },
    {
      "cell_type": "markdown",
      "source": [
        "## **NOTE :** Please consider uploading train.zip, test.zip, and val.zip of the directories from the triple mnist folder extracted from triple_mnist.zip. \n",
        "## **The reason:** `NotImplementedError: compression type 9 (deflate64)` , although `7zip` can extract it using subprocess, but it only extracts the test directory inside it for some reason, hence, please consider this work around."
      ],
      "metadata": {
        "id": "-tDcRu-wMmzU"
      }
    },
    {
      "cell_type": "code",
      "source": [
        "with zipfile.ZipFile(\"/content/train.zip\", 'r') as zip_ref:\n",
        "    zip_ref.extractall(\"/content/\")\n",
        "\n",
        "with zipfile.ZipFile(\"/content/test.zip\", 'r') as zip_ref:\n",
        "    zip_ref.extractall(\"/content/\")\n",
        "\n",
        "with zipfile.ZipFile(\"/content/val.zip\", 'r') as zip_ref:\n",
        "    zip_ref.extractall(\"/content/\")"
      ],
      "metadata": {
        "id": "V8saZAl6GhCT"
      },
      "execution_count": 49,
      "outputs": []
    },
    {
      "cell_type": "markdown",
      "source": [
        "## Getting the directories from the zips"
      ],
      "metadata": {
        "id": "pBdgDjCpHlqp"
      }
    },
    {
      "cell_type": "code",
      "source": [
        "trainpath = '/content/train'\n",
        "testpath = '/content/test'\n",
        "valpath = '/content/val'\n",
        "train_dir = [name for name in os.listdir(trainpath) if os.path.isdir(os.path.join(trainpath, name))]\n",
        "test_dir  = [name for name in os.listdir(testpath) if os.path.isdir(os.path.join(testpath, name))]\n",
        "val_dir =  [name for name in os.listdir(valpath) if os.path.isdir(os.path.join(valpath, name))]\n",
        "train_dir.sort() \n",
        "test_dir.sort()"
      ],
      "metadata": {
        "id": "i7FJRfQZHkc6"
      },
      "execution_count": 50,
      "outputs": []
    },
    {
      "cell_type": "markdown",
      "source": [
        "## Getting name of the files for the lables"
      ],
      "metadata": {
        "id": "FdtSrFrsHuIq"
      }
    },
    {
      "cell_type": "code",
      "source": [
        "train_files_name = [name for name in os.listdir(trainpath)]\n",
        "test_files_name = [name for name in os.listdir(testpath)]\n",
        "val_files_name =  [name for name in os.listdir(valpath)]"
      ],
      "metadata": {
        "id": "u43zRH0vH3Po"
      },
      "execution_count": 51,
      "outputs": []
    },
    {
      "cell_type": "markdown",
      "source": [
        "## Path to train, test, and val extracted directories"
      ],
      "metadata": {
        "id": "XunZSj-YH-gC"
      }
    },
    {
      "cell_type": "code",
      "source": [
        "TRAINDIR = \"/content/train\"\n",
        "TESTDIR = \"/content/test\"\n",
        "VALDIR = \"/content/val\""
      ],
      "metadata": {
        "id": "9LveESh_IDtp"
      },
      "execution_count": 52,
      "outputs": []
    },
    {
      "cell_type": "markdown",
      "source": [
        "# Preprocessing"
      ],
      "metadata": {
        "id": "HFVamdyTIV1P"
      }
    },
    {
      "cell_type": "markdown",
      "source": [
        "## Function to extract digits one by one using contours and opencv"
      ],
      "metadata": {
        "id": "1Ip2KKgsIZcn"
      }
    },
    {
      "cell_type": "code",
      "source": [
        "def each_digit(image):\n",
        "      \n",
        "      ret, thresh = cv2.threshold(image.copy(), 0, 255, cv2.THRESH_BINARY_INV)\n",
        "           \n",
        "      contours, _  = cv2.findContours(thresh.copy(), cv2.RETR_EXTERNAL, cv2.CHAIN_APPROX_SIMPLE)\n",
        "      \n",
        "      for c in contours:\n",
        "       x,y,w,h = cv2.boundingRect(c)\n",
        "       \n",
        "       # Creating a rectangle around the digit in the original image (for displaying the digits fetched via contours)\n",
        "       cv2.rectangle(image, (x,y), (x+w, y+h), color=(0, 255, 0), thickness=2)\n",
        "       \n",
        "       # Cropping out the digit from the image corresponding to the current contours in the for loop\n",
        "       digit = thresh[y:y+h, x:x+w]\n",
        "       \n",
        "       # Resizing that digit to (28, 28)\n",
        "       resized_digit = cv2.resize(digit, (28,28))\n",
        "       \n",
        "       # Adding the preprocessed digit to the list of preprocessed digits\n",
        "       #preprocessed_digits.append(padded_digit)\n",
        "       return resized_digit"
      ],
      "metadata": {
        "id": "mQfgh-E6IYvK"
      },
      "execution_count": 53,
      "outputs": []
    },
    {
      "cell_type": "markdown",
      "source": [
        "## Function to get the preprocessed `training data` ready\n",
        "### Labels are the name of the image directories (for each number in the image, label is the respective number position in the name of the directory)"
      ],
      "metadata": {
        "id": "5z6ZaPtEIm1y"
      }
    },
    {
      "cell_type": "code",
      "source": [
        "# Empty list to store the training labels\n",
        "label_y = []\n",
        "\n",
        "def create_training_data():\n",
        "\n",
        "    # Empty list to store each number image that is sent by each_digit function\n",
        "    train_X = []\n",
        "\n",
        "    # iterate over training directory \n",
        "    for image_dir in train_dir: \n",
        "        path = os.path.join(TRAINDIR,image_dir)  # path of directories\n",
        "\n",
        "        # iterate over image directories in the training directory\n",
        "        for img in tqdm(os.listdir(path)):  # iterate over each image per dogs and cats\n",
        "            try:\n",
        "                # extract andn convert to array\n",
        "                img_array = cv2.imread(os.path.join(path,img), cv2.IMREAD_GRAYSCALE) \n",
        "                \n",
        "                # splitting digits by spaces between them (dividing image into 3 parts)\n",
        "                img_array1 = img_array[:, :img_array.shape[1]//3]\n",
        "                img_array2 = img_array[:, img_array.shape[1]//3: img_array.shape[1]//3 + img_array.shape[1]//3]\n",
        "                img_array3 = img_array[:, img_array.shape[1]//3 + img_array.shape[1]//3 :]\n",
        "          \n",
        "                # append the splitted images of each digit\n",
        "                train_X.append(each_digit(img_array1))\n",
        "                train_X.append(each_digit(img_array2))\n",
        "                train_X.append(each_digit(img_array3))\n",
        "  \n",
        "                # append the relative positioned number from the name of the image directory\n",
        "                label_y.append(str(image_dir)[0])\n",
        "                label_y.append(str(image_dir)[1])\n",
        "                label_y.append(str(image_dir)[2])\n",
        "\n",
        "            # in the interest in keeping the output clean...\n",
        "            except Exception as e:  \n",
        "                pass \n",
        "    return train_X"
      ],
      "metadata": {
        "id": "X-5c67JPIsUJ"
      },
      "execution_count": 54,
      "outputs": []
    },
    {
      "cell_type": "markdown",
      "source": [
        "## Function to get the preprocessed `validation data` ready"
      ],
      "metadata": {
        "id": "yEf-GSDYJatG"
      }
    },
    {
      "cell_type": "code",
      "source": [
        "# Empty list to store the validation labels\n",
        "val_y = []\n",
        "def create_val_data():\n",
        "\n",
        "    # Empty list to store each number image that is sent by each_digit function\n",
        "    val_X = []\n",
        "\n",
        "    # iterate over training directory \n",
        "    for image_dir in val_dir: \n",
        "        path = os.path.join(VALDIR,image_dir)  \n",
        "\n",
        "        # iterate over image directories in the training directory\n",
        "        for img in tqdm(os.listdir(path)):  \n",
        "            try:\n",
        "                # extract and convert to array\n",
        "                img_array = cv2.imread(os.path.join(path,img), cv2.IMREAD_GRAYSCALE) \n",
        "\n",
        "                # splitting digits by spaces between them (dividing image into 3 parts)\n",
        "                img_array1 = img_array[:, :img_array.shape[1]//3]\n",
        "                img_array2 = img_array[:, img_array.shape[1]//3: img_array.shape[1]//3 + img_array.shape[1]//3]\n",
        "                img_array3 = img_array[:, img_array.shape[1]//3 + img_array.shape[1]//3 :]\n",
        "\n",
        "                # append the splitted images of each digit\n",
        "                val_X.append(each_digit(img_array1))\n",
        "                val_X.append(each_digit(img_array2))\n",
        "                val_X.append(each_digit(img_array3))\n",
        "                \n",
        "                \n",
        "                # append the relative positioned number from the name of the image directory\n",
        "                val_y.append(str(image_dir)[0])\n",
        "                val_y.append(str(image_dir)[1])\n",
        "                val_y.append(str(image_dir)[2])\n",
        "            \n",
        "            # in the interest in keeping the output clean...\n",
        "            except Exception as e:  \n",
        "                pass \n",
        "    return val_X"
      ],
      "metadata": {
        "id": "yZU0rQAINnVB"
      },
      "execution_count": 55,
      "outputs": []
    },
    {
      "cell_type": "markdown",
      "source": [
        "## Function to get the preprocessed `test data` ready"
      ],
      "metadata": {
        "id": "SvaTBbtwOP83"
      }
    },
    {
      "cell_type": "code",
      "source": [
        "# Empty list to store the test labels\n",
        "test_y = []\n",
        "\n",
        "def create_test_data():\n",
        "  \n",
        "    # Empty list to store each number image that is sent by each_digit function\n",
        "    test_X = []\n",
        "    \n",
        "    \n",
        "    # iterate over training directory \n",
        "    for image_dir in test_dir: \n",
        "        path = os.path.join(TESTDIR,image_dir)  \n",
        "\n",
        "        # iterate over image directories in the training directory\n",
        "        for img in tqdm(os.listdir(path)):  \n",
        "            try:\n",
        "                # extract convert to array \n",
        "                img_array = cv2.imread(os.path.join(path,img), cv2.IMREAD_GRAYSCALE)  \n",
        "           \n",
        "                # splitting digits by spaces between them (dividing image into 3 parts)\n",
        "                img_array1 = img_array[:, :img_array.shape[1]//3]\n",
        "                img_array2 = img_array[:, img_array.shape[1]//3: img_array.shape[1]//3 + img_array.shape[1]//3]\n",
        "                img_array3 = img_array[:, img_array.shape[1]//3 + img_array.shape[1]//3 :]\n",
        "\n",
        "                # append the splitted images of each digit\n",
        "                test_X.append(each_digit(img_array1))\n",
        "                test_X.append(each_digit(img_array2))\n",
        "                test_X.append(each_digit(img_array3))\n",
        "\n",
        "                # append the relative positioned number from the name of the image directory\n",
        "                test_y.append(str(image_dir)[0])\n",
        "                test_y.append(str(image_dir)[1])\n",
        "                test_y.append(str(image_dir)[2])\n",
        "\n",
        "            # in the interest in keeping the output clean...\n",
        "            except Exception as e:  \n",
        "                pass \n",
        "    return test_X"
      ],
      "metadata": {
        "id": "48MtfEfiOVI6"
      },
      "execution_count": 56,
      "outputs": []
    },
    {
      "cell_type": "markdown",
      "source": [
        "## Calling the function to get, `train, validate, and test data, and labels`"
      ],
      "metadata": {
        "id": "x4lIDsiEPerc"
      }
    },
    {
      "cell_type": "code",
      "source": [
        "td_array = np.array(create_training_data())\n",
        "val_array = np.array(create_val_data())\n",
        "test_array = np.array(create_test_data())"
      ],
      "metadata": {
        "colab": {
          "base_uri": "https://localhost:8080/"
        },
        "id": "grkUTTPLPksS",
        "outputId": "307ee21c-001a-46d2-c41d-5b2473838b3f"
      },
      "execution_count": 59,
      "outputs": [
        {
          "output_type": "stream",
          "name": "stderr",
          "text": [
            "100%|██████████| 100/100 [00:00<00:00, 1082.67it/s]\n",
            "100%|██████████| 100/100 [00:00<00:00, 6434.46it/s]\n",
            "100%|██████████| 100/100 [00:00<00:00, 6657.41it/s]\n",
            "100%|██████████| 100/100 [00:00<00:00, 6315.11it/s]\n",
            "100%|██████████| 100/100 [00:00<00:00, 6254.55it/s]\n",
            "100%|██████████| 100/100 [00:00<00:00, 5297.85it/s]\n",
            "100%|██████████| 100/100 [00:00<00:00, 4222.04it/s]\n",
            "100%|██████████| 100/100 [00:00<00:00, 6020.16it/s]\n",
            "100%|██████████| 100/100 [00:00<00:00, 6559.13it/s]\n",
            "100%|██████████| 100/100 [00:00<00:00, 4299.87it/s]\n",
            "100%|██████████| 100/100 [00:00<00:00, 6490.42it/s]\n",
            "100%|██████████| 100/100 [00:00<00:00, 6414.88it/s]\n",
            "100%|██████████| 100/100 [00:00<00:00, 5098.90it/s]\n",
            "100%|██████████| 100/100 [00:00<00:00, 6095.75it/s]\n",
            "100%|██████████| 100/100 [00:00<00:00, 7144.35it/s]\n",
            "100%|██████████| 100/100 [00:00<00:00, 6626.18it/s]\n",
            "100%|██████████| 100/100 [00:00<00:00, 6894.44it/s]\n",
            "100%|██████████| 100/100 [00:00<00:00, 5946.42it/s]\n",
            "100%|██████████| 100/100 [00:00<00:00, 6242.73it/s]\n",
            "100%|██████████| 100/100 [00:00<00:00, 6370.35it/s]\n",
            "100%|██████████| 100/100 [00:00<00:00, 5719.77it/s]\n",
            "100%|██████████| 100/100 [00:00<00:00, 7184.86it/s]\n",
            "100%|██████████| 100/100 [00:00<00:00, 5968.42it/s]\n",
            "100%|██████████| 100/100 [00:00<00:00, 6258.19it/s]\n",
            "100%|██████████| 100/100 [00:00<00:00, 6433.28it/s]\n",
            "100%|██████████| 100/100 [00:00<00:00, 6392.49it/s]\n",
            "100%|██████████| 100/100 [00:00<00:00, 3847.99it/s]\n",
            "100%|██████████| 100/100 [00:00<00:00, 4106.35it/s]\n",
            "100%|██████████| 100/100 [00:00<00:00, 6214.61it/s]\n",
            "100%|██████████| 100/100 [00:00<00:00, 5880.72it/s]\n",
            "100%|██████████| 100/100 [00:00<00:00, 6001.47it/s]\n",
            "100%|██████████| 100/100 [00:00<00:00, 6133.64it/s]\n",
            "100%|██████████| 100/100 [00:00<00:00, 6566.12it/s]\n",
            "100%|██████████| 100/100 [00:00<00:00, 6654.35it/s]\n",
            "100%|██████████| 100/100 [00:00<00:00, 6150.46it/s]\n",
            "100%|██████████| 100/100 [00:00<00:00, 6388.98it/s]\n",
            "100%|██████████| 100/100 [00:00<00:00, 4698.66it/s]\n",
            "100%|██████████| 100/100 [00:00<00:00, 6009.12it/s]\n",
            "100%|██████████| 100/100 [00:00<00:00, 6425.89it/s]\n",
            "100%|██████████| 100/100 [00:00<00:00, 6327.68it/s]\n",
            "100%|██████████| 100/100 [00:00<00:00, 6379.17it/s]\n",
            "100%|██████████| 100/100 [00:00<00:00, 4647.38it/s]\n",
            "100%|██████████| 100/100 [00:00<00:00, 6267.26it/s]\n",
            "100%|██████████| 100/100 [00:00<00:00, 5879.73it/s]\n",
            "100%|██████████| 100/100 [00:00<00:00, 6287.37it/s]\n",
            "100%|██████████| 100/100 [00:00<00:00, 6363.39it/s]\n",
            "100%|██████████| 100/100 [00:00<00:00, 6332.75it/s]\n",
            "100%|██████████| 100/100 [00:00<00:00, 6297.56it/s]\n",
            "100%|██████████| 100/100 [00:00<00:00, 5983.14it/s]\n",
            "100%|██████████| 100/100 [00:00<00:00, 5268.56it/s]\n",
            "100%|██████████| 100/100 [00:00<00:00, 4758.90it/s]\n",
            "100%|██████████| 100/100 [00:00<00:00, 6290.20it/s]\n",
            "100%|██████████| 100/100 [00:00<00:00, 5845.64it/s]\n",
            "100%|██████████| 100/100 [00:00<00:00, 5775.05it/s]\n",
            "100%|██████████| 100/100 [00:00<00:00, 5341.84it/s]\n",
            "100%|██████████| 100/100 [00:00<00:00, 6099.30it/s]\n",
            "100%|██████████| 100/100 [00:00<00:00, 5914.22it/s]\n",
            "100%|██████████| 100/100 [00:00<00:00, 6176.00it/s]\n",
            "100%|██████████| 100/100 [00:00<00:00, 6521.81it/s]\n",
            "100%|██████████| 100/100 [00:00<00:00, 6314.92it/s]\n",
            "100%|██████████| 100/100 [00:00<00:00, 5952.41it/s]\n",
            "100%|██████████| 100/100 [00:00<00:00, 5950.80it/s]\n",
            "100%|██████████| 100/100 [00:00<00:00, 5642.21it/s]\n",
            "100%|██████████| 100/100 [00:00<00:00, 6695.03it/s]\n",
            "100%|██████████| 100/100 [00:00<00:00, 6253.34it/s]\n",
            "100%|██████████| 100/100 [00:00<00:00, 6123.79it/s]\n",
            "100%|██████████| 100/100 [00:00<00:00, 5363.83it/s]\n",
            "100%|██████████| 100/100 [00:00<00:00, 6057.63it/s]\n",
            "100%|██████████| 100/100 [00:00<00:00, 6279.27it/s]\n",
            "100%|██████████| 100/100 [00:00<00:00, 5828.90it/s]\n",
            "100%|██████████| 100/100 [00:00<00:00, 6569.61it/s]\n",
            "100%|██████████| 100/100 [00:00<00:00, 5988.44it/s]\n",
            "100%|██████████| 100/100 [00:00<00:00, 6276.36it/s]\n",
            "100%|██████████| 100/100 [00:00<00:00, 6190.95it/s]\n",
            "100%|██████████| 100/100 [00:00<00:00, 5950.46it/s]\n",
            "100%|██████████| 100/100 [00:00<00:00, 6265.58it/s]\n",
            "100%|██████████| 100/100 [00:00<00:00, 6438.91it/s]\n",
            "100%|██████████| 100/100 [00:00<00:00, 5474.59it/s]\n",
            "100%|██████████| 100/100 [00:00<00:00, 5133.47it/s]\n",
            "100%|██████████| 100/100 [00:00<00:00, 6312.73it/s]\n",
            "100%|██████████| 100/100 [00:00<00:00, 6873.09it/s]\n",
            "100%|██████████| 100/100 [00:00<00:00, 5608.41it/s]\n",
            "100%|██████████| 100/100 [00:00<00:00, 6023.70it/s]\n",
            "100%|██████████| 100/100 [00:00<00:00, 6505.62it/s]\n",
            "100%|██████████| 100/100 [00:00<00:00, 7163.75it/s]\n",
            "100%|██████████| 100/100 [00:00<00:00, 7602.10it/s]\n",
            "100%|██████████| 100/100 [00:00<00:00, 5189.49it/s]\n",
            "100%|██████████| 100/100 [00:00<00:00, 5598.00it/s]\n",
            "100%|██████████| 100/100 [00:00<00:00, 6269.51it/s]\n",
            "100%|██████████| 100/100 [00:00<00:00, 5901.82it/s]\n",
            "100%|██████████| 100/100 [00:00<00:00, 6705.52it/s]\n",
            "100%|██████████| 100/100 [00:00<00:00, 4221.92it/s]\n",
            "100%|██████████| 100/100 [00:00<00:00, 6379.27it/s]\n",
            "100%|██████████| 100/100 [00:00<00:00, 6244.87it/s]\n",
            "100%|██████████| 100/100 [00:00<00:00, 5667.44it/s]\n",
            "100%|██████████| 100/100 [00:00<00:00, 5303.34it/s]\n",
            "100%|██████████| 100/100 [00:00<00:00, 6013.43it/s]\n",
            "100%|██████████| 100/100 [00:00<00:00, 5983.06it/s]\n",
            "100%|██████████| 100/100 [00:00<00:00, 6602.81it/s]\n",
            "100%|██████████| 100/100 [00:00<00:00, 5730.63it/s]\n",
            "100%|██████████| 100/100 [00:00<00:00, 5921.90it/s]\n",
            "100%|██████████| 100/100 [00:00<00:00, 6543.17it/s]\n",
            "100%|██████████| 100/100 [00:00<00:00, 6345.58it/s]\n",
            "100%|██████████| 100/100 [00:00<00:00, 6081.26it/s]\n",
            "100%|██████████| 100/100 [00:00<00:00, 6715.51it/s]\n",
            "100%|██████████| 100/100 [00:00<00:00, 5928.09it/s]\n",
            "100%|██████████| 100/100 [00:00<00:00, 5817.10it/s]\n",
            "100%|██████████| 100/100 [00:00<00:00, 5058.50it/s]\n",
            "100%|██████████| 100/100 [00:00<00:00, 6133.91it/s]\n",
            "100%|██████████| 100/100 [00:00<00:00, 6217.65it/s]\n",
            "100%|██████████| 100/100 [00:00<00:00, 5837.34it/s]\n",
            "100%|██████████| 100/100 [00:00<00:00, 5856.17it/s]\n",
            "100%|██████████| 100/100 [00:00<00:00, 6174.09it/s]\n",
            "100%|██████████| 100/100 [00:00<00:00, 5989.64it/s]\n",
            "100%|██████████| 100/100 [00:00<00:00, 6286.14it/s]\n",
            "100%|██████████| 100/100 [00:00<00:00, 6289.25it/s]\n",
            "100%|██████████| 100/100 [00:00<00:00, 6155.96it/s]\n",
            "100%|██████████| 100/100 [00:00<00:00, 6326.15it/s]\n",
            "100%|██████████| 100/100 [00:00<00:00, 6139.74it/s]\n",
            "100%|██████████| 100/100 [00:00<00:00, 6249.80it/s]\n",
            "100%|██████████| 100/100 [00:00<00:00, 7178.71it/s]\n",
            "100%|██████████| 100/100 [00:00<00:00, 4610.39it/s]\n",
            "100%|██████████| 100/100 [00:00<00:00, 6450.69it/s]\n",
            "100%|██████████| 100/100 [00:00<00:00, 6278.90it/s]\n",
            "100%|██████████| 100/100 [00:00<00:00, 6044.36it/s]\n",
            "100%|██████████| 100/100 [00:00<00:00, 5876.76it/s]\n",
            "100%|██████████| 100/100 [00:00<00:00, 5947.76it/s]\n",
            "100%|██████████| 100/100 [00:00<00:00, 4805.85it/s]\n",
            "100%|██████████| 100/100 [00:00<00:00, 5616.29it/s]\n",
            "100%|██████████| 100/100 [00:00<00:00, 6273.92it/s]\n",
            "100%|██████████| 100/100 [00:00<00:00, 6307.79it/s]\n",
            "100%|██████████| 100/100 [00:00<00:00, 5777.28it/s]\n",
            "100%|██████████| 100/100 [00:00<00:00, 4625.80it/s]\n",
            "100%|██████████| 100/100 [00:00<00:00, 6556.26it/s]\n",
            "100%|██████████| 100/100 [00:00<00:00, 5266.05it/s]\n",
            "100%|██████████| 100/100 [00:00<00:00, 5581.61it/s]\n",
            "100%|██████████| 100/100 [00:00<00:00, 5956.80it/s]\n",
            "100%|██████████| 100/100 [00:00<00:00, 5919.14it/s]\n",
            "100%|██████████| 100/100 [00:00<00:00, 5740.59it/s]\n",
            "100%|██████████| 100/100 [00:00<00:00, 5575.90it/s]\n",
            "100%|██████████| 100/100 [00:00<00:00, 5748.46it/s]\n",
            "100%|██████████| 100/100 [00:00<00:00, 6291.05it/s]\n",
            "100%|██████████| 100/100 [00:00<00:00, 5976.92it/s]\n",
            "100%|██████████| 100/100 [00:00<00:00, 6138.40it/s]\n",
            "100%|██████████| 100/100 [00:00<00:00, 5352.47it/s]\n",
            "100%|██████████| 100/100 [00:00<00:00, 6618.75it/s]\n",
            "100%|██████████| 100/100 [00:00<00:00, 6325.58it/s]\n",
            "100%|██████████| 100/100 [00:00<00:00, 6065.60it/s]\n",
            "100%|██████████| 100/100 [00:00<00:00, 6236.23it/s]\n",
            "100%|██████████| 100/100 [00:00<00:00, 3477.11it/s]\n",
            "100%|██████████| 100/100 [00:00<00:00, 5271.61it/s]\n",
            "100%|██████████| 100/100 [00:00<00:00, 5020.47it/s]\n",
            "100%|██████████| 100/100 [00:00<00:00, 5783.25it/s]\n",
            "100%|██████████| 100/100 [00:00<00:00, 5778.55it/s]\n",
            "100%|██████████| 100/100 [00:00<00:00, 5157.46it/s]\n",
            "100%|██████████| 100/100 [00:00<00:00, 5628.80it/s]\n",
            "100%|██████████| 100/100 [00:00<00:00, 5585.40it/s]\n",
            "100%|██████████| 100/100 [00:00<00:00, 6015.75it/s]\n",
            "100%|██████████| 100/100 [00:00<00:00, 6234.10it/s]\n",
            "100%|██████████| 100/100 [00:00<00:00, 6068.24it/s]\n",
            "100%|██████████| 100/100 [00:00<00:00, 6338.20it/s]\n",
            "100%|██████████| 100/100 [00:00<00:00, 6199.91it/s]\n",
            "100%|██████████| 100/100 [00:00<00:00, 6965.20it/s]\n",
            "100%|██████████| 100/100 [00:00<00:00, 5987.76it/s]\n",
            "100%|██████████| 100/100 [00:00<00:00, 6232.16it/s]\n",
            "100%|██████████| 100/100 [00:00<00:00, 6082.76it/s]\n",
            "100%|██████████| 100/100 [00:00<00:00, 6116.73it/s]\n",
            "100%|██████████| 100/100 [00:00<00:00, 6132.92it/s]\n",
            "100%|██████████| 100/100 [00:00<00:00, 5819.84it/s]\n",
            "100%|██████████| 100/100 [00:00<00:00, 5930.11it/s]\n",
            "100%|██████████| 100/100 [00:00<00:00, 4827.48it/s]\n",
            "100%|██████████| 100/100 [00:00<00:00, 4189.28it/s]\n",
            "100%|██████████| 100/100 [00:00<00:00, 4309.94it/s]\n",
            "100%|██████████| 100/100 [00:00<00:00, 4758.04it/s]\n",
            "100%|██████████| 100/100 [00:00<00:00, 5323.53it/s]\n",
            "100%|██████████| 100/100 [00:00<00:00, 5515.34it/s]\n",
            "100%|██████████| 100/100 [00:00<00:00, 5266.32it/s]\n",
            "100%|██████████| 100/100 [00:00<00:00, 6009.63it/s]\n",
            "100%|██████████| 100/100 [00:00<00:00, 6112.99it/s]\n",
            "100%|██████████| 100/100 [00:00<00:00, 5723.51it/s]\n",
            "100%|██████████| 100/100 [00:00<00:00, 6188.94it/s]\n",
            "100%|██████████| 100/100 [00:00<00:00, 5672.35it/s]\n",
            "100%|██████████| 100/100 [00:00<00:00, 4169.37it/s]\n",
            "100%|██████████| 100/100 [00:00<00:00, 6207.62it/s]\n",
            "100%|██████████| 100/100 [00:00<00:00, 6126.83it/s]\n",
            "100%|██████████| 100/100 [00:00<00:00, 6050.99it/s]\n",
            "100%|██████████| 100/100 [00:00<00:00, 6885.95it/s]\n",
            "100%|██████████| 100/100 [00:00<00:00, 5087.33it/s]\n",
            "100%|██████████| 100/100 [00:00<00:00, 5985.11it/s]\n",
            "100%|██████████| 100/100 [00:00<00:00, 6127.90it/s]\n",
            "100%|██████████| 100/100 [00:00<00:00, 5406.98it/s]\n",
            "100%|██████████| 100/100 [00:00<00:00, 6195.98it/s]\n",
            "100%|██████████| 100/100 [00:00<00:00, 6044.28it/s]\n",
            "100%|██████████| 100/100 [00:00<00:00, 6267.92it/s]\n",
            "100%|██████████| 100/100 [00:00<00:00, 6115.39it/s]\n",
            "100%|██████████| 100/100 [00:00<00:00, 6264.64it/s]\n",
            "100%|██████████| 100/100 [00:00<00:00, 4135.86it/s]\n",
            "100%|██████████| 100/100 [00:00<00:00, 6194.24it/s]\n",
            "100%|██████████| 100/100 [00:00<00:00, 6048.72it/s]\n",
            "100%|██████████| 100/100 [00:00<00:00, 6661.33it/s]\n",
            "100%|██████████| 100/100 [00:00<00:00, 5508.02it/s]\n",
            "100%|██████████| 100/100 [00:00<00:00, 6324.72it/s]\n",
            "100%|██████████| 100/100 [00:00<00:00, 6128.44it/s]\n",
            "100%|██████████| 100/100 [00:00<00:00, 5889.80it/s]\n",
            "100%|██████████| 100/100 [00:00<00:00, 6223.83it/s]\n",
            "100%|██████████| 100/100 [00:00<00:00, 5431.07it/s]\n",
            "100%|██████████| 100/100 [00:00<00:00, 4888.07it/s]\n",
            "100%|██████████| 100/100 [00:00<00:00, 5459.34it/s]\n",
            "100%|██████████| 100/100 [00:00<00:00, 5528.57it/s]\n",
            "100%|██████████| 100/100 [00:00<00:00, 4970.61it/s]\n",
            "100%|██████████| 100/100 [00:00<00:00, 4411.81it/s]\n",
            "100%|██████████| 100/100 [00:00<00:00, 3851.48it/s]\n",
            "100%|██████████| 100/100 [00:00<00:00, 5644.11it/s]\n",
            "100%|██████████| 100/100 [00:00<00:00, 6198.63it/s]\n",
            "100%|██████████| 100/100 [00:00<00:00, 6044.10it/s]\n",
            "100%|██████████| 100/100 [00:00<00:00, 6146.40it/s]\n",
            "100%|██████████| 100/100 [00:00<00:00, 6219.04it/s]\n",
            "100%|██████████| 100/100 [00:00<00:00, 5631.98it/s]\n",
            "100%|██████████| 100/100 [00:00<00:00, 5251.55it/s]\n",
            "100%|██████████| 100/100 [00:00<00:00, 5835.15it/s]\n",
            "100%|██████████| 100/100 [00:00<00:00, 5720.08it/s]\n",
            "100%|██████████| 100/100 [00:00<00:00, 6342.13it/s]\n",
            "100%|██████████| 100/100 [00:00<00:00, 6226.70it/s]\n",
            "100%|██████████| 100/100 [00:00<00:00, 6545.83it/s]\n",
            "100%|██████████| 100/100 [00:00<00:00, 6217.93it/s]\n",
            "100%|██████████| 100/100 [00:00<00:00, 6698.45it/s]\n",
            "100%|██████████| 100/100 [00:00<00:00, 6379.17it/s]\n",
            "100%|██████████| 100/100 [00:00<00:00, 6408.12it/s]\n",
            "100%|██████████| 100/100 [00:00<00:00, 6505.92it/s]\n",
            "100%|██████████| 100/100 [00:00<00:00, 6514.21it/s]\n",
            "100%|██████████| 100/100 [00:00<00:00, 5724.21it/s]\n",
            "100%|██████████| 100/100 [00:00<00:00, 6513.00it/s]\n",
            "100%|██████████| 100/100 [00:00<00:00, 6196.16it/s]\n",
            "100%|██████████| 100/100 [00:00<00:00, 5781.66it/s]\n",
            "100%|██████████| 100/100 [00:00<00:00, 6905.80it/s]\n",
            "100%|██████████| 100/100 [00:00<00:00, 5978.20it/s]\n",
            "100%|██████████| 100/100 [00:00<00:00, 6022.23it/s]\n",
            "100%|██████████| 100/100 [00:00<00:00, 5899.33it/s]\n",
            "100%|██████████| 100/100 [00:00<00:00, 6689.59it/s]\n",
            "100%|██████████| 100/100 [00:00<00:00, 5935.56it/s]\n",
            "100%|██████████| 100/100 [00:00<00:00, 5221.60it/s]\n",
            "100%|██████████| 100/100 [00:00<00:00, 5785.17it/s]\n",
            "100%|██████████| 100/100 [00:00<00:00, 5773.78it/s]\n",
            "100%|██████████| 100/100 [00:00<00:00, 5722.03it/s]\n",
            "100%|██████████| 100/100 [00:00<00:00, 6708.63it/s]\n",
            "100%|██████████| 100/100 [00:00<00:00, 6123.43it/s]\n",
            "100%|██████████| 100/100 [00:00<00:00, 6126.74it/s]\n",
            "100%|██████████| 100/100 [00:00<00:00, 6063.06it/s]\n",
            "100%|██████████| 100/100 [00:00<00:00, 6255.58it/s]\n",
            "100%|██████████| 100/100 [00:00<00:00, 5691.36it/s]\n",
            "100%|██████████| 100/100 [00:00<00:00, 4216.57it/s]\n",
            "100%|██████████| 100/100 [00:00<00:00, 5154.04it/s]\n",
            "100%|██████████| 100/100 [00:00<00:00, 7326.94it/s]\n",
            "100%|██████████| 100/100 [00:00<00:00, 6148.92it/s]\n",
            "100%|██████████| 100/100 [00:00<00:00, 5689.12it/s]\n",
            "100%|██████████| 100/100 [00:00<00:00, 5184.75it/s]\n",
            "100%|██████████| 100/100 [00:00<00:00, 6040.53it/s]\n",
            "100%|██████████| 100/100 [00:00<00:00, 5923.57it/s]\n",
            "100%|██████████| 100/100 [00:00<00:00, 5703.12it/s]\n",
            "100%|██████████| 100/100 [00:00<00:00, 5459.13it/s]\n",
            "100%|██████████| 100/100 [00:00<00:00, 6206.61it/s]\n",
            "100%|██████████| 100/100 [00:00<00:00, 5148.53it/s]\n",
            "100%|██████████| 100/100 [00:00<00:00, 6226.24it/s]\n",
            "100%|██████████| 100/100 [00:00<00:00, 5378.28it/s]\n",
            "100%|██████████| 100/100 [00:00<00:00, 5029.74it/s]\n",
            "100%|██████████| 100/100 [00:00<00:00, 5759.27it/s]\n",
            "100%|██████████| 100/100 [00:00<00:00, 5177.96it/s]\n",
            "100%|██████████| 100/100 [00:00<00:00, 5688.50it/s]\n",
            "100%|██████████| 100/100 [00:00<00:00, 5506.79it/s]\n",
            "100%|██████████| 100/100 [00:00<00:00, 5748.93it/s]\n",
            "100%|██████████| 100/100 [00:00<00:00, 5536.74it/s]\n",
            "100%|██████████| 100/100 [00:00<00:00, 5024.38it/s]\n",
            "100%|██████████| 100/100 [00:00<00:00, 4609.58it/s]\n",
            "100%|██████████| 100/100 [00:00<00:00, 7042.86it/s]\n",
            "100%|██████████| 100/100 [00:00<00:00, 4943.37it/s]\n",
            "100%|██████████| 100/100 [00:00<00:00, 5271.61it/s]\n",
            "100%|██████████| 100/100 [00:00<00:00, 6686.60it/s]\n",
            "100%|██████████| 100/100 [00:00<00:00, 6231.60it/s]\n",
            "100%|██████████| 100/100 [00:00<00:00, 5358.69it/s]\n",
            "100%|██████████| 100/100 [00:00<00:00, 5895.76it/s]\n",
            "100%|██████████| 100/100 [00:00<00:00, 5857.88it/s]\n",
            "100%|██████████| 100/100 [00:00<00:00, 6133.28it/s]\n",
            "100%|██████████| 100/100 [00:00<00:00, 5986.82it/s]\n",
            "100%|██████████| 100/100 [00:00<00:00, 5976.67it/s]\n",
            "100%|██████████| 100/100 [00:00<00:00, 5219.33it/s]\n",
            "100%|██████████| 100/100 [00:00<00:00, 5886.41it/s]\n",
            "100%|██████████| 100/100 [00:00<00:00, 6326.06it/s]\n",
            "100%|██████████| 100/100 [00:00<00:00, 6149.56it/s]\n",
            "100%|██████████| 100/100 [00:00<00:00, 6314.82it/s]\n",
            "100%|██████████| 100/100 [00:00<00:00, 3622.84it/s]\n",
            "100%|██████████| 100/100 [00:00<00:00, 5763.31it/s]\n",
            "100%|██████████| 100/100 [00:00<00:00, 5358.49it/s]\n",
            "100%|██████████| 100/100 [00:00<00:00, 5580.87it/s]\n",
            "100%|██████████| 100/100 [00:00<00:00, 5156.32it/s]\n",
            "100%|██████████| 100/100 [00:00<00:00, 5448.78it/s]\n",
            "100%|██████████| 100/100 [00:00<00:00, 6079.94it/s]\n",
            "100%|██████████| 100/100 [00:00<00:00, 5430.64it/s]\n",
            "100%|██████████| 100/100 [00:00<00:00, 5567.39it/s]\n",
            "100%|██████████| 100/100 [00:00<00:00, 5615.99it/s]\n",
            "100%|██████████| 100/100 [00:00<00:00, 6001.21it/s]\n",
            "100%|██████████| 100/100 [00:00<00:00, 5018.61it/s]\n",
            "100%|██████████| 100/100 [00:00<00:00, 5649.88it/s]\n",
            "100%|██████████| 100/100 [00:00<00:00, 5945.15it/s]\n",
            "100%|██████████| 100/100 [00:00<00:00, 5422.50it/s]\n",
            "100%|██████████| 100/100 [00:00<00:00, 6144.78it/s]\n",
            "100%|██████████| 100/100 [00:00<00:00, 5149.10it/s]\n",
            "100%|██████████| 100/100 [00:00<00:00, 5803.34it/s]\n",
            "100%|██████████| 100/100 [00:00<00:00, 5593.90it/s]\n",
            "100%|██████████| 100/100 [00:00<00:00, 5900.41it/s]\n",
            "100%|██████████| 100/100 [00:00<00:00, 5201.66it/s]\n",
            "100%|██████████| 100/100 [00:00<00:00, 5152.90it/s]\n",
            "100%|██████████| 100/100 [00:00<00:00, 4613.23it/s]\n",
            "100%|██████████| 100/100 [00:00<00:00, 4389.05it/s]\n",
            "100%|██████████| 100/100 [00:00<00:00, 5134.54it/s]\n",
            "100%|██████████| 100/100 [00:00<00:00, 4726.19it/s]\n",
            "100%|██████████| 100/100 [00:00<00:00, 4969.02it/s]\n",
            "100%|██████████| 100/100 [00:00<00:00, 5794.36it/s]\n",
            "100%|██████████| 100/100 [00:00<00:00, 5797.40it/s]\n",
            "100%|██████████| 100/100 [00:00<00:00, 5840.35it/s]\n",
            "100%|██████████| 100/100 [00:00<00:00, 4895.48it/s]\n",
            "100%|██████████| 100/100 [00:00<00:00, 5662.39it/s]\n",
            "100%|██████████| 100/100 [00:00<00:00, 5279.77it/s]\n",
            "100%|██████████| 100/100 [00:00<00:00, 5149.17it/s]\n",
            "100%|██████████| 100/100 [00:00<00:00, 5262.88it/s]\n",
            "100%|██████████| 100/100 [00:00<00:00, 6522.31it/s]\n",
            "100%|██████████| 100/100 [00:00<00:00, 6131.04it/s]\n",
            "100%|██████████| 100/100 [00:00<00:00, 5044.02it/s]\n",
            "100%|██████████| 100/100 [00:00<00:00, 6317.86it/s]\n",
            "100%|██████████| 100/100 [00:00<00:00, 4189.24it/s]\n",
            "100%|██████████| 100/100 [00:00<00:00, 5666.37it/s]\n",
            "100%|██████████| 100/100 [00:00<00:00, 5581.76it/s]\n",
            "100%|██████████| 100/100 [00:00<00:00, 5317.52it/s]\n",
            "100%|██████████| 100/100 [00:00<00:00, 4981.95it/s]\n",
            "100%|██████████| 100/100 [00:00<00:00, 5500.08it/s]\n",
            "100%|██████████| 100/100 [00:00<00:00, 5404.13it/s]\n",
            "100%|██████████| 100/100 [00:00<00:00, 5710.11it/s]\n",
            "100%|██████████| 100/100 [00:00<00:00, 5534.04it/s]\n",
            "100%|██████████| 100/100 [00:00<00:00, 6470.59it/s]\n",
            "100%|██████████| 100/100 [00:00<00:00, 5200.56it/s]\n",
            "100%|██████████| 100/100 [00:00<00:00, 5891.87it/s]\n",
            "100%|██████████| 100/100 [00:00<00:00, 6018.69it/s]\n",
            "100%|██████████| 100/100 [00:00<00:00, 4615.36it/s]\n",
            "100%|██████████| 100/100 [00:00<00:00, 6503.70it/s]\n",
            "100%|██████████| 100/100 [00:00<00:00, 5175.85it/s]\n",
            "100%|██████████| 100/100 [00:00<00:00, 5037.36it/s]\n",
            "100%|██████████| 100/100 [00:00<00:00, 5236.27it/s]\n",
            "100%|██████████| 100/100 [00:00<00:00, 5396.20it/s]\n",
            "100%|██████████| 100/100 [00:00<00:00, 5258.33it/s]\n",
            "100%|██████████| 100/100 [00:00<00:00, 5268.30it/s]\n",
            "100%|██████████| 100/100 [00:00<00:00, 6053.70it/s]\n",
            "100%|██████████| 100/100 [00:00<00:00, 5507.30it/s]\n",
            "100%|██████████| 100/100 [00:00<00:00, 6252.13it/s]\n",
            "100%|██████████| 100/100 [00:00<00:00, 5124.19it/s]\n",
            "100%|██████████| 100/100 [00:00<00:00, 5428.75it/s]\n",
            "100%|██████████| 100/100 [00:00<00:00, 5481.53it/s]\n",
            "100%|██████████| 100/100 [00:00<00:00, 5358.76it/s]\n",
            "100%|██████████| 100/100 [00:00<00:00, 5890.30it/s]\n",
            "100%|██████████| 100/100 [00:00<00:00, 5665.60it/s]\n",
            "100%|██████████| 100/100 [00:00<00:00, 5588.61it/s]\n",
            "100%|██████████| 100/100 [00:00<00:00, 5829.23it/s]\n",
            "100%|██████████| 100/100 [00:00<00:00, 5640.54it/s]\n",
            "100%|██████████| 100/100 [00:00<00:00, 5618.25it/s]\n",
            "100%|██████████| 100/100 [00:00<00:00, 5618.93it/s]\n",
            "100%|██████████| 100/100 [00:00<00:00, 5380.69it/s]\n",
            "100%|██████████| 100/100 [00:00<00:00, 6425.10it/s]\n",
            "100%|██████████| 100/100 [00:00<00:00, 4899.09it/s]\n",
            "100%|██████████| 100/100 [00:00<00:00, 5810.17it/s]\n",
            "100%|██████████| 100/100 [00:00<00:00, 3653.07it/s]\n",
            "100%|██████████| 100/100 [00:00<00:00, 5907.22it/s]\n",
            "100%|██████████| 100/100 [00:00<00:00, 5310.19it/s]\n",
            "100%|██████████| 100/100 [00:00<00:00, 3879.20it/s]\n",
            "100%|██████████| 100/100 [00:00<00:00, 5902.65it/s]\n",
            "100%|██████████| 100/100 [00:00<00:00, 5556.11it/s]\n",
            "100%|██████████| 100/100 [00:00<00:00, 5837.67it/s]\n",
            "100%|██████████| 100/100 [00:00<00:00, 5557.87it/s]\n",
            "100%|██████████| 100/100 [00:00<00:00, 5230.78it/s]\n",
            "100%|██████████| 100/100 [00:00<00:00, 5481.53it/s]\n",
            "100%|██████████| 100/100 [00:00<00:00, 5545.38it/s]\n",
            "100%|██████████| 100/100 [00:00<00:00, 5857.80it/s]\n",
            "100%|██████████| 100/100 [00:00<00:00, 5127.70it/s]\n",
            "100%|██████████| 100/100 [00:00<00:00, 5916.14it/s]\n",
            "100%|██████████| 100/100 [00:00<00:00, 5700.10it/s]\n",
            "100%|██████████| 100/100 [00:00<00:00, 5120.38it/s]\n",
            "100%|██████████| 100/100 [00:00<00:00, 5417.46it/s]\n",
            "100%|██████████| 100/100 [00:00<00:00, 6138.57it/s]\n",
            "100%|██████████| 100/100 [00:00<00:00, 5265.52it/s]\n",
            "100%|██████████| 100/100 [00:00<00:00, 5440.51it/s]\n",
            "100%|██████████| 100/100 [00:00<00:00, 3947.69it/s]\n",
            "100%|██████████| 100/100 [00:00<00:00, 5997.43it/s]\n",
            "100%|██████████| 100/100 [00:00<00:00, 6549.71it/s]\n",
            "100%|██████████| 100/100 [00:00<00:00, 5628.80it/s]\n",
            "100%|██████████| 100/100 [00:00<00:00, 2642.25it/s]\n",
            "100%|██████████| 100/100 [00:00<00:00, 4998.28it/s]\n",
            "100%|██████████| 100/100 [00:00<00:00, 7014.24it/s]\n",
            "100%|██████████| 100/100 [00:00<00:00, 5349.67it/s]\n",
            "100%|██████████| 100/100 [00:00<00:00, 5797.16it/s]\n",
            "100%|██████████| 100/100 [00:00<00:00, 6546.34it/s]\n",
            "100%|██████████| 100/100 [00:00<00:00, 5601.44it/s]\n",
            "100%|██████████| 100/100 [00:00<00:00, 6057.81it/s]\n",
            "100%|██████████| 100/100 [00:00<00:00, 5162.98it/s]\n",
            "100%|██████████| 100/100 [00:00<00:00, 5615.39it/s]\n",
            "100%|██████████| 100/100 [00:00<00:00, 5514.83it/s]\n",
            "100%|██████████| 100/100 [00:00<00:00, 5548.02it/s]\n",
            "100%|██████████| 100/100 [00:00<00:00, 5943.21it/s]\n",
            "100%|██████████| 100/100 [00:00<00:00, 6023.18it/s]\n",
            "100%|██████████| 100/100 [00:00<00:00, 3728.04it/s]\n",
            "100%|██████████| 100/100 [00:00<00:00, 5958.50it/s]\n",
            "100%|██████████| 100/100 [00:00<00:00, 5874.13it/s]\n",
            "100%|██████████| 100/100 [00:00<00:00, 5029.87it/s]\n",
            "100%|██████████| 100/100 [00:00<00:00, 5598.90it/s]\n",
            "100%|██████████| 100/100 [00:00<00:00, 5307.77it/s]\n",
            "100%|██████████| 100/100 [00:00<00:00, 5748.38it/s]\n",
            "100%|██████████| 100/100 [00:00<00:00, 4974.86it/s]\n",
            "100%|██████████| 100/100 [00:00<00:00, 5697.23it/s]\n",
            "100%|██████████| 100/100 [00:00<00:00, 5405.38it/s]\n",
            "100%|██████████| 100/100 [00:00<00:00, 5525.80it/s]\n",
            "100%|██████████| 100/100 [00:00<00:00, 5777.36it/s]\n",
            "100%|██████████| 100/100 [00:00<00:00, 5432.54it/s]\n",
            "100%|██████████| 100/100 [00:00<00:00, 5322.92it/s]\n",
            "100%|██████████| 100/100 [00:00<00:00, 5892.53it/s]\n",
            "100%|██████████| 100/100 [00:00<00:00, 5654.38it/s]\n",
            "100%|██████████| 100/100 [00:00<00:00, 5695.15it/s]\n",
            "100%|██████████| 100/100 [00:00<00:00, 5787.72it/s]\n",
            "100%|██████████| 100/100 [00:00<00:00, 5400.30it/s]\n",
            "100%|██████████| 100/100 [00:00<00:00, 5242.62it/s]\n",
            "100%|██████████| 100/100 [00:00<00:00, 5128.76it/s]\n",
            "100%|██████████| 100/100 [00:00<00:00, 4948.45it/s]\n",
            "100%|██████████| 100/100 [00:00<00:00, 5664.69it/s]\n",
            "100%|██████████| 100/100 [00:00<00:00, 5459.49it/s]\n",
            "100%|██████████| 100/100 [00:00<00:00, 5609.68it/s]\n",
            "100%|██████████| 100/100 [00:00<00:00, 5699.94it/s]\n",
            "100%|██████████| 100/100 [00:00<00:00, 6210.66it/s]\n",
            "100%|██████████| 100/100 [00:00<00:00, 4343.32it/s]\n",
            "100%|██████████| 100/100 [00:00<00:00, 4786.05it/s]\n",
            "100%|██████████| 100/100 [00:00<00:00, 5930.19it/s]\n",
            "100%|██████████| 100/100 [00:00<00:00, 5203.92it/s]\n",
            "100%|██████████| 100/100 [00:00<00:00, 5157.97it/s]\n",
            "100%|██████████| 100/100 [00:00<00:00, 4654.60it/s]\n",
            "100%|██████████| 100/100 [00:00<00:00, 5512.00it/s]\n",
            "100%|██████████| 100/100 [00:00<00:00, 4712.97it/s]\n",
            "100%|██████████| 100/100 [00:00<00:00, 5869.85it/s]\n",
            "100%|██████████| 100/100 [00:00<00:00, 5008.48it/s]\n",
            "100%|██████████| 100/100 [00:00<00:00, 5527.69it/s]\n",
            "100%|██████████| 100/100 [00:00<00:00, 3990.36it/s]\n",
            "100%|██████████| 100/100 [00:00<00:00, 5095.74it/s]\n",
            "100%|██████████| 100/100 [00:00<00:00, 5455.65it/s]\n",
            "100%|██████████| 100/100 [00:00<00:00, 5366.58it/s]\n",
            "100%|██████████| 100/100 [00:00<00:00, 4979.05it/s]\n",
            "100%|██████████| 100/100 [00:00<00:00, 4777.82it/s]\n",
            "100%|██████████| 100/100 [00:00<00:00, 5620.13it/s]\n",
            "100%|██████████| 100/100 [00:00<00:00, 5347.08it/s]\n",
            "100%|██████████| 100/100 [00:00<00:00, 5984.17it/s]\n",
            "100%|██████████| 100/100 [00:00<00:00, 5943.55it/s]\n",
            "100%|██████████| 100/100 [00:00<00:00, 5813.15it/s]\n",
            "100%|██████████| 100/100 [00:00<00:00, 5620.06it/s]\n",
            "100%|██████████| 100/100 [00:00<00:00, 5244.19it/s]\n",
            "100%|██████████| 100/100 [00:00<00:00, 5627.37it/s]\n",
            "100%|██████████| 100/100 [00:00<00:00, 5676.88it/s]\n",
            "100%|██████████| 100/100 [00:00<00:00, 5152.64it/s]\n",
            "100%|██████████| 100/100 [00:00<00:00, 4474.97it/s]\n",
            "100%|██████████| 100/100 [00:00<00:00, 5584.07it/s]\n",
            "100%|██████████| 100/100 [00:00<00:00, 5575.97it/s]\n",
            "100%|██████████| 100/100 [00:00<00:00, 5262.35it/s]\n",
            "100%|██████████| 100/100 [00:00<00:00, 5907.39it/s]\n",
            "100%|██████████| 100/100 [00:00<00:00, 5010.70it/s]\n",
            "100%|██████████| 100/100 [00:00<00:00, 5461.83it/s]\n",
            "100%|██████████| 100/100 [00:00<00:00, 4909.01it/s]\n",
            "100%|██████████| 100/100 [00:00<00:00, 4441.85it/s]\n",
            "100%|██████████| 100/100 [00:00<00:00, 4890.69it/s]\n",
            "100%|██████████| 100/100 [00:00<00:00, 5035.12it/s]\n",
            "100%|██████████| 100/100 [00:00<00:00, 5574.20it/s]\n",
            "100%|██████████| 100/100 [00:00<00:00, 4629.37it/s]\n",
            "100%|██████████| 100/100 [00:00<00:00, 4900.63it/s]\n",
            "100%|██████████| 100/100 [00:00<00:00, 4964.67it/s]\n",
            "100%|██████████| 100/100 [00:00<00:00, 4861.55it/s]\n",
            "100%|██████████| 100/100 [00:00<00:00, 5734.31it/s]\n",
            "100%|██████████| 100/100 [00:00<00:00, 4583.69it/s]\n",
            "100%|██████████| 100/100 [00:00<00:00, 5631.45it/s]\n",
            "100%|██████████| 100/100 [00:00<00:00, 5423.62it/s]\n",
            "100%|██████████| 100/100 [00:00<00:00, 5482.89it/s]\n",
            "100%|██████████| 100/100 [00:00<00:00, 4402.82it/s]\n",
            "100%|██████████| 100/100 [00:00<00:00, 4149.57it/s]\n",
            "100%|██████████| 100/100 [00:00<00:00, 5208.83it/s]\n",
            "100%|██████████| 100/100 [00:00<00:00, 5138.69it/s]\n",
            "100%|██████████| 100/100 [00:00<00:00, 4766.15it/s]\n",
            "100%|██████████| 100/100 [00:00<00:00, 5065.28it/s]\n",
            "100%|██████████| 100/100 [00:00<00:00, 5085.42it/s]\n",
            "100%|██████████| 100/100 [00:00<00:00, 5302.13it/s]\n",
            "100%|██████████| 100/100 [00:00<00:00, 5414.45it/s]\n",
            "100%|██████████| 100/100 [00:00<00:00, 4607.10it/s]\n",
            "100%|██████████| 100/100 [00:00<00:00, 5405.87it/s]\n",
            "100%|██████████| 100/100 [00:00<00:00, 5107.03it/s]\n",
            "100%|██████████| 100/100 [00:00<00:00, 5845.80it/s]\n",
            "100%|██████████| 100/100 [00:00<00:00, 5443.97it/s]\n",
            "100%|██████████| 100/100 [00:00<00:00, 4989.95it/s]\n",
            "100%|██████████| 100/100 [00:00<00:00, 4673.16it/s]\n",
            "100%|██████████| 100/100 [00:00<00:00, 5690.97it/s]\n",
            "100%|██████████| 100/100 [00:00<00:00, 4783.32it/s]\n",
            "100%|██████████| 100/100 [00:00<00:00, 6333.41it/s]\n",
            "100%|██████████| 100/100 [00:00<00:00, 5711.12it/s]\n",
            "100%|██████████| 100/100 [00:00<00:00, 6308.65it/s]\n",
            "100%|██████████| 100/100 [00:00<00:00, 4429.18it/s]\n",
            "100%|██████████| 100/100 [00:00<00:00, 5019.09it/s]\n",
            "100%|██████████| 100/100 [00:00<00:00, 4293.57it/s]\n",
            "100%|██████████| 100/100 [00:00<00:00, 5838.72it/s]\n",
            "100%|██████████| 100/100 [00:00<00:00, 4913.49it/s]\n",
            "100%|██████████| 100/100 [00:00<00:00, 5676.80it/s]\n",
            "100%|██████████| 100/100 [00:00<00:00, 5501.59it/s]\n",
            "100%|██████████| 100/100 [00:00<00:00, 4787.47it/s]\n",
            "100%|██████████| 100/100 [00:00<00:00, 5237.97it/s]\n",
            "100%|██████████| 100/100 [00:00<00:00, 5197.66it/s]\n",
            "100%|██████████| 100/100 [00:00<00:00, 6169.73it/s]\n",
            "100%|██████████| 100/100 [00:00<00:00, 4811.58it/s]\n",
            "100%|██████████| 100/100 [00:00<00:00, 5824.94it/s]\n",
            "100%|██████████| 100/100 [00:00<00:00, 5789.40it/s]\n",
            "100%|██████████| 100/100 [00:00<00:00, 4356.63it/s]\n",
            "100%|██████████| 100/100 [00:00<00:00, 6283.51it/s]\n",
            "100%|██████████| 100/100 [00:00<00:00, 4930.94it/s]\n",
            "100%|██████████| 100/100 [00:00<00:00, 3580.50it/s]\n",
            "100%|██████████| 100/100 [00:00<00:00, 5237.25it/s]\n",
            "100%|██████████| 100/100 [00:00<00:00, 4468.92it/s]\n",
            "100%|██████████| 100/100 [00:00<00:00, 5124.75it/s]\n",
            "100%|██████████| 100/100 [00:00<00:00, 5159.81it/s]\n",
            "100%|██████████| 100/100 [00:00<00:00, 5593.90it/s]\n",
            "100%|██████████| 100/100 [00:00<00:00, 4966.49it/s]\n",
            "100%|██████████| 100/100 [00:00<00:00, 4992.21it/s]\n",
            "100%|██████████| 100/100 [00:00<00:00, 5137.94it/s]\n",
            "100%|██████████| 100/100 [00:00<00:00, 4527.73it/s]\n",
            "100%|██████████| 100/100 [00:00<00:00, 4446.84it/s]\n",
            "100%|██████████| 100/100 [00:00<00:00, 5562.96it/s]\n",
            "100%|██████████| 100/100 [00:00<00:00, 4713.97it/s]\n",
            "100%|██████████| 100/100 [00:00<00:00, 5645.40it/s]\n",
            "100%|██████████| 100/100 [00:00<00:00, 4412.64it/s]\n",
            "100%|██████████| 100/100 [00:00<00:00, 4224.85it/s]\n",
            "100%|██████████| 100/100 [00:00<00:00, 5013.69it/s]\n",
            "100%|██████████| 100/100 [00:00<00:00, 4689.31it/s]\n",
            "100%|██████████| 100/100 [00:00<00:00, 4722.20it/s]\n",
            "100%|██████████| 100/100 [00:00<00:00, 4472.16it/s]\n",
            "100%|██████████| 100/100 [00:00<00:00, 5201.91it/s]\n",
            "100%|██████████| 100/100 [00:00<00:00, 4870.92it/s]\n",
            "100%|██████████| 100/100 [00:00<00:00, 4425.30it/s]\n",
            "100%|██████████| 100/100 [00:00<00:00, 5181.67it/s]\n",
            "100%|██████████| 100/100 [00:00<00:00, 4830.42it/s]\n",
            "100%|██████████| 100/100 [00:00<00:00, 4904.07it/s]\n",
            "100%|██████████| 100/100 [00:00<00:00, 5293.50it/s]\n",
            "100%|██████████| 100/100 [00:00<00:00, 4462.07it/s]\n",
            "100%|██████████| 100/100 [00:00<00:00, 5064.54it/s]\n",
            "100%|██████████| 100/100 [00:00<00:00, 4093.76it/s]\n",
            "100%|██████████| 100/100 [00:00<00:00, 5177.00it/s]\n",
            "100%|██████████| 100/100 [00:00<00:00, 5207.73it/s]\n",
            "100%|██████████| 100/100 [00:00<00:00, 4170.41it/s]\n",
            "100%|██████████| 100/100 [00:00<00:00, 4865.78it/s]\n",
            "100%|██████████| 100/100 [00:00<00:00, 4533.94it/s]\n",
            "100%|██████████| 100/100 [00:00<00:00, 4953.47it/s]\n",
            "100%|██████████| 100/100 [00:00<00:00, 3286.25it/s]\n",
            "100%|██████████| 100/100 [00:00<00:00, 5572.42it/s]\n",
            "100%|██████████| 100/100 [00:00<00:00, 4646.24it/s]\n",
            "100%|██████████| 100/100 [00:00<00:00, 4735.69it/s]\n",
            "100%|██████████| 100/100 [00:00<00:00, 5089.56it/s]\n",
            "100%|██████████| 100/100 [00:00<00:00, 4917.18it/s]\n",
            "100%|██████████| 100/100 [00:00<00:00, 4218.39it/s]\n",
            "100%|██████████| 100/100 [00:00<00:00, 5027.15it/s]\n",
            "100%|██████████| 100/100 [00:00<00:00, 4449.62it/s]\n",
            "100%|██████████| 100/100 [00:00<00:00, 5069.38it/s]\n",
            "100%|██████████| 100/100 [00:00<00:00, 4092.84it/s]\n",
            "100%|██████████| 100/100 [00:00<00:00, 4318.86it/s]\n",
            "100%|██████████| 100/100 [00:00<00:00, 4244.90it/s]\n",
            "100%|██████████| 100/100 [00:00<00:00, 4488.96it/s]\n",
            "100%|██████████| 100/100 [00:00<00:00, 3910.48it/s]\n",
            "100%|██████████| 100/100 [00:00<00:00, 4405.60it/s]\n",
            "100%|██████████| 100/100 [00:00<00:00, 5152.52it/s]\n",
            "100%|██████████| 100/100 [00:00<00:00, 4676.60it/s]\n",
            "100%|██████████| 100/100 [00:00<00:00, 4813.68it/s]\n",
            "100%|██████████| 100/100 [00:00<00:00, 4492.76it/s]\n",
            "100%|██████████| 100/100 [00:00<00:00, 4412.32it/s]\n",
            "100%|██████████| 100/100 [00:00<00:00, 4524.01it/s]\n",
            "100%|██████████| 100/100 [00:00<00:00, 5167.82it/s]\n",
            "100%|██████████| 100/100 [00:00<00:00, 4697.82it/s]\n",
            "100%|██████████| 100/100 [00:00<00:00, 4659.92it/s]\n",
            "100%|██████████| 100/100 [00:00<00:00, 5224.98it/s]\n",
            "100%|██████████| 100/100 [00:00<00:00, 5143.29it/s]\n",
            "100%|██████████| 100/100 [00:00<00:00, 4529.63it/s]\n",
            "100%|██████████| 100/100 [00:00<00:00, 4743.29it/s]\n",
            "100%|██████████| 100/100 [00:00<00:00, 4457.52it/s]\n",
            "100%|██████████| 100/100 [00:00<00:00, 4504.24it/s]\n",
            "100%|██████████| 100/100 [00:00<00:00, 4840.62it/s]\n",
            "100%|██████████| 100/100 [00:00<00:00, 4610.65it/s]\n",
            "100%|██████████| 100/100 [00:00<00:00, 4286.02it/s]\n",
            "100%|██████████| 100/100 [00:00<00:00, 4245.98it/s]\n",
            "100%|██████████| 100/100 [00:00<00:00, 3062.59it/s]\n",
            "100%|██████████| 100/100 [00:00<00:00, 4628.20it/s]\n",
            "100%|██████████| 100/100 [00:00<00:00, 4981.00it/s]\n",
            "100%|██████████| 100/100 [00:00<00:00, 4341.08it/s]\n",
            "100%|██████████| 100/100 [00:00<00:00, 4999.83it/s]\n",
            "100%|██████████| 100/100 [00:00<00:00, 4543.57it/s]\n",
            "100%|██████████| 100/100 [00:00<00:00, 4968.32it/s]\n",
            "100%|██████████| 100/100 [00:00<00:00, 4995.84it/s]\n",
            "100%|██████████| 100/100 [00:00<00:00, 4561.26it/s]\n",
            "100%|██████████| 100/100 [00:00<00:00, 4987.82it/s]\n",
            "100%|██████████| 100/100 [00:00<00:00, 4880.33it/s]\n",
            "100%|██████████| 100/100 [00:00<00:00, 4452.08it/s]\n",
            "100%|██████████| 100/100 [00:00<00:00, 4544.80it/s]\n",
            "100%|██████████| 100/100 [00:00<00:00, 4636.64it/s]\n",
            "100%|██████████| 100/100 [00:00<00:00, 5196.11it/s]\n",
            "100%|██████████| 100/100 [00:00<00:00, 4769.07it/s]\n",
            "100%|██████████| 100/100 [00:00<00:00, 4659.82it/s]\n",
            "100%|██████████| 100/100 [00:00<00:00, 4726.14it/s]\n",
            "100%|██████████| 100/100 [00:00<00:00, 4302.12it/s]\n",
            "100%|██████████| 100/100 [00:00<00:00, 4681.61it/s]\n",
            "100%|██████████| 100/100 [00:00<00:00, 4536.20it/s]\n",
            "100%|██████████| 100/100 [00:00<00:00, 4976.04it/s]\n",
            "100%|██████████| 100/100 [00:00<00:00, 4962.21it/s]\n",
            "100%|██████████| 100/100 [00:00<00:00, 4625.75it/s]\n",
            "100%|██████████| 100/100 [00:00<00:00, 4614.91it/s]\n",
            "100%|██████████| 100/100 [00:00<00:00, 4779.83it/s]\n",
            "100%|██████████| 100/100 [00:00<00:00, 4723.05it/s]\n",
            "100%|██████████| 100/100 [00:00<00:00, 4707.36it/s]\n",
            "100%|██████████| 100/100 [00:00<00:00, 5171.70it/s]\n",
            "100%|██████████| 100/100 [00:00<00:00, 4802.99it/s]\n",
            "100%|██████████| 100/100 [00:00<00:00, 4119.53it/s]\n",
            "100%|██████████| 100/100 [00:00<00:00, 4619.12it/s]\n",
            "100%|██████████| 100/100 [00:00<00:00, 4522.40it/s]\n",
            "100%|██████████| 100/100 [00:00<00:00, 4868.72it/s]\n",
            "100%|██████████| 100/100 [00:00<00:00, 4419.90it/s]\n",
            "100%|██████████| 100/100 [00:00<00:00, 3715.52it/s]\n",
            "100%|██████████| 100/100 [00:00<00:00, 4081.17it/s]\n",
            "100%|██████████| 100/100 [00:00<00:00, 4530.81it/s]\n",
            "100%|██████████| 100/100 [00:00<00:00, 4817.99it/s]\n",
            "100%|██████████| 100/100 [00:00<00:00, 5086.96it/s]\n",
            "100%|██████████| 100/100 [00:00<00:00, 4594.58it/s]\n",
            "100%|██████████| 100/100 [00:00<00:00, 4537.62it/s]\n",
            "100%|██████████| 100/100 [00:00<00:00, 4456.72it/s]\n",
            "100%|██████████| 100/100 [00:00<00:00, 4990.90it/s]\n",
            "100%|██████████| 100/100 [00:00<00:00, 4517.92it/s]\n",
            "100%|██████████| 100/100 [00:00<00:00, 3727.54it/s]\n",
            "100%|██████████| 100/100 [00:00<00:00, 4193.42it/s]\n",
            "100%|██████████| 100/100 [00:00<00:00, 5320.76it/s]\n",
            "100%|██████████| 100/100 [00:00<00:00, 4855.31it/s]\n",
            "100%|██████████| 100/100 [00:00<00:00, 4170.08it/s]\n",
            "100%|██████████| 100/100 [00:00<00:00, 4641.98it/s]\n",
            "100%|██████████| 100/100 [00:00<00:00, 5510.56it/s]\n",
            "100%|██████████| 100/100 [00:00<00:00, 5002.03it/s]\n",
            "100%|██████████| 100/100 [00:00<00:00, 4647.74it/s]\n",
            "100%|██████████| 100/100 [00:00<00:00, 5049.18it/s]\n",
            "100%|██████████| 100/100 [00:00<00:00, 5248.92it/s]\n",
            "100%|██████████| 100/100 [00:00<00:00, 5483.83it/s]\n",
            "100%|██████████| 100/100 [00:00<00:00, 4585.04it/s]\n",
            "100%|██████████| 100/100 [00:00<00:00, 4384.82it/s]\n",
            "100%|██████████| 100/100 [00:00<00:00, 4837.44it/s]\n",
            "100%|██████████| 100/100 [00:00<00:00, 4295.99it/s]\n",
            "100%|██████████| 100/100 [00:00<00:00, 5061.61it/s]\n",
            "100%|██████████| 100/100 [00:00<00:00, 4155.45it/s]\n",
            "100%|██████████| 100/100 [00:00<00:00, 3859.42it/s]\n",
            "100%|██████████| 100/100 [00:00<00:00, 4891.49it/s]\n",
            "100%|██████████| 100/100 [00:00<00:00, 4828.48it/s]\n",
            "100%|██████████| 100/100 [00:00<00:00, 4499.55it/s]\n",
            "100%|██████████| 100/100 [00:00<00:00, 4667.70it/s]\n",
            "100%|██████████| 100/100 [00:00<00:00, 4389.51it/s]\n",
            "100%|██████████| 100/100 [00:00<00:00, 4257.10it/s]\n",
            "100%|██████████| 100/100 [00:00<00:00, 4955.35it/s]\n",
            "100%|██████████| 100/100 [00:00<00:00, 4342.02it/s]\n",
            "100%|██████████| 100/100 [00:00<00:00, 5091.29it/s]\n",
            "100%|██████████| 100/100 [00:00<00:00, 4862.34it/s]\n",
            "100%|██████████| 100/100 [00:00<00:00, 4379.33it/s]\n",
            "100%|██████████| 100/100 [00:00<00:00, 4604.27it/s]\n",
            "100%|██████████| 100/100 [00:00<00:00, 4485.45it/s]\n",
            "100%|██████████| 100/100 [00:00<00:00, 4408.42it/s]\n",
            "100%|██████████| 100/100 [00:00<00:00, 4625.24it/s]\n",
            "100%|██████████| 100/100 [00:00<00:00, 4624.93it/s]\n",
            "100%|██████████| 100/100 [00:00<00:00, 4727.73it/s]\n",
            "100%|██████████| 100/100 [00:00<00:00, 5023.12it/s]\n",
            "100%|██████████| 100/100 [00:00<00:00, 5057.83it/s]\n",
            "100%|██████████| 100/100 [00:00<00:00, 4862.85it/s]\n",
            "100%|██████████| 100/100 [00:00<00:00, 4435.51it/s]\n",
            "100%|██████████| 100/100 [00:00<00:00, 4326.88it/s]\n",
            "100%|██████████| 100/100 [00:00<00:00, 4099.52it/s]\n",
            "100%|██████████| 100/100 [00:00<00:00, 3869.36it/s]\n",
            "100%|██████████| 100/100 [00:00<00:00, 3888.73it/s]\n",
            "100%|██████████| 100/100 [00:00<00:00, 3762.42it/s]\n",
            "100%|██████████| 100/100 [00:00<00:00, 4288.13it/s]\n",
            "100%|██████████| 100/100 [00:00<00:00, 4334.44it/s]\n",
            "100%|██████████| 100/100 [00:00<00:00, 3664.52it/s]\n",
            "100%|██████████| 100/100 [00:00<00:00, 4668.90it/s]\n",
            "100%|██████████| 100/100 [00:00<00:00, 4723.74it/s]\n",
            "100%|██████████| 100/100 [00:00<00:00, 4693.93it/s]\n",
            "100%|██████████| 100/100 [00:00<00:00, 4777.71it/s]\n",
            "100%|██████████| 100/100 [00:00<00:00, 3949.03it/s]\n",
            "100%|██████████| 100/100 [00:00<00:00, 4000.52it/s]\n",
            "100%|██████████| 100/100 [00:00<00:00, 4455.96it/s]\n",
            "100%|██████████| 100/100 [00:00<00:00, 4800.46it/s]\n",
            "100%|██████████| 100/100 [00:00<00:00, 4838.00it/s]\n",
            "100%|██████████| 100/100 [00:00<00:00, 4340.94it/s]\n",
            "100%|██████████| 100/100 [00:00<00:00, 4981.18it/s]\n",
            "100%|██████████| 100/100 [00:00<00:00, 4445.19it/s]\n",
            "100%|██████████| 100/100 [00:00<00:00, 5043.17it/s]\n",
            "100%|██████████| 100/100 [00:00<00:00, 4191.41it/s]\n",
            "100%|██████████| 100/100 [00:00<00:00, 5104.86it/s]\n",
            "100%|██████████| 100/100 [00:00<00:00, 4650.37it/s]\n",
            "100%|██████████| 100/100 [00:00<00:00, 4798.15it/s]\n",
            "100%|██████████| 100/100 [00:00<00:00, 4878.01it/s]\n",
            "100%|██████████| 100/100 [00:00<00:00, 5246.42it/s]\n",
            "100%|██████████| 100/100 [00:00<00:00, 4443.54it/s]\n",
            "100%|██████████| 100/100 [00:00<00:00, 5137.94it/s]\n",
            "100%|██████████| 100/100 [00:00<00:00, 4491.51it/s]\n",
            "100%|██████████| 100/100 [00:00<00:00, 5332.26it/s]\n",
            "100%|██████████| 100/100 [00:00<00:00, 4855.64it/s]\n",
            "100%|██████████| 100/100 [00:00<00:00, 4628.56it/s]\n",
            "100%|██████████| 100/100 [00:00<00:00, 4892.12it/s]\n",
            "100%|██████████| 100/100 [00:00<00:00, 4284.93it/s]\n",
            "100%|██████████| 100/100 [00:00<00:00, 4464.69it/s]\n",
            "100%|██████████| 100/100 [00:00<00:00, 4533.50it/s]\n",
            "100%|██████████| 100/100 [00:00<00:00, 4394.01it/s]\n",
            "100%|██████████| 100/100 [00:00<00:00, 4562.60it/s]\n",
            "100%|██████████| 100/100 [00:00<00:00, 4241.00it/s]\n",
            "100%|██████████| 100/100 [00:00<00:00, 4808.99it/s]\n",
            "100%|██████████| 100/100 [00:00<00:00, 4400.51it/s]\n",
            "100%|██████████| 100/100 [00:00<00:00, 5001.79it/s]\n",
            "100%|██████████| 100/100 [00:00<00:00, 4029.57it/s]\n",
            "100%|██████████| 100/100 [00:00<00:00, 4674.15it/s]\n",
            "100%|██████████| 100/100 [00:00<00:00, 4090.45it/s]\n",
            "100%|██████████| 100/100 [00:00<00:00, 5051.98it/s]\n",
            "100%|██████████| 100/100 [00:00<00:00, 4754.58it/s]\n",
            "100%|██████████| 100/100 [00:00<00:00, 5002.69it/s]\n",
            "100%|██████████| 100/100 [00:00<00:00, 3851.84it/s]\n",
            "100%|██████████| 100/100 [00:00<00:00, 5568.72it/s]\n",
            "100%|██████████| 100/100 [00:00<00:00, 4755.72it/s]\n",
            "100%|██████████| 100/100 [00:00<00:00, 4759.66it/s]\n",
            "100%|██████████| 100/100 [00:00<00:00, 4472.49it/s]\n",
            "100%|██████████| 100/100 [00:00<00:00, 5102.44it/s]\n",
            "100%|██████████| 100/100 [00:00<00:00, 4729.49it/s]\n",
            "100%|██████████| 100/100 [00:00<00:00, 4186.93it/s]\n",
            "100%|██████████| 100/100 [00:00<00:00, 4210.73it/s]\n",
            "100%|██████████| 100/100 [00:00<00:00, 4255.93it/s]\n",
            "100%|██████████| 100/100 [00:00<00:00, 4761.44it/s]\n",
            "100%|██████████| 100/100 [00:00<00:00, 4818.71it/s]\n",
            "100%|██████████| 100/100 [00:00<00:00, 5143.61it/s]\n",
            "100%|██████████| 100/100 [00:00<00:00, 4273.06it/s]\n",
            "100%|██████████| 100/100 [00:00<00:00, 4565.58it/s]\n",
            "100%|██████████| 100/100 [00:00<00:00, 3727.91it/s]\n",
            "100%|██████████| 100/100 [00:00<00:00, 4665.42it/s]\n",
            "100%|██████████| 100/100 [00:00<00:00, 4316.90it/s]\n",
            "100%|██████████| 100/100 [00:00<00:00, 4483.25it/s]\n",
            "100%|██████████| 100/100 [00:00<00:00, 4574.84it/s]\n",
            "100%|██████████| 100/100 [00:00<00:00, 4552.05it/s]\n",
            "100%|██████████| 100/100 [00:00<00:00, 4708.79it/s]\n",
            "100%|██████████| 100/100 [00:00<00:00, 4323.18it/s]\n",
            "100%|██████████| 100/100 [00:00<00:00, 4879.82it/s]\n",
            "100%|██████████| 100/100 [00:00<00:00, 4573.59it/s]\n",
            "100%|██████████| 100/100 [00:00<00:00, 4959.27it/s]\n",
            "100%|██████████| 100/100 [00:00<00:00, 5023.60it/s]\n",
            "100%|██████████| 100/100 [00:00<00:00, 4760.90it/s]\n",
            "100%|██████████| 100/100 [00:00<00:00, 4687.00it/s]\n",
            "100%|██████████| 100/100 [00:00<00:00, 4253.43it/s]\n",
            "100%|██████████| 100/100 [00:00<00:00, 5005.97it/s]\n",
            "100%|██████████| 100/100 [00:00<00:00, 4476.84it/s]\n",
            "100%|██████████| 100/100 [00:00<00:00, 4877.10it/s]\n",
            "100%|██████████| 100/100 [00:00<00:00, 4361.30it/s]\n",
            "100%|██████████| 100/100 [00:00<00:00, 4373.49it/s]\n",
            "100%|██████████| 100/100 [00:00<00:00, 3565.40it/s]\n",
            "100%|██████████| 100/100 [00:00<00:00, 4223.40it/s]\n",
            "100%|██████████| 100/100 [00:00<00:00, 4488.62it/s]\n",
            "100%|██████████| 100/100 [00:00<00:00, 4722.46it/s]\n",
            "100%|██████████| 100/100 [00:00<00:00, 4763.60it/s]\n",
            "100%|██████████| 100/100 [00:00<00:00, 5234.64it/s]\n",
            "100%|██████████| 100/100 [00:00<00:00, 4959.15it/s]\n",
            "100%|██████████| 100/100 [00:00<00:00, 4375.81it/s]\n",
            "100%|██████████| 100/100 [00:00<00:00, 4241.86it/s]\n",
            "100%|██████████| 100/100 [00:00<00:00, 4230.05it/s]\n",
            "100%|██████████| 100/100 [00:00<00:00, 4400.93it/s]\n",
            "100%|██████████| 100/100 [00:00<00:00, 4987.34it/s]\n",
            "100%|██████████| 100/100 [00:00<00:00, 4637.56it/s]\n",
            "100%|██████████| 100/100 [00:00<00:00, 4665.83it/s]\n",
            "100%|██████████| 100/100 [00:00<00:00, 4279.29it/s]\n",
            "100%|██████████| 100/100 [00:00<00:00, 4767.07it/s]\n",
            "100%|██████████| 100/100 [00:00<00:00, 4988.76it/s]\n",
            "100%|██████████| 100/100 [00:00<00:00, 4249.38it/s]\n",
            "100%|██████████| 100/100 [00:00<00:00, 4645.11it/s]\n",
            "100%|██████████| 100/100 [00:00<00:00, 4774.72it/s]\n",
            "100%|██████████| 100/100 [00:00<00:00, 4431.90it/s]\n",
            "100%|██████████| 100/100 [00:00<00:00, 4399.45it/s]\n",
            "100%|██████████| 100/100 [00:00<00:00, 4491.75it/s]\n",
            "100%|██████████| 100/100 [00:00<00:00, 4233.98it/s]\n",
            "100%|██████████| 100/100 [00:00<00:00, 4985.38it/s]\n",
            "100%|██████████| 100/100 [00:00<00:00, 4673.42it/s]\n",
            "100%|██████████| 100/100 [00:00<00:00, 4637.15it/s]\n",
            "100%|██████████| 100/100 [00:00<00:00, 4249.59it/s]\n",
            "100%|██████████| 100/100 [00:00<00:00, 4048.36it/s]\n",
            "100%|██████████| 100/100 [00:00<00:00, 4163.66it/s]\n",
            "100%|██████████| 100/100 [00:00<00:00, 4581.79it/s]\n",
            "100%|██████████| 100/100 [00:00<00:00, 4791.03it/s]\n",
            "100%|██████████| 100/100 [00:00<00:00, 4385.10it/s]\n",
            "100%|██████████| 100/100 [00:00<00:00, 4855.81it/s]\n",
            "100%|██████████| 100/100 [00:00<00:00, 4544.11it/s]\n",
            "100%|██████████| 100/100 [00:00<00:00, 3607.88it/s]\n",
            "100%|██████████| 100/100 [00:00<00:00, 4486.99it/s]\n",
            "100%|██████████| 100/100 [00:00<00:00, 4501.53it/s]\n",
            "100%|██████████| 100/100 [00:00<00:00, 4875.40it/s]\n",
            "100%|██████████| 100/100 [00:00<00:00, 4683.39it/s]\n",
            "100%|██████████| 100/100 [00:00<00:00, 4456.57it/s]\n",
            "100%|██████████| 100/100 [00:00<00:00, 4379.83it/s]\n",
            "100%|██████████| 100/100 [00:00<00:00, 5631.90it/s]\n",
            "100%|██████████| 100/100 [00:00<00:00, 4675.35it/s]\n",
            "100%|██████████| 100/100 [00:00<00:00, 4253.51it/s]\n",
            "100%|██████████| 100/100 [00:00<00:00, 4499.36it/s]\n",
            "100%|██████████| 100/100 [00:00<00:00, 4117.80it/s]\n",
            "100%|██████████| 100/100 [00:00<00:00, 4469.20it/s]\n",
            "100%|██████████| 100/100 [00:00<00:00, 4593.58it/s]\n",
            "100%|██████████| 100/100 [00:00<00:00, 4486.61it/s]\n",
            "100%|██████████| 100/100 [00:00<00:00, 4675.87it/s]\n",
            "100%|██████████| 100/100 [00:00<00:00, 4515.93it/s]\n",
            "100%|██████████| 100/100 [00:00<00:00, 4387.12it/s]\n",
            "100%|██████████| 100/100 [00:00<00:00, 4449.95it/s]\n",
            "100%|██████████| 100/100 [00:00<00:00, 4254.94it/s]\n",
            "100%|██████████| 100/100 [00:00<00:00, 4361.07it/s]\n",
            "100%|██████████| 100/100 [00:00<00:00, 4502.45it/s]\n",
            "100%|██████████| 100/100 [00:00<00:00, 4842.36it/s]\n",
            "100%|██████████| 100/100 [00:00<00:00, 4644.49it/s]\n",
            "100%|██████████| 100/100 [00:00<00:00, 4631.31it/s]\n",
            "100%|██████████| 100/100 [00:00<00:00, 3511.23it/s]\n",
            "100%|██████████| 100/100 [00:00<00:00, 4293.57it/s]\n",
            "100%|██████████| 100/100 [00:00<00:00, 4118.89it/s]\n",
            "100%|██████████| 100/100 [00:00<00:00, 4145.43it/s]\n",
            "100%|██████████| 100/100 [00:00<00:00, 4139.21it/s]\n",
            "100%|██████████| 100/100 [00:00<00:00, 4283.22it/s]\n",
            "100%|██████████| 100/100 [00:00<00:00, 3998.08it/s]\n",
            "100%|██████████| 100/100 [00:00<00:00, 3584.02it/s]\n",
            "100%|██████████| 100/100 [00:00<00:00, 3026.17it/s]\n",
            "100%|██████████| 100/100 [00:00<00:00, 4869.62it/s]\n",
            "100%|██████████| 100/100 [00:00<00:00, 3773.69it/s]\n",
            "100%|██████████| 100/100 [00:00<00:00, 4339.82it/s]\n",
            "100%|██████████| 100/100 [00:00<00:00, 4206.08it/s]\n",
            "100%|██████████| 100/100 [00:00<00:00, 4094.76it/s]\n",
            "100%|██████████| 100/100 [00:00<00:00, 4289.01it/s]\n",
            "100%|██████████| 100/100 [00:00<00:00, 3996.94it/s]\n",
            "100%|██████████| 100/100 [00:00<00:00, 4686.27it/s]\n",
            "100%|██████████| 100/100 [00:00<00:00, 4838.39it/s]\n",
            "100%|██████████| 100/100 [00:00<00:00, 4557.04it/s]\n",
            "100%|██████████| 100/100 [00:00<00:00, 4767.39it/s]\n",
            "100%|██████████| 100/100 [00:00<00:00, 4321.40it/s]\n",
            "100%|██████████| 100/100 [00:00<00:00, 4861.89it/s]\n",
            "100%|██████████| 100/100 [00:00<00:00, 5012.67it/s]\n",
            "100%|██████████| 100/100 [00:00<00:00, 4258.57it/s]\n",
            "100%|██████████| 100/100 [00:00<00:00, 4315.31it/s]\n",
            "100%|██████████| 100/100 [00:00<00:00, 4504.58it/s]\n",
            "100%|██████████| 100/100 [00:00<00:00, 3979.53it/s]\n",
            "100%|██████████| 100/100 [00:00<00:00, 4316.68it/s]\n",
            "100%|██████████| 100/100 [00:00<00:00, 4645.11it/s]\n",
            "100%|██████████| 100/100 [00:00<00:00, 4331.62it/s]\n",
            "100%|██████████| 100/100 [00:00<00:00, 4419.48it/s]\n",
            "100%|██████████| 100/100 [00:00<00:00, 4594.89it/s]\n",
            "100%|██████████| 100/100 [00:00<00:00, 3639.59it/s]\n",
            "100%|██████████| 100/100 [00:00<00:00, 4186.56it/s]\n",
            "100%|██████████| 100/100 [00:00<00:00, 4171.07it/s]\n",
            "100%|██████████| 100/100 [00:00<00:00, 4067.91it/s]\n",
            "100%|██████████| 100/100 [00:00<00:00, 4314.24it/s]\n",
            "100%|██████████| 100/100 [00:00<00:00, 4217.16it/s]\n",
            "100%|██████████| 100/100 [00:00<00:00, 4423.62it/s]\n",
            "100%|██████████| 100/100 [00:00<00:00, 4264.58it/s]\n",
            "100%|██████████| 100/100 [00:00<00:00, 4308.04it/s]\n",
            "100%|██████████| 100/100 [00:00<00:00, 3529.93it/s]\n",
            "100%|██████████| 100/100 [00:00<00:00, 4219.15it/s]\n",
            "100%|██████████| 100/100 [00:00<00:00, 4218.65it/s]\n",
            "100%|██████████| 100/100 [00:00<00:00, 4261.38it/s]\n",
            "100%|██████████| 100/100 [00:00<00:00, 4462.12it/s]\n",
            "100%|██████████| 100/100 [00:00<00:00, 4752.91it/s]\n",
            "100%|██████████| 100/100 [00:00<00:00, 4687.21it/s]\n",
            "100%|██████████| 100/100 [00:00<00:00, 4802.77it/s]\n",
            "100%|██████████| 100/100 [00:00<00:00, 4326.43it/s]\n",
            "100%|██████████| 100/100 [00:00<00:00, 4432.04it/s]\n",
            "100%|██████████| 100/100 [00:00<00:00, 4659.25it/s]\n",
            "100%|██████████| 100/100 [00:00<00:00, 4599.62it/s]\n",
            "100%|██████████| 100/100 [00:00<00:00, 4445.14it/s]\n",
            "100%|██████████| 100/100 [00:00<00:00, 4118.24it/s]\n",
            "100%|██████████| 100/100 [00:00<00:00, 4209.42it/s]\n",
            "100%|██████████| 100/100 [00:00<00:00, 4259.39it/s]\n",
            "100%|██████████| 100/100 [00:00<00:00, 4070.01it/s]\n",
            "100%|██████████| 100/100 [00:00<00:00, 4100.04it/s]\n",
            "100%|██████████| 100/100 [00:00<00:00, 4212.16it/s]\n",
            "100%|██████████| 100/100 [00:00<00:00, 4252.35it/s]\n",
            "100%|██████████| 100/100 [00:00<00:00, 3570.96it/s]\n",
            "100%|██████████| 100/100 [00:00<00:00, 4570.60it/s]\n",
            "100%|██████████| 100/100 [00:00<00:00, 4513.26it/s]\n",
            "100%|██████████| 100/100 [00:00<00:00, 3988.08it/s]\n",
            "100%|██████████| 100/100 [00:00<00:00, 4590.81it/s]\n",
            "100%|██████████| 100/100 [00:00<00:00, 4582.99it/s]\n",
            "100%|██████████| 100/100 [00:00<00:00, 4333.76it/s]\n",
            "100%|██████████| 100/100 [00:00<00:00, 4680.10it/s]\n",
            "100%|██████████| 100/100 [00:00<00:00, 4343.77it/s]\n",
            "100%|██████████| 100/100 [00:00<00:00, 3864.72it/s]\n",
            "100%|██████████| 100/100 [00:00<00:00, 2674.61it/s]\n",
            "100%|██████████| 100/100 [00:00<00:00, 3071.74it/s]\n",
            "100%|██████████| 100/100 [00:00<00:00, 2318.09it/s]\n",
            "100%|██████████| 100/100 [00:00<00:00, 1615.19it/s]\n",
            "100%|██████████| 100/100 [00:00<00:00, 2265.32it/s]\n",
            "100%|██████████| 100/100 [00:00<00:00, 1551.22it/s]\n",
            "100%|██████████| 100/100 [00:00<00:00, 2256.57it/s]\n",
            "100%|██████████| 100/100 [00:00<00:00, 2876.10it/s]\n",
            "100%|██████████| 100/100 [00:00<00:00, 3720.66it/s]\n",
            "100%|██████████| 100/100 [00:00<00:00, 3078.98it/s]\n",
            "100%|██████████| 100/100 [00:00<00:00, 3233.90it/s]\n",
            "100%|██████████| 100/100 [00:00<00:00, 3069.42it/s]\n",
            "100%|██████████| 100/100 [00:00<00:00, 1593.56it/s]\n",
            "100%|██████████| 100/100 [00:00<00:00, 1694.66it/s]\n",
            "100%|██████████| 100/100 [00:00<00:00, 2798.93it/s]\n",
            "100%|██████████| 100/100 [00:00<00:00, 2901.77it/s]\n",
            "100%|██████████| 100/100 [00:00<00:00, 2930.42it/s]\n",
            "100%|██████████| 100/100 [00:00<00:00, 2829.84it/s]\n",
            "100%|██████████| 100/100 [00:00<00:00, 1620.25it/s]\n",
            "100%|██████████| 100/100 [00:00<00:00, 1675.90it/s]\n",
            "100%|██████████| 100/100 [00:00<00:00, 2096.31it/s]\n",
            "100%|██████████| 100/100 [00:00<00:00, 2570.48it/s]\n",
            "100%|██████████| 100/100 [00:00<00:00, 1875.13it/s]\n",
            "100%|██████████| 100/100 [00:00<00:00, 2378.65it/s]\n",
            "100%|██████████| 100/100 [00:00<00:00, 2616.52it/s]\n",
            "100%|██████████| 100/100 [00:00<00:00, 3357.81it/s]\n",
            "100%|██████████| 100/100 [00:00<00:00, 3250.42it/s]\n",
            "100%|██████████| 100/100 [00:00<00:00, 2191.11it/s]\n",
            "100%|██████████| 100/100 [00:00<00:00, 1947.75it/s]\n",
            "100%|██████████| 100/100 [00:00<00:00, 2380.91it/s]\n",
            "100%|██████████| 100/100 [00:00<00:00, 2489.35it/s]\n",
            "100%|██████████| 100/100 [00:00<00:00, 1543.98it/s]\n",
            "100%|██████████| 100/100 [00:00<00:00, 2409.77it/s]\n",
            "100%|██████████| 100/100 [00:00<00:00, 2388.77it/s]\n",
            "100%|██████████| 100/100 [00:00<00:00, 2970.37it/s]\n",
            "100%|██████████| 100/100 [00:00<00:00, 1909.26it/s]\n",
            "100%|██████████| 100/100 [00:00<00:00, 2588.44it/s]\n",
            "100%|██████████| 100/100 [00:00<00:00, 2051.14it/s]\n",
            "100%|██████████| 100/100 [00:00<00:00, 2448.70it/s]\n",
            "100%|██████████| 100/100 [00:00<00:00, 2018.71it/s]\n",
            "100%|██████████| 100/100 [00:00<00:00, 1853.62it/s]\n",
            "100%|██████████| 100/100 [00:00<00:00, 2359.60it/s]\n",
            "100%|██████████| 100/100 [00:00<00:00, 3910.85it/s]\n",
            "100%|██████████| 100/100 [00:00<00:00, 1097.43it/s]\n",
            "100%|██████████| 100/100 [00:00<00:00, 1893.44it/s]\n",
            "100%|██████████| 100/100 [00:00<00:00, 1807.46it/s]\n",
            "100%|██████████| 100/100 [00:00<00:00, 966.66it/s]\n",
            "100%|██████████| 100/100 [00:00<00:00, 1021.52it/s]\n",
            "100%|██████████| 100/100 [00:00<00:00, 1375.56it/s]\n",
            "100%|██████████| 100/100 [00:00<00:00, 1032.58it/s]\n",
            "100%|██████████| 100/100 [00:00<00:00, 895.14it/s]\n",
            "100%|██████████| 100/100 [00:00<00:00, 881.92it/s]\n",
            "100%|██████████| 100/100 [00:00<00:00, 1180.53it/s]\n",
            "100%|██████████| 100/100 [00:00<00:00, 1174.84it/s]\n",
            "100%|██████████| 100/100 [00:00<00:00, 1282.58it/s]\n",
            "100%|██████████| 100/100 [00:00<00:00, 2933.51it/s]\n",
            "100%|██████████| 100/100 [00:00<00:00, 2733.19it/s]\n",
            "100%|██████████| 100/100 [00:00<00:00, 2674.39it/s]\n",
            "100%|██████████| 100/100 [00:00<00:00, 3522.55it/s]\n",
            "100%|██████████| 100/100 [00:00<00:00, 2263.22it/s]\n",
            "100%|██████████| 100/100 [00:00<00:00, 2372.05it/s]\n",
            "100%|██████████| 100/100 [00:00<00:00, 2598.25it/s]\n",
            "100%|██████████| 100/100 [00:00<00:00, 2797.79it/s]\n",
            "100%|██████████| 100/100 [00:00<00:00, 2344.56it/s]\n",
            "100%|██████████| 100/100 [00:00<00:00, 2510.82it/s]\n",
            "100%|██████████| 100/100 [00:00<00:00, 3144.72it/s]\n",
            "100%|██████████| 100/100 [00:00<00:00, 2435.36it/s]\n",
            "100%|██████████| 100/100 [00:00<00:00, 2791.31it/s]\n",
            "100%|██████████| 100/100 [00:00<00:00, 1903.17it/s]\n",
            "100%|██████████| 100/100 [00:00<00:00, 2809.52it/s]\n",
            "100%|██████████| 100/100 [00:00<00:00, 2487.98it/s]\n",
            "100%|██████████| 100/100 [00:00<00:00, 2664.15it/s]\n",
            "100%|██████████| 100/100 [00:00<00:00, 2754.64it/s]\n",
            "100%|██████████| 100/100 [00:00<00:00, 4570.95it/s]\n",
            "100%|██████████| 100/100 [00:00<00:00, 5121.56it/s]\n",
            "100%|██████████| 100/100 [00:00<00:00, 3156.36it/s]\n",
            "100%|██████████| 100/100 [00:00<00:00, 1921.03it/s]\n",
            "100%|██████████| 100/100 [00:00<00:00, 2870.84it/s]\n",
            "100%|██████████| 100/100 [00:00<00:00, 2570.32it/s]\n",
            "100%|██████████| 100/100 [00:00<00:00, 3170.97it/s]\n",
            "100%|██████████| 100/100 [00:00<00:00, 3608.47it/s]\n",
            "100%|██████████| 100/100 [00:00<00:00, 3179.82it/s]\n",
            "100%|██████████| 100/100 [00:00<00:00, 3654.12it/s]\n",
            "100%|██████████| 100/100 [00:00<00:00, 3175.89it/s]\n",
            "100%|██████████| 100/100 [00:00<00:00, 3394.05it/s]\n",
            "100%|██████████| 100/100 [00:00<00:00, 4091.96it/s]\n",
            "100%|██████████| 100/100 [00:00<00:00, 4238.30it/s]\n",
            "100%|██████████| 100/100 [00:00<00:00, 4477.22it/s]\n",
            "100%|██████████| 100/100 [00:00<00:00, 4680.93it/s]\n",
            "100%|██████████| 100/100 [00:00<00:00, 4816.06it/s]\n",
            "100%|██████████| 100/100 [00:00<00:00, 3228.52it/s]\n",
            "100%|██████████| 100/100 [00:00<00:00, 1120.54it/s]\n",
            "100%|██████████| 100/100 [00:00<00:00, 1521.74it/s]\n",
            "100%|██████████| 100/100 [00:00<00:00, 2040.68it/s]\n",
            "100%|██████████| 100/100 [00:00<00:00, 2604.07it/s]\n",
            "100%|██████████| 100/100 [00:00<00:00, 7098.40it/s]\n",
            "100%|██████████| 100/100 [00:00<00:00, 3998.84it/s]\n",
            "100%|██████████| 100/100 [00:00<00:00, 3190.90it/s]\n",
            "100%|██████████| 100/100 [00:00<00:00, 3216.54it/s]\n",
            "100%|██████████| 100/100 [00:00<00:00, 3817.86it/s]\n",
            "100%|██████████| 100/100 [00:00<00:00, 3850.53it/s]\n",
            "100%|██████████| 100/100 [00:00<00:00, 4137.70it/s]\n",
            "100%|██████████| 100/100 [00:00<00:00, 4082.41it/s]\n",
            "100%|██████████| 100/100 [00:00<00:00, 3387.72it/s]\n",
            "100%|██████████| 100/100 [00:00<00:00, 4116.26it/s]\n",
            "100%|██████████| 100/100 [00:00<00:00, 2815.12it/s]\n",
            "100%|██████████| 100/100 [00:00<00:00, 2058.26it/s]\n",
            "100%|██████████| 100/100 [00:00<00:00, 2147.71it/s]\n",
            "100%|██████████| 100/100 [00:00<00:00, 1916.90it/s]\n",
            "100%|██████████| 100/100 [00:00<00:00, 1651.38it/s]\n",
            "100%|██████████| 100/100 [00:00<00:00, 1484.69it/s]\n"
          ]
        }
      ]
    },
    {
      "cell_type": "markdown",
      "source": [
        "## Checking the shapes of the data"
      ],
      "metadata": {
        "id": "ETivlaUsQBC2"
      }
    },
    {
      "cell_type": "code",
      "source": [
        "print(f\"Training shape: {td_array.shape}\")\n",
        "print(f\"Validation shape: {val_array.shape}\")\n",
        "print(f\"Testing shape: {test_array.shape}\")"
      ],
      "metadata": {
        "colab": {
          "base_uri": "https://localhost:8080/"
        },
        "id": "8ISjNXvyPxb9",
        "outputId": "923a733e-982e-4e99-a3e0-92dadbec21b8"
      },
      "execution_count": 60,
      "outputs": [
        {
          "output_type": "stream",
          "name": "stdout",
          "text": [
            "Training shape: (192000, 28, 28)\n",
            "Validation shape: (48000, 28, 28)\n",
            "Testing shape: (60000, 28, 28)\n"
          ]
        }
      ]
    },
    {
      "cell_type": "markdown",
      "source": [
        "## Checking the shapes of the labels"
      ],
      "metadata": {
        "id": "EM8aMC_aQD1X"
      }
    },
    {
      "cell_type": "code",
      "source": [
        "print(f\"Training shape: {np.array(label_y).shape}\")\n",
        "print(f\"Validation shape: {np.array(val_y).shape}\")\n",
        "print(f\"Testing shape: {np.array(test_y).shape}\")"
      ],
      "metadata": {
        "colab": {
          "base_uri": "https://localhost:8080/"
        },
        "id": "L38jTjDcQHQk",
        "outputId": "d60e26de-e282-428a-c5a5-fd47cc2c9b66"
      },
      "execution_count": 63,
      "outputs": [
        {
          "output_type": "stream",
          "name": "stdout",
          "text": [
            "Training shape: (192000,)\n",
            "Validation shape: (48000,)\n",
            "Testing shape: (60000,)\n"
          ]
        }
      ]
    },
    {
      "cell_type": "markdown",
      "source": [
        "## Visualizing random image from training set"
      ],
      "metadata": {
        "id": "zMUkSwYKQfr6"
      }
    },
    {
      "cell_type": "code",
      "source": [
        "r = random.randint(0, len(td_array))\n",
        "plt.imshow(td_array[r].reshape(28, 28), cmap = \"gray\")\n",
        "print(f\"Label: {label_y[r]}\")"
      ],
      "metadata": {
        "colab": {
          "base_uri": "https://localhost:8080/",
          "height": 283
        },
        "id": "whYjv3E4PY8L",
        "outputId": "b5126f6f-bbc0-4656-a078-33ea8e6ed3ae"
      },
      "execution_count": 65,
      "outputs": [
        {
          "output_type": "stream",
          "name": "stdout",
          "text": [
            "Label: 9\n"
          ]
        },
        {
          "output_type": "display_data",
          "data": {
            "text/plain": [
              "<Figure size 432x288 with 1 Axes>"
            ],
            "image/png": "[encoded data removed]"
          },
          "metadata": {
            "needs_background": "light"
          }
        }
      ]
    },
    {
      "cell_type": "markdown",
      "source": [
        "## Multilabel binarizer for the labels (Function)"
      ],
      "metadata": {
        "id": "VlCOeY9YQ5Qn"
      }
    },
    {
      "cell_type": "code",
      "source": [
        "from sklearn.preprocessing import MultiLabelBinarizer\n",
        "\n",
        "def mlb(labels):# Fit the multi-label binarizer on the training set\n",
        "  mlb = MultiLabelBinarizer()\n",
        "  mlb.fit(labels)\n",
        "  return mlb.transform(labels)"
      ],
      "metadata": {
        "id": "ANHftrdbRDBs"
      },
      "execution_count": 66,
      "outputs": []
    },
    {
      "cell_type": "code",
      "source": [
        "y_train = mlb(label_y)\n",
        "y_test = mlb(test_y)\n",
        "y_val = mlb(val_y)"
      ],
      "metadata": {
        "id": "LzlRS-ZERH-H"
      },
      "execution_count": 67,
      "outputs": []
    },
    {
      "cell_type": "code",
      "source": [
        "print(f\"Train labels : {y_train.shape}\")\n",
        "print(f\"Validation labels : {y_val.shape}\")\n",
        "print(f\"Test labels : {y_test.shape}\")"
      ],
      "metadata": {
        "colab": {
          "base_uri": "https://localhost:8080/"
        },
        "id": "cGkm5LCARKVj",
        "outputId": "5bfbae2b-37bc-447b-90ef-52b938b35498"
      },
      "execution_count": 68,
      "outputs": [
        {
          "output_type": "stream",
          "name": "stdout",
          "text": [
            "Train labels : (192000, 10)\n",
            "Validation labels : (48000, 10)\n",
            "Test labels : (60000, 10)\n"
          ]
        }
      ]
    },
    {
      "cell_type": "markdown",
      "source": [
        "## Reshaping train, test, and val data to feed into the network"
      ],
      "metadata": {
        "id": "ITUU1KJGRg1U"
      }
    },
    {
      "cell_type": "code",
      "source": [
        "X_train = np.array(td_array)\n",
        "X_val = np.array(val_array)\n",
        "X_test = np.array(test_array)\n",
        "\n",
        "X_train = np.array(X_train).reshape(-1,28,28,1)\n",
        "X_test = np.array(X_test).reshape(-1,28,28,1)\n",
        "X_val = np.array(X_val).reshape(-1,28,28,1)\n",
        "\n",
        "# Just finally checking the shapes of the data\n",
        "print(f\"Training shape: {X_train.shape}\")\n",
        "print(f\"Validation shape: {X_val.shape}\")\n",
        "print(f\"Testing shape: {X_test.shape}\")"
      ],
      "metadata": {
        "colab": {
          "base_uri": "https://localhost:8080/"
        },
        "id": "JA84pn9ARl0b",
        "outputId": "7fc81e8d-dad8-4430-ed82-7f6e53313832"
      },
      "execution_count": 69,
      "outputs": [
        {
          "output_type": "stream",
          "name": "stdout",
          "text": [
            "Training shape: (192000, 28, 28, 1)\n",
            "Validation shape: (48000, 28, 28, 1)\n",
            "Testing shape: (60000, 28, 28, 1)\n"
          ]
        }
      ]
    },
    {
      "cell_type": "markdown",
      "source": [
        "# 1. Curating the previous model to fit for this one"
      ],
      "metadata": {
        "id": "o177X8KhR8CW"
      }
    },
    {
      "cell_type": "markdown",
      "source": [
        "## Model building"
      ],
      "metadata": {
        "id": "1xd8G0YlS8bU"
      }
    },
    {
      "cell_type": "code",
      "source": [
        "tf.random.set_seed(42)\n",
        " \n",
        " # Functional API\n",
        " \n",
        " # Input layer\n",
        "input = tf.keras.Input(shape=(28,28,1))\n",
        "\n",
        "flatten = tf.keras.layers.Flatten()\n",
        "dense1 = tf.keras.layers.Dense(64, activation = \"relu\")\n",
        "dense2 = tf.keras.layers.Dense(64, activation = \"relu\")\n",
        "\n",
        "output = tf.keras.layers.Dense(10, activation = \"softmax\")\n",
        "\n",
        "x = flatten(input)\n",
        "x = dense1(x)\n",
        "x = dense2(x)\n",
        "outputs = output(x)\n",
        "\n",
        "# model\n",
        "model = tf.keras.Model(inputs = input, outputs = outputs, name = \"1\")"
      ],
      "metadata": {
        "id": "4eAANB1gSPDo"
      },
      "execution_count": 71,
      "outputs": []
    },
    {
      "cell_type": "markdown",
      "source": [
        "## Summary"
      ],
      "metadata": {
        "id": "-CKyokfhS-wa"
      }
    },
    {
      "cell_type": "code",
      "source": [
        "model.summary()"
      ],
      "metadata": {
        "colab": {
          "base_uri": "https://localhost:8080/"
        },
        "id": "CFXGb6sYSvee",
        "outputId": "bd3cf5d9-b65c-4e67-f705-b387b049b628"
      },
      "execution_count": 72,
      "outputs": [
        {
          "output_type": "stream",
          "name": "stdout",
          "text": [
            "Model: \"1\"\n",
            "_________________________________________________________________\n",
            " Layer (type)                Output Shape              Param #   \n",
            "=================================================================\n",
            " input_7 (InputLayer)        [(None, 28, 28, 1)]       0         \n",
            "                                                                 \n",
            " flatten_6 (Flatten)         (None, 784)               0         \n",
            "                                                                 \n",
            " dense_18 (Dense)            (None, 64)                50240     \n",
            "                                                                 \n",
            " dense_19 (Dense)            (None, 64)                4160      \n",
            "                                                                 \n",
            " dense_20 (Dense)            (None, 10)                650       \n",
            "                                                                 \n",
            "=================================================================\n",
            "Total params: 55,050\n",
            "Trainable params: 55,050\n",
            "Non-trainable params: 0\n",
            "_________________________________________________________________\n"
          ]
        }
      ]
    },
    {
      "cell_type": "markdown",
      "source": [
        "## Model plot"
      ],
      "metadata": {
        "id": "L1QFrc6XTWUo"
      }
    },
    {
      "cell_type": "code",
      "source": [
        "keras.utils.plot_model(model)"
      ],
      "metadata": {
        "colab": {
          "base_uri": "https://localhost:8080/",
          "height": 466
        },
        "id": "DAb9-bXpTXuY",
        "outputId": "52992c46-eaaa-43be-c5ad-853c51e4cd55"
      },
      "execution_count": 75,
      "outputs": [
        {
          "output_type": "execute_result",
          "data": {
            "image/png": "[encoded data removed]",
            "text/plain": [
              "<IPython.core.display.Image object>"
            ]
          },
          "metadata": {},
          "execution_count": 75
        }
      ]
    },
    {
      "cell_type": "markdown",
      "source": [
        "## Compilation"
      ],
      "metadata": {
        "id": "16u78liMS7VY"
      }
    },
    {
      "cell_type": "code",
      "source": [
        "model.compile(optimizer = tf.keras.optimizers.Adam(),\n",
        "             loss = tf.keras.metrics.categorical_crossentropy,\n",
        "             metrics = ['accuracy'])"
      ],
      "metadata": {
        "id": "XunWGVDlSzbY"
      },
      "execution_count": 98,
      "outputs": []
    },
    {
      "cell_type": "markdown",
      "source": [
        "## Fitting"
      ],
      "metadata": {
        "id": "C3zIxBa7TI6m"
      }
    },
    {
      "cell_type": "code",
      "source": [
        "model.fit(X_train, y_train, batch_size=64, epochs=10, validation_data = (X_val, y_val))"
      ],
      "metadata": {
        "colab": {
          "base_uri": "https://localhost:8080/"
        },
        "id": "1w4_z1EuTLNJ",
        "outputId": "491ad84f-f415-4a7a-d2b6-bc8cf28d9230"
      },
      "execution_count": 99,
      "outputs": [
        {
          "output_type": "stream",
          "name": "stdout",
          "text": [
            "Epoch 1/10\n",
            "3000/3000 [==============================] - 11s 4ms/step - loss: 2.3023 - accuracy: 0.1052 - val_loss: 2.3064 - val_accuracy: 0.0958\n",
            "Epoch 2/10\n",
            "3000/3000 [==============================] - 11s 4ms/step - loss: 2.3018 - accuracy: 0.1066 - val_loss: 2.3058 - val_accuracy: 0.0938\n",
            "Epoch 3/10\n",
            "3000/3000 [==============================] - 9s 3ms/step - loss: 2.3018 - accuracy: 0.1069 - val_loss: 2.3064 - val_accuracy: 0.0938\n",
            "Epoch 4/10\n",
            "3000/3000 [==============================] - 9s 3ms/step - loss: 2.3018 - accuracy: 0.1063 - val_loss: 2.3053 - val_accuracy: 0.0938\n",
            "Epoch 5/10\n",
            "3000/3000 [==============================] - 10s 3ms/step - loss: 2.3018 - accuracy: 0.1070 - val_loss: 2.3051 - val_accuracy: 0.0958\n",
            "Epoch 6/10\n",
            "3000/3000 [==============================] - 10s 3ms/step - loss: 2.3019 - accuracy: 0.1068 - val_loss: 2.3066 - val_accuracy: 0.0958\n",
            "Epoch 7/10\n",
            "3000/3000 [==============================] - 9s 3ms/step - loss: 2.3018 - accuracy: 0.1058 - val_loss: 2.3051 - val_accuracy: 0.0938\n",
            "Epoch 8/10\n",
            "3000/3000 [==============================] - 10s 3ms/step - loss: 2.3019 - accuracy: 0.1066 - val_loss: 2.3062 - val_accuracy: 0.0958\n",
            "Epoch 9/10\n",
            "3000/3000 [==============================] - 10s 3ms/step - loss: 2.3018 - accuracy: 0.1066 - val_loss: 2.3059 - val_accuracy: 0.0938\n",
            "Epoch 10/10\n",
            "3000/3000 [==============================] - 10s 3ms/step - loss: 2.3018 - accuracy: 0.1051 - val_loss: 2.3059 - val_accuracy: 0.0938\n"
          ]
        },
        {
          "output_type": "execute_result",
          "data": {
            "text/plain": [
              "<keras.callbacks.History at 0x7f27b5902c50>"
            ]
          },
          "metadata": {},
          "execution_count": 99
        }
      ]
    },
    {
      "cell_type": "markdown",
      "source": [
        "## Evaluation on the test set\n"
      ],
      "metadata": {
        "id": "akhGRpsxT3AF"
      }
    },
    {
      "cell_type": "code",
      "source": [
        "model.evaluate(X_test, y_test)"
      ],
      "metadata": {
        "colab": {
          "base_uri": "https://localhost:8080/"
        },
        "id": "Ao0B-rJqUPjB",
        "outputId": "ff3c419e-1539-4a38-939e-4ca5acab181a"
      },
      "execution_count": 100,
      "outputs": [
        {
          "output_type": "stream",
          "name": "stdout",
          "text": [
            "1875/1875 [==============================] - 5s 2ms/step - loss: 2.3073 - accuracy: 0.0833\n"
          ]
        },
        {
          "output_type": "execute_result",
          "data": {
            "text/plain": [
              "[2.3072662353515625, 0.0833333358168602]"
            ]
          },
          "metadata": {},
          "execution_count": 100
        }
      ]
    },
    {
      "cell_type": "markdown",
      "source": [
        "## Time to predict first 50 test samples"
      ],
      "metadata": {
        "id": "I_g8QkVcUT0-"
      }
    },
    {
      "cell_type": "code",
      "source": [
        "start = time.time()\n",
        "y_pred_one = model.predict(X_test[:50][:][:])\n",
        "end = time.time()\n",
        "print(f\"Time taken : {end-start}\")"
      ],
      "metadata": {
        "colab": {
          "base_uri": "https://localhost:8080/"
        },
        "id": "tAcPYOB6Zovu",
        "outputId": "c578875c-cc21-4584-bc57-24ef0c3d4724"
      },
      "execution_count": 103,
      "outputs": [
        {
          "output_type": "stream",
          "name": "stdout",
          "text": [
            "2/2 [==============================] - 0s 8ms/step\n",
            "Time taken : 0.10498452186584473\n"
          ]
        }
      ]
    },
    {
      "cell_type": "markdown",
      "source": [
        "## Observation:\n",
        "- ### `Time taken :  0.1049` sec\n",
        "- ###  `Accuracy : 8 %`\n",
        "- ### `Total and Trainale Parameters : 55,050 ` (from the model summary)"
      ],
      "metadata": {
        "id": "w6KHN0EtVC4W"
      }
    },
    {
      "cell_type": "markdown",
      "source": [
        "## 2. CNN model"
      ],
      "metadata": {
        "id": "NCAG8EUHU9se"
      }
    },
    {
      "cell_type": "code",
      "source": [
        "# random seed for reproducibility\n",
        "tf.random.set_seed(42)\n",
        "\n",
        "# number of unique labels\n",
        "num_classes = 10\n",
        "\n",
        "# input shape\n",
        "input_shape = (28, 28, 1)\n",
        "\n",
        "# CNN model using tensorflow's keras sequential api\n",
        "model_cnn = keras.Sequential(\n",
        "    [\n",
        "        keras.Input(shape=input_shape),\n",
        "        keras.layers.Conv2D(32, kernel_size=(3, 3), activation=\"leaky_relu\"),\n",
        "        keras.layers.MaxPooling2D(pool_size=(2, 2)),\n",
        "     \n",
        "        # batch normalization\n",
        "        keras.layers.BatchNormalization(),\n",
        "     \n",
        "        keras.layers.Conv2D(16, kernel_size=(3, 3), activation=\"leaky_relu\"),\n",
        "        keras.layers.MaxPooling2D(pool_size=(2, 2)),\n",
        "     \n",
        "        # batch normalization\n",
        "        keras.layers.BatchNormalization(),\n",
        "     \n",
        "        keras.layers.Conv2D(16, kernel_size=(3, 3), activation=\"leaky_relu\"),\n",
        "        keras.layers.MaxPooling2D(pool_size=(2, 2)),\n",
        "     \n",
        "        # batch normalization\n",
        "        keras.layers.BatchNormalization(),\n",
        "     \n",
        "        keras.layers.Dense(10, activation = \"leaky_relu\"),\n",
        "     \n",
        "        keras.layers.Flatten(),\n",
        "     \n",
        "        # drop out regularization\n",
        "        keras.layers.Dropout(0.5),\n",
        "        keras.layers.Dense(num_classes, activation=\"softmax\"),\n",
        "    ]\n",
        ")"
      ],
      "metadata": {
        "id": "2d2pV30vU_47"
      },
      "execution_count": 89,
      "outputs": []
    },
    {
      "cell_type": "markdown",
      "source": [
        "## Summary"
      ],
      "metadata": {
        "id": "aOC9a0cIWLI7"
      }
    },
    {
      "cell_type": "code",
      "source": [
        "model_cnn.summary()"
      ],
      "metadata": {
        "colab": {
          "base_uri": "https://localhost:8080/"
        },
        "id": "7zzJLy4cWMsq",
        "outputId": "77a93b10-62cc-407a-b748-e899debf105b"
      },
      "execution_count": 90,
      "outputs": [
        {
          "output_type": "stream",
          "name": "stdout",
          "text": [
            "Model: \"sequential_2\"\n",
            "_________________________________________________________________\n",
            " Layer (type)                Output Shape              Param #   \n",
            "=================================================================\n",
            " conv2d_6 (Conv2D)           (None, 26, 26, 32)        320       \n",
            "                                                                 \n",
            " max_pooling2d_6 (MaxPooling  (None, 13, 13, 32)       0         \n",
            " 2D)                                                             \n",
            "                                                                 \n",
            " batch_normalization_6 (Batc  (None, 13, 13, 32)       128       \n",
            " hNormalization)                                                 \n",
            "                                                                 \n",
            " conv2d_7 (Conv2D)           (None, 11, 11, 16)        4624      \n",
            "                                                                 \n",
            " max_pooling2d_7 (MaxPooling  (None, 5, 5, 16)         0         \n",
            " 2D)                                                             \n",
            "                                                                 \n",
            " batch_normalization_7 (Batc  (None, 5, 5, 16)         64        \n",
            " hNormalization)                                                 \n",
            "                                                                 \n",
            " conv2d_8 (Conv2D)           (None, 3, 3, 16)          2320      \n",
            "                                                                 \n",
            " max_pooling2d_8 (MaxPooling  (None, 1, 1, 16)         0         \n",
            " 2D)                                                             \n",
            "                                                                 \n",
            " batch_normalization_8 (Batc  (None, 1, 1, 16)         64        \n",
            " hNormalization)                                                 \n",
            "                                                                 \n",
            " dense_25 (Dense)            (None, 1, 1, 10)          170       \n",
            "                                                                 \n",
            " flatten_9 (Flatten)         (None, 10)                0         \n",
            "                                                                 \n",
            " dropout_2 (Dropout)         (None, 10)                0         \n",
            "                                                                 \n",
            " dense_26 (Dense)            (None, 10)                110       \n",
            "                                                                 \n",
            "=================================================================\n",
            "Total params: 7,800\n",
            "Trainable params: 7,672\n",
            "Non-trainable params: 128\n",
            "_________________________________________________________________\n"
          ]
        }
      ]
    },
    {
      "cell_type": "markdown",
      "source": [
        "## Model Plot"
      ],
      "metadata": {
        "id": "zv046jfJXRV6"
      }
    },
    {
      "cell_type": "code",
      "source": [
        "keras.utils.plot_model(model_cnn)"
      ],
      "metadata": {
        "colab": {
          "base_uri": "https://localhost:8080/",
          "height": 1000
        },
        "id": "fmTCoviqXS-M",
        "outputId": "0ee1b96a-d5cf-4c0f-bc40-0f1c7b86ee5a"
      },
      "execution_count": 92,
      "outputs": [
        {
          "output_type": "execute_result",
          "data": {
            "image/png": "[encoded data removed]",
            "text/plain": [
              "<IPython.core.display.Image object>"
            ]
          },
          "metadata": {},
          "execution_count": 92
        }
      ]
    },
    {
      "cell_type": "markdown",
      "source": [
        "## Compilation"
      ],
      "metadata": {
        "id": "GJd06urjWS9p"
      }
    },
    {
      "cell_type": "code",
      "source": [
        "model_cnn.compile(optimizer = tf.keras.optimizers.Adam(),\n",
        "             loss = tf.keras.metrics.categorical_crossentropy,\n",
        "             metrics = ['accuracy'])"
      ],
      "metadata": {
        "id": "vQ_x-bMTWUlt"
      },
      "execution_count": 105,
      "outputs": []
    },
    {
      "cell_type": "markdown",
      "source": [
        "## Fitting"
      ],
      "metadata": {
        "id": "s9PVoz_SWiH5"
      }
    },
    {
      "cell_type": "code",
      "source": [
        "history = model_cnn.fit(X_train, y_train, batch_size=64, epochs=10, validation_data = (X_val, y_val))"
      ],
      "metadata": {
        "colab": {
          "base_uri": "https://localhost:8080/"
        },
        "id": "lNzU3B6uWZV_",
        "outputId": "d8889272-85b5-4ff5-9879-a9e9d849474c"
      },
      "execution_count": 106,
      "outputs": [
        {
          "output_type": "stream",
          "name": "stdout",
          "text": [
            "Epoch 1/10\n",
            "3000/3000 [==============================] - 15s 5ms/step - loss: 0.7427 - accuracy: 0.7400 - val_loss: 0.4389 - val_accuracy: 0.8600\n",
            "Epoch 2/10\n",
            "3000/3000 [==============================] - 13s 4ms/step - loss: 0.7246 - accuracy: 0.7461 - val_loss: 0.4338 - val_accuracy: 0.8632\n",
            "Epoch 3/10\n",
            "3000/3000 [==============================] - 14s 5ms/step - loss: 0.7220 - accuracy: 0.7465 - val_loss: 0.4294 - val_accuracy: 0.8631\n",
            "Epoch 4/10\n",
            "3000/3000 [==============================] - 14s 5ms/step - loss: 0.7158 - accuracy: 0.7489 - val_loss: 0.4281 - val_accuracy: 0.8614\n",
            "Epoch 5/10\n",
            "3000/3000 [==============================] - 14s 5ms/step - loss: 0.7168 - accuracy: 0.7480 - val_loss: 0.4259 - val_accuracy: 0.8655\n",
            "Epoch 6/10\n",
            "3000/3000 [==============================] - 13s 4ms/step - loss: 0.7161 - accuracy: 0.7494 - val_loss: 0.4278 - val_accuracy: 0.8616\n",
            "Epoch 7/10\n",
            "3000/3000 [==============================] - 14s 5ms/step - loss: 0.7101 - accuracy: 0.7515 - val_loss: 0.4237 - val_accuracy: 0.8651\n",
            "Epoch 8/10\n",
            "3000/3000 [==============================] - 16s 5ms/step - loss: 0.7078 - accuracy: 0.7512 - val_loss: 0.4234 - val_accuracy: 0.8646\n",
            "Epoch 9/10\n",
            "3000/3000 [==============================] - 18s 6ms/step - loss: 0.7093 - accuracy: 0.7493 - val_loss: 0.4233 - val_accuracy: 0.8650\n",
            "Epoch 10/10\n",
            "3000/3000 [==============================] - 16s 5ms/step - loss: 0.7065 - accuracy: 0.7517 - val_loss: 0.4229 - val_accuracy: 0.8657\n"
          ]
        }
      ]
    },
    {
      "cell_type": "markdown",
      "source": [
        "## Evaluation on the test set"
      ],
      "metadata": {
        "id": "q8JiHayeXC0R"
      }
    },
    {
      "cell_type": "code",
      "source": [
        "model_cnn.evaluate(X_test, y_test)"
      ],
      "metadata": {
        "colab": {
          "base_uri": "https://localhost:8080/"
        },
        "id": "vE3rYl_tXB-0",
        "outputId": "c3f33dfc-d131-4784-d6a3-9b7923a60051"
      },
      "execution_count": 107,
      "outputs": [
        {
          "output_type": "stream",
          "name": "stdout",
          "text": [
            "1875/1875 [==============================] - 6s 3ms/step - loss: 0.4256 - accuracy: 0.8670\n"
          ]
        },
        {
          "output_type": "execute_result",
          "data": {
            "text/plain": [
              "[0.42555588483810425, 0.8669999837875366]"
            ]
          },
          "metadata": {},
          "execution_count": 107
        }
      ]
    },
    {
      "cell_type": "markdown",
      "source": [
        "## Predicting first 50 test samples and timing it"
      ],
      "metadata": {
        "id": "30v1F_WnZyqg"
      }
    },
    {
      "cell_type": "code",
      "source": [
        "start = time.time()\n",
        "y_pred_one = model_cnn.predict(X_test[:50][:][:])\n",
        "end = time.time()\n",
        "print(f\"Time taken : {end-start}\")"
      ],
      "metadata": {
        "colab": {
          "base_uri": "https://localhost:8080/"
        },
        "id": "7WjjE0AdZ3Mh",
        "outputId": "a8269286-acb5-4eba-b015-a7b37ed0ef7a"
      },
      "execution_count": 104,
      "outputs": [
        {
          "output_type": "stream",
          "name": "stdout",
          "text": [
            "2/2 [==============================] - 0s 81ms/step\n",
            "Time taken : 0.39960622787475586\n"
          ]
        }
      ]
    },
    {
      "cell_type": "markdown",
      "source": [
        "## Observation:\n",
        "- ### `Time taken :  0.3996` sec\n",
        "- ###  `Accuracy : 86%`\n",
        "- ### `Total and Trainale Parameters : 7800, 7672 respectively ` (from the model summary)"
      ],
      "metadata": {
        "id": "lzDKqUw_ZxB7"
      }
    },
    {
      "cell_type": "markdown",
      "source": [
        "# Conclusion: CNN performs better overall with 86% accuracy on 10 epochs, that is 78% more than simple ANN"
      ],
      "metadata": {
        "id": "rKn_Uay8aaip"
      }
    },
    {
      "cell_type": "markdown",
      "source": [
        "### Questions\n",
        "1. What preprocessing techniques did you use? Why?\n",
        "**Answer :**\n",
        "****\n",
        "    - I used splitting of the image also known as image slicing to get the \n",
        "      region of the interest, from there I used contour creation for bounding\n",
        "      box to extract single images. I did because on making it multi-label\n",
        "      classification, the model was not learning, hence I decided to classify \n",
        "      them individually\n",
        "\n",
        "    - For labels I extracted the respective position of the digit in the image \n",
        "      directory name to get the label for the individual digit\n",
        "\n",
        "2. What data augmentation techniques did you use?\n",
        "**Answer:**\n",
        "****\n",
        "    There were enough data points already, but since I did image slicing it \n",
        "    increased the image dataset. No particular additional artifical data    \n",
        "    augmentation was required.\n",
        "3. Describe the fine-tuning process and how you reached your final CNN model.\n",
        "**Answer:**\n",
        "**** \n",
        "    I tried stacking multiple Convolutional layers, even LSTMS on the top of  \n",
        "    them, but they were more or less producing similar results to my final cnn\n",
        "    model that is in this notebook. I find it unecessary to complicate it, if \n",
        "    I can get good results with the simplest possible."
      ],
      "metadata": {
        "collapsed": false,
        "pycharm": {
          "name": "#%% md\n"
        },
        "id": "9sns3ofCTX-i"
      }
    },
    {
      "cell_type": "markdown",
      "source": [
        "# Task 3: Decision Trees and Ensemble Learning (15%)\n",
        "\n",
        "For the `loan_data.csv` data, predict if the bank should give a loan or not.\n",
        "You need to do the following:\n",
        "- Fine-tune a decision tree on the data\n",
        "- Fine-tune a random forest on the data\n",
        "- Compare their performance\n",
        "- Visualize your DT and one of the trees from the RF\n",
        "\n",
        "For evaluating your models, do $80/20$ train test split.\n",
        "\n",
        "### Data\n",
        "- `credit.policy`: Whether the customer meets the credit underwriting criteria.\n",
        "- `purpose`: The purpose of the loan.\n",
        "- `int.rate`: The interest rate of the loan.\n",
        "- `installment`: The monthly installments owed by the borrower if the loan is funded.\n",
        "- `log.annual.inc`: The natural logarithm of the self-reported annual income of the borrower.\n",
        "- `dti`: The debt-to-income ratio of the borrower.\n",
        "- `fico`: The FICO credit score of the borrower.\n",
        "- `days.with.cr.line`: The number of days the borrower has had a credit line.\n",
        "- `revol.bal`: The borrower's revolving balance.\n",
        "- `revol.util`: The borrower's revolving line utilization rate."
      ],
      "metadata": {
        "collapsed": false,
        "pycharm": {
          "name": "#%% md\n"
        },
        "id": "B8IOrqgATX-j"
      }
    },
    {
      "cell_type": "markdown",
      "source": [
        "# Importing data"
      ],
      "metadata": {
        "id": "0D_8VGEOdy24"
      }
    },
    {
      "cell_type": "code",
      "execution_count": 108,
      "outputs": [],
      "source": [
        "df = pd.read_csv(\"/content/loan_data.csv\")"
      ],
      "metadata": {
        "pycharm": {
          "name": "#%%\n"
        },
        "id": "e34YnFnLTX-l"
      }
    },
    {
      "cell_type": "markdown",
      "source": [
        "## Looking the data"
      ],
      "metadata": {
        "id": "QLsudzQoeER2"
      }
    },
    {
      "cell_type": "code",
      "source": [
        "df.head()"
      ],
      "metadata": {
        "colab": {
          "base_uri": "https://localhost:8080/",
          "height": 206
        },
        "id": "rvjsyjiIeGSO",
        "outputId": "69772edc-5886-44f2-ddfc-670a1759c5ba"
      },
      "execution_count": 109,
      "outputs": [
        {
          "output_type": "execute_result",
          "data": {
            "text/plain": [
              "   credit.policy             purpose  int.rate  installment  log.annual.inc  \\\n",
              "0              1  debt_consolidation    0.1189       829.10       11.350407   \n",
              "1              1         credit_card    0.1071       228.22       11.082143   \n",
              "2              1  debt_consolidation    0.1357       366.86       10.373491   \n",
              "3              1  debt_consolidation    0.1008       162.34       11.350407   \n",
              "4              1         credit_card    0.1426       102.92       11.299732   \n",
              "\n",
              "     dti  fico  days.with.cr.line  revol.bal  revol.util  inq.last.6mths  \\\n",
              "0  19.48   737        5639.958333      28854        52.1               0   \n",
              "1  14.29   707        2760.000000      33623        76.7               0   \n",
              "2  11.63   682        4710.000000       3511        25.6               1   \n",
              "3   8.10   712        2699.958333      33667        73.2               1   \n",
              "4  14.97   667        4066.000000       4740        39.5               0   \n",
              "\n",
              "   delinq.2yrs  pub.rec  not.fully.paid  \n",
              "0            0        0               0  \n",
              "1            0        0               0  \n",
              "2            0        0               0  \n",
              "3            0        0               0  \n",
              "4            1        0               0  "
            ],
            "text/html": [
              "\n",
              "  <div id=\"df-5664c6e8-b813-47fd-91a7-b48ac99e26ad\">\n",
              "    <div class=\"colab-df-container\">\n",
              "      <div>\n",
              "<style scoped>\n",
              "    .dataframe tbody tr th:only-of-type {\n",
              "        vertical-align: middle;\n",
              "    }\n",
              "\n",
              "    .dataframe tbody tr th {\n",
              "        vertical-align: top;\n",
              "    }\n",
              "\n",
              "    .dataframe thead th {\n",
              "        text-align: right;\n",
              "    }\n",
              "</style>\n",
              "<table border=\"1\" class=\"dataframe\">\n",
              "  <thead>\n",
              "    <tr style=\"text-align: right;\">\n",
              "      <th></th>\n",
              "      <th>credit.policy</th>\n",
              "      <th>purpose</th>\n",
              "      <th>int.rate</th>\n",
              "      <th>installment</th>\n",
              "      <th>log.annual.inc</th>\n",
              "      <th>dti</th>\n",
              "      <th>fico</th>\n",
              "      <th>days.with.cr.line</th>\n",
              "      <th>revol.bal</th>\n",
              "      <th>revol.util</th>\n",
              "      <th>inq.last.6mths</th>\n",
              "      <th>delinq.2yrs</th>\n",
              "      <th>pub.rec</th>\n",
              "      <th>not.fully.paid</th>\n",
              "    </tr>\n",
              "  </thead>\n",
              "  <tbody>\n",
              "    <tr>\n",
              "      <th>0</th>\n",
              "      <td>1</td>\n",
              "      <td>debt_consolidation</td>\n",
              "      <td>0.1189</td>\n",
              "      <td>829.10</td>\n",
              "      <td>11.350407</td>\n",
              "      <td>19.48</td>\n",
              "      <td>737</td>\n",
              "      <td>5639.958333</td>\n",
              "      <td>28854</td>\n",
              "      <td>52.1</td>\n",
              "      <td>0</td>\n",
              "      <td>0</td>\n",
              "      <td>0</td>\n",
              "      <td>0</td>\n",
              "    </tr>\n",
              "    <tr>\n",
              "      <th>1</th>\n",
              "      <td>1</td>\n",
              "      <td>credit_card</td>\n",
              "      <td>0.1071</td>\n",
              "      <td>228.22</td>\n",
              "      <td>11.082143</td>\n",
              "      <td>14.29</td>\n",
              "      <td>707</td>\n",
              "      <td>2760.000000</td>\n",
              "      <td>33623</td>\n",
              "      <td>76.7</td>\n",
              "      <td>0</td>\n",
              "      <td>0</td>\n",
              "      <td>0</td>\n",
              "      <td>0</td>\n",
              "    </tr>\n",
              "    <tr>\n",
              "      <th>2</th>\n",
              "      <td>1</td>\n",
              "      <td>debt_consolidation</td>\n",
              "      <td>0.1357</td>\n",
              "      <td>366.86</td>\n",
              "      <td>10.373491</td>\n",
              "      <td>11.63</td>\n",
              "      <td>682</td>\n",
              "      <td>4710.000000</td>\n",
              "      <td>3511</td>\n",
              "      <td>25.6</td>\n",
              "      <td>1</td>\n",
              "      <td>0</td>\n",
              "      <td>0</td>\n",
              "      <td>0</td>\n",
              "    </tr>\n",
              "    <tr>\n",
              "      <th>3</th>\n",
              "      <td>1</td>\n",
              "      <td>debt_consolidation</td>\n",
              "      <td>0.1008</td>\n",
              "      <td>162.34</td>\n",
              "      <td>11.350407</td>\n",
              "      <td>8.10</td>\n",
              "      <td>712</td>\n",
              "      <td>2699.958333</td>\n",
              "      <td>33667</td>\n",
              "      <td>73.2</td>\n",
              "      <td>1</td>\n",
              "      <td>0</td>\n",
              "      <td>0</td>\n",
              "      <td>0</td>\n",
              "    </tr>\n",
              "    <tr>\n",
              "      <th>4</th>\n",
              "      <td>1</td>\n",
              "      <td>credit_card</td>\n",
              "      <td>0.1426</td>\n",
              "      <td>102.92</td>\n",
              "      <td>11.299732</td>\n",
              "      <td>14.97</td>\n",
              "      <td>667</td>\n",
              "      <td>4066.000000</td>\n",
              "      <td>4740</td>\n",
              "      <td>39.5</td>\n",
              "      <td>0</td>\n",
              "      <td>1</td>\n",
              "      <td>0</td>\n",
              "      <td>0</td>\n",
              "    </tr>\n",
              "  </tbody>\n",
              "</table>\n",
              "</div>\n",
              "      <button class=\"colab-df-convert\" onclick=\"convertToInteractive('df-5664c6e8-b813-47fd-91a7-b48ac99e26ad')\"\n",
              "              title=\"Convert this dataframe to an interactive table.\"\n",
              "              style=\"display:none;\">\n",
              "        \n",
              "  <svg xmlns=\"http://www.w3.org/2000/svg\" height=\"24px\"viewBox=\"0 0 24 24\"\n",
              "       width=\"24px\">\n",
              "    <path d=\"M0 0h24v24H0V0z\" fill=\"none\"/>\n",
              "    <path d=\"M18.56 5.44l.94 2.06.94-2.06 2.06-.94-2.06-.94-.94-2.06-.94 2.06-2.06.94zm-11 1L8.5 8.5l.94-2.06 2.06-.94-2.06-.94L8.5 2.5l-.94 2.06-2.06.94zm10 10l.94 2.06.94-2.06 2.06-.94-2.06-.94-.94-2.06-.94 2.06-2.06.94z\"/><path d=\"M17.41 7.96l-1.37-1.37c-.4-.4-.92-.59-1.43-.59-.52 0-1.04.2-1.43.59L10.3 9.45l-7.72 7.72c-.78.78-.78 2.05 0 2.83L4 21.41c.39.39.9.59 1.41.59.51 0 1.02-.2 1.41-.59l7.78-7.78 2.81-2.81c.8-.78.8-2.07 0-2.86zM5.41 20L4 18.59l7.72-7.72 1.47 1.35L5.41 20z\"/>\n",
              "  </svg>\n",
              "      </button>\n",
              "      \n",
              "  <style>\n",
              "    .colab-df-container {\n",
              "      display:flex;\n",
              "      flex-wrap:wrap;\n",
              "      gap: 12px;\n",
              "    }\n",
              "\n",
              "    .colab-df-convert {\n",
              "      background-color: #E8F0FE;\n",
              "      border: none;\n",
              "      border-radius: 50%;\n",
              "      cursor: pointer;\n",
              "      display: none;\n",
              "      fill: #1967D2;\n",
              "      height: 32px;\n",
              "      padding: 0 0 0 0;\n",
              "      width: 32px;\n",
              "    }\n",
              "\n",
              "    .colab-df-convert:hover {\n",
              "      background-color: #E2EBFA;\n",
              "      box-shadow: 0px 1px 2px rgba(60, 64, 67, 0.3), 0px 1px 3px 1px rgba(60, 64, 67, 0.15);\n",
              "      fill: #174EA6;\n",
              "    }\n",
              "\n",
              "    [theme=dark] .colab-df-convert {\n",
              "      background-color: #3B4455;\n",
              "      fill: #D2E3FC;\n",
              "    }\n",
              "\n",
              "    [theme=dark] .colab-df-convert:hover {\n",
              "      background-color: #434B5C;\n",
              "      box-shadow: 0px 1px 3px 1px rgba(0, 0, 0, 0.15);\n",
              "      filter: drop-shadow(0px 1px 2px rgba(0, 0, 0, 0.3));\n",
              "      fill: #FFFFFF;\n",
              "    }\n",
              "  </style>\n",
              "\n",
              "      <script>\n",
              "        const buttonEl =\n",
              "          document.querySelector('#df-5664c6e8-b813-47fd-91a7-b48ac99e26ad button.colab-df-convert');\n",
              "        buttonEl.style.display =\n",
              "          google.colab.kernel.accessAllowed ? 'block' : 'none';\n",
              "\n",
              "        async function convertToInteractive(key) {\n",
              "          const element = document.querySelector('#df-5664c6e8-b813-47fd-91a7-b48ac99e26ad');\n",
              "          const dataTable =\n",
              "            await google.colab.kernel.invokeFunction('convertToInteractive',\n",
              "                                                     [key], {});\n",
              "          if (!dataTable) return;\n",
              "\n",
              "          const docLinkHtml = 'Like what you see? Visit the ' +\n",
              "            '<a target=\"_blank\" href=https://colab.research.google.com/notebooks/data_table.ipynb>data table notebook</a>'\n",
              "            + ' to learn more about interactive tables.';\n",
              "          element.innerHTML = '';\n",
              "          dataTable['output_type'] = 'display_data';\n",
              "          await google.colab.output.renderOutput(dataTable, element);\n",
              "          const docLink = document.createElement('div');\n",
              "          docLink.innerHTML = docLinkHtml;\n",
              "          element.appendChild(docLink);\n",
              "        }\n",
              "      </script>\n",
              "    </div>\n",
              "  </div>\n",
              "  "
            ]
          },
          "metadata": {},
          "execution_count": 109
        }
      ]
    },
    {
      "cell_type": "markdown",
      "source": [
        "## Looking the target column and it's values"
      ],
      "metadata": {
        "id": "X-qmZSzDeSPN"
      }
    },
    {
      "cell_type": "code",
      "source": [
        "df[\"credit.policy\"].value_counts().plot(kind = \"bar\")"
      ],
      "metadata": {
        "colab": {
          "base_uri": "https://localhost:8080/",
          "height": 281
        },
        "id": "9M4pFJUWeQqW",
        "outputId": "314b4548-a3d3-4229-a794-3433a6282273"
      },
      "execution_count": 112,
      "outputs": [
        {
          "output_type": "execute_result",
          "data": {
            "text/plain": [
              "<matplotlib.axes._subplots.AxesSubplot at 0x7f27bb051850>"
            ]
          },
          "metadata": {},
          "execution_count": 112
        },
        {
          "output_type": "display_data",
          "data": {
            "text/plain": [
              "<Figure size 432x288 with 1 Axes>"
            ],
            "image/png": "[encoded data removed]"
          },
          "metadata": {
            "needs_background": "light"
          }
        }
      ]
    },
    {
      "cell_type": "markdown",
      "source": [
        "## Non numerical column processing"
      ],
      "metadata": {
        "id": "qOrsk6KtesLY"
      }
    },
    {
      "cell_type": "code",
      "source": [
        "from sklearn.preprocessing import OrdinalEncoder\n",
        "\n",
        "enc = OrdinalEncoder()\n",
        "\n",
        "df[\"purpose\"] = enc.fit_transform(df[[\"purpose\"]])"
      ],
      "metadata": {
        "id": "nBPBT0bcenxp"
      },
      "execution_count": 113,
      "outputs": []
    },
    {
      "cell_type": "markdown",
      "source": [
        "## Correlation matrix (with the target)"
      ],
      "metadata": {
        "id": "Xum5f2l4e3ar"
      }
    },
    {
      "cell_type": "code",
      "source": [
        "corr_matrix = df.corr()\n",
        "corr_matrix[\"credit.policy\"].sort_values(ascending=False)"
      ],
      "metadata": {
        "colab": {
          "base_uri": "https://localhost:8080/"
        },
        "id": "yKWvt6Nzevav",
        "outputId": "6aca5f0a-866b-4832-879e-39711518ff17"
      },
      "execution_count": 114,
      "outputs": [
        {
          "output_type": "execute_result",
          "data": {
            "text/plain": [
              "credit.policy        1.000000\n",
              "fico                 0.348319\n",
              "days.with.cr.line    0.099026\n",
              "installment          0.058770\n",
              "log.annual.inc       0.034906\n",
              "purpose              0.017569\n",
              "pub.rec             -0.054243\n",
              "delinq.2yrs         -0.076318\n",
              "dti                 -0.090901\n",
              "revol.util          -0.104095\n",
              "not.fully.paid      -0.158119\n",
              "revol.bal           -0.187518\n",
              "int.rate            -0.294089\n",
              "inq.last.6mths      -0.535511\n",
              "Name: credit.policy, dtype: float64"
            ]
          },
          "metadata": {},
          "execution_count": 114
        }
      ]
    },
    {
      "cell_type": "markdown",
      "source": [
        "## Splitting target from the data"
      ],
      "metadata": {
        "id": "FHCL3VkrfI6M"
      }
    },
    {
      "cell_type": "code",
      "source": [
        "y = df['credit.policy']\n",
        "X = df.drop(['credit.policy'], axis=1)"
      ],
      "metadata": {
        "id": "JaulARDbfLX4"
      },
      "execution_count": 115,
      "outputs": []
    },
    {
      "cell_type": "markdown",
      "source": [
        "## Scaling (standard scalar)"
      ],
      "metadata": {
        "id": "aEsl28LofOZO"
      }
    },
    {
      "cell_type": "code",
      "source": [
        "from sklearn.pipeline import Pipeline\n",
        "from sklearn.preprocessing import StandardScaler\n",
        "\n",
        "pipeline = Pipeline([\n",
        "    ('std_scaler', StandardScaler()),\n",
        "])\n",
        "\n",
        "X = pipeline.fit_transform(X)"
      ],
      "metadata": {
        "id": "GtyP0-sffQxc"
      },
      "execution_count": 116,
      "outputs": []
    },
    {
      "cell_type": "markdown",
      "source": [
        "## Train test split"
      ],
      "metadata": {
        "id": "ccm9dV9jfTUp"
      }
    },
    {
      "cell_type": "code",
      "source": [
        "from sklearn.model_selection import train_test_split\n",
        "\n",
        "# 80/20 train test split\n",
        "X_train, X_test, y_train, y_test = train_test_split(X, y, test_size = 0.2, random_state=42)"
      ],
      "metadata": {
        "id": "LiA0G0qbfVLD"
      },
      "execution_count": 124,
      "outputs": []
    },
    {
      "cell_type": "markdown",
      "source": [
        "# 1. Decision tree classifier"
      ],
      "metadata": {
        "id": "ul-37nBVfX61"
      }
    },
    {
      "cell_type": "code",
      "source": [
        "from sklearn.tree import DecisionTreeClassifier\n",
        "from sklearn.metrics import accuracy_score\n",
        "\n",
        "decision_clf = DecisionTreeClassifier(random_state=42)\n",
        "\n",
        "decision_clf.fit(X_train, y_train)"
      ],
      "metadata": {
        "colab": {
          "base_uri": "https://localhost:8080/"
        },
        "id": "M1qv2F_KfaLl",
        "outputId": "29ad8a47-ed4c-4d86-f61f-5c6f9ac0e9b9"
      },
      "execution_count": 125,
      "outputs": [
        {
          "output_type": "execute_result",
          "data": {
            "text/plain": [
              "DecisionTreeClassifier(random_state=42)"
            ]
          },
          "metadata": {},
          "execution_count": 125
        }
      ]
    },
    {
      "cell_type": "markdown",
      "source": [
        "## Evaluation function"
      ],
      "metadata": {
        "id": "lDLBt-wNfdXv"
      }
    },
    {
      "cell_type": "code",
      "source": [
        "def evaluate(model, X_test, y_test):\n",
        "    predictions = model.predict(X_test)  \n",
        "    accuracy = accuracy_score(y_test, predictions)*100\n",
        "    print('Model Performance') \n",
        "    print('Accuracy = {:0.2f}%.'.format(accuracy))\n",
        "    return accuracy"
      ],
      "metadata": {
        "id": "3ZnwoSBbffZI"
      },
      "execution_count": 126,
      "outputs": []
    },
    {
      "cell_type": "markdown",
      "source": [
        "## GridSearchCV to find best parameters"
      ],
      "metadata": {
        "id": "3sJsvCnsfiWp"
      }
    },
    {
      "cell_type": "code",
      "source": [
        "from sklearn.model_selection import GridSearchCV\n",
        "\n",
        "params = {\n",
        "    'criterion':  ['gini', 'entropy'],\n",
        "    'max_depth':  [None, 2, 4, 6, 8, 9,10,12,14,16,18,20],\n",
        "    'max_features': [None,'sqrt', 'log2', 0.2, 0.4, 0.6, 0.8,1,2,3],\n",
        "    'splitter': ['best', 'random']\n",
        "}\n",
        "\n",
        "decision_grid = GridSearchCV(\n",
        "    estimator = DecisionTreeClassifier(random_state=42),\n",
        "    param_grid=params,\n",
        "    cv=5,\n",
        "    n_jobs=5, \n",
        ")\n",
        "\n",
        "decision_grid.fit(X_train, y_train)\n",
        "print(decision_grid.best_params_)"
      ],
      "metadata": {
        "colab": {
          "base_uri": "https://localhost:8080/"
        },
        "id": "YPgpz1Q_fklR",
        "outputId": "8868c4ec-abb5-4bff-e09e-bb1812811d3c"
      },
      "execution_count": 127,
      "outputs": [
        {
          "output_type": "stream",
          "name": "stdout",
          "text": [
            "{'criterion': 'entropy', 'max_depth': 9, 'max_features': None, 'splitter': 'best'}\n"
          ]
        }
      ]
    },
    {
      "cell_type": "code",
      "source": [
        "print(\"-------base_decision_clf------------\") \n",
        "base_accuracy = evaluate(decision_clf, X_test, y_test)\n",
        "\n",
        "print(\"-------best_grid_decision_clf--------\")\n",
        "best_grid = decision_grid.best_estimator_\n",
        "random_accuracy = evaluate(best_grid, X_test, y_test)"
      ],
      "metadata": {
        "colab": {
          "base_uri": "https://localhost:8080/"
        },
        "id": "x3qr0Swxft7m",
        "outputId": "09bfe991-932b-4090-cb3e-1934cdc71fd7"
      },
      "execution_count": 128,
      "outputs": [
        {
          "output_type": "stream",
          "name": "stdout",
          "text": [
            "-------base_decision_clf------------\n",
            "Model Performance\n",
            "Accuracy = 99.11%.\n",
            "-------best_grid_decision_clf--------\n",
            "Model Performance\n",
            "Accuracy = 99.01%.\n"
          ]
        }
      ]
    },
    {
      "cell_type": "markdown",
      "source": [
        "## Visualization"
      ],
      "metadata": {
        "id": "odVyG7XLhSNr"
      }
    },
    {
      "cell_type": "code",
      "source": [
        "import matplotlib.pyplot as plt\n",
        "from sklearn import tree\n",
        "\n",
        "features = df.drop(['credit.policy'], axis=1)\n",
        "fig = plt.figure(figsize=(25,20))\n",
        "_ = tree.plot_tree(decision_clf, \n",
        "                   feature_names=features.columns,  \n",
        "                   class_names=['yes', 'no'],\n",
        "                   filled=True)"
      ],
      "metadata": {
        "colab": {
          "base_uri": "https://localhost:8080/",
          "height": 1000
        },
        "id": "39IP-EE1hU-l",
        "outputId": "a07c3976-6a78-4ffd-f32e-cf75d7f2f69c"
      },
      "execution_count": 139,
      "outputs": [
        {
          "output_type": "display_data",
          "data": {
            "text/plain": [
              "<Figure size 1800x1440 with 1 Axes>"
            ],
            "image/png": "[encoded data removed]"
          },
          "metadata": {
            "needs_background": "light"
          }
        }
      ]
    },
    {
      "cell_type": "markdown",
      "source": [
        "# 2. Random Forest classifier"
      ],
      "metadata": {
        "id": "4ndOHayuf7rA"
      }
    },
    {
      "cell_type": "code",
      "source": [
        "from sklearn.ensemble import RandomForestClassifier\n",
        "from sklearn.model_selection import cross_val_score\n",
        "\n",
        "rnd_clf = RandomForestClassifier(random_state=42)\n",
        "\n",
        "rnd_clf.fit(X_train, y_train)"
      ],
      "metadata": {
        "colab": {
          "base_uri": "https://localhost:8080/"
        },
        "id": "vdGbQw3Vf_r6",
        "outputId": "d483a8d0-e7a7-4ab1-f9ee-409e2b9186ad"
      },
      "execution_count": 129,
      "outputs": [
        {
          "output_type": "execute_result",
          "data": {
            "text/plain": [
              "RandomForestClassifier(random_state=42)"
            ]
          },
          "metadata": {},
          "execution_count": 129
        }
      ]
    },
    {
      "cell_type": "markdown",
      "source": [
        "## RandomSearchCV to find best parameters"
      ],
      "metadata": {
        "id": "Ja55K13jgF2D"
      }
    },
    {
      "cell_type": "code",
      "source": [
        "from sklearn.model_selection import RandomizedSearchCV \n",
        " \n",
        "n_estimators = [int(x) for x in np.linspace(start = 200, stop = 2000, num = 10)] \n",
        "criterion = ['entropy', 'gini']\n",
        "max_features = ['log2', 'sqrt'] \n",
        "max_depth = [int(x) for x in np.linspace(10, 110, num = 11)]\n",
        "max_depth.append(None)  \n",
        "\n",
        "random_grid = {'n_estimators': n_estimators,\n",
        "               'criterion' : criterion,\n",
        "               'max_features': max_features,\n",
        "               'max_depth': max_depth,\n",
        "               }\n",
        " \n",
        "rf_random = RandomizedSearchCV(estimator = RandomForestClassifier(), param_distributions = random_grid, cv = 3, verbose=2, random_state=42)\n",
        "\n",
        "rf_random.fit(X_train, y_train)"
      ],
      "metadata": {
        "colab": {
          "base_uri": "https://localhost:8080/"
        },
        "id": "wzsthNPygL4N",
        "outputId": "6b3871de-dc73-429e-ee90-5b983f1e5190"
      },
      "execution_count": 140,
      "outputs": [
        {
          "output_type": "stream",
          "name": "stdout",
          "text": [
            "Fitting 3 folds for each of 10 candidates, totalling 30 fits\n",
            "[CV] END criterion=entropy, max_depth=40, max_features=sqrt, n_estimators=800; total time=   7.5s\n",
            "[CV] END criterion=entropy, max_depth=40, max_features=sqrt, n_estimators=800; total time=   8.5s\n",
            "[CV] END criterion=entropy, max_depth=40, max_features=sqrt, n_estimators=800; total time=   7.3s\n",
            "[CV] END criterion=gini, max_depth=90, max_features=sqrt, n_estimators=1000; total time=   7.6s\n",
            "[CV] END criterion=gini, max_depth=90, max_features=sqrt, n_estimators=1000; total time=   8.7s\n",
            "[CV] END criterion=gini, max_depth=90, max_features=sqrt, n_estimators=1000; total time=   8.4s\n",
            "[CV] END criterion=gini, max_depth=80, max_features=sqrt, n_estimators=1000; total time=   7.7s\n",
            "[CV] END criterion=gini, max_depth=80, max_features=sqrt, n_estimators=1000; total time=   7.7s\n",
            "[CV] END criterion=gini, max_depth=80, max_features=sqrt, n_estimators=1000; total time=   7.6s\n",
            "[CV] END criterion=gini, max_depth=20, max_features=sqrt, n_estimators=1600; total time=  12.2s\n",
            "[CV] END criterion=gini, max_depth=20, max_features=sqrt, n_estimators=1600; total time=  12.3s\n",
            "[CV] END criterion=gini, max_depth=20, max_features=sqrt, n_estimators=1600; total time=  13.2s\n",
            "[CV] END criterion=gini, max_depth=80, max_features=sqrt, n_estimators=2000; total time=  15.4s\n",
            "[CV] END criterion=gini, max_depth=80, max_features=sqrt, n_estimators=2000; total time=  15.4s\n",
            "[CV] END criterion=gini, max_depth=80, max_features=sqrt, n_estimators=2000; total time=  15.4s\n",
            "[CV] END criterion=entropy, max_depth=90, max_features=sqrt, n_estimators=600; total time=   5.6s\n",
            "[CV] END criterion=entropy, max_depth=90, max_features=sqrt, n_estimators=600; total time=   6.6s\n",
            "[CV] END criterion=entropy, max_depth=90, max_features=sqrt, n_estimators=600; total time=   5.5s\n",
            "[CV] END criterion=gini, max_depth=20, max_features=log2, n_estimators=1800; total time=  13.8s\n",
            "[CV] END criterion=gini, max_depth=20, max_features=log2, n_estimators=1800; total time=  13.8s\n",
            "[CV] END criterion=gini, max_depth=20, max_features=log2, n_estimators=1800; total time=  13.7s\n",
            "[CV] END criterion=gini, max_depth=70, max_features=sqrt, n_estimators=1200; total time=   9.3s\n",
            "[CV] END criterion=gini, max_depth=70, max_features=sqrt, n_estimators=1200; total time=  10.1s\n",
            "[CV] END criterion=gini, max_depth=70, max_features=sqrt, n_estimators=1200; total time=   9.0s\n",
            "[CV] END criterion=entropy, max_depth=40, max_features=sqrt, n_estimators=1600; total time=  14.9s\n",
            "[CV] END criterion=entropy, max_depth=40, max_features=sqrt, n_estimators=1600; total time=  15.0s\n",
            "[CV] END criterion=entropy, max_depth=40, max_features=sqrt, n_estimators=1600; total time=  16.7s\n",
            "[CV] END criterion=gini, max_depth=110, max_features=log2, n_estimators=600; total time=   4.7s\n",
            "[CV] END criterion=gini, max_depth=110, max_features=log2, n_estimators=600; total time=   4.8s\n",
            "[CV] END criterion=gini, max_depth=110, max_features=log2, n_estimators=600; total time=   5.1s\n"
          ]
        },
        {
          "output_type": "execute_result",
          "data": {
            "text/plain": [
              "RandomizedSearchCV(cv=3, estimator=RandomForestClassifier(),\n",
              "                   param_distributions={'criterion': ['entropy', 'gini'],\n",
              "                                        'max_depth': [10, 20, 30, 40, 50, 60,\n",
              "                                                      70, 80, 90, 100, 110,\n",
              "                                                      None],\n",
              "                                        'max_features': ['log2', 'sqrt'],\n",
              "                                        'n_estimators': [200, 400, 600, 800,\n",
              "                                                         1000, 1200, 1400, 1600,\n",
              "                                                         1800, 2000]},\n",
              "                   random_state=42, verbose=2)"
            ]
          },
          "metadata": {},
          "execution_count": 140
        }
      ]
    },
    {
      "cell_type": "code",
      "source": [
        "rf_random.best_params_\n",
        "print(\"---------base_random_clf----------\") \n",
        "base_accuracy = evaluate(rnd_clf, X_test, y_test)\n",
        "\n",
        "print(\"---------best_random_clf----------\")\n",
        "best_random = rf_random.best_estimator_\n",
        "random_accuracy = evaluate(best_random, X_test, y_test)"
      ],
      "metadata": {
        "colab": {
          "base_uri": "https://localhost:8080/"
        },
        "id": "oq8VnnLJgUi-",
        "outputId": "0498c38b-d10e-435d-86a9-af4891213b56"
      },
      "execution_count": 141,
      "outputs": [
        {
          "output_type": "stream",
          "name": "stdout",
          "text": [
            "---------base_random_clf----------\n",
            "Model Performance\n",
            "Accuracy = 98.75%.\n",
            "---------best_random_clf----------\n",
            "Model Performance\n",
            "Accuracy = 98.59%.\n"
          ]
        }
      ]
    },
    {
      "cell_type": "markdown",
      "source": [
        "## Visualization"
      ],
      "metadata": {
        "id": "k71x1FPBkcAl"
      }
    },
    {
      "cell_type": "code",
      "source": [
        "import matplotlib.pyplot as plt\n",
        "from sklearn.tree import plot_tree\n",
        "\n",
        "features = df.drop(['credit.policy'], axis=1)\n",
        "fig = plt.figure(figsize=(25,20))\n",
        "plot_tree(best_random.estimators_[0], \n",
        "          feature_names=features.columns,  \n",
        "          class_names=['yes', 'no'],\n",
        "          filled=True, impurity=True, \n",
        "          rounded=True)"
      ],
      "metadata": {
        "colab": {
          "base_uri": "https://localhost:8080/",
          "height": 1000
        },
        "id": "WkZeaKMtkfJz",
        "outputId": "e390625a-5170-407e-9e6e-10a72cb390ad"
      },
      "execution_count": 147,
      "outputs": [
        {
          "output_type": "execute_result",
          "data": {
            "text/plain": [
              "[Text(0.7397290209790209, 0.9736842105263158, 'inq.last.6mths <= 0.874\\nentropy = 0.705\\nsamples = 4840\\nvalue = [1469, 6193]\\nclass = no'),\n",
              " Text(0.5983391608391608, 0.9210526315789473, 'days.with.cr.line <= -1.382\\nentropy = 0.446\\nsamples = 4232\\nvalue = [623, 6083]\\nclass = no'),\n",
              " Text(0.5843531468531469, 0.868421052631579, 'entropy = 0.0\\nsamples = 113\\nvalue = [179, 0]\\nclass = yes'),\n",
              " Text(0.6123251748251748, 0.868421052631579, 'dti <= 1.8\\nentropy = 0.359\\nsamples = 4119\\nvalue = [444, 6083]\\nclass = no'),\n",
              " Text(0.5983391608391608, 0.8157894736842105, 'fico <= -1.352\\nentropy = 0.309\\nsamples = 4066\\nvalue = [357, 6083]\\nclass = no'),\n",
              " Text(0.5843531468531469, 0.7631578947368421, 'entropy = 0.0\\nsamples = 143\\nvalue = [223, 0]\\nclass = yes'),\n",
              " Text(0.6123251748251748, 0.7631578947368421, 'revol.bal <= 1.681\\nentropy = 0.15\\nsamples = 3923\\nvalue = [134, 6083]\\nclass = no'),\n",
              " Text(0.40646853146853146, 0.7105263157894737, 'fico <= 0.491\\nentropy = 0.06\\nsamples = 3817\\nvalue = [42, 6011]\\nclass = no'),\n",
              " Text(0.2534965034965035, 0.6578947368421053, 'revol.util <= 1.832\\nentropy = 0.076\\nsamples = 2498\\nvalue = [37, 3933]\\nclass = no'),\n",
              " Text(0.2395104895104895, 0.6052631578947368, 'installment <= 1.071\\nentropy = 0.064\\nsamples = 2495\\nvalue = [30, 3933]\\nclass = no'),\n",
              " Text(0.22552447552447552, 0.5526315789473685, 'int.rate <= -1.071\\nentropy = 0.072\\nsamples = 2143\\nvalue = [30, 3393]\\nclass = no'),\n",
              " Text(0.08741258741258741, 0.5, 'revol.bal <= -0.494\\nentropy = 0.407\\nsamples = 82\\nvalue = [10, 113]\\nclass = no'),\n",
              " Text(0.04195804195804196, 0.4473684210526316, 'int.rate <= -1.283\\nentropy = 0.954\\nsamples = 5\\nvalue = [5, 3]\\nclass = yes'),\n",
              " Text(0.027972027972027972, 0.39473684210526316, 'fico <= 0.36\\nentropy = 0.811\\nsamples = 3\\nvalue = [1, 3]\\nclass = no'),\n",
              " Text(0.013986013986013986, 0.34210526315789475, 'entropy = 0.0\\nsamples = 2\\nvalue = [0, 3]\\nclass = no'),\n",
              " Text(0.04195804195804196, 0.34210526315789475, 'entropy = 0.0\\nsamples = 1\\nvalue = [1, 0]\\nclass = yes'),\n",
              " Text(0.055944055944055944, 0.39473684210526316, 'entropy = 0.0\\nsamples = 2\\nvalue = [4, 0]\\nclass = yes'),\n",
              " Text(0.13286713286713286, 0.4473684210526316, 'installment <= -0.691\\nentropy = 0.258\\nsamples = 77\\nvalue = [5, 110]\\nclass = no'),\n",
              " Text(0.08391608391608392, 0.39473684210526316, 'purpose <= -0.263\\nentropy = 0.096\\nsamples = 55\\nvalue = [1, 80]\\nclass = no'),\n",
              " Text(0.06993006993006994, 0.34210526315789475, 'entropy = 0.0\\nsamples = 29\\nvalue = [0, 46]\\nclass = no'),\n",
              " Text(0.0979020979020979, 0.34210526315789475, 'log.annual.inc <= -0.447\\nentropy = 0.187\\nsamples = 26\\nvalue = [1, 34]\\nclass = no'),\n",
              " Text(0.08391608391608392, 0.2894736842105263, 'entropy = 0.0\\nsamples = 13\\nvalue = [0, 17]\\nclass = no'),\n",
              " Text(0.11188811188811189, 0.2894736842105263, 'fico <= 0.294\\nentropy = 0.31\\nsamples = 13\\nvalue = [1, 17]\\nclass = no'),\n",
              " Text(0.0979020979020979, 0.23684210526315788, 'entropy = 0.0\\nsamples = 6\\nvalue = [0, 9]\\nclass = no'),\n",
              " Text(0.1258741258741259, 0.23684210526315788, 'revol.bal <= 0.609\\nentropy = 0.503\\nsamples = 7\\nvalue = [1, 8]\\nclass = no'),\n",
              " Text(0.11188811188811189, 0.18421052631578946, 'entropy = 0.0\\nsamples = 6\\nvalue = [0, 8]\\nclass = no'),\n",
              " Text(0.13986013986013987, 0.18421052631578946, 'entropy = 0.0\\nsamples = 1\\nvalue = [1, 0]\\nclass = yes'),\n",
              " Text(0.18181818181818182, 0.39473684210526316, 'revol.util <= -0.698\\nentropy = 0.523\\nsamples = 22\\nvalue = [4, 30]\\nclass = no'),\n",
              " Text(0.15384615384615385, 0.34210526315789475, 'log.annual.inc <= -2.054\\nentropy = 0.985\\nsamples = 5\\nvalue = [3, 4]\\nclass = no'),\n",
              " Text(0.13986013986013987, 0.2894736842105263, 'entropy = 0.0\\nsamples = 1\\nvalue = [3, 0]\\nclass = yes'),\n",
              " Text(0.16783216783216784, 0.2894736842105263, 'entropy = 0.0\\nsamples = 4\\nvalue = [0, 4]\\nclass = no'),\n",
              " Text(0.2097902097902098, 0.34210526315789475, 'int.rate <= -1.67\\nentropy = 0.229\\nsamples = 17\\nvalue = [1, 26]\\nclass = no'),\n",
              " Text(0.1958041958041958, 0.2894736842105263, 'inq.last.6mths <= 0.419\\nentropy = 0.722\\nsamples = 4\\nvalue = [1, 4]\\nclass = no'),\n",
              " Text(0.18181818181818182, 0.23684210526315788, 'entropy = 0.0\\nsamples = 3\\nvalue = [0, 4]\\nclass = no'),\n",
              " Text(0.2097902097902098, 0.23684210526315788, 'entropy = 0.0\\nsamples = 1\\nvalue = [1, 0]\\nclass = yes'),\n",
              " Text(0.22377622377622378, 0.2894736842105263, 'entropy = 0.0\\nsamples = 13\\nvalue = [0, 22]\\nclass = no'),\n",
              " Text(0.36363636363636365, 0.5, 'revol.bal <= 0.697\\nentropy = 0.053\\nsamples = 2061\\nvalue = [20, 3280]\\nclass = no'),\n",
              " Text(0.3076923076923077, 0.4473684210526316, 'int.rate <= 2.07\\nentropy = 0.017\\nsamples = 1954\\nvalue = [5, 3133]\\nclass = no'),\n",
              " Text(0.27972027972027974, 0.39473684210526316, 'int.rate <= -0.566\\nentropy = 0.011\\nsamples = 1926\\nvalue = [3, 3088]\\nclass = no'),\n",
              " Text(0.26573426573426573, 0.34210526315789475, 'installment <= -1.04\\nentropy = 0.075\\nsamples = 204\\nvalue = [3, 324]\\nclass = no'),\n",
              " Text(0.2517482517482518, 0.2894736842105263, 'delinq.2yrs <= 0.616\\nentropy = 0.267\\nsamples = 43\\nvalue = [3, 63]\\nclass = no'),\n",
              " Text(0.23776223776223776, 0.23684210526315788, 'days.with.cr.line <= -0.366\\nentropy = 0.327\\nsamples = 35\\nvalue = [3, 47]\\nclass = no'),\n",
              " Text(0.22377622377622378, 0.18421052631578946, 'entropy = 0.0\\nsamples = 23\\nvalue = [0, 31]\\nclass = no'),\n",
              " Text(0.2517482517482518, 0.18421052631578946, 'installment <= -1.069\\nentropy = 0.629\\nsamples = 12\\nvalue = [3, 16]\\nclass = no'),\n",
              " Text(0.23776223776223776, 0.13157894736842105, 'dti <= -1.044\\nentropy = 0.323\\nsamples = 10\\nvalue = [1, 16]\\nclass = no'),\n",
              " Text(0.22377622377622378, 0.07894736842105263, 'installment <= -1.113\\nentropy = 0.592\\nsamples = 3\\nvalue = [1, 6]\\nclass = no'),\n",
              " Text(0.2097902097902098, 0.02631578947368421, 'entropy = 0.0\\nsamples = 1\\nvalue = [1, 0]\\nclass = yes'),\n",
              " Text(0.23776223776223776, 0.02631578947368421, 'entropy = 0.0\\nsamples = 2\\nvalue = [0, 6]\\nclass = no'),\n",
              " Text(0.2517482517482518, 0.07894736842105263, 'entropy = 0.0\\nsamples = 7\\nvalue = [0, 10]\\nclass = no'),\n",
              " Text(0.26573426573426573, 0.13157894736842105, 'entropy = 0.0\\nsamples = 2\\nvalue = [2, 0]\\nclass = yes'),\n",
              " Text(0.26573426573426573, 0.23684210526315788, 'entropy = 0.0\\nsamples = 8\\nvalue = [0, 16]\\nclass = no'),\n",
              " Text(0.27972027972027974, 0.2894736842105263, 'entropy = 0.0\\nsamples = 161\\nvalue = [0, 261]\\nclass = no'),\n",
              " Text(0.2937062937062937, 0.34210526315789475, 'entropy = 0.0\\nsamples = 1722\\nvalue = [0, 2764]\\nclass = no'),\n",
              " Text(0.3356643356643357, 0.39473684210526316, 'revol.bal <= 0.317\\nentropy = 0.254\\nsamples = 28\\nvalue = [2, 45]\\nclass = no'),\n",
              " Text(0.32167832167832167, 0.34210526315789475, 'entropy = 0.0\\nsamples = 27\\nvalue = [0, 45]\\nclass = no'),\n",
              " Text(0.34965034965034963, 0.34210526315789475, 'entropy = 0.0\\nsamples = 1\\nvalue = [2, 0]\\nclass = yes'),\n",
              " Text(0.4195804195804196, 0.4473684210526316, 'revol.util <= 1.336\\nentropy = 0.445\\nsamples = 107\\nvalue = [15, 147]\\nclass = no'),\n",
              " Text(0.3916083916083916, 0.39473684210526316, 'log.annual.inc <= 0.001\\nentropy = 0.567\\nsamples = 71\\nvalue = [14, 91]\\nclass = no'),\n",
              " Text(0.3776223776223776, 0.34210526315789475, 'entropy = 0.0\\nsamples = 10\\nvalue = [13, 0]\\nclass = yes'),\n",
              " Text(0.40559440559440557, 0.34210526315789475, 'int.rate <= 0.345\\nentropy = 0.087\\nsamples = 61\\nvalue = [1, 91]\\nclass = no'),\n",
              " Text(0.3916083916083916, 0.2894736842105263, 'entropy = 0.0\\nsamples = 44\\nvalue = [0, 65]\\nclass = no'),\n",
              " Text(0.4195804195804196, 0.2894736842105263, 'int.rate <= 0.403\\nentropy = 0.229\\nsamples = 17\\nvalue = [1, 26]\\nclass = no'),\n",
              " Text(0.40559440559440557, 0.23684210526315788, 'entropy = 0.0\\nsamples = 1\\nvalue = [1, 0]\\nclass = yes'),\n",
              " Text(0.43356643356643354, 0.23684210526315788, 'entropy = 0.0\\nsamples = 16\\nvalue = [0, 26]\\nclass = no'),\n",
              " Text(0.44755244755244755, 0.39473684210526316, 'revol.util <= 1.775\\nentropy = 0.127\\nsamples = 36\\nvalue = [1, 56]\\nclass = no'),\n",
              " Text(0.43356643356643354, 0.34210526315789475, 'entropy = 0.0\\nsamples = 33\\nvalue = [0, 52]\\nclass = no'),\n",
              " Text(0.46153846153846156, 0.34210526315789475, 'fico <= 0.096\\nentropy = 0.722\\nsamples = 3\\nvalue = [1, 4]\\nclass = no'),\n",
              " Text(0.44755244755244755, 0.2894736842105263, 'entropy = 0.0\\nsamples = 1\\nvalue = [0, 3]\\nclass = no'),\n",
              " Text(0.4755244755244755, 0.2894736842105263, 'revol.bal <= 0.857\\nentropy = 1.0\\nsamples = 2\\nvalue = [1, 1]\\nclass = yes'),\n",
              " Text(0.46153846153846156, 0.23684210526315788, 'entropy = 0.0\\nsamples = 1\\nvalue = [0, 1]\\nclass = no'),\n",
              " Text(0.48951048951048953, 0.23684210526315788, 'entropy = 0.0\\nsamples = 1\\nvalue = [1, 0]\\nclass = yes'),\n",
              " Text(0.2534965034965035, 0.5526315789473685, 'entropy = 0.0\\nsamples = 352\\nvalue = [0, 540]\\nclass = no'),\n",
              " Text(0.2674825174825175, 0.6052631578947368, 'entropy = 0.0\\nsamples = 3\\nvalue = [7, 0]\\nclass = yes'),\n",
              " Text(0.5594405594405595, 0.6578947368421053, 'int.rate <= -1.408\\nentropy = 0.024\\nsamples = 1319\\nvalue = [5, 2078]\\nclass = no'),\n",
              " Text(0.5314685314685315, 0.6052631578947368, 'dti <= -1.241\\nentropy = 0.054\\nsamples = 410\\nvalue = [4, 648]\\nclass = no'),\n",
              " Text(0.5174825174825175, 0.5526315789473685, 'dti <= -1.268\\nentropy = 0.151\\nsamples = 116\\nvalue = [4, 180]\\nclass = no'),\n",
              " Text(0.5034965034965035, 0.5, 'revol.bal <= -0.501\\nentropy = 0.121\\nsamples = 115\\nvalue = [3, 180]\\nclass = no'),\n",
              " Text(0.48951048951048953, 0.4473684210526316, 'log.annual.inc <= -2.116\\nentropy = 0.811\\nsamples = 9\\nvalue = [3, 9]\\nclass = no'),\n",
              " Text(0.4755244755244755, 0.39473684210526316, 'entropy = 0.0\\nsamples = 2\\nvalue = [0, 4]\\nclass = no'),\n",
              " Text(0.5034965034965035, 0.39473684210526316, 'int.rate <= -1.743\\nentropy = 0.954\\nsamples = 7\\nvalue = [3, 5]\\nclass = no'),\n",
              " Text(0.48951048951048953, 0.34210526315789475, 'entropy = 0.0\\nsamples = 1\\nvalue = [1, 0]\\nclass = yes'),\n",
              " Text(0.5174825174825175, 0.34210526315789475, 'log.annual.inc <= -0.971\\nentropy = 0.863\\nsamples = 6\\nvalue = [2, 5]\\nclass = no'),\n",
              " Text(0.5034965034965035, 0.2894736842105263, 'entropy = 0.0\\nsamples = 1\\nvalue = [1, 0]\\nclass = yes'),\n",
              " Text(0.5314685314685315, 0.2894736842105263, 'dti <= -1.606\\nentropy = 0.65\\nsamples = 5\\nvalue = [1, 5]\\nclass = no'),\n",
              " Text(0.5174825174825175, 0.23684210526315788, 'log.annual.inc <= 0.973\\nentropy = 0.918\\nsamples = 2\\nvalue = [1, 2]\\nclass = no'),\n",
              " Text(0.5034965034965035, 0.18421052631578946, 'entropy = 0.0\\nsamples = 1\\nvalue = [1, 0]\\nclass = yes'),\n",
              " Text(0.5314685314685315, 0.18421052631578946, 'entropy = 0.0\\nsamples = 1\\nvalue = [0, 2]\\nclass = no'),\n",
              " Text(0.5454545454545454, 0.23684210526315788, 'entropy = 0.0\\nsamples = 3\\nvalue = [0, 3]\\nclass = no'),\n",
              " Text(0.5174825174825175, 0.4473684210526316, 'entropy = 0.0\\nsamples = 106\\nvalue = [0, 171]\\nclass = no'),\n",
              " Text(0.5314685314685315, 0.5, 'entropy = 0.0\\nsamples = 1\\nvalue = [1, 0]\\nclass = yes'),\n",
              " Text(0.5454545454545454, 0.5526315789473685, 'entropy = 0.0\\nsamples = 294\\nvalue = [0, 468]\\nclass = no'),\n",
              " Text(0.5874125874125874, 0.6052631578947368, 'days.with.cr.line <= 4.184\\nentropy = 0.008\\nsamples = 909\\nvalue = [1, 1430]\\nclass = no'),\n",
              " Text(0.5734265734265734, 0.5526315789473685, 'entropy = 0.0\\nsamples = 905\\nvalue = [0, 1424]\\nclass = no'),\n",
              " Text(0.6013986013986014, 0.5526315789473685, 'log.annual.inc <= -0.432\\nentropy = 0.592\\nsamples = 4\\nvalue = [1, 6]\\nclass = no'),\n",
              " Text(0.5874125874125874, 0.5, 'entropy = 0.0\\nsamples = 2\\nvalue = [0, 4]\\nclass = no'),\n",
              " Text(0.6153846153846154, 0.5, 'int.rate <= -0.501\\nentropy = 0.918\\nsamples = 2\\nvalue = [1, 2]\\nclass = no'),\n",
              " Text(0.6013986013986014, 0.4473684210526316, 'entropy = 0.0\\nsamples = 1\\nvalue = [0, 2]\\nclass = no'),\n",
              " Text(0.6293706293706294, 0.4473684210526316, 'entropy = 0.0\\nsamples = 1\\nvalue = [1, 0]\\nclass = yes'),\n",
              " Text(0.8181818181818182, 0.7105263157894737, 'fico <= 2.796\\nentropy = 0.989\\nsamples = 106\\nvalue = [92, 72]\\nclass = yes'),\n",
              " Text(0.8041958041958042, 0.6578947368421053, 'revol.bal <= 3.806\\nentropy = 0.987\\nsamples = 105\\nvalue = [92, 70]\\nclass = yes'),\n",
              " Text(0.7902097902097902, 0.6052631578947368, 'dti <= 0.805\\nentropy = 0.946\\nsamples = 72\\nvalue = [40, 70]\\nclass = no'),\n",
              " Text(0.6993006993006993, 0.5526315789473685, 'days.with.cr.line <= 0.222\\nentropy = 0.585\\nsamples = 36\\nvalue = [8, 49]\\nclass = no'),\n",
              " Text(0.6713286713286714, 0.5, 'days.with.cr.line <= -0.093\\nentropy = 0.94\\nsamples = 10\\nvalue = [5, 9]\\nclass = no'),\n",
              " Text(0.6573426573426573, 0.4473684210526316, 'revol.bal <= 1.979\\nentropy = 0.469\\nsamples = 7\\nvalue = [1, 9]\\nclass = no'),\n",
              " Text(0.6433566433566433, 0.39473684210526316, 'purpose <= 1.219\\nentropy = 1.0\\nsamples = 2\\nvalue = [1, 1]\\nclass = yes'),\n",
              " Text(0.6293706293706294, 0.34210526315789475, 'entropy = 0.0\\nsamples = 1\\nvalue = [1, 0]\\nclass = yes'),\n",
              " Text(0.6573426573426573, 0.34210526315789475, 'entropy = 0.0\\nsamples = 1\\nvalue = [0, 1]\\nclass = no'),\n",
              " Text(0.6713286713286714, 0.39473684210526316, 'entropy = 0.0\\nsamples = 5\\nvalue = [0, 8]\\nclass = no'),\n",
              " Text(0.6853146853146853, 0.4473684210526316, 'entropy = 0.0\\nsamples = 3\\nvalue = [4, 0]\\nclass = yes'),\n",
              " Text(0.7272727272727273, 0.5, 'dti <= 0.446\\nentropy = 0.365\\nsamples = 26\\nvalue = [3, 40]\\nclass = no'),\n",
              " Text(0.7132867132867133, 0.4473684210526316, 'entropy = 0.0\\nsamples = 17\\nvalue = [0, 26]\\nclass = no'),\n",
              " Text(0.7412587412587412, 0.4473684210526316, 'log.annual.inc <= 0.812\\nentropy = 0.672\\nsamples = 9\\nvalue = [3, 14]\\nclass = no'),\n",
              " Text(0.7272727272727273, 0.39473684210526316, 'entropy = 0.0\\nsamples = 2\\nvalue = [2, 0]\\nclass = yes'),\n",
              " Text(0.7552447552447552, 0.39473684210526316, 'fico <= 0.096\\nentropy = 0.353\\nsamples = 7\\nvalue = [1, 14]\\nclass = no'),\n",
              " Text(0.7412587412587412, 0.34210526315789475, 'entropy = 0.0\\nsamples = 5\\nvalue = [0, 11]\\nclass = no'),\n",
              " Text(0.7692307692307693, 0.34210526315789475, 'log.annual.inc <= 0.881\\nentropy = 0.811\\nsamples = 2\\nvalue = [1, 3]\\nclass = no'),\n",
              " Text(0.7552447552447552, 0.2894736842105263, 'entropy = 0.0\\nsamples = 1\\nvalue = [0, 3]\\nclass = no'),\n",
              " Text(0.7832167832167832, 0.2894736842105263, 'entropy = 0.0\\nsamples = 1\\nvalue = [1, 0]\\nclass = yes'),\n",
              " Text(0.8811188811188811, 0.5526315789473685, 'inq.last.6mths <= 0.419\\nentropy = 0.969\\nsamples = 36\\nvalue = [32, 21]\\nclass = yes'),\n",
              " Text(0.8671328671328671, 0.5, 'installment <= 1.91\\nentropy = 0.918\\nsamples = 33\\nvalue = [32, 16]\\nclass = yes'),\n",
              " Text(0.8531468531468531, 0.4473684210526316, 'installment <= 1.724\\nentropy = 0.759\\nsamples = 27\\nvalue = [32, 9]\\nclass = yes'),\n",
              " Text(0.8391608391608392, 0.39473684210526316, 'dti <= 1.593\\nentropy = 0.811\\nsamples = 25\\nvalue = [27, 9]\\nclass = yes'),\n",
              " Text(0.8251748251748252, 0.34210526315789475, 'log.annual.inc <= 0.646\\nentropy = 0.906\\nsamples = 21\\nvalue = [19, 9]\\nclass = yes'),\n",
              " Text(0.8111888111888111, 0.2894736842105263, 'entropy = 0.0\\nsamples = 9\\nvalue = [12, 0]\\nclass = yes'),\n",
              " Text(0.8391608391608392, 0.2894736842105263, 'fico <= -0.167\\nentropy = 0.989\\nsamples = 12\\nvalue = [7, 9]\\nclass = no'),\n",
              " Text(0.8251748251748252, 0.23684210526315788, 'entropy = 0.0\\nsamples = 4\\nvalue = [0, 4]\\nclass = no'),\n",
              " Text(0.8531468531468531, 0.23684210526315788, 'int.rate <= -0.553\\nentropy = 0.98\\nsamples = 8\\nvalue = [7, 5]\\nclass = yes'),\n",
              " Text(0.8251748251748252, 0.18421052631578946, 'dti <= 1.094\\nentropy = 0.722\\nsamples = 4\\nvalue = [1, 4]\\nclass = no'),\n",
              " Text(0.8111888111888111, 0.13157894736842105, 'entropy = 0.0\\nsamples = 1\\nvalue = [1, 0]\\nclass = yes'),\n",
              " Text(0.8391608391608392, 0.13157894736842105, 'entropy = 0.0\\nsamples = 3\\nvalue = [0, 4]\\nclass = no'),\n",
              " Text(0.8811188811188811, 0.18421052631578946, 'revol.bal <= 2.297\\nentropy = 0.592\\nsamples = 4\\nvalue = [6, 1]\\nclass = yes'),\n",
              " Text(0.8671328671328671, 0.13157894736842105, 'entropy = 0.0\\nsamples = 1\\nvalue = [0, 1]\\nclass = no'),\n",
              " Text(0.8951048951048951, 0.13157894736842105, 'entropy = 0.0\\nsamples = 3\\nvalue = [6, 0]\\nclass = yes'),\n",
              " Text(0.8531468531468531, 0.34210526315789475, 'entropy = 0.0\\nsamples = 4\\nvalue = [8, 0]\\nclass = yes'),\n",
              " Text(0.8671328671328671, 0.39473684210526316, 'entropy = 0.0\\nsamples = 2\\nvalue = [5, 0]\\nclass = yes'),\n",
              " Text(0.8811188811188811, 0.4473684210526316, 'entropy = 0.0\\nsamples = 6\\nvalue = [0, 7]\\nclass = no'),\n",
              " Text(0.8951048951048951, 0.5, 'entropy = 0.0\\nsamples = 3\\nvalue = [0, 5]\\nclass = no'),\n",
              " Text(0.8181818181818182, 0.6052631578947368, 'entropy = 0.0\\nsamples = 33\\nvalue = [52, 0]\\nclass = yes'),\n",
              " Text(0.8321678321678322, 0.6578947368421053, 'entropy = 0.0\\nsamples = 1\\nvalue = [0, 2]\\nclass = no'),\n",
              " Text(0.6263111888111889, 0.8157894736842105, 'entropy = 0.0\\nsamples = 53\\nvalue = [87, 0]\\nclass = yes'),\n",
              " Text(0.8811188811188811, 0.9210526315789473, 'fico <= 0.755\\nentropy = 0.515\\nsamples = 608\\nvalue = [846, 110]\\nclass = yes'),\n",
              " Text(0.8671328671328671, 0.868421052631579, 'entropy = 0.0\\nsamples = 525\\nvalue = [835, 0]\\nclass = yes'),\n",
              " Text(0.8951048951048951, 0.868421052631579, 'dti <= 0.974\\nentropy = 0.439\\nsamples = 83\\nvalue = [11, 110]\\nclass = no'),\n",
              " Text(0.8461538461538461, 0.8157894736842105, 'int.rate <= 1.569\\nentropy = 0.242\\nsamples = 70\\nvalue = [4, 96]\\nclass = no'),\n",
              " Text(0.8321678321678322, 0.7631578947368421, 'entropy = 0.0\\nsamples = 65\\nvalue = [0, 92]\\nclass = no'),\n",
              " Text(0.8601398601398601, 0.7631578947368421, 'revol.bal <= -0.296\\nentropy = 1.0\\nsamples = 5\\nvalue = [4, 4]\\nclass = yes'),\n",
              " Text(0.8461538461538461, 0.7105263157894737, 'entropy = 0.0\\nsamples = 2\\nvalue = [0, 4]\\nclass = no'),\n",
              " Text(0.8741258741258742, 0.7105263157894737, 'entropy = 0.0\\nsamples = 3\\nvalue = [4, 0]\\nclass = yes'),\n",
              " Text(0.9440559440559441, 0.8157894736842105, 'purpose <= 0.626\\nentropy = 0.918\\nsamples = 13\\nvalue = [7, 14]\\nclass = no'),\n",
              " Text(0.916083916083916, 0.7631578947368421, 'log.annual.inc <= -0.176\\nentropy = 0.787\\nsamples = 10\\nvalue = [4, 13]\\nclass = no'),\n",
              " Text(0.9020979020979021, 0.7105263157894737, 'entropy = 0.0\\nsamples = 4\\nvalue = [0, 7]\\nclass = no'),\n",
              " Text(0.9300699300699301, 0.7105263157894737, 'int.rate <= -0.536\\nentropy = 0.971\\nsamples = 6\\nvalue = [4, 6]\\nclass = no'),\n",
              " Text(0.916083916083916, 0.6578947368421053, 'entropy = 0.0\\nsamples = 4\\nvalue = [0, 6]\\nclass = no'),\n",
              " Text(0.9440559440559441, 0.6578947368421053, 'entropy = 0.0\\nsamples = 2\\nvalue = [4, 0]\\nclass = yes'),\n",
              " Text(0.972027972027972, 0.7631578947368421, 'log.annual.inc <= 0.242\\nentropy = 0.811\\nsamples = 3\\nvalue = [3, 1]\\nclass = yes'),\n",
              " Text(0.958041958041958, 0.7105263157894737, 'entropy = 0.0\\nsamples = 1\\nvalue = [0, 1]\\nclass = no'),\n",
              " Text(0.986013986013986, 0.7105263157894737, 'entropy = 0.0\\nsamples = 2\\nvalue = [3, 0]\\nclass = yes')]"
            ]
          },
          "metadata": {},
          "execution_count": 147
        },
        {
          "output_type": "display_data",
          "data": {
            "text/plain": [
              "<Figure size 1800x1440 with 1 Axes>"
            ],
            "image/png": "[encoded data removed]"
          },
          "metadata": {
            "needs_background": "light"
          }
        }
      ]
    },
    {
      "cell_type": "markdown",
      "source": [
        "### Questions\n",
        "1. How did the DT compare to the RF in performance? Why?\n",
        "**Answer :**\n",
        "****\n",
        "    DT performed a little better. It gave 99.11% accuracy while RF gave 98.75%. \n",
        "    One can say both are performing good. But since RF does not search for the\n",
        "    best prediction, instead, it makes multiple random predictions, this might \n",
        "    be reason in a little yest varying result.\n",
        "2. After fine-tuning, how does the max depth in DT compare to RF? Why?\n",
        "**Answer :**\n",
        "****\n",
        "    I used GridSearch and RandomSearch CV for that. Max-depth for decision tree \n",
        "    found to be 9, as can be seen. However, we can even see by the plot for the \n",
        "    best Random forest estimator that it's depth is deeper.\n",
        "3. What is ensemble learning? What are its pros and cons?\n",
        "**Answer :**\n",
        "****\n",
        "    To solve a specific computational intelligence problem, multiple models, \n",
        "    such as classifiers or experts, are strategically generated and combined in \n",
        "    an ensemble learning process. The main goal of ensemble learning is to \n",
        "    increase the (classification, prediction, function approximation, etc.)\n",
        "\n",
        "    Pros:\n",
        "    There are two primary, linked reasons to choose an ensemble over a single \n",
        "    model: \n",
        "    1. Performance: Compared to a single contributing model, an ensemble can \n",
        "    anticipate events more accurately and perform better overall.\n",
        "    2. Robustness: An ensemble narrows the prediction and model performance \n",
        "    distribution.\n",
        "\n",
        "    Moreover:\n",
        "    1. Ensemble approaches outperform individual models in terms of predicted  \n",
        "    accuracy.\n",
        "\n",
        "    2. When a dataset contains both linear and non-linear types of data, \n",
        "    ensemble approaches are highly helpful; several models can be coupled to \n",
        "    manage this type of data.\n",
        "\n",
        "    3. With ensemble approaches, bias and variance can be decreased, and the \n",
        "    model is typically neither underfitted nor overfitted.\n",
        "\n",
        "    4. A model ensemble is always more stable and less noisy.\n",
        "\n",
        "    Cons:\n",
        "    1. The output of an ensembled model is difficult to forecast and   \n",
        "    understand, making ensemble modeling less interpretable. As a result, it is \n",
        "    challenging to market the ensemble concept and obtain insightful commercial \n",
        "    data.\n",
        "\n",
        "    2. Assembling is a difficult skill to master, and any poor decision might \n",
        "    result in a model with lower prediction accuracy than an individual model.\n",
        "\n",
        "    3. Costs associated with assembly include both time and physical space. \n",
        "    Therefore, ensembling can boost ROI.\n",
        "\n",
        "4. Briefly explain 2 types of boosting methods and 2 types of bagging methods.\n",
        "Which of these categories does RF fall under?\n",
        "**Answer :**\n",
        "****\n",
        "    Bagging : A parallel ensemble learning technique called bagging or \n",
        "    bootstrapping is used to lower the variance in the final prediction.\n",
        "\n",
        "    Types:\n",
        "    1. Bagging Meta- Estimator: \n",
        "    It is a meta-estimator that can be used with \n",
        "    the BaggingClassifier and BaggingRegressor tools from the Scikit Learning \n",
        "    Library to make predictions in classification and regression tasks. The \n",
        "    steps in this procedure are as follows: Bagging or Bootstrapping is the \n",
        "    process of generating random subsets from the original data collection. The \n",
        "    subsets of the data set contain all of the features. Each of the small sets \n",
        "    is fitted using an appropriate base estimator. Predictions from each \n",
        "    modality will be combined to get the final outcome.\n",
        "\n",
        "    2. Random Forest:\n",
        "    In the category of bagging methods, it is the most widely used approach. \n",
        "    Both classification and regression issues are addressed by it. It only \n",
        "    takes a mix of decisions to identify and locate the data point, improper \n",
        "    class, in a random forest. It chooses a collection of features, and only \n",
        "    those can determine the best split at each decision-making node. As to how \n",
        "    it operates: Some random subsets are produced from the original dataset, \n",
        "    much like a bagging meta- estimator. At each node in the decision tree, the \n",
        "    best split is determined solely based on a random collection of features. \n",
        "    The decision tree model is fitted to each subgroup. The average of all \n",
        "    forecasts made by all decision trees serves as the final prediction. As a \n",
        "    result, rather of focusing on one model, both strategies aim to reduce \n",
        "    variance and enhance the prediction model's overall performance.\n",
        "****\n",
        "\n",
        "    Boosting : Boosting is a sequential ensemble learning technique to convert \n",
        "    weak base learners to strong learner that performs better and is less bias. \n",
        "    The intuition here is that individual models may not perform very well on \n",
        "    the entire dataset, but they work well on some part of the entire dataset. \n",
        "    Hence each model in the ensemble actually boosts the overall performance.\n",
        "\n",
        "    Three different boosting algorithms exist, and they are as follows:\n",
        "\n",
        "    1. AdaBoost (Adaptive Boosting) method\n",
        "    2. Gradient Boosting \n",
        "    3. XG Boost\n",
        "\n",
        "    1. AdaBoost: AdaBoost works best when used to improve decision tree \n",
        "    performance in binary classification situations.\n",
        "    \n",
        "    - The invention of the technique, AdaBoost, was first referred to as \n",
        "    AdaBoost. M1 by Freund and Schapire. Due to the fact that it is utilized\n",
        "    for classification as opposed to regression, it has more recently been\n",
        "    referred to as discrete AdaBoost.\n",
        "\n",
        "    - Any machine learning algorithm's performance can be improved with \n",
        "    AdaBoost. When teaching weak learners, it works best. These are models whose\n",
        "    categorization accuracy is slightly better than random chance.\n",
        "\n",
        "    - Decision trees with one level are the algorithm that works best with \n",
        "    AdaBoost and is consequently used the most frequently. They are frequently\n",
        "    referred to as decision stumps since these trees are so brief and only\n",
        "    contain one categorization decision.\n",
        "\n",
        "    2. Gradient Boosting : One of the most well-liked machine learning \n",
        "    techniques for tabular datasets is gradient boosting. It has excellent \n",
        "    usability, can deal with missing values, outliers, and large cardinality \n",
        "    categorical values on your features, and is strong enough to detect any \n",
        "    nonlinear relationship between your model target and features. Even though \n",
        "    you don't need to know the specifics of the algorithm to build basic \n",
        "    gradient boosting trees with some well-known libraries like XGBoost or \n",
        "    LightGBM, you still need to understand it when you start adjusting \n",
        "    hyper-parameters, creating unique loss functions, etc. to improve the \n",
        "    quality of your model."
      ],
      "metadata": {
        "collapsed": false,
        "id": "6MRWkrzrTX-m"
      }
    },
    {
      "cell_type": "markdown",
      "source": [
        "# Task 4: Domain Gap (15%)\n",
        "\n",
        "Evaluate your CNN model from task 2 on SVHN data without retraining your model."
      ],
      "metadata": {
        "collapsed": false,
        "pycharm": {
          "name": "#%% md\n"
        },
        "id": "5lpsqA30TX-n"
      }
    },
    {
      "cell_type": "markdown",
      "source": [
        "# Extracting from the ZIP"
      ],
      "metadata": {
        "id": "lI_34m7Wurbb"
      }
    },
    {
      "cell_type": "code",
      "source": [
        "with zipfile.ZipFile(\"/content/svhn.zip\", 'r') as zip_ref:\n",
        "    zip_ref.extractall(\"/content/\")"
      ],
      "metadata": {
        "id": "xnzFu4gFspvx"
      },
      "execution_count": 149,
      "outputs": []
    },
    {
      "cell_type": "markdown",
      "source": [
        "## Path"
      ],
      "metadata": {
        "id": "IzB8BljduwLf"
      }
    },
    {
      "cell_type": "code",
      "source": [
        "svhnpath = '/content/svhn'\n",
        "svhn_dir = [name for name in os.listdir(svhnpath) if os.path.isdir(os.path.join(svhnpath, name))]\n",
        "svhn_dir.sort()"
      ],
      "metadata": {
        "id": "ze30OjN_s2BS"
      },
      "execution_count": 152,
      "outputs": []
    },
    {
      "cell_type": "markdown",
      "source": [
        "## Getting the data and the label"
      ],
      "metadata": {
        "id": "-hSmjXqXuyUi"
      }
    },
    {
      "cell_type": "code",
      "source": [
        "# Empty list to store each number image that is sent by each_digit function\n",
        "svhn_X = []\n",
        "svhn_y = []\n",
        "\n",
        "# iterate over svhn directory \n",
        "for filename in os.listdir(svhnpath):\n",
        "        try:\n",
        "            # extract and convert to array\n",
        "            img_array = cv2.imread(os.path.join(svhnpath,filename), cv2.IMREAD_GRAYSCALE)\n",
        "            img_array = cv2.resize(img_array,(28, 28))\n",
        "\n",
        "            # splitting digits by spaces between them (dividing image into 3 parts)\n",
        "            img_array1 = img_array[:, :img_array.shape[1]//3]\n",
        "            img_array2 = img_array[:, img_array.shape[1]//3: img_array.shape[1]//3 + img_array.shape[1]//3]\n",
        "            img_array3 = img_array[:, img_array.shape[1]//3 + img_array.shape[1]//3 :]\n",
        "\n",
        "            img_array1 = cv2.resize(img_array1, (28, 28))\n",
        "            img_array2 = cv2.resize(img_array2, (28, 28))\n",
        "            img_array3 = cv2.resize(img_array3, (28, 28))\n",
        "\n",
        "            svhn_X.append(img_array1)\n",
        "            svhn_X.append(img_array1)\n",
        "            svhn_X.append(img_array1)\n",
        "                                   \n",
        "            # append the splitted images of each digit\n",
        "            #svhn_X.append(each_digit(img_array1))\n",
        "            #svhn_X.append(each_digit(img_array2))\n",
        "            #svhn_X.append(each_digit(img_array3))\n",
        "            \n",
        "            \n",
        "            # append the relative positioned number from the name of the image directory\n",
        "            svhn_y.append(str(filename)[0])\n",
        "            svhn_y.append(str(filename)[1])\n",
        "            svhn_y.append(str(filename)[2])\n",
        "        \n",
        "        # in the interest in keeping the output clean...\n",
        "        except Exception as e:  \n",
        "            pass "
      ],
      "metadata": {
        "id": "wzS_bAZctS6w"
      },
      "execution_count": 188,
      "outputs": []
    },
    {
      "cell_type": "markdown",
      "source": [
        "# Getting data to right shape for the network input"
      ],
      "metadata": {
        "id": "0UaHpBYa1IkT"
      }
    },
    {
      "cell_type": "code",
      "source": [
        "X = np.array(np.array(svhn_X)).reshape(-1,28,28,1)\n",
        "print(f\"X shape : {np.array(X).shape}\")"
      ],
      "metadata": {
        "colab": {
          "base_uri": "https://localhost:8080/"
        },
        "id": "5UthE-OovVz-",
        "outputId": "841a134d-1871-451e-a646-1b9e6dabfa09"
      },
      "execution_count": 192,
      "outputs": [
        {
          "output_type": "stream",
          "name": "stdout",
          "text": [
            "X shape : (276, 28, 28, 1)\n"
          ]
        }
      ]
    },
    {
      "cell_type": "markdown",
      "source": [
        "## Calling the multilabel binarizer to encode the labels"
      ],
      "metadata": {
        "id": "jV6_-6N11LEJ"
      }
    },
    {
      "cell_type": "code",
      "source": [
        "y = mlb(svhn_y)\n",
        "print(f\"y shape : {y.shape}\")"
      ],
      "metadata": {
        "colab": {
          "base_uri": "https://localhost:8080/"
        },
        "id": "HjjRu8Zd0g2W",
        "outputId": "1bd67409-4347-409a-d38f-554736c00faa"
      },
      "execution_count": 193,
      "outputs": [
        {
          "output_type": "stream",
          "name": "stdout",
          "text": [
            "y shape : (276, 10)\n"
          ]
        }
      ]
    },
    {
      "cell_type": "markdown",
      "source": [
        "## Evaluating on this data, on the model_cnn model build above"
      ],
      "metadata": {
        "id": "JNlcKEom1Q3I"
      }
    },
    {
      "cell_type": "code",
      "source": [
        "model_cnn.evaluate(X, y)"
      ],
      "metadata": {
        "colab": {
          "base_uri": "https://localhost:8080/"
        },
        "id": "_o12pCxv0O2C",
        "outputId": "ce836c87-8981-4fc0-8fc3-c5163a879fb8"
      },
      "execution_count": 195,
      "outputs": [
        {
          "output_type": "stream",
          "name": "stdout",
          "text": [
            "9/9 [==============================] - 0s 17ms/step - loss: 3.6119 - accuracy: 0.1051\n"
          ]
        },
        {
          "output_type": "execute_result",
          "data": {
            "text/plain": [
              "[3.611891508102417, 0.10507246106863022]"
            ]
          },
          "metadata": {},
          "execution_count": 195
        }
      ]
    },
    {
      "cell_type": "markdown",
      "source": [
        "### Questions\n",
        "1. How did your model perform? Why is it better/worse?\n",
        "**Answer :**\n",
        "****\n",
        "    It performed worse. It is obvious because both the images(domain) comes  \n",
        "    from different distributions, that is to say that the data used to train \n",
        "    the model is separable from this svhn set, hence, it does not perform good. \n",
        "    An Adversial validation technique can be used to recognize this. The \n",
        "    pictures in the svhn dataset are of not just different fonts, sizes, or \n",
        "    number of digits, but also some digits might be in a digitized format.\n",
        "    Since, the model was trained on three digit handwritten data, it is not\n",
        "    naturally supposed to be generalized.\n",
        "2. What is domain gap in the context of ML?\n",
        "**Answer :**\n",
        "****\n",
        "    All the values that can—i.e., that make sense given the context—go into a  \n",
        "    function are referred to as a domain (in mathematics and machine learning). \n",
        "    A chore is (generally) a piece of work that needs to be completed or \n",
        "    undergone (e.g. figuring out the function). The dissimilarity in the \n",
        "    domains of datasets is domain gap that comes from the distinct \n",
        "    distributions between the two domains.\n",
        "3. Suggest two ways through which the problem of domain gap can be tackled.\n",
        "**Answer :**\n",
        "****\n",
        "\n",
        "    1. A family of techniques uses an adversarial loss at various levels to \n",
        "    address the domain adaptation problem.\n",
        "      1. Adversarial loss at pixel level\n",
        "      2. Adversarial loss at feature level\n",
        "      3. Adversarial loss at output level\n",
        "\n",
        "    2. Learning with the Sliced Wasserstein Discrepancy:\n",
        "    The task-specific classifiers C1 and C2, which get input from feature \n",
        "    generator G, differ in their use of the probability measures p1 and p2 in \n",
        "    Rd. This difference is captured by the SWD. Through a variational \n",
        "    formulation of the Wasserstein metric using radial projections on the \n",
        "    uniform measures on the unit sphere Sd-1, the SWD enables end-to-end \n",
        "    training directly and provides a geometrically meaningful guide to detect \n",
        "    target samples that are far from the support of the source."
      ],
      "metadata": {
        "collapsed": false,
        "pycharm": {
          "name": "#%% md\n"
        },
        "id": "TPYbDM84TX-p"
      }
    }
  ],
  "metadata": {
    "kernelspec": {
      "display_name": "Python 3",
      "language": "python",
      "name": "python3"
    },
    "language_info": {
      "codemirror_mode": {
        "name": "ipython",
        "version": 2
      },
      "file_extension": ".py",
      "mimetype": "text/x-python",
      "name": "python",
      "nbconvert_exporter": "python",
      "pygments_lexer": "ipython2",
      "version": "2.7.6"
    },
    "colab": {
      "provenance": []
    },
    "accelerator": "GPU",
    "gpuClass": "standard"
  },
  "nbformat": 4,
  "nbformat_minor": 0
}